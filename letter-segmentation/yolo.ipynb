{
 "cells": [
  {
   "cell_type": "code",
   "execution_count": 1,
   "metadata": {},
   "outputs": [],
   "source": [
    "from ultralytics import YOLO\n",
    "import torch\n"
   ]
  },
  {
   "cell_type": "code",
   "execution_count": 2,
   "metadata": {},
   "outputs": [],
   "source": [
    "from PIL import Image"
   ]
  },
  {
   "cell_type": "code",
   "execution_count": 3,
   "metadata": {},
   "outputs": [],
   "source": [
    "torch.cuda.set_device(0)"
   ]
  },
  {
   "cell_type": "code",
   "execution_count": 3,
   "metadata": {},
   "outputs": [],
   "source": [
    "model = YOLO('yolov8n.pt')\n",
    "# print(model)"
   ]
  },
  {
   "cell_type": "code",
   "execution_count": 6,
   "metadata": {},
   "outputs": [
    {
     "name": "stdout",
     "output_type": "stream",
     "text": [
      "New https://pypi.org/project/ultralytics/8.2.74 available  Update with 'pip install -U ultralytics'\n",
      "Ultralytics YOLOv8.2.66  Python-3.11.8 torch-2.1.0+cu118 CUDA:0 (NVIDIA GeForce RTX 2070, 8192MiB)\n",
      "\u001b[34m\u001b[1mengine\\trainer: \u001b[0mtask=detect, mode=train, model=runs\\detect\\yolov8_character_segmentation\\weights\\best.pt, data=C:\\Users\\Wang Yanchi\\Desktop\\uoft\\3\\aps360\\ALPR\\ALPR_repo\\Letter_Segmentation\\data.yaml, epochs=100, time=None, patience=100, batch=32, imgsz=600, save=True, save_period=-1, cache=False, device=None, workers=8, project=None, name=yolov8_character_segmentation2, exist_ok=False, pretrained=True, optimizer=auto, verbose=True, seed=0, deterministic=True, single_cls=False, rect=False, cos_lr=False, close_mosaic=10, resume=False, amp=True, fraction=1.0, profile=False, freeze=None, multi_scale=False, overlap_mask=True, mask_ratio=4, dropout=0.0, val=True, split=val, save_json=False, save_hybrid=False, conf=None, iou=0.3, max_det=300, half=False, dnn=False, plots=True, source=None, vid_stride=1, stream_buffer=False, visualize=False, augment=False, agnostic_nms=False, classes=None, retina_masks=False, embed=None, show=False, save_frames=False, save_txt=False, save_conf=False, save_crop=False, show_labels=True, show_conf=True, show_boxes=True, line_width=None, format=torchscript, keras=False, optimize=False, int8=False, dynamic=False, simplify=False, opset=None, workspace=4, nms=False, lr0=0.01, lrf=0.01, momentum=0.937, weight_decay=0.0005, warmup_epochs=3.0, warmup_momentum=0.8, warmup_bias_lr=0.1, box=7.5, cls=0.5, dfl=1.5, pose=12.0, kobj=1.0, label_smoothing=0.0, nbs=64, hsv_h=0.015, hsv_s=0.7, hsv_v=0.4, degrees=0.0, translate=0.1, scale=0.5, shear=0.0, perspective=0.0, flipud=0.0, fliplr=0.5, bgr=0.0, mosaic=1.0, mixup=0.0, copy_paste=0.0, auto_augment=randaugment, erasing=0.4, crop_fraction=1.0, cfg=None, tracker=botsort.yaml, save_dir=runs\\detect\\yolov8_character_segmentation2\n",
      "\n",
      "                   from  n    params  module                                       arguments                     \n",
      "  0                  -1  1       464  ultralytics.nn.modules.conv.Conv             [3, 16, 3, 2]                 \n",
      "  1                  -1  1      4672  ultralytics.nn.modules.conv.Conv             [16, 32, 3, 2]                \n",
      "  2                  -1  1      7360  ultralytics.nn.modules.block.C2f             [32, 32, 1, True]             \n",
      "  3                  -1  1     18560  ultralytics.nn.modules.conv.Conv             [32, 64, 3, 2]                \n",
      "  4                  -1  2     49664  ultralytics.nn.modules.block.C2f             [64, 64, 2, True]             \n",
      "  5                  -1  1     73984  ultralytics.nn.modules.conv.Conv             [64, 128, 3, 2]               \n",
      "  6                  -1  2    197632  ultralytics.nn.modules.block.C2f             [128, 128, 2, True]           \n",
      "  7                  -1  1    295424  ultralytics.nn.modules.conv.Conv             [128, 256, 3, 2]              \n",
      "  8                  -1  1    460288  ultralytics.nn.modules.block.C2f             [256, 256, 1, True]           \n",
      "  9                  -1  1    164608  ultralytics.nn.modules.block.SPPF            [256, 256, 5]                 \n",
      " 10                  -1  1         0  torch.nn.modules.upsampling.Upsample         [None, 2, 'nearest']          \n",
      " 11             [-1, 6]  1         0  ultralytics.nn.modules.conv.Concat           [1]                           \n",
      " 12                  -1  1    148224  ultralytics.nn.modules.block.C2f             [384, 128, 1]                 \n",
      " 13                  -1  1         0  torch.nn.modules.upsampling.Upsample         [None, 2, 'nearest']          \n",
      " 14             [-1, 4]  1         0  ultralytics.nn.modules.conv.Concat           [1]                           \n",
      " 15                  -1  1     37248  ultralytics.nn.modules.block.C2f             [192, 64, 1]                  \n",
      " 16                  -1  1     36992  ultralytics.nn.modules.conv.Conv             [64, 64, 3, 2]                \n",
      " 17            [-1, 12]  1         0  ultralytics.nn.modules.conv.Concat           [1]                           \n",
      " 18                  -1  1    123648  ultralytics.nn.modules.block.C2f             [192, 128, 1]                 \n",
      " 19                  -1  1    147712  ultralytics.nn.modules.conv.Conv             [128, 128, 3, 2]              \n",
      " 20             [-1, 9]  1         0  ultralytics.nn.modules.conv.Concat           [1]                           \n",
      " 21                  -1  1    493056  ultralytics.nn.modules.block.C2f             [384, 256, 1]                 \n",
      " 22        [15, 18, 21]  1    751507  ultralytics.nn.modules.head.Detect           [1, [64, 128, 256]]           \n",
      "Model summary: 225 layers, 3,011,043 parameters, 3,011,027 gradients, 8.2 GFLOPs\n",
      "\n",
      "Transferred 355/355 items from pretrained weights\n",
      "Freezing layer 'model.22.dfl.conv.weight'\n",
      "\u001b[34m\u001b[1mAMP: \u001b[0mrunning Automatic Mixed Precision (AMP) checks with YOLOv8n...\n",
      "\u001b[34m\u001b[1mAMP: \u001b[0mchecks passed \n",
      "WARNING  imgsz=[600] must be multiple of max stride 32, updating to [608]\n"
     ]
    },
    {
     "name": "stderr",
     "output_type": "stream",
     "text": [
      "\u001b[34m\u001b[1mtrain: \u001b[0mScanning C:\\Users\\Wang Yanchi\\Desktop\\uoft\\3\\aps360\\ALPR\\ALPR_repo\\Letter_Segmentation\\train\\labels.cache... 8046 images, 0 backgrounds, 0 corrupt: 100%|██████████| 8046/8046 [00:00<?, ?it/s]"
     ]
    },
    {
     "name": "stdout",
     "output_type": "stream",
     "text": [
      "\u001b[34m\u001b[1mtrain: \u001b[0mWARNING  C:\\Users\\Wang Yanchi\\Desktop\\uoft\\3\\aps360\\ALPR\\ALPR_repo\\Letter_Segmentation\\train\\images\\1307_jpg.rf.771b249b491837b939b2c9b5a47fb627.jpg: 1 duplicate labels removed\n",
      "\u001b[34m\u001b[1mtrain: \u001b[0mWARNING  C:\\Users\\Wang Yanchi\\Desktop\\uoft\\3\\aps360\\ALPR\\ALPR_repo\\Letter_Segmentation\\train\\images\\1307_jpg.rf.ab1551783cbfff6c190ebfa184ec6f53.jpg: 1 duplicate labels removed\n",
      "\u001b[34m\u001b[1mtrain: \u001b[0mWARNING  C:\\Users\\Wang Yanchi\\Desktop\\uoft\\3\\aps360\\ALPR\\ALPR_repo\\Letter_Segmentation\\train\\images\\1307_jpg.rf.e3eb15d226b48dca898ecf9683d35132.jpg: 1 duplicate labels removed\n",
      "\u001b[34m\u001b[1mtrain: \u001b[0mWARNING  C:\\Users\\Wang Yanchi\\Desktop\\uoft\\3\\aps360\\ALPR\\ALPR_repo\\Letter_Segmentation\\train\\images\\1414_jpg.rf.047465732ba459082342eae84da00cfa.jpg: 1 duplicate labels removed\n",
      "\u001b[34m\u001b[1mtrain: \u001b[0mWARNING  C:\\Users\\Wang Yanchi\\Desktop\\uoft\\3\\aps360\\ALPR\\ALPR_repo\\Letter_Segmentation\\train\\images\\1414_jpg.rf.40e5810cb853c5332c56bbbb448050e9.jpg: 1 duplicate labels removed\n",
      "\u001b[34m\u001b[1mtrain: \u001b[0mWARNING  C:\\Users\\Wang Yanchi\\Desktop\\uoft\\3\\aps360\\ALPR\\ALPR_repo\\Letter_Segmentation\\train\\images\\1414_jpg.rf.630355c2eafba939cd625a8b110cdb6f.jpg: 1 duplicate labels removed\n",
      "\u001b[34m\u001b[1mtrain: \u001b[0mWARNING  C:\\Users\\Wang Yanchi\\Desktop\\uoft\\3\\aps360\\ALPR\\ALPR_repo\\Letter_Segmentation\\train\\images\\1414_jpg.rf.6ac9c2e0f27e8521a4a0bae3ad480b0a.jpg: 1 duplicate labels removed\n",
      "\u001b[34m\u001b[1mtrain: \u001b[0mWARNING  C:\\Users\\Wang Yanchi\\Desktop\\uoft\\3\\aps360\\ALPR\\ALPR_repo\\Letter_Segmentation\\train\\images\\1414_jpg.rf.7206d58086b83bc5ed7e1593e62b91cf.jpg: 1 duplicate labels removed\n",
      "\u001b[34m\u001b[1mtrain: \u001b[0mWARNING  C:\\Users\\Wang Yanchi\\Desktop\\uoft\\3\\aps360\\ALPR\\ALPR_repo\\Letter_Segmentation\\train\\images\\1414_jpg.rf.8c5f289a7c43eddd4778677ad59d830e.jpg: 1 duplicate labels removed\n",
      "\u001b[34m\u001b[1mtrain: \u001b[0mWARNING  C:\\Users\\Wang Yanchi\\Desktop\\uoft\\3\\aps360\\ALPR\\ALPR_repo\\Letter_Segmentation\\train\\images\\1414_jpg.rf.95340de294938d6c961d8bf75fc6fc0e.jpg: 1 duplicate labels removed\n",
      "\u001b[34m\u001b[1mtrain: \u001b[0mWARNING  C:\\Users\\Wang Yanchi\\Desktop\\uoft\\3\\aps360\\ALPR\\ALPR_repo\\Letter_Segmentation\\train\\images\\1414_jpg.rf.d05b208c58364966cd9cc6e3c67065eb.jpg: 1 duplicate labels removed\n",
      "\u001b[34m\u001b[1mtrain: \u001b[0mWARNING  C:\\Users\\Wang Yanchi\\Desktop\\uoft\\3\\aps360\\ALPR\\ALPR_repo\\Letter_Segmentation\\train\\images\\1414_jpg.rf.e4f5a39cc2e4d2f634b652f9b6e988d2.jpg: 1 duplicate labels removed\n",
      "\u001b[34m\u001b[1mtrain: \u001b[0mWARNING  C:\\Users\\Wang Yanchi\\Desktop\\uoft\\3\\aps360\\ALPR\\ALPR_repo\\Letter_Segmentation\\train\\images\\160_jpg.rf.1fb6fc70aade54fedab7cca91d55df9a.jpg: 1 duplicate labels removed\n",
      "\u001b[34m\u001b[1mtrain: \u001b[0mWARNING  C:\\Users\\Wang Yanchi\\Desktop\\uoft\\3\\aps360\\ALPR\\ALPR_repo\\Letter_Segmentation\\train\\images\\160_jpg.rf.34d84ca406c71e445403d8e1a055e59d.jpg: 1 duplicate labels removed\n",
      "\u001b[34m\u001b[1mtrain: \u001b[0mWARNING  C:\\Users\\Wang Yanchi\\Desktop\\uoft\\3\\aps360\\ALPR\\ALPR_repo\\Letter_Segmentation\\train\\images\\160_jpg.rf.429529c5508d451311d6c26c5317c348.jpg: 1 duplicate labels removed\n",
      "\u001b[34m\u001b[1mtrain: \u001b[0mWARNING  C:\\Users\\Wang Yanchi\\Desktop\\uoft\\3\\aps360\\ALPR\\ALPR_repo\\Letter_Segmentation\\train\\images\\160_jpg.rf.b0f1c5a9ee7b4bf7005d88375b07dd94.jpg: 1 duplicate labels removed\n",
      "\u001b[34m\u001b[1mtrain: \u001b[0mWARNING  C:\\Users\\Wang Yanchi\\Desktop\\uoft\\3\\aps360\\ALPR\\ALPR_repo\\Letter_Segmentation\\train\\images\\160_jpg.rf.ce27e794a40a98337cca7e3f9715b2a9.jpg: 1 duplicate labels removed\n",
      "\u001b[34m\u001b[1mtrain: \u001b[0mWARNING  C:\\Users\\Wang Yanchi\\Desktop\\uoft\\3\\aps360\\ALPR\\ALPR_repo\\Letter_Segmentation\\train\\images\\160_jpg.rf.d37a0da5de1d4883998a9efaff43a755.jpg: 1 duplicate labels removed\n",
      "\u001b[34m\u001b[1mtrain: \u001b[0mWARNING  C:\\Users\\Wang Yanchi\\Desktop\\uoft\\3\\aps360\\ALPR\\ALPR_repo\\Letter_Segmentation\\train\\images\\160_jpg.rf.db034677ff6f079b87435e160a1e9f10.jpg: 1 duplicate labels removed\n",
      "\u001b[34m\u001b[1mtrain: \u001b[0mWARNING  C:\\Users\\Wang Yanchi\\Desktop\\uoft\\3\\aps360\\ALPR\\ALPR_repo\\Letter_Segmentation\\train\\images\\160_jpg.rf.e96b092d09224afe5de34e0370b38648.jpg: 1 duplicate labels removed\n",
      "\u001b[34m\u001b[1mtrain: \u001b[0mWARNING  C:\\Users\\Wang Yanchi\\Desktop\\uoft\\3\\aps360\\ALPR\\ALPR_repo\\Letter_Segmentation\\train\\images\\160_jpg.rf.f65df81be74687892f4a079854f63fff.jpg: 1 duplicate labels removed\n",
      "\u001b[34m\u001b[1mtrain: \u001b[0mWARNING  C:\\Users\\Wang Yanchi\\Desktop\\uoft\\3\\aps360\\ALPR\\ALPR_repo\\Letter_Segmentation\\train\\images\\161_jpg.rf.03664414f2b2dc737e85b733c5710ca9.jpg: 1 duplicate labels removed\n",
      "\u001b[34m\u001b[1mtrain: \u001b[0mWARNING  C:\\Users\\Wang Yanchi\\Desktop\\uoft\\3\\aps360\\ALPR\\ALPR_repo\\Letter_Segmentation\\train\\images\\161_jpg.rf.1ca014b40ba26fb2ba3749b72d6bdd12.jpg: 1 duplicate labels removed\n",
      "\u001b[34m\u001b[1mtrain: \u001b[0mWARNING  C:\\Users\\Wang Yanchi\\Desktop\\uoft\\3\\aps360\\ALPR\\ALPR_repo\\Letter_Segmentation\\train\\images\\161_jpg.rf.3d004475612028f127bc912da1ed7476.jpg: 1 duplicate labels removed\n",
      "\u001b[34m\u001b[1mtrain: \u001b[0mWARNING  C:\\Users\\Wang Yanchi\\Desktop\\uoft\\3\\aps360\\ALPR\\ALPR_repo\\Letter_Segmentation\\train\\images\\161_jpg.rf.5c3b8c6eb776fd02b33b5ad056368376.jpg: 1 duplicate labels removed\n",
      "\u001b[34m\u001b[1mtrain: \u001b[0mWARNING  C:\\Users\\Wang Yanchi\\Desktop\\uoft\\3\\aps360\\ALPR\\ALPR_repo\\Letter_Segmentation\\train\\images\\161_jpg.rf.7d34a86054b1e8c8a11cfda2d046b2ca.jpg: 1 duplicate labels removed\n",
      "\u001b[34m\u001b[1mtrain: \u001b[0mWARNING  C:\\Users\\Wang Yanchi\\Desktop\\uoft\\3\\aps360\\ALPR\\ALPR_repo\\Letter_Segmentation\\train\\images\\161_jpg.rf.8eab972a797aa63b5aa294d58dc7e6bb.jpg: 1 duplicate labels removed\n",
      "\u001b[34m\u001b[1mtrain: \u001b[0mWARNING  C:\\Users\\Wang Yanchi\\Desktop\\uoft\\3\\aps360\\ALPR\\ALPR_repo\\Letter_Segmentation\\train\\images\\161_jpg.rf.ab96f12400da16ccfc52a9d57ab862d8.jpg: 1 duplicate labels removed\n",
      "\u001b[34m\u001b[1mtrain: \u001b[0mWARNING  C:\\Users\\Wang Yanchi\\Desktop\\uoft\\3\\aps360\\ALPR\\ALPR_repo\\Letter_Segmentation\\train\\images\\161_jpg.rf.d6df9a81ec2f93ecd8c7da7065e27d9b.jpg: 1 duplicate labels removed\n",
      "\u001b[34m\u001b[1mtrain: \u001b[0mWARNING  C:\\Users\\Wang Yanchi\\Desktop\\uoft\\3\\aps360\\ALPR\\ALPR_repo\\Letter_Segmentation\\train\\images\\161_jpg.rf.ff5ca46af04b05c3a88ac84fcd8bc571.jpg: 1 duplicate labels removed\n",
      "\u001b[34m\u001b[1mtrain: \u001b[0mWARNING  C:\\Users\\Wang Yanchi\\Desktop\\uoft\\3\\aps360\\ALPR\\ALPR_repo\\Letter_Segmentation\\train\\images\\214_jpg.rf.0febc91df636904b5e38da58d4ac3e67.jpg: 1 duplicate labels removed\n",
      "\u001b[34m\u001b[1mtrain: \u001b[0mWARNING  C:\\Users\\Wang Yanchi\\Desktop\\uoft\\3\\aps360\\ALPR\\ALPR_repo\\Letter_Segmentation\\train\\images\\214_jpg.rf.10c21ad3e7f4f98b24506ffe67fe8b4f.jpg: 1 duplicate labels removed\n",
      "\u001b[34m\u001b[1mtrain: \u001b[0mWARNING  C:\\Users\\Wang Yanchi\\Desktop\\uoft\\3\\aps360\\ALPR\\ALPR_repo\\Letter_Segmentation\\train\\images\\214_jpg.rf.16e19bb635a049176106a64638bde3eb.jpg: 1 duplicate labels removed\n",
      "\u001b[34m\u001b[1mtrain: \u001b[0mWARNING  C:\\Users\\Wang Yanchi\\Desktop\\uoft\\3\\aps360\\ALPR\\ALPR_repo\\Letter_Segmentation\\train\\images\\214_jpg.rf.5d5007dd3bd55f88205f8454ecb9a5bf.jpg: 1 duplicate labels removed\n",
      "\u001b[34m\u001b[1mtrain: \u001b[0mWARNING  C:\\Users\\Wang Yanchi\\Desktop\\uoft\\3\\aps360\\ALPR\\ALPR_repo\\Letter_Segmentation\\train\\images\\214_jpg.rf.60ed26a184c055933659846a714fcf2b.jpg: 1 duplicate labels removed\n",
      "\u001b[34m\u001b[1mtrain: \u001b[0mWARNING  C:\\Users\\Wang Yanchi\\Desktop\\uoft\\3\\aps360\\ALPR\\ALPR_repo\\Letter_Segmentation\\train\\images\\214_jpg.rf.969d34b1e138f707e442217d8c5c1768.jpg: 1 duplicate labels removed\n",
      "\u001b[34m\u001b[1mtrain: \u001b[0mWARNING  C:\\Users\\Wang Yanchi\\Desktop\\uoft\\3\\aps360\\ALPR\\ALPR_repo\\Letter_Segmentation\\train\\images\\214_jpg.rf.b06b026f37cc26d51963197944016dc0.jpg: 1 duplicate labels removed\n",
      "\u001b[34m\u001b[1mtrain: \u001b[0mWARNING  C:\\Users\\Wang Yanchi\\Desktop\\uoft\\3\\aps360\\ALPR\\ALPR_repo\\Letter_Segmentation\\train\\images\\214_jpg.rf.d168cc050e53610a7e6e7fc3b40802dd.jpg: 1 duplicate labels removed\n",
      "\u001b[34m\u001b[1mtrain: \u001b[0mWARNING  C:\\Users\\Wang Yanchi\\Desktop\\uoft\\3\\aps360\\ALPR\\ALPR_repo\\Letter_Segmentation\\train\\images\\214_jpg.rf.d47f857e72ad0a048d42167dbe88c429.jpg: 1 duplicate labels removed\n",
      "\u001b[34m\u001b[1mtrain: \u001b[0mWARNING  C:\\Users\\Wang Yanchi\\Desktop\\uoft\\3\\aps360\\ALPR\\ALPR_repo\\Letter_Segmentation\\train\\images\\2247_jpg.rf.1943816c5c3a22afbd704a1f88cec3bd.jpg: 1 duplicate labels removed\n",
      "\u001b[34m\u001b[1mtrain: \u001b[0mWARNING  C:\\Users\\Wang Yanchi\\Desktop\\uoft\\3\\aps360\\ALPR\\ALPR_repo\\Letter_Segmentation\\train\\images\\2247_jpg.rf.25c9e6c14cc40964daa455ac62406eb7.jpg: 1 duplicate labels removed\n",
      "\u001b[34m\u001b[1mtrain: \u001b[0mWARNING  C:\\Users\\Wang Yanchi\\Desktop\\uoft\\3\\aps360\\ALPR\\ALPR_repo\\Letter_Segmentation\\train\\images\\2247_jpg.rf.560b4c3de88b78bd8abda8741aca1401.jpg: 1 duplicate labels removed\n",
      "\u001b[34m\u001b[1mtrain: \u001b[0mWARNING  C:\\Users\\Wang Yanchi\\Desktop\\uoft\\3\\aps360\\ALPR\\ALPR_repo\\Letter_Segmentation\\train\\images\\2247_jpg.rf.64844628d7e894723dade4fc18bb17b7.jpg: 1 duplicate labels removed\n",
      "\u001b[34m\u001b[1mtrain: \u001b[0mWARNING  C:\\Users\\Wang Yanchi\\Desktop\\uoft\\3\\aps360\\ALPR\\ALPR_repo\\Letter_Segmentation\\train\\images\\2247_jpg.rf.798d37037342fe42e46e0fe21ebe487e.jpg: 1 duplicate labels removed\n",
      "\u001b[34m\u001b[1mtrain: \u001b[0mWARNING  C:\\Users\\Wang Yanchi\\Desktop\\uoft\\3\\aps360\\ALPR\\ALPR_repo\\Letter_Segmentation\\train\\images\\2247_jpg.rf.b09301ea2fb77386198cee53d2a86ff4.jpg: 1 duplicate labels removed\n",
      "\u001b[34m\u001b[1mtrain: \u001b[0mWARNING  C:\\Users\\Wang Yanchi\\Desktop\\uoft\\3\\aps360\\ALPR\\ALPR_repo\\Letter_Segmentation\\train\\images\\2247_jpg.rf.deaef2a1707cfd44c50ab72e437d97cf.jpg: 1 duplicate labels removed\n",
      "\u001b[34m\u001b[1mtrain: \u001b[0mWARNING  C:\\Users\\Wang Yanchi\\Desktop\\uoft\\3\\aps360\\ALPR\\ALPR_repo\\Letter_Segmentation\\train\\images\\2247_jpg.rf.e9f52992e977218d4d4ded7882701dda.jpg: 1 duplicate labels removed\n",
      "\u001b[34m\u001b[1mtrain: \u001b[0mWARNING  C:\\Users\\Wang Yanchi\\Desktop\\uoft\\3\\aps360\\ALPR\\ALPR_repo\\Letter_Segmentation\\train\\images\\2247_jpg.rf.f63dec9e3a9fc40018d8fe1e4a2ba203.jpg: 1 duplicate labels removed\n",
      "\u001b[34m\u001b[1mtrain: \u001b[0mWARNING  C:\\Users\\Wang Yanchi\\Desktop\\uoft\\3\\aps360\\ALPR\\ALPR_repo\\Letter_Segmentation\\train\\images\\232_jpg.rf.07413529bdbf543dbf5f533bada80f27.jpg: 1 duplicate labels removed\n",
      "\u001b[34m\u001b[1mtrain: \u001b[0mWARNING  C:\\Users\\Wang Yanchi\\Desktop\\uoft\\3\\aps360\\ALPR\\ALPR_repo\\Letter_Segmentation\\train\\images\\232_jpg.rf.277c972cd3bc45b47605e1abd8bcb5ed.jpg: 1 duplicate labels removed\n",
      "\u001b[34m\u001b[1mtrain: \u001b[0mWARNING  C:\\Users\\Wang Yanchi\\Desktop\\uoft\\3\\aps360\\ALPR\\ALPR_repo\\Letter_Segmentation\\train\\images\\232_jpg.rf.2b852e4ae3b19e56dd46c6a6e4195701.jpg: 1 duplicate labels removed\n",
      "\u001b[34m\u001b[1mtrain: \u001b[0mWARNING  C:\\Users\\Wang Yanchi\\Desktop\\uoft\\3\\aps360\\ALPR\\ALPR_repo\\Letter_Segmentation\\train\\images\\232_jpg.rf.2b930c8cf4fb0f2a01699bd1e81be54a.jpg: 1 duplicate labels removed\n",
      "\u001b[34m\u001b[1mtrain: \u001b[0mWARNING  C:\\Users\\Wang Yanchi\\Desktop\\uoft\\3\\aps360\\ALPR\\ALPR_repo\\Letter_Segmentation\\train\\images\\232_jpg.rf.72b8ab068621af3e50114a77fe95be9c.jpg: 1 duplicate labels removed\n",
      "\u001b[34m\u001b[1mtrain: \u001b[0mWARNING  C:\\Users\\Wang Yanchi\\Desktop\\uoft\\3\\aps360\\ALPR\\ALPR_repo\\Letter_Segmentation\\train\\images\\232_jpg.rf.8e01e995747219f45a176bbd5ec6105c.jpg: 1 duplicate labels removed\n",
      "\u001b[34m\u001b[1mtrain: \u001b[0mWARNING  C:\\Users\\Wang Yanchi\\Desktop\\uoft\\3\\aps360\\ALPR\\ALPR_repo\\Letter_Segmentation\\train\\images\\232_jpg.rf.bb9e240c4a11279ee97ffd37288887aa.jpg: 1 duplicate labels removed\n",
      "\u001b[34m\u001b[1mtrain: \u001b[0mWARNING  C:\\Users\\Wang Yanchi\\Desktop\\uoft\\3\\aps360\\ALPR\\ALPR_repo\\Letter_Segmentation\\train\\images\\232_jpg.rf.d2907934b7582a3e3b9794b78f3cb74f.jpg: 1 duplicate labels removed\n",
      "\u001b[34m\u001b[1mtrain: \u001b[0mWARNING  C:\\Users\\Wang Yanchi\\Desktop\\uoft\\3\\aps360\\ALPR\\ALPR_repo\\Letter_Segmentation\\train\\images\\232_jpg.rf.f76443abaf58013fad4d04321e24dbd7.jpg: 1 duplicate labels removed\n",
      "\u001b[34m\u001b[1mtrain: \u001b[0mWARNING  C:\\Users\\Wang Yanchi\\Desktop\\uoft\\3\\aps360\\ALPR\\ALPR_repo\\Letter_Segmentation\\train\\images\\2405_jpg.rf.316c2578b8dcca2607de2b678fcc3298.jpg: 1 duplicate labels removed\n",
      "\u001b[34m\u001b[1mtrain: \u001b[0mWARNING  C:\\Users\\Wang Yanchi\\Desktop\\uoft\\3\\aps360\\ALPR\\ALPR_repo\\Letter_Segmentation\\train\\images\\2405_jpg.rf.4ac53f11d12745a08d550794fef43310.jpg: 1 duplicate labels removed\n",
      "\u001b[34m\u001b[1mtrain: \u001b[0mWARNING  C:\\Users\\Wang Yanchi\\Desktop\\uoft\\3\\aps360\\ALPR\\ALPR_repo\\Letter_Segmentation\\train\\images\\2405_jpg.rf.5e45b3baa10eac696879d84362a03c9e.jpg: 1 duplicate labels removed\n",
      "\u001b[34m\u001b[1mtrain: \u001b[0mWARNING  C:\\Users\\Wang Yanchi\\Desktop\\uoft\\3\\aps360\\ALPR\\ALPR_repo\\Letter_Segmentation\\train\\images\\2405_jpg.rf.64f452ed9ebfea153f5199f904e0d4f5.jpg: 1 duplicate labels removed\n",
      "\u001b[34m\u001b[1mtrain: \u001b[0mWARNING  C:\\Users\\Wang Yanchi\\Desktop\\uoft\\3\\aps360\\ALPR\\ALPR_repo\\Letter_Segmentation\\train\\images\\2405_jpg.rf.f21bb53cec3de408a3ae6d42d4ca8762.jpg: 1 duplicate labels removed\n",
      "\u001b[34m\u001b[1mtrain: \u001b[0mWARNING  C:\\Users\\Wang Yanchi\\Desktop\\uoft\\3\\aps360\\ALPR\\ALPR_repo\\Letter_Segmentation\\train\\images\\2405_jpg.rf.f8d6ab600e5eda3e0fab6bba3cc26a7b.jpg: 1 duplicate labels removed\n",
      "\u001b[34m\u001b[1mtrain: \u001b[0mWARNING  C:\\Users\\Wang Yanchi\\Desktop\\uoft\\3\\aps360\\ALPR\\ALPR_repo\\Letter_Segmentation\\train\\images\\264_jpg.rf.5e1371d284328fef96777a737f64857f.jpg: 1 duplicate labels removed\n",
      "\u001b[34m\u001b[1mtrain: \u001b[0mWARNING  C:\\Users\\Wang Yanchi\\Desktop\\uoft\\3\\aps360\\ALPR\\ALPR_repo\\Letter_Segmentation\\train\\images\\264_jpg.rf.84b4d3f990b504d134b64cd35fc90f4c.jpg: 1 duplicate labels removed\n",
      "\u001b[34m\u001b[1mtrain: \u001b[0mWARNING  C:\\Users\\Wang Yanchi\\Desktop\\uoft\\3\\aps360\\ALPR\\ALPR_repo\\Letter_Segmentation\\train\\images\\264_jpg.rf.d1f2df20d2ec1c022b54b585d0ced50d.jpg: 1 duplicate labels removed\n",
      "\u001b[34m\u001b[1mtrain: \u001b[0mWARNING  C:\\Users\\Wang Yanchi\\Desktop\\uoft\\3\\aps360\\ALPR\\ALPR_repo\\Letter_Segmentation\\train\\images\\2710_jpg.rf.0a9e3fb2315cca5ffa3cae647593125c.jpg: 2 duplicate labels removed\n",
      "\u001b[34m\u001b[1mtrain: \u001b[0mWARNING  C:\\Users\\Wang Yanchi\\Desktop\\uoft\\3\\aps360\\ALPR\\ALPR_repo\\Letter_Segmentation\\train\\images\\2710_jpg.rf.5c657e459f6fbbacc578246065d462f9.jpg: 2 duplicate labels removed\n",
      "\u001b[34m\u001b[1mtrain: \u001b[0mWARNING  C:\\Users\\Wang Yanchi\\Desktop\\uoft\\3\\aps360\\ALPR\\ALPR_repo\\Letter_Segmentation\\train\\images\\2710_jpg.rf.5ca87177a86cd2cf30a1332886d740e7.jpg: 1 duplicate labels removed\n",
      "\u001b[34m\u001b[1mtrain: \u001b[0mWARNING  C:\\Users\\Wang Yanchi\\Desktop\\uoft\\3\\aps360\\ALPR\\ALPR_repo\\Letter_Segmentation\\train\\images\\2710_jpg.rf.60e9d3b8178476dfc8bb96187eba6b41.jpg: 1 duplicate labels removed\n",
      "\u001b[34m\u001b[1mtrain: \u001b[0mWARNING  C:\\Users\\Wang Yanchi\\Desktop\\uoft\\3\\aps360\\ALPR\\ALPR_repo\\Letter_Segmentation\\train\\images\\2710_jpg.rf.6b4d8bd3ed11e36060cffcde6cb871b9.jpg: 1 duplicate labels removed\n",
      "\u001b[34m\u001b[1mtrain: \u001b[0mWARNING  C:\\Users\\Wang Yanchi\\Desktop\\uoft\\3\\aps360\\ALPR\\ALPR_repo\\Letter_Segmentation\\train\\images\\2710_jpg.rf.9335b48692bef1eb92dc8daf5dbb972a.jpg: 1 duplicate labels removed\n",
      "\u001b[34m\u001b[1mtrain: \u001b[0mWARNING  C:\\Users\\Wang Yanchi\\Desktop\\uoft\\3\\aps360\\ALPR\\ALPR_repo\\Letter_Segmentation\\train\\images\\2710_jpg.rf.a229920e64394eeb2539a4f6fdd7151f.jpg: 1 duplicate labels removed\n",
      "\u001b[34m\u001b[1mtrain: \u001b[0mWARNING  C:\\Users\\Wang Yanchi\\Desktop\\uoft\\3\\aps360\\ALPR\\ALPR_repo\\Letter_Segmentation\\train\\images\\2710_jpg.rf.c9c5c6b58e9e92a5ca00094f598d0141.jpg: 2 duplicate labels removed\n",
      "\u001b[34m\u001b[1mtrain: \u001b[0mWARNING  C:\\Users\\Wang Yanchi\\Desktop\\uoft\\3\\aps360\\ALPR\\ALPR_repo\\Letter_Segmentation\\train\\images\\2710_jpg.rf.df4ac0b3ff5fa72f32f64d85fcf10bb4.jpg: 1 duplicate labels removed\n",
      "\u001b[34m\u001b[1mtrain: \u001b[0mWARNING  C:\\Users\\Wang Yanchi\\Desktop\\uoft\\3\\aps360\\ALPR\\ALPR_repo\\Letter_Segmentation\\train\\images\\2864_jpg.rf.22c9e40056d36f45584323c26c685f2a.jpg: 1 duplicate labels removed\n",
      "\u001b[34m\u001b[1mtrain: \u001b[0mWARNING  C:\\Users\\Wang Yanchi\\Desktop\\uoft\\3\\aps360\\ALPR\\ALPR_repo\\Letter_Segmentation\\train\\images\\2864_jpg.rf.dcce7cb6931e286e22082fa1cf4dc18f.jpg: 1 duplicate labels removed\n",
      "\u001b[34m\u001b[1mtrain: \u001b[0mWARNING  C:\\Users\\Wang Yanchi\\Desktop\\uoft\\3\\aps360\\ALPR\\ALPR_repo\\Letter_Segmentation\\train\\images\\2864_jpg.rf.e2c8353965b3ba874b0b8775d3a02c90.jpg: 1 duplicate labels removed\n",
      "\u001b[34m\u001b[1mtrain: \u001b[0mWARNING  C:\\Users\\Wang Yanchi\\Desktop\\uoft\\3\\aps360\\ALPR\\ALPR_repo\\Letter_Segmentation\\train\\images\\3077_jpg.rf.2b1de19e89b566759a0e11212802eb18.jpg: 1 duplicate labels removed\n",
      "\u001b[34m\u001b[1mtrain: \u001b[0mWARNING  C:\\Users\\Wang Yanchi\\Desktop\\uoft\\3\\aps360\\ALPR\\ALPR_repo\\Letter_Segmentation\\train\\images\\3077_jpg.rf.450e924aa928a92579b61be007e68216.jpg: 1 duplicate labels removed\n",
      "\u001b[34m\u001b[1mtrain: \u001b[0mWARNING  C:\\Users\\Wang Yanchi\\Desktop\\uoft\\3\\aps360\\ALPR\\ALPR_repo\\Letter_Segmentation\\train\\images\\3077_jpg.rf.4fffcda529ac910d076e910d49ffc9a3.jpg: 1 duplicate labels removed\n",
      "\u001b[34m\u001b[1mtrain: \u001b[0mWARNING  C:\\Users\\Wang Yanchi\\Desktop\\uoft\\3\\aps360\\ALPR\\ALPR_repo\\Letter_Segmentation\\train\\images\\3077_jpg.rf.523eb501854722d4181f2f33e4aa6f74.jpg: 1 duplicate labels removed\n",
      "\u001b[34m\u001b[1mtrain: \u001b[0mWARNING  C:\\Users\\Wang Yanchi\\Desktop\\uoft\\3\\aps360\\ALPR\\ALPR_repo\\Letter_Segmentation\\train\\images\\3077_jpg.rf.7ed08ad470897891f8b98c40f450958b.jpg: 1 duplicate labels removed\n",
      "\u001b[34m\u001b[1mtrain: \u001b[0mWARNING  C:\\Users\\Wang Yanchi\\Desktop\\uoft\\3\\aps360\\ALPR\\ALPR_repo\\Letter_Segmentation\\train\\images\\3077_jpg.rf.bc4746352d5fa47240e19c9726fa47a8.jpg: 1 duplicate labels removed\n",
      "\u001b[34m\u001b[1mtrain: \u001b[0mWARNING  C:\\Users\\Wang Yanchi\\Desktop\\uoft\\3\\aps360\\ALPR\\ALPR_repo\\Letter_Segmentation\\train\\images\\3077_jpg.rf.c707683a31c0d983c09db827de587312.jpg: 1 duplicate labels removed\n",
      "\u001b[34m\u001b[1mtrain: \u001b[0mWARNING  C:\\Users\\Wang Yanchi\\Desktop\\uoft\\3\\aps360\\ALPR\\ALPR_repo\\Letter_Segmentation\\train\\images\\3077_jpg.rf.d077c5019e5c3b842550d150145c20ba.jpg: 1 duplicate labels removed\n",
      "\u001b[34m\u001b[1mtrain: \u001b[0mWARNING  C:\\Users\\Wang Yanchi\\Desktop\\uoft\\3\\aps360\\ALPR\\ALPR_repo\\Letter_Segmentation\\train\\images\\3077_jpg.rf.dadd2ac2bc2462feb9cf97615d0e4f37.jpg: 1 duplicate labels removed\n",
      "\u001b[34m\u001b[1mtrain: \u001b[0mWARNING  C:\\Users\\Wang Yanchi\\Desktop\\uoft\\3\\aps360\\ALPR\\ALPR_repo\\Letter_Segmentation\\train\\images\\3443_jpg.rf.27384edea68bf97dd161e2a779131c68.jpg: 1 duplicate labels removed\n",
      "\u001b[34m\u001b[1mtrain: \u001b[0mWARNING  C:\\Users\\Wang Yanchi\\Desktop\\uoft\\3\\aps360\\ALPR\\ALPR_repo\\Letter_Segmentation\\train\\images\\3443_jpg.rf.5df02a9cdb2eb3c9e348df4a35e0a787.jpg: 1 duplicate labels removed\n",
      "\u001b[34m\u001b[1mtrain: \u001b[0mWARNING  C:\\Users\\Wang Yanchi\\Desktop\\uoft\\3\\aps360\\ALPR\\ALPR_repo\\Letter_Segmentation\\train\\images\\3443_jpg.rf.604c32a137eb0f679331ca5486fd68b3.jpg: 1 duplicate labels removed\n",
      "\u001b[34m\u001b[1mtrain: \u001b[0mWARNING  C:\\Users\\Wang Yanchi\\Desktop\\uoft\\3\\aps360\\ALPR\\ALPR_repo\\Letter_Segmentation\\train\\images\\3443_jpg.rf.62e8aba7dab57ce7b6962b2f26001c3e.jpg: 1 duplicate labels removed\n",
      "\u001b[34m\u001b[1mtrain: \u001b[0mWARNING  C:\\Users\\Wang Yanchi\\Desktop\\uoft\\3\\aps360\\ALPR\\ALPR_repo\\Letter_Segmentation\\train\\images\\3443_jpg.rf.a4078da936092fb75c974dbb898f632d.jpg: 1 duplicate labels removed\n",
      "\u001b[34m\u001b[1mtrain: \u001b[0mWARNING  C:\\Users\\Wang Yanchi\\Desktop\\uoft\\3\\aps360\\ALPR\\ALPR_repo\\Letter_Segmentation\\train\\images\\3443_jpg.rf.a7e87eabf4b2653624d5fab5ff102fd6.jpg: 1 duplicate labels removed\n",
      "\u001b[34m\u001b[1mtrain: \u001b[0mWARNING  C:\\Users\\Wang Yanchi\\Desktop\\uoft\\3\\aps360\\ALPR\\ALPR_repo\\Letter_Segmentation\\train\\images\\3443_jpg.rf.aee497c7957d67f28892d36e9d351080.jpg: 1 duplicate labels removed\n",
      "\u001b[34m\u001b[1mtrain: \u001b[0mWARNING  C:\\Users\\Wang Yanchi\\Desktop\\uoft\\3\\aps360\\ALPR\\ALPR_repo\\Letter_Segmentation\\train\\images\\3443_jpg.rf.b2bb10080e011179954cb7107dec1e41.jpg: 1 duplicate labels removed\n",
      "\u001b[34m\u001b[1mtrain: \u001b[0mWARNING  C:\\Users\\Wang Yanchi\\Desktop\\uoft\\3\\aps360\\ALPR\\ALPR_repo\\Letter_Segmentation\\train\\images\\3443_jpg.rf.e6ff8940dceac633d8cfeb7a4f31c9a0.jpg: 1 duplicate labels removed\n",
      "\u001b[34m\u001b[1mtrain: \u001b[0mWARNING  C:\\Users\\Wang Yanchi\\Desktop\\uoft\\3\\aps360\\ALPR\\ALPR_repo\\Letter_Segmentation\\train\\images\\3822_jpg.rf.2d56045512a64d010e72e8e71966a064.jpg: 1 duplicate labels removed\n",
      "\u001b[34m\u001b[1mtrain: \u001b[0mWARNING  C:\\Users\\Wang Yanchi\\Desktop\\uoft\\3\\aps360\\ALPR\\ALPR_repo\\Letter_Segmentation\\train\\images\\3822_jpg.rf.40e66779474d0b05f24e61953c965a60.jpg: 1 duplicate labels removed\n",
      "\u001b[34m\u001b[1mtrain: \u001b[0mWARNING  C:\\Users\\Wang Yanchi\\Desktop\\uoft\\3\\aps360\\ALPR\\ALPR_repo\\Letter_Segmentation\\train\\images\\3822_jpg.rf.4dfc9cc24968a09c93216928d030a86b.jpg: 1 duplicate labels removed\n",
      "\u001b[34m\u001b[1mtrain: \u001b[0mWARNING  C:\\Users\\Wang Yanchi\\Desktop\\uoft\\3\\aps360\\ALPR\\ALPR_repo\\Letter_Segmentation\\train\\images\\3822_jpg.rf.59a80b17d979b38570443461f072fea4.jpg: 1 duplicate labels removed\n",
      "\u001b[34m\u001b[1mtrain: \u001b[0mWARNING  C:\\Users\\Wang Yanchi\\Desktop\\uoft\\3\\aps360\\ALPR\\ALPR_repo\\Letter_Segmentation\\train\\images\\3822_jpg.rf.5b105a59e3001af5b152f9689edc1758.jpg: 1 duplicate labels removed\n",
      "\u001b[34m\u001b[1mtrain: \u001b[0mWARNING  C:\\Users\\Wang Yanchi\\Desktop\\uoft\\3\\aps360\\ALPR\\ALPR_repo\\Letter_Segmentation\\train\\images\\3822_jpg.rf.824fee2177609a0a6a73995497d43854.jpg: 1 duplicate labels removed\n",
      "\u001b[34m\u001b[1mtrain: \u001b[0mWARNING  C:\\Users\\Wang Yanchi\\Desktop\\uoft\\3\\aps360\\ALPR\\ALPR_repo\\Letter_Segmentation\\train\\images\\3822_jpg.rf.c119704b61cef057e15fd0a3cb6ae3f2.jpg: 1 duplicate labels removed\n",
      "\u001b[34m\u001b[1mtrain: \u001b[0mWARNING  C:\\Users\\Wang Yanchi\\Desktop\\uoft\\3\\aps360\\ALPR\\ALPR_repo\\Letter_Segmentation\\train\\images\\3822_jpg.rf.c193bb2b1bb758e3c1fe91c628aced38.jpg: 1 duplicate labels removed\n",
      "\u001b[34m\u001b[1mtrain: \u001b[0mWARNING  C:\\Users\\Wang Yanchi\\Desktop\\uoft\\3\\aps360\\ALPR\\ALPR_repo\\Letter_Segmentation\\train\\images\\3822_jpg.rf.e58b7d0709a72e75251107c023a00a65.jpg: 1 duplicate labels removed\n",
      "\u001b[34m\u001b[1mtrain: \u001b[0mWARNING  C:\\Users\\Wang Yanchi\\Desktop\\uoft\\3\\aps360\\ALPR\\ALPR_repo\\Letter_Segmentation\\train\\images\\3_jpg.rf.039da1cc3543a8d208bf9ce7910b0b00.jpg: 1 duplicate labels removed\n",
      "\u001b[34m\u001b[1mtrain: \u001b[0mWARNING  C:\\Users\\Wang Yanchi\\Desktop\\uoft\\3\\aps360\\ALPR\\ALPR_repo\\Letter_Segmentation\\train\\images\\3_jpg.rf.076db9e5cd3b09e69580099c9bc1720e.jpg: 1 duplicate labels removed\n",
      "\u001b[34m\u001b[1mtrain: \u001b[0mWARNING  C:\\Users\\Wang Yanchi\\Desktop\\uoft\\3\\aps360\\ALPR\\ALPR_repo\\Letter_Segmentation\\train\\images\\3_jpg.rf.0da652379ce53af4c3099aab8d6d88e0.jpg: 1 duplicate labels removed\n",
      "\u001b[34m\u001b[1mtrain: \u001b[0mWARNING  C:\\Users\\Wang Yanchi\\Desktop\\uoft\\3\\aps360\\ALPR\\ALPR_repo\\Letter_Segmentation\\train\\images\\3_jpg.rf.1db5ab68626fc951c557177a6311c25b.jpg: 1 duplicate labels removed\n",
      "\u001b[34m\u001b[1mtrain: \u001b[0mWARNING  C:\\Users\\Wang Yanchi\\Desktop\\uoft\\3\\aps360\\ALPR\\ALPR_repo\\Letter_Segmentation\\train\\images\\3_jpg.rf.4ee03ce23805bddf393c5d2bf86a0023.jpg: 1 duplicate labels removed\n",
      "\u001b[34m\u001b[1mtrain: \u001b[0mWARNING  C:\\Users\\Wang Yanchi\\Desktop\\uoft\\3\\aps360\\ALPR\\ALPR_repo\\Letter_Segmentation\\train\\images\\3_jpg.rf.a88465006a09423a35344877a1e2ad0d.jpg: 1 duplicate labels removed\n",
      "\u001b[34m\u001b[1mtrain: \u001b[0mWARNING  C:\\Users\\Wang Yanchi\\Desktop\\uoft\\3\\aps360\\ALPR\\ALPR_repo\\Letter_Segmentation\\train\\images\\3_jpg.rf.b1b6ffe4a582fc3ad403e08f0821116c.jpg: 1 duplicate labels removed\n",
      "\u001b[34m\u001b[1mtrain: \u001b[0mWARNING  C:\\Users\\Wang Yanchi\\Desktop\\uoft\\3\\aps360\\ALPR\\ALPR_repo\\Letter_Segmentation\\train\\images\\3_jpg.rf.b3c3589199f5d0155cddc61d55c3d53e.jpg: 1 duplicate labels removed\n",
      "\u001b[34m\u001b[1mtrain: \u001b[0mWARNING  C:\\Users\\Wang Yanchi\\Desktop\\uoft\\3\\aps360\\ALPR\\ALPR_repo\\Letter_Segmentation\\train\\images\\3_jpg.rf.c0b7110a9c0787632b50631b957f0e01.jpg: 1 duplicate labels removed\n",
      "\u001b[34m\u001b[1mtrain: \u001b[0mWARNING  C:\\Users\\Wang Yanchi\\Desktop\\uoft\\3\\aps360\\ALPR\\ALPR_repo\\Letter_Segmentation\\train\\images\\410_jpg.rf.1ac360d8c1d0044904ac88255409793c.jpg: 1 duplicate labels removed\n",
      "\u001b[34m\u001b[1mtrain: \u001b[0mWARNING  C:\\Users\\Wang Yanchi\\Desktop\\uoft\\3\\aps360\\ALPR\\ALPR_repo\\Letter_Segmentation\\train\\images\\410_jpg.rf.1c16f3aa115d3b696895b05e8c45596f.jpg: 1 duplicate labels removed\n",
      "\u001b[34m\u001b[1mtrain: \u001b[0mWARNING  C:\\Users\\Wang Yanchi\\Desktop\\uoft\\3\\aps360\\ALPR\\ALPR_repo\\Letter_Segmentation\\train\\images\\410_jpg.rf.2539075587337f05c70484b086bf3503.jpg: 1 duplicate labels removed\n",
      "\u001b[34m\u001b[1mtrain: \u001b[0mWARNING  C:\\Users\\Wang Yanchi\\Desktop\\uoft\\3\\aps360\\ALPR\\ALPR_repo\\Letter_Segmentation\\train\\images\\410_jpg.rf.38a6a547fbb220e0a444788dc2767b4e.jpg: 1 duplicate labels removed\n",
      "\u001b[34m\u001b[1mtrain: \u001b[0mWARNING  C:\\Users\\Wang Yanchi\\Desktop\\uoft\\3\\aps360\\ALPR\\ALPR_repo\\Letter_Segmentation\\train\\images\\410_jpg.rf.3d43fd84545214000be0eb1e49d80766.jpg: 1 duplicate labels removed\n",
      "\u001b[34m\u001b[1mtrain: \u001b[0mWARNING  C:\\Users\\Wang Yanchi\\Desktop\\uoft\\3\\aps360\\ALPR\\ALPR_repo\\Letter_Segmentation\\train\\images\\410_jpg.rf.6ab6ba5848eab5a1fbcae72c6d0e48e0.jpg: 1 duplicate labels removed\n",
      "\u001b[34m\u001b[1mtrain: \u001b[0mWARNING  C:\\Users\\Wang Yanchi\\Desktop\\uoft\\3\\aps360\\ALPR\\ALPR_repo\\Letter_Segmentation\\train\\images\\410_jpg.rf.7d3897ab28113338a89bb2f1cb60ea98.jpg: 1 duplicate labels removed\n",
      "\u001b[34m\u001b[1mtrain: \u001b[0mWARNING  C:\\Users\\Wang Yanchi\\Desktop\\uoft\\3\\aps360\\ALPR\\ALPR_repo\\Letter_Segmentation\\train\\images\\410_jpg.rf.af92a6f7e533d560e2944d7a8ff1ab6f.jpg: 1 duplicate labels removed\n",
      "\u001b[34m\u001b[1mtrain: \u001b[0mWARNING  C:\\Users\\Wang Yanchi\\Desktop\\uoft\\3\\aps360\\ALPR\\ALPR_repo\\Letter_Segmentation\\train\\images\\410_jpg.rf.bf13cac66e8329ad835ddf98b42077f4.jpg: 1 duplicate labels removed\n",
      "\u001b[34m\u001b[1mtrain: \u001b[0mWARNING  C:\\Users\\Wang Yanchi\\Desktop\\uoft\\3\\aps360\\ALPR\\ALPR_repo\\Letter_Segmentation\\train\\images\\4316_jpg.rf.053c027501ed7242e24546ed5cfa137e.jpg: 1 duplicate labels removed\n",
      "\u001b[34m\u001b[1mtrain: \u001b[0mWARNING  C:\\Users\\Wang Yanchi\\Desktop\\uoft\\3\\aps360\\ALPR\\ALPR_repo\\Letter_Segmentation\\train\\images\\4316_jpg.rf.05c4d603adbd23371566c44772e6a319.jpg: 1 duplicate labels removed\n",
      "\u001b[34m\u001b[1mtrain: \u001b[0mWARNING  C:\\Users\\Wang Yanchi\\Desktop\\uoft\\3\\aps360\\ALPR\\ALPR_repo\\Letter_Segmentation\\train\\images\\4316_jpg.rf.1c4d171b99a511a11188b6e00e6488d9.jpg: 1 duplicate labels removed\n",
      "\u001b[34m\u001b[1mtrain: \u001b[0mWARNING  C:\\Users\\Wang Yanchi\\Desktop\\uoft\\3\\aps360\\ALPR\\ALPR_repo\\Letter_Segmentation\\train\\images\\4316_jpg.rf.24157c9858b32cc150de588496176385.jpg: 1 duplicate labels removed\n",
      "\u001b[34m\u001b[1mtrain: \u001b[0mWARNING  C:\\Users\\Wang Yanchi\\Desktop\\uoft\\3\\aps360\\ALPR\\ALPR_repo\\Letter_Segmentation\\train\\images\\4316_jpg.rf.6dea179568ebd4c582b30c996a614e6d.jpg: 1 duplicate labels removed\n",
      "\u001b[34m\u001b[1mtrain: \u001b[0mWARNING  C:\\Users\\Wang Yanchi\\Desktop\\uoft\\3\\aps360\\ALPR\\ALPR_repo\\Letter_Segmentation\\train\\images\\4316_jpg.rf.792757a663073cb5b0095dcaacbd349b.jpg: 1 duplicate labels removed\n",
      "\u001b[34m\u001b[1mtrain: \u001b[0mWARNING  C:\\Users\\Wang Yanchi\\Desktop\\uoft\\3\\aps360\\ALPR\\ALPR_repo\\Letter_Segmentation\\train\\images\\4316_jpg.rf.7d5e49bac2e7069f1a58120de40a0c95.jpg: 1 duplicate labels removed\n",
      "\u001b[34m\u001b[1mtrain: \u001b[0mWARNING  C:\\Users\\Wang Yanchi\\Desktop\\uoft\\3\\aps360\\ALPR\\ALPR_repo\\Letter_Segmentation\\train\\images\\4316_jpg.rf.a927c8c48459134a67e50db8774f2480.jpg: 1 duplicate labels removed\n",
      "\u001b[34m\u001b[1mtrain: \u001b[0mWARNING  C:\\Users\\Wang Yanchi\\Desktop\\uoft\\3\\aps360\\ALPR\\ALPR_repo\\Letter_Segmentation\\train\\images\\4316_jpg.rf.db8d053074d6d9ea6a09832d99b80783.jpg: 1 duplicate labels removed\n",
      "\u001b[34m\u001b[1mtrain: \u001b[0mWARNING  C:\\Users\\Wang Yanchi\\Desktop\\uoft\\3\\aps360\\ALPR\\ALPR_repo\\Letter_Segmentation\\train\\images\\4440_jpg.rf.19d1b2ca0f7e9e8595a9bd4d782cc08e.jpg: 1 duplicate labels removed\n",
      "\u001b[34m\u001b[1mtrain: \u001b[0mWARNING  C:\\Users\\Wang Yanchi\\Desktop\\uoft\\3\\aps360\\ALPR\\ALPR_repo\\Letter_Segmentation\\train\\images\\4440_jpg.rf.2defe92bb7374a03d756a7eb5bc8a726.jpg: 1 duplicate labels removed\n",
      "\u001b[34m\u001b[1mtrain: \u001b[0mWARNING  C:\\Users\\Wang Yanchi\\Desktop\\uoft\\3\\aps360\\ALPR\\ALPR_repo\\Letter_Segmentation\\train\\images\\4440_jpg.rf.4062e6473d4b9d8816938158ed98de40.jpg: 1 duplicate labels removed\n",
      "\u001b[34m\u001b[1mtrain: \u001b[0mWARNING  C:\\Users\\Wang Yanchi\\Desktop\\uoft\\3\\aps360\\ALPR\\ALPR_repo\\Letter_Segmentation\\train\\images\\4440_jpg.rf.5754216a6335e6a5b0d77617c66b1457.jpg: 1 duplicate labels removed\n",
      "\u001b[34m\u001b[1mtrain: \u001b[0mWARNING  C:\\Users\\Wang Yanchi\\Desktop\\uoft\\3\\aps360\\ALPR\\ALPR_repo\\Letter_Segmentation\\train\\images\\4440_jpg.rf.81071593e33d5ec786ace2bc8286c02a.jpg: 1 duplicate labels removed\n",
      "\u001b[34m\u001b[1mtrain: \u001b[0mWARNING  C:\\Users\\Wang Yanchi\\Desktop\\uoft\\3\\aps360\\ALPR\\ALPR_repo\\Letter_Segmentation\\train\\images\\4440_jpg.rf.893b4554728ec959db106e93654b37ba.jpg: 1 duplicate labels removed\n",
      "\u001b[34m\u001b[1mtrain: \u001b[0mWARNING  C:\\Users\\Wang Yanchi\\Desktop\\uoft\\3\\aps360\\ALPR\\ALPR_repo\\Letter_Segmentation\\train\\images\\4440_jpg.rf.b310df82e47408f7324004c9d0a39a18.jpg: 1 duplicate labels removed\n",
      "\u001b[34m\u001b[1mtrain: \u001b[0mWARNING  C:\\Users\\Wang Yanchi\\Desktop\\uoft\\3\\aps360\\ALPR\\ALPR_repo\\Letter_Segmentation\\train\\images\\4440_jpg.rf.cd5cdb9fcd1e7caa7ba6b511be83f9e8.jpg: 1 duplicate labels removed\n",
      "\u001b[34m\u001b[1mtrain: \u001b[0mWARNING  C:\\Users\\Wang Yanchi\\Desktop\\uoft\\3\\aps360\\ALPR\\ALPR_repo\\Letter_Segmentation\\train\\images\\4440_jpg.rf.fda3d4a26329dede386bb8341b4077b0.jpg: 1 duplicate labels removed\n",
      "\u001b[34m\u001b[1mtrain: \u001b[0mWARNING  C:\\Users\\Wang Yanchi\\Desktop\\uoft\\3\\aps360\\ALPR\\ALPR_repo\\Letter_Segmentation\\train\\images\\4497_jpg.rf.16fa19750464c9d6c04a2ec42ccc4538.jpg: 1 duplicate labels removed\n",
      "\u001b[34m\u001b[1mtrain: \u001b[0mWARNING  C:\\Users\\Wang Yanchi\\Desktop\\uoft\\3\\aps360\\ALPR\\ALPR_repo\\Letter_Segmentation\\train\\images\\4497_jpg.rf.29084dab52ddfc92b7595b07a3cc60a6.jpg: 1 duplicate labels removed\n",
      "\u001b[34m\u001b[1mtrain: \u001b[0mWARNING  C:\\Users\\Wang Yanchi\\Desktop\\uoft\\3\\aps360\\ALPR\\ALPR_repo\\Letter_Segmentation\\train\\images\\4497_jpg.rf.5aa65ed656a37d64625411dcaeeb343c.jpg: 1 duplicate labels removed\n",
      "\u001b[34m\u001b[1mtrain: \u001b[0mWARNING  C:\\Users\\Wang Yanchi\\Desktop\\uoft\\3\\aps360\\ALPR\\ALPR_repo\\Letter_Segmentation\\train\\images\\4497_jpg.rf.6a7035b2d299b1469d07637193b17cf6.jpg: 1 duplicate labels removed\n",
      "\u001b[34m\u001b[1mtrain: \u001b[0mWARNING  C:\\Users\\Wang Yanchi\\Desktop\\uoft\\3\\aps360\\ALPR\\ALPR_repo\\Letter_Segmentation\\train\\images\\4497_jpg.rf.8704a2503a8e576e5f0425fdeb7765ef.jpg: 1 duplicate labels removed\n",
      "\u001b[34m\u001b[1mtrain: \u001b[0mWARNING  C:\\Users\\Wang Yanchi\\Desktop\\uoft\\3\\aps360\\ALPR\\ALPR_repo\\Letter_Segmentation\\train\\images\\4497_jpg.rf.af496bd2992257b31b374bdd6bec14d7.jpg: 1 duplicate labels removed\n",
      "\u001b[34m\u001b[1mtrain: \u001b[0mWARNING  C:\\Users\\Wang Yanchi\\Desktop\\uoft\\3\\aps360\\ALPR\\ALPR_repo\\Letter_Segmentation\\train\\images\\4497_jpg.rf.c8e9f8fc78008d1bed7428df23e8dedb.jpg: 1 duplicate labels removed\n",
      "\u001b[34m\u001b[1mtrain: \u001b[0mWARNING  C:\\Users\\Wang Yanchi\\Desktop\\uoft\\3\\aps360\\ALPR\\ALPR_repo\\Letter_Segmentation\\train\\images\\4497_jpg.rf.d3c381afb9735c3050f78da2cbdd03a2.jpg: 1 duplicate labels removed\n",
      "\u001b[34m\u001b[1mtrain: \u001b[0mWARNING  C:\\Users\\Wang Yanchi\\Desktop\\uoft\\3\\aps360\\ALPR\\ALPR_repo\\Letter_Segmentation\\train\\images\\4497_jpg.rf.f0ef8a5df9c0c57b2c69139ff2cd3b38.jpg: 1 duplicate labels removed\n",
      "\u001b[34m\u001b[1mtrain: \u001b[0mWARNING  C:\\Users\\Wang Yanchi\\Desktop\\uoft\\3\\aps360\\ALPR\\ALPR_repo\\Letter_Segmentation\\train\\images\\5578_jpg.rf.18db9222ca4d50f636576e6ca393d68b.jpg: 1 duplicate labels removed\n",
      "\u001b[34m\u001b[1mtrain: \u001b[0mWARNING  C:\\Users\\Wang Yanchi\\Desktop\\uoft\\3\\aps360\\ALPR\\ALPR_repo\\Letter_Segmentation\\train\\images\\5578_jpg.rf.232fbab5810976196ebeb18a18d55cf3.jpg: 1 duplicate labels removed\n",
      "\u001b[34m\u001b[1mtrain: \u001b[0mWARNING  C:\\Users\\Wang Yanchi\\Desktop\\uoft\\3\\aps360\\ALPR\\ALPR_repo\\Letter_Segmentation\\train\\images\\5578_jpg.rf.48661c27dccbb06bf92b65f59e57a751.jpg: 1 duplicate labels removed\n",
      "\u001b[34m\u001b[1mtrain: \u001b[0mWARNING  C:\\Users\\Wang Yanchi\\Desktop\\uoft\\3\\aps360\\ALPR\\ALPR_repo\\Letter_Segmentation\\train\\images\\5578_jpg.rf.7b4006491bf8204a08261cf9883fa1a7.jpg: 1 duplicate labels removed\n",
      "\u001b[34m\u001b[1mtrain: \u001b[0mWARNING  C:\\Users\\Wang Yanchi\\Desktop\\uoft\\3\\aps360\\ALPR\\ALPR_repo\\Letter_Segmentation\\train\\images\\5578_jpg.rf.99b30c328623f849e53344e8af3cf244.jpg: 1 duplicate labels removed\n",
      "\u001b[34m\u001b[1mtrain: \u001b[0mWARNING  C:\\Users\\Wang Yanchi\\Desktop\\uoft\\3\\aps360\\ALPR\\ALPR_repo\\Letter_Segmentation\\train\\images\\5578_jpg.rf.a24399c3b46880aded12fa1d3c9350e5.jpg: 1 duplicate labels removed\n",
      "\u001b[34m\u001b[1mtrain: \u001b[0mWARNING  C:\\Users\\Wang Yanchi\\Desktop\\uoft\\3\\aps360\\ALPR\\ALPR_repo\\Letter_Segmentation\\train\\images\\5578_jpg.rf.bf0e4e5c0052031ef2f873901705d26e.jpg: 1 duplicate labels removed\n",
      "\u001b[34m\u001b[1mtrain: \u001b[0mWARNING  C:\\Users\\Wang Yanchi\\Desktop\\uoft\\3\\aps360\\ALPR\\ALPR_repo\\Letter_Segmentation\\train\\images\\5578_jpg.rf.c4680e7eb85e99f8418c7b80552820fe.jpg: 1 duplicate labels removed\n",
      "\u001b[34m\u001b[1mtrain: \u001b[0mWARNING  C:\\Users\\Wang Yanchi\\Desktop\\uoft\\3\\aps360\\ALPR\\ALPR_repo\\Letter_Segmentation\\train\\images\\5578_jpg.rf.f1e95ccd7d5b3a3cf4bf9e88729f8210.jpg: 1 duplicate labels removed\n",
      "\u001b[34m\u001b[1mtrain: \u001b[0mWARNING  C:\\Users\\Wang Yanchi\\Desktop\\uoft\\3\\aps360\\ALPR\\ALPR_repo\\Letter_Segmentation\\train\\images\\5746_jpg.rf.122150ae5ada0904f5e8da55ea5753ce.jpg: 1 duplicate labels removed\n",
      "\u001b[34m\u001b[1mtrain: \u001b[0mWARNING  C:\\Users\\Wang Yanchi\\Desktop\\uoft\\3\\aps360\\ALPR\\ALPR_repo\\Letter_Segmentation\\train\\images\\5746_jpg.rf.191c7cc5f69b2ffda3eb40d16ae00f1d.jpg: 1 duplicate labels removed\n",
      "\u001b[34m\u001b[1mtrain: \u001b[0mWARNING  C:\\Users\\Wang Yanchi\\Desktop\\uoft\\3\\aps360\\ALPR\\ALPR_repo\\Letter_Segmentation\\train\\images\\5746_jpg.rf.48107ee18588d10f5fa849334cde4bbb.jpg: 1 duplicate labels removed\n",
      "\u001b[34m\u001b[1mtrain: \u001b[0mWARNING  C:\\Users\\Wang Yanchi\\Desktop\\uoft\\3\\aps360\\ALPR\\ALPR_repo\\Letter_Segmentation\\train\\images\\5746_jpg.rf.517e77716eaeb19fcc2d285692b7c36f.jpg: 1 duplicate labels removed\n",
      "\u001b[34m\u001b[1mtrain: \u001b[0mWARNING  C:\\Users\\Wang Yanchi\\Desktop\\uoft\\3\\aps360\\ALPR\\ALPR_repo\\Letter_Segmentation\\train\\images\\5746_jpg.rf.91bff0333906ef1bc1a2352d09676207.jpg: 1 duplicate labels removed\n",
      "\u001b[34m\u001b[1mtrain: \u001b[0mWARNING  C:\\Users\\Wang Yanchi\\Desktop\\uoft\\3\\aps360\\ALPR\\ALPR_repo\\Letter_Segmentation\\train\\images\\5746_jpg.rf.9ec87b8d69937baf9da3c4c7128d4ba0.jpg: 1 duplicate labels removed\n",
      "\u001b[34m\u001b[1mtrain: \u001b[0mWARNING  C:\\Users\\Wang Yanchi\\Desktop\\uoft\\3\\aps360\\ALPR\\ALPR_repo\\Letter_Segmentation\\train\\images\\5746_jpg.rf.bd17686f36dfdf2b6f34a4656238400f.jpg: 1 duplicate labels removed\n",
      "\u001b[34m\u001b[1mtrain: \u001b[0mWARNING  C:\\Users\\Wang Yanchi\\Desktop\\uoft\\3\\aps360\\ALPR\\ALPR_repo\\Letter_Segmentation\\train\\images\\5746_jpg.rf.cba925388e90810657eee9f8c7f92aa9.jpg: 1 duplicate labels removed\n",
      "\u001b[34m\u001b[1mtrain: \u001b[0mWARNING  C:\\Users\\Wang Yanchi\\Desktop\\uoft\\3\\aps360\\ALPR\\ALPR_repo\\Letter_Segmentation\\train\\images\\5746_jpg.rf.cda10960ab3cb60141ac0c04ae9a99f6.jpg: 1 duplicate labels removed\n",
      "\u001b[34m\u001b[1mtrain: \u001b[0mWARNING  C:\\Users\\Wang Yanchi\\Desktop\\uoft\\3\\aps360\\ALPR\\ALPR_repo\\Letter_Segmentation\\train\\images\\6223_jpg.rf.025f13308b41d4f6d449823ce1510bbe.jpg: 1 duplicate labels removed\n",
      "\u001b[34m\u001b[1mtrain: \u001b[0mWARNING  C:\\Users\\Wang Yanchi\\Desktop\\uoft\\3\\aps360\\ALPR\\ALPR_repo\\Letter_Segmentation\\train\\images\\6223_jpg.rf.12afd65a1f493753371953bf3b1f4c3a.jpg: 1 duplicate labels removed\n",
      "\u001b[34m\u001b[1mtrain: \u001b[0mWARNING  C:\\Users\\Wang Yanchi\\Desktop\\uoft\\3\\aps360\\ALPR\\ALPR_repo\\Letter_Segmentation\\train\\images\\6223_jpg.rf.2153d1db140da78a51b0be0ef6cbd636.jpg: 1 duplicate labels removed\n",
      "\u001b[34m\u001b[1mtrain: \u001b[0mWARNING  C:\\Users\\Wang Yanchi\\Desktop\\uoft\\3\\aps360\\ALPR\\ALPR_repo\\Letter_Segmentation\\train\\images\\6223_jpg.rf.43919f77ca74705f4a3aba2d1f88f14e.jpg: 1 duplicate labels removed\n",
      "\u001b[34m\u001b[1mtrain: \u001b[0mWARNING  C:\\Users\\Wang Yanchi\\Desktop\\uoft\\3\\aps360\\ALPR\\ALPR_repo\\Letter_Segmentation\\train\\images\\6223_jpg.rf.584adf800ed6beca335442701d571f77.jpg: 1 duplicate labels removed\n",
      "\u001b[34m\u001b[1mtrain: \u001b[0mWARNING  C:\\Users\\Wang Yanchi\\Desktop\\uoft\\3\\aps360\\ALPR\\ALPR_repo\\Letter_Segmentation\\train\\images\\6223_jpg.rf.58e36c2e775b8d7f3e9dfdcb4ab74196.jpg: 1 duplicate labels removed\n",
      "\u001b[34m\u001b[1mtrain: \u001b[0mWARNING  C:\\Users\\Wang Yanchi\\Desktop\\uoft\\3\\aps360\\ALPR\\ALPR_repo\\Letter_Segmentation\\train\\images\\6223_jpg.rf.649e973094429569073625ccb382649d.jpg: 1 duplicate labels removed\n",
      "\u001b[34m\u001b[1mtrain: \u001b[0mWARNING  C:\\Users\\Wang Yanchi\\Desktop\\uoft\\3\\aps360\\ALPR\\ALPR_repo\\Letter_Segmentation\\train\\images\\6223_jpg.rf.6b4fcd67297616606bba07940abe7087.jpg: 1 duplicate labels removed\n",
      "\u001b[34m\u001b[1mtrain: \u001b[0mWARNING  C:\\Users\\Wang Yanchi\\Desktop\\uoft\\3\\aps360\\ALPR\\ALPR_repo\\Letter_Segmentation\\train\\images\\6223_jpg.rf.ee026b7ba2754c8c9773ba26d5b6c8b0.jpg: 1 duplicate labels removed\n",
      "\u001b[34m\u001b[1mtrain: \u001b[0mWARNING  C:\\Users\\Wang Yanchi\\Desktop\\uoft\\3\\aps360\\ALPR\\ALPR_repo\\Letter_Segmentation\\train\\images\\64_jpg.rf.14c5ae475a9b93d520d9f75b1c8363df.jpg: 1 duplicate labels removed\n",
      "\u001b[34m\u001b[1mtrain: \u001b[0mWARNING  C:\\Users\\Wang Yanchi\\Desktop\\uoft\\3\\aps360\\ALPR\\ALPR_repo\\Letter_Segmentation\\train\\images\\64_jpg.rf.15c861c5a79acf7bccd48f4633a1f23e.jpg: 1 duplicate labels removed\n",
      "\u001b[34m\u001b[1mtrain: \u001b[0mWARNING  C:\\Users\\Wang Yanchi\\Desktop\\uoft\\3\\aps360\\ALPR\\ALPR_repo\\Letter_Segmentation\\train\\images\\64_jpg.rf.209ff8a749588eb0d2b051cc11531d4f.jpg: 1 duplicate labels removed\n",
      "\u001b[34m\u001b[1mtrain: \u001b[0mWARNING  C:\\Users\\Wang Yanchi\\Desktop\\uoft\\3\\aps360\\ALPR\\ALPR_repo\\Letter_Segmentation\\train\\images\\64_jpg.rf.34cce9ebc045cf38cba452d6933eb6f7.jpg: 1 duplicate labels removed\n",
      "\u001b[34m\u001b[1mtrain: \u001b[0mWARNING  C:\\Users\\Wang Yanchi\\Desktop\\uoft\\3\\aps360\\ALPR\\ALPR_repo\\Letter_Segmentation\\train\\images\\64_jpg.rf.8754e4d2ede29cb9ba813a6be3d1a8f9.jpg: 1 duplicate labels removed\n",
      "\u001b[34m\u001b[1mtrain: \u001b[0mWARNING  C:\\Users\\Wang Yanchi\\Desktop\\uoft\\3\\aps360\\ALPR\\ALPR_repo\\Letter_Segmentation\\train\\images\\64_jpg.rf.c25c964802f92cfc92e3450d72c7e5f4.jpg: 1 duplicate labels removed\n",
      "\u001b[34m\u001b[1mtrain: \u001b[0mWARNING  C:\\Users\\Wang Yanchi\\Desktop\\uoft\\3\\aps360\\ALPR\\ALPR_repo\\Letter_Segmentation\\train\\images\\64_jpg.rf.c61cf39788a4b829f357d7ed054590d8.jpg: 1 duplicate labels removed\n",
      "\u001b[34m\u001b[1mtrain: \u001b[0mWARNING  C:\\Users\\Wang Yanchi\\Desktop\\uoft\\3\\aps360\\ALPR\\ALPR_repo\\Letter_Segmentation\\train\\images\\64_jpg.rf.d9cbe723afcc0fd90b6a32d369d6437b.jpg: 1 duplicate labels removed\n",
      "\u001b[34m\u001b[1mtrain: \u001b[0mWARNING  C:\\Users\\Wang Yanchi\\Desktop\\uoft\\3\\aps360\\ALPR\\ALPR_repo\\Letter_Segmentation\\train\\images\\64_jpg.rf.e4e01abf9b9485f77a02f68571db2660.jpg: 1 duplicate labels removed\n"
     ]
    },
    {
     "name": "stderr",
     "output_type": "stream",
     "text": [
      "\n",
      "\u001b[34m\u001b[1mval: \u001b[0mScanning C:\\Users\\Wang Yanchi\\Desktop\\uoft\\3\\aps360\\ALPR\\ALPR_repo\\Letter_Segmentation\\valid\\labels.cache... 251 images, 0 backgrounds, 0 corrupt: 100%|██████████| 251/251 [00:00<?, ?it/s]"
     ]
    },
    {
     "name": "stdout",
     "output_type": "stream",
     "text": [
      "\u001b[34m\u001b[1mval: \u001b[0mWARNING  C:\\Users\\Wang Yanchi\\Desktop\\uoft\\3\\aps360\\ALPR\\ALPR_repo\\Letter_Segmentation\\valid\\images\\1035_jpg.rf.3d15c71057b864ebf5c4df108ae1afd1.jpg: 1 duplicate labels removed\n",
      "\u001b[34m\u001b[1mval: \u001b[0mWARNING  C:\\Users\\Wang Yanchi\\Desktop\\uoft\\3\\aps360\\ALPR\\ALPR_repo\\Letter_Segmentation\\valid\\images\\2270_jpg.rf.9fd993e1604bdcb26a1fa1b6690e423a.jpg: 1 duplicate labels removed\n",
      "\u001b[34m\u001b[1mval: \u001b[0mWARNING  C:\\Users\\Wang Yanchi\\Desktop\\uoft\\3\\aps360\\ALPR\\ALPR_repo\\Letter_Segmentation\\valid\\images\\2516_jpg.rf.78433fd185ad78e1cacce6b676a10fd8.jpg: 1 duplicate labels removed\n",
      "\u001b[34m\u001b[1mval: \u001b[0mWARNING  C:\\Users\\Wang Yanchi\\Desktop\\uoft\\3\\aps360\\ALPR\\ALPR_repo\\Letter_Segmentation\\valid\\images\\3372_jpg.rf.52cc4a25e6440aec7b90daef1a5cd1f2.jpg: 1 duplicate labels removed\n",
      "\u001b[34m\u001b[1mval: \u001b[0mWARNING  C:\\Users\\Wang Yanchi\\Desktop\\uoft\\3\\aps360\\ALPR\\ALPR_repo\\Letter_Segmentation\\valid\\images\\3401_jpg.rf.0ad0e57bc3d3cab262f3f7880c9dcf58.jpg: 1 duplicate labels removed\n",
      "\u001b[34m\u001b[1mval: \u001b[0mWARNING  C:\\Users\\Wang Yanchi\\Desktop\\uoft\\3\\aps360\\ALPR\\ALPR_repo\\Letter_Segmentation\\valid\\images\\3765_jpg.rf.8e2180ac51b21c21b64ed4f33b8313dd.jpg: 1 duplicate labels removed\n",
      "\u001b[34m\u001b[1mval: \u001b[0mWARNING  C:\\Users\\Wang Yanchi\\Desktop\\uoft\\3\\aps360\\ALPR\\ALPR_repo\\Letter_Segmentation\\valid\\images\\5047_jpg.rf.b91676706b262ee7df73eef4a1570ad9.jpg: 1 duplicate labels removed\n",
      "\u001b[34m\u001b[1mval: \u001b[0mWARNING  C:\\Users\\Wang Yanchi\\Desktop\\uoft\\3\\aps360\\ALPR\\ALPR_repo\\Letter_Segmentation\\valid\\images\\5206_jpg.rf.a3ab9901d8c2d579e6ec3c0ad22e0951.jpg: 1 duplicate labels removed\n"
     ]
    },
    {
     "name": "stderr",
     "output_type": "stream",
     "text": [
      "\n"
     ]
    },
    {
     "name": "stdout",
     "output_type": "stream",
     "text": [
      "Plotting labels to runs\\detect\\yolov8_character_segmentation2\\labels.jpg... \n",
      "\u001b[34m\u001b[1moptimizer:\u001b[0m 'optimizer=auto' found, ignoring 'lr0=0.01' and 'momentum=0.937' and determining best 'optimizer', 'lr0' and 'momentum' automatically... \n",
      "\u001b[34m\u001b[1moptimizer:\u001b[0m SGD(lr=0.01, momentum=0.9) with parameter groups 57 weight(decay=0.0), 64 weight(decay=0.0005), 63 bias(decay=0.0)\n",
      "Image sizes 608 train, 608 val\n",
      "Using 6 dataloader workers\n",
      "Logging results to \u001b[1mruns\\detect\\yolov8_character_segmentation2\u001b[0m\n",
      "Starting training for 100 epochs...\n",
      "\n",
      "      Epoch    GPU_mem   box_loss   cls_loss   dfl_loss  Instances       Size\n"
     ]
    },
    {
     "name": "stderr",
     "output_type": "stream",
     "text": [
      "      1/100      4.15G     0.9339     0.5513      1.205        126        608: 100%|██████████| 252/252 [00:56<00:00,  4.47it/s]\n",
      "                 Class     Images  Instances      Box(P          R      mAP50  mAP50-95): 100%|██████████| 4/4 [00:01<00:00,  2.57it/s]"
     ]
    },
    {
     "name": "stdout",
     "output_type": "stream",
     "text": [
      "                   all        251       1450      0.996       0.99      0.994      0.891\n"
     ]
    },
    {
     "name": "stderr",
     "output_type": "stream",
     "text": [
      "\n"
     ]
    },
    {
     "name": "stdout",
     "output_type": "stream",
     "text": [
      "\n",
      "      Epoch    GPU_mem   box_loss   cls_loss   dfl_loss  Instances       Size\n"
     ]
    },
    {
     "name": "stderr",
     "output_type": "stream",
     "text": [
      "      2/100      4.31G     0.9209     0.5369      1.192        132        608: 100%|██████████| 252/252 [00:54<00:00,  4.63it/s]\n",
      "                 Class     Images  Instances      Box(P          R      mAP50  mAP50-95): 100%|██████████| 4/4 [00:01<00:00,  2.89it/s]"
     ]
    },
    {
     "name": "stdout",
     "output_type": "stream",
     "text": [
      "                   all        251       1450      0.995       0.99      0.995      0.887\n"
     ]
    },
    {
     "name": "stderr",
     "output_type": "stream",
     "text": [
      "\n"
     ]
    },
    {
     "name": "stdout",
     "output_type": "stream",
     "text": [
      "\n",
      "      Epoch    GPU_mem   box_loss   cls_loss   dfl_loss  Instances       Size\n"
     ]
    },
    {
     "name": "stderr",
     "output_type": "stream",
     "text": [
      "      3/100       4.3G     0.9449     0.5495      1.205        105        608: 100%|██████████| 252/252 [00:50<00:00,  5.02it/s]\n",
      "                 Class     Images  Instances      Box(P          R      mAP50  mAP50-95): 100%|██████████| 4/4 [00:01<00:00,  2.99it/s]"
     ]
    },
    {
     "name": "stdout",
     "output_type": "stream",
     "text": [
      "                   all        251       1450      0.991      0.988      0.993      0.874\n"
     ]
    },
    {
     "name": "stderr",
     "output_type": "stream",
     "text": [
      "\n"
     ]
    },
    {
     "name": "stdout",
     "output_type": "stream",
     "text": [
      "\n",
      "      Epoch    GPU_mem   box_loss   cls_loss   dfl_loss  Instances       Size\n"
     ]
    },
    {
     "name": "stderr",
     "output_type": "stream",
     "text": [
      "      4/100      4.32G      0.985     0.5788      1.227        151        608: 100%|██████████| 252/252 [00:48<00:00,  5.18it/s]\n",
      "                 Class     Images  Instances      Box(P          R      mAP50  mAP50-95): 100%|██████████| 4/4 [00:01<00:00,  3.03it/s]"
     ]
    },
    {
     "name": "stdout",
     "output_type": "stream",
     "text": [
      "                   all        251       1450      0.992       0.99      0.994      0.876\n"
     ]
    },
    {
     "name": "stderr",
     "output_type": "stream",
     "text": [
      "\n"
     ]
    },
    {
     "name": "stdout",
     "output_type": "stream",
     "text": [
      "\n",
      "      Epoch    GPU_mem   box_loss   cls_loss   dfl_loss  Instances       Size\n"
     ]
    },
    {
     "name": "stderr",
     "output_type": "stream",
     "text": [
      "      5/100      4.29G     0.9741     0.5725      1.225        120        608: 100%|██████████| 252/252 [00:46<00:00,  5.43it/s]\n",
      "                 Class     Images  Instances      Box(P          R      mAP50  mAP50-95): 100%|██████████| 4/4 [00:01<00:00,  3.12it/s]"
     ]
    },
    {
     "name": "stdout",
     "output_type": "stream",
     "text": [
      "                   all        251       1450      0.992      0.994      0.993      0.874\n"
     ]
    },
    {
     "name": "stderr",
     "output_type": "stream",
     "text": [
      "\n"
     ]
    },
    {
     "name": "stdout",
     "output_type": "stream",
     "text": [
      "\n",
      "      Epoch    GPU_mem   box_loss   cls_loss   dfl_loss  Instances       Size\n"
     ]
    },
    {
     "name": "stderr",
     "output_type": "stream",
     "text": [
      "      6/100       4.3G     0.9774     0.5734      1.221        112        608: 100%|██████████| 252/252 [00:46<00:00,  5.44it/s]\n",
      "                 Class     Images  Instances      Box(P          R      mAP50  mAP50-95): 100%|██████████| 4/4 [00:01<00:00,  3.17it/s]"
     ]
    },
    {
     "name": "stdout",
     "output_type": "stream",
     "text": [
      "                   all        251       1450      0.993      0.993      0.994      0.867\n"
     ]
    },
    {
     "name": "stderr",
     "output_type": "stream",
     "text": [
      "\n"
     ]
    },
    {
     "name": "stdout",
     "output_type": "stream",
     "text": [
      "\n",
      "      Epoch    GPU_mem   box_loss   cls_loss   dfl_loss  Instances       Size\n"
     ]
    },
    {
     "name": "stderr",
     "output_type": "stream",
     "text": [
      "      7/100      4.29G     0.9621     0.5637      1.211        134        608: 100%|██████████| 252/252 [00:46<00:00,  5.38it/s]\n",
      "                 Class     Images  Instances      Box(P          R      mAP50  mAP50-95): 100%|██████████| 4/4 [00:01<00:00,  3.16it/s]"
     ]
    },
    {
     "name": "stdout",
     "output_type": "stream",
     "text": [
      "                   all        251       1450      0.992      0.993      0.994      0.878\n"
     ]
    },
    {
     "name": "stderr",
     "output_type": "stream",
     "text": [
      "\n"
     ]
    },
    {
     "name": "stdout",
     "output_type": "stream",
     "text": [
      "\n",
      "      Epoch    GPU_mem   box_loss   cls_loss   dfl_loss  Instances       Size\n"
     ]
    },
    {
     "name": "stderr",
     "output_type": "stream",
     "text": [
      "      8/100      4.29G     0.9615     0.5618      1.216        135        608: 100%|██████████| 252/252 [00:46<00:00,  5.45it/s]\n",
      "                 Class     Images  Instances      Box(P          R      mAP50  mAP50-95): 100%|██████████| 4/4 [00:01<00:00,  3.13it/s]"
     ]
    },
    {
     "name": "stdout",
     "output_type": "stream",
     "text": [
      "                   all        251       1450      0.992      0.986      0.994      0.877\n"
     ]
    },
    {
     "name": "stderr",
     "output_type": "stream",
     "text": [
      "\n"
     ]
    },
    {
     "name": "stdout",
     "output_type": "stream",
     "text": [
      "\n",
      "      Epoch    GPU_mem   box_loss   cls_loss   dfl_loss  Instances       Size\n"
     ]
    },
    {
     "name": "stderr",
     "output_type": "stream",
     "text": [
      "      9/100      4.28G     0.9566     0.5582       1.21        118        608: 100%|██████████| 252/252 [00:46<00:00,  5.46it/s]\n",
      "                 Class     Images  Instances      Box(P          R      mAP50  mAP50-95): 100%|██████████| 4/4 [00:01<00:00,  3.15it/s]"
     ]
    },
    {
     "name": "stdout",
     "output_type": "stream",
     "text": [
      "                   all        251       1450      0.995      0.992      0.994      0.883\n"
     ]
    },
    {
     "name": "stderr",
     "output_type": "stream",
     "text": [
      "\n"
     ]
    },
    {
     "name": "stdout",
     "output_type": "stream",
     "text": [
      "\n",
      "      Epoch    GPU_mem   box_loss   cls_loss   dfl_loss  Instances       Size\n"
     ]
    },
    {
     "name": "stderr",
     "output_type": "stream",
     "text": [
      "     10/100      4.28G     0.9493     0.5533      1.212        120        608: 100%|██████████| 252/252 [00:46<00:00,  5.45it/s]\n",
      "                 Class     Images  Instances      Box(P          R      mAP50  mAP50-95): 100%|██████████| 4/4 [00:01<00:00,  3.15it/s]"
     ]
    },
    {
     "name": "stdout",
     "output_type": "stream",
     "text": [
      "                   all        251       1450       0.99      0.992      0.994      0.879\n"
     ]
    },
    {
     "name": "stderr",
     "output_type": "stream",
     "text": [
      "\n"
     ]
    },
    {
     "name": "stdout",
     "output_type": "stream",
     "text": [
      "\n",
      "      Epoch    GPU_mem   box_loss   cls_loss   dfl_loss  Instances       Size\n"
     ]
    },
    {
     "name": "stderr",
     "output_type": "stream",
     "text": [
      "     11/100      4.31G     0.9426     0.5442      1.201        145        608: 100%|██████████| 252/252 [00:46<00:00,  5.45it/s]\n",
      "                 Class     Images  Instances      Box(P          R      mAP50  mAP50-95): 100%|██████████| 4/4 [00:01<00:00,  3.14it/s]"
     ]
    },
    {
     "name": "stdout",
     "output_type": "stream",
     "text": [
      "                   all        251       1450      0.985       0.99      0.992      0.871\n"
     ]
    },
    {
     "name": "stderr",
     "output_type": "stream",
     "text": [
      "\n"
     ]
    },
    {
     "name": "stdout",
     "output_type": "stream",
     "text": [
      "\n",
      "      Epoch    GPU_mem   box_loss   cls_loss   dfl_loss  Instances       Size\n"
     ]
    },
    {
     "name": "stderr",
     "output_type": "stream",
     "text": [
      "     12/100      4.31G     0.9384     0.5457      1.198        158        608: 100%|██████████| 252/252 [00:46<00:00,  5.45it/s]\n",
      "                 Class     Images  Instances      Box(P          R      mAP50  mAP50-95): 100%|██████████| 4/4 [00:01<00:00,  3.16it/s]"
     ]
    },
    {
     "name": "stdout",
     "output_type": "stream",
     "text": [
      "                   all        251       1450      0.996      0.992      0.994      0.884\n"
     ]
    },
    {
     "name": "stderr",
     "output_type": "stream",
     "text": [
      "\n"
     ]
    },
    {
     "name": "stdout",
     "output_type": "stream",
     "text": [
      "\n",
      "      Epoch    GPU_mem   box_loss   cls_loss   dfl_loss  Instances       Size\n"
     ]
    },
    {
     "name": "stderr",
     "output_type": "stream",
     "text": [
      "     13/100      4.31G     0.9325     0.5396      1.197        129        608: 100%|██████████| 252/252 [00:46<00:00,  5.44it/s]\n",
      "                 Class     Images  Instances      Box(P          R      mAP50  mAP50-95): 100%|██████████| 4/4 [00:01<00:00,  3.15it/s]"
     ]
    },
    {
     "name": "stdout",
     "output_type": "stream",
     "text": [
      "                   all        251       1450      0.993       0.99      0.994       0.88\n"
     ]
    },
    {
     "name": "stderr",
     "output_type": "stream",
     "text": [
      "\n"
     ]
    },
    {
     "name": "stdout",
     "output_type": "stream",
     "text": [
      "\n",
      "      Epoch    GPU_mem   box_loss   cls_loss   dfl_loss  Instances       Size\n"
     ]
    },
    {
     "name": "stderr",
     "output_type": "stream",
     "text": [
      "     14/100      4.31G     0.9237     0.5351      1.191        120        608: 100%|██████████| 252/252 [00:46<00:00,  5.43it/s]\n",
      "                 Class     Images  Instances      Box(P          R      mAP50  mAP50-95): 100%|██████████| 4/4 [00:01<00:00,  3.10it/s]"
     ]
    },
    {
     "name": "stdout",
     "output_type": "stream",
     "text": [
      "                   all        251       1450      0.995       0.99      0.994       0.89\n"
     ]
    },
    {
     "name": "stderr",
     "output_type": "stream",
     "text": [
      "\n"
     ]
    },
    {
     "name": "stdout",
     "output_type": "stream",
     "text": [
      "\n",
      "      Epoch    GPU_mem   box_loss   cls_loss   dfl_loss  Instances       Size\n"
     ]
    },
    {
     "name": "stderr",
     "output_type": "stream",
     "text": [
      "     15/100      4.28G     0.9192      0.529      1.186        126        608: 100%|██████████| 252/252 [00:47<00:00,  5.28it/s]\n",
      "                 Class     Images  Instances      Box(P          R      mAP50  mAP50-95): 100%|██████████| 4/4 [00:01<00:00,  3.14it/s]"
     ]
    },
    {
     "name": "stdout",
     "output_type": "stream",
     "text": [
      "                   all        251       1450      0.992      0.987      0.994      0.886\n"
     ]
    },
    {
     "name": "stderr",
     "output_type": "stream",
     "text": [
      "\n"
     ]
    },
    {
     "name": "stdout",
     "output_type": "stream",
     "text": [
      "\n",
      "      Epoch    GPU_mem   box_loss   cls_loss   dfl_loss  Instances       Size\n"
     ]
    },
    {
     "name": "stderr",
     "output_type": "stream",
     "text": [
      "     16/100      4.29G     0.9126     0.5292      1.184        146        608: 100%|██████████| 252/252 [00:46<00:00,  5.44it/s]\n",
      "                 Class     Images  Instances      Box(P          R      mAP50  mAP50-95): 100%|██████████| 4/4 [00:01<00:00,  3.11it/s]"
     ]
    },
    {
     "name": "stdout",
     "output_type": "stream",
     "text": [
      "                   all        251       1450      0.993      0.992      0.994      0.887\n"
     ]
    },
    {
     "name": "stderr",
     "output_type": "stream",
     "text": [
      "\n"
     ]
    },
    {
     "name": "stdout",
     "output_type": "stream",
     "text": [
      "\n",
      "      Epoch    GPU_mem   box_loss   cls_loss   dfl_loss  Instances       Size\n"
     ]
    },
    {
     "name": "stderr",
     "output_type": "stream",
     "text": [
      "     17/100       4.3G      0.909     0.5256      1.181        115        608: 100%|██████████| 252/252 [00:46<00:00,  5.44it/s]\n",
      "                 Class     Images  Instances      Box(P          R      mAP50  mAP50-95): 100%|██████████| 4/4 [00:01<00:00,  3.16it/s]"
     ]
    },
    {
     "name": "stdout",
     "output_type": "stream",
     "text": [
      "                   all        251       1450      0.991      0.995      0.994      0.892\n"
     ]
    },
    {
     "name": "stderr",
     "output_type": "stream",
     "text": [
      "\n"
     ]
    },
    {
     "name": "stdout",
     "output_type": "stream",
     "text": [
      "\n",
      "      Epoch    GPU_mem   box_loss   cls_loss   dfl_loss  Instances       Size\n"
     ]
    },
    {
     "name": "stderr",
     "output_type": "stream",
     "text": [
      "     18/100      4.27G     0.9039     0.5197      1.181        150        608: 100%|██████████| 252/252 [00:46<00:00,  5.43it/s]\n",
      "                 Class     Images  Instances      Box(P          R      mAP50  mAP50-95): 100%|██████████| 4/4 [00:01<00:00,  3.14it/s]"
     ]
    },
    {
     "name": "stdout",
     "output_type": "stream",
     "text": [
      "                   all        251       1450      0.991      0.992      0.994      0.891\n"
     ]
    },
    {
     "name": "stderr",
     "output_type": "stream",
     "text": [
      "\n"
     ]
    },
    {
     "name": "stdout",
     "output_type": "stream",
     "text": [
      "\n",
      "      Epoch    GPU_mem   box_loss   cls_loss   dfl_loss  Instances       Size\n"
     ]
    },
    {
     "name": "stderr",
     "output_type": "stream",
     "text": [
      "     19/100      4.31G     0.9015     0.5166      1.174        154        608: 100%|██████████| 252/252 [00:46<00:00,  5.44it/s]\n",
      "                 Class     Images  Instances      Box(P          R      mAP50  mAP50-95): 100%|██████████| 4/4 [00:01<00:00,  3.13it/s]"
     ]
    },
    {
     "name": "stdout",
     "output_type": "stream",
     "text": [
      "                   all        251       1450      0.992      0.991      0.994      0.886\n"
     ]
    },
    {
     "name": "stderr",
     "output_type": "stream",
     "text": [
      "\n"
     ]
    },
    {
     "name": "stdout",
     "output_type": "stream",
     "text": [
      "\n",
      "      Epoch    GPU_mem   box_loss   cls_loss   dfl_loss  Instances       Size\n"
     ]
    },
    {
     "name": "stderr",
     "output_type": "stream",
     "text": [
      "     20/100       4.3G     0.9077     0.5154      1.178        130        608: 100%|██████████| 252/252 [00:46<00:00,  5.43it/s]\n",
      "                 Class     Images  Instances      Box(P          R      mAP50  mAP50-95): 100%|██████████| 4/4 [00:01<00:00,  3.01it/s]"
     ]
    },
    {
     "name": "stdout",
     "output_type": "stream",
     "text": [
      "                   all        251       1450      0.994      0.994      0.994      0.889\n"
     ]
    },
    {
     "name": "stderr",
     "output_type": "stream",
     "text": [
      "\n"
     ]
    },
    {
     "name": "stdout",
     "output_type": "stream",
     "text": [
      "\n",
      "      Epoch    GPU_mem   box_loss   cls_loss   dfl_loss  Instances       Size\n"
     ]
    },
    {
     "name": "stderr",
     "output_type": "stream",
     "text": [
      "     21/100      4.29G     0.9009     0.5138      1.178        112        608: 100%|██████████| 252/252 [00:46<00:00,  5.40it/s]\n",
      "                 Class     Images  Instances      Box(P          R      mAP50  mAP50-95): 100%|██████████| 4/4 [00:01<00:00,  3.11it/s]"
     ]
    },
    {
     "name": "stdout",
     "output_type": "stream",
     "text": [
      "                   all        251       1450      0.993      0.993      0.994      0.878\n"
     ]
    },
    {
     "name": "stderr",
     "output_type": "stream",
     "text": [
      "\n"
     ]
    },
    {
     "name": "stdout",
     "output_type": "stream",
     "text": [
      "\n",
      "      Epoch    GPU_mem   box_loss   cls_loss   dfl_loss  Instances       Size\n"
     ]
    },
    {
     "name": "stderr",
     "output_type": "stream",
     "text": [
      "     22/100      4.31G     0.8986     0.5109      1.173        151        608: 100%|██████████| 252/252 [00:46<00:00,  5.43it/s]\n",
      "                 Class     Images  Instances      Box(P          R      mAP50  mAP50-95): 100%|██████████| 4/4 [00:01<00:00,  3.12it/s]"
     ]
    },
    {
     "name": "stdout",
     "output_type": "stream",
     "text": [
      "                   all        251       1450      0.995      0.992      0.994      0.893\n"
     ]
    },
    {
     "name": "stderr",
     "output_type": "stream",
     "text": [
      "\n"
     ]
    },
    {
     "name": "stdout",
     "output_type": "stream",
     "text": [
      "\n",
      "      Epoch    GPU_mem   box_loss   cls_loss   dfl_loss  Instances       Size\n"
     ]
    },
    {
     "name": "stderr",
     "output_type": "stream",
     "text": [
      "     23/100      4.29G     0.8977     0.5101      1.175        127        608: 100%|██████████| 252/252 [00:46<00:00,  5.43it/s]\n",
      "                 Class     Images  Instances      Box(P          R      mAP50  mAP50-95): 100%|██████████| 4/4 [00:01<00:00,  3.14it/s]"
     ]
    },
    {
     "name": "stdout",
     "output_type": "stream",
     "text": [
      "                   all        251       1450      0.991      0.992      0.994      0.892\n"
     ]
    },
    {
     "name": "stderr",
     "output_type": "stream",
     "text": [
      "\n"
     ]
    },
    {
     "name": "stdout",
     "output_type": "stream",
     "text": [
      "\n",
      "      Epoch    GPU_mem   box_loss   cls_loss   dfl_loss  Instances       Size\n"
     ]
    },
    {
     "name": "stderr",
     "output_type": "stream",
     "text": [
      "     24/100      4.28G     0.8853     0.5058      1.169        109        608: 100%|██████████| 252/252 [00:46<00:00,  5.45it/s]\n",
      "                 Class     Images  Instances      Box(P          R      mAP50  mAP50-95): 100%|██████████| 4/4 [00:01<00:00,  3.12it/s]"
     ]
    },
    {
     "name": "stdout",
     "output_type": "stream",
     "text": [
      "                   all        251       1450      0.987      0.993      0.993      0.881\n"
     ]
    },
    {
     "name": "stderr",
     "output_type": "stream",
     "text": [
      "\n"
     ]
    },
    {
     "name": "stdout",
     "output_type": "stream",
     "text": [
      "\n",
      "      Epoch    GPU_mem   box_loss   cls_loss   dfl_loss  Instances       Size\n"
     ]
    },
    {
     "name": "stderr",
     "output_type": "stream",
     "text": [
      "     25/100      4.32G     0.8822     0.5012      1.165        122        608: 100%|██████████| 252/252 [00:47<00:00,  5.36it/s]\n",
      "                 Class     Images  Instances      Box(P          R      mAP50  mAP50-95): 100%|██████████| 4/4 [00:01<00:00,  3.08it/s]"
     ]
    },
    {
     "name": "stdout",
     "output_type": "stream",
     "text": [
      "                   all        251       1450      0.992      0.994      0.994      0.895\n"
     ]
    },
    {
     "name": "stderr",
     "output_type": "stream",
     "text": [
      "\n"
     ]
    },
    {
     "name": "stdout",
     "output_type": "stream",
     "text": [
      "\n",
      "      Epoch    GPU_mem   box_loss   cls_loss   dfl_loss  Instances       Size\n"
     ]
    },
    {
     "name": "stderr",
     "output_type": "stream",
     "text": [
      "     26/100       4.3G     0.8819     0.5011      1.165        137        608: 100%|██████████| 252/252 [00:46<00:00,  5.43it/s]\n",
      "                 Class     Images  Instances      Box(P          R      mAP50  mAP50-95): 100%|██████████| 4/4 [00:01<00:00,  3.11it/s]"
     ]
    },
    {
     "name": "stdout",
     "output_type": "stream",
     "text": [
      "                   all        251       1450      0.992      0.993      0.994      0.901\n"
     ]
    },
    {
     "name": "stderr",
     "output_type": "stream",
     "text": [
      "\n"
     ]
    },
    {
     "name": "stdout",
     "output_type": "stream",
     "text": [
      "\n",
      "      Epoch    GPU_mem   box_loss   cls_loss   dfl_loss  Instances       Size\n"
     ]
    },
    {
     "name": "stderr",
     "output_type": "stream",
     "text": [
      "     27/100      4.28G     0.8749      0.495       1.16        141        608: 100%|██████████| 252/252 [00:46<00:00,  5.42it/s]\n",
      "                 Class     Images  Instances      Box(P          R      mAP50  mAP50-95): 100%|██████████| 4/4 [00:01<00:00,  3.10it/s]"
     ]
    },
    {
     "name": "stdout",
     "output_type": "stream",
     "text": [
      "                   all        251       1450      0.995      0.994      0.994        0.9\n"
     ]
    },
    {
     "name": "stderr",
     "output_type": "stream",
     "text": [
      "\n"
     ]
    },
    {
     "name": "stdout",
     "output_type": "stream",
     "text": [
      "\n",
      "      Epoch    GPU_mem   box_loss   cls_loss   dfl_loss  Instances       Size\n"
     ]
    },
    {
     "name": "stderr",
     "output_type": "stream",
     "text": [
      "     28/100      4.28G     0.8741     0.4949      1.156        129        608: 100%|██████████| 252/252 [00:46<00:00,  5.43it/s]\n",
      "                 Class     Images  Instances      Box(P          R      mAP50  mAP50-95): 100%|██████████| 4/4 [00:01<00:00,  3.12it/s]"
     ]
    },
    {
     "name": "stdout",
     "output_type": "stream",
     "text": [
      "                   all        251       1450      0.995      0.996      0.994      0.902\n"
     ]
    },
    {
     "name": "stderr",
     "output_type": "stream",
     "text": [
      "\n"
     ]
    },
    {
     "name": "stdout",
     "output_type": "stream",
     "text": [
      "\n",
      "      Epoch    GPU_mem   box_loss   cls_loss   dfl_loss  Instances       Size\n"
     ]
    },
    {
     "name": "stderr",
     "output_type": "stream",
     "text": [
      "     29/100      4.29G     0.8746     0.4927      1.157        146        608: 100%|██████████| 252/252 [00:46<00:00,  5.39it/s]\n",
      "                 Class     Images  Instances      Box(P          R      mAP50  mAP50-95): 100%|██████████| 4/4 [00:01<00:00,  3.09it/s]"
     ]
    },
    {
     "name": "stdout",
     "output_type": "stream",
     "text": [
      "                   all        251       1450      0.996      0.993      0.994      0.901\n"
     ]
    },
    {
     "name": "stderr",
     "output_type": "stream",
     "text": [
      "\n"
     ]
    },
    {
     "name": "stdout",
     "output_type": "stream",
     "text": [
      "\n",
      "      Epoch    GPU_mem   box_loss   cls_loss   dfl_loss  Instances       Size\n"
     ]
    },
    {
     "name": "stderr",
     "output_type": "stream",
     "text": [
      "     30/100      4.31G     0.8652     0.4898      1.152        134        608: 100%|██████████| 252/252 [00:46<00:00,  5.39it/s]\n",
      "                 Class     Images  Instances      Box(P          R      mAP50  mAP50-95): 100%|██████████| 4/4 [00:01<00:00,  3.10it/s]"
     ]
    },
    {
     "name": "stdout",
     "output_type": "stream",
     "text": [
      "                   all        251       1450      0.996      0.993      0.995      0.904\n"
     ]
    },
    {
     "name": "stderr",
     "output_type": "stream",
     "text": [
      "\n"
     ]
    },
    {
     "name": "stdout",
     "output_type": "stream",
     "text": [
      "\n",
      "      Epoch    GPU_mem   box_loss   cls_loss   dfl_loss  Instances       Size\n"
     ]
    },
    {
     "name": "stderr",
     "output_type": "stream",
     "text": [
      "     31/100      4.27G      0.866     0.4858      1.154        152        608: 100%|██████████| 252/252 [00:46<00:00,  5.43it/s]\n",
      "                 Class     Images  Instances      Box(P          R      mAP50  mAP50-95): 100%|██████████| 4/4 [00:01<00:00,  3.09it/s]"
     ]
    },
    {
     "name": "stdout",
     "output_type": "stream",
     "text": [
      "                   all        251       1450      0.996      0.994      0.994      0.899\n"
     ]
    },
    {
     "name": "stderr",
     "output_type": "stream",
     "text": [
      "\n"
     ]
    },
    {
     "name": "stdout",
     "output_type": "stream",
     "text": [
      "\n",
      "      Epoch    GPU_mem   box_loss   cls_loss   dfl_loss  Instances       Size\n"
     ]
    },
    {
     "name": "stderr",
     "output_type": "stream",
     "text": [
      "     32/100      4.31G     0.8574     0.4861      1.146        115        608: 100%|██████████| 252/252 [00:46<00:00,  5.44it/s]\n",
      "                 Class     Images  Instances      Box(P          R      mAP50  mAP50-95): 100%|██████████| 4/4 [00:01<00:00,  3.12it/s]"
     ]
    },
    {
     "name": "stdout",
     "output_type": "stream",
     "text": [
      "                   all        251       1450      0.993      0.994      0.994      0.893\n"
     ]
    },
    {
     "name": "stderr",
     "output_type": "stream",
     "text": [
      "\n"
     ]
    },
    {
     "name": "stdout",
     "output_type": "stream",
     "text": [
      "\n",
      "      Epoch    GPU_mem   box_loss   cls_loss   dfl_loss  Instances       Size\n"
     ]
    },
    {
     "name": "stderr",
     "output_type": "stream",
     "text": [
      "     33/100      4.31G     0.8549     0.4839      1.145         95        608: 100%|██████████| 252/252 [00:46<00:00,  5.41it/s]\n",
      "                 Class     Images  Instances      Box(P          R      mAP50  mAP50-95): 100%|██████████| 4/4 [00:01<00:00,  3.07it/s]"
     ]
    },
    {
     "name": "stdout",
     "output_type": "stream",
     "text": [
      "                   all        251       1450      0.997      0.994      0.995      0.904\n"
     ]
    },
    {
     "name": "stderr",
     "output_type": "stream",
     "text": [
      "\n"
     ]
    },
    {
     "name": "stdout",
     "output_type": "stream",
     "text": [
      "\n",
      "      Epoch    GPU_mem   box_loss   cls_loss   dfl_loss  Instances       Size\n"
     ]
    },
    {
     "name": "stderr",
     "output_type": "stream",
     "text": [
      "     34/100      4.28G      0.849     0.4794      1.143        112        608: 100%|██████████| 252/252 [00:47<00:00,  5.26it/s]\n",
      "                 Class     Images  Instances      Box(P          R      mAP50  mAP50-95): 100%|██████████| 4/4 [00:01<00:00,  3.10it/s]"
     ]
    },
    {
     "name": "stdout",
     "output_type": "stream",
     "text": [
      "                   all        251       1450      0.995      0.996      0.994      0.907\n"
     ]
    },
    {
     "name": "stderr",
     "output_type": "stream",
     "text": [
      "\n"
     ]
    },
    {
     "name": "stdout",
     "output_type": "stream",
     "text": [
      "\n",
      "      Epoch    GPU_mem   box_loss   cls_loss   dfl_loss  Instances       Size\n"
     ]
    },
    {
     "name": "stderr",
     "output_type": "stream",
     "text": [
      "     35/100      4.28G     0.8499     0.4792      1.145        115        608: 100%|██████████| 252/252 [00:46<00:00,  5.38it/s]\n",
      "                 Class     Images  Instances      Box(P          R      mAP50  mAP50-95): 100%|██████████| 4/4 [00:01<00:00,  3.07it/s]"
     ]
    },
    {
     "name": "stdout",
     "output_type": "stream",
     "text": [
      "                   all        251       1450      0.997      0.991      0.995      0.907\n"
     ]
    },
    {
     "name": "stderr",
     "output_type": "stream",
     "text": [
      "\n"
     ]
    },
    {
     "name": "stdout",
     "output_type": "stream",
     "text": [
      "\n",
      "      Epoch    GPU_mem   box_loss   cls_loss   dfl_loss  Instances       Size\n"
     ]
    },
    {
     "name": "stderr",
     "output_type": "stream",
     "text": [
      "     36/100       4.3G     0.8491     0.4783      1.144        116        608: 100%|██████████| 252/252 [00:46<00:00,  5.40it/s]\n",
      "                 Class     Images  Instances      Box(P          R      mAP50  mAP50-95): 100%|██████████| 4/4 [00:01<00:00,  3.07it/s]"
     ]
    },
    {
     "name": "stdout",
     "output_type": "stream",
     "text": [
      "                   all        251       1450      0.993      0.994      0.994      0.906\n"
     ]
    },
    {
     "name": "stderr",
     "output_type": "stream",
     "text": [
      "\n"
     ]
    },
    {
     "name": "stdout",
     "output_type": "stream",
     "text": [
      "\n",
      "      Epoch    GPU_mem   box_loss   cls_loss   dfl_loss  Instances       Size\n"
     ]
    },
    {
     "name": "stderr",
     "output_type": "stream",
     "text": [
      "     37/100      4.29G     0.8393     0.4721      1.139        117        608: 100%|██████████| 252/252 [00:47<00:00,  5.36it/s]\n",
      "                 Class     Images  Instances      Box(P          R      mAP50  mAP50-95): 100%|██████████| 4/4 [00:01<00:00,  3.01it/s]"
     ]
    },
    {
     "name": "stdout",
     "output_type": "stream",
     "text": [
      "                   all        251       1450      0.997      0.994      0.994      0.908\n"
     ]
    },
    {
     "name": "stderr",
     "output_type": "stream",
     "text": [
      "\n"
     ]
    },
    {
     "name": "stdout",
     "output_type": "stream",
     "text": [
      "\n",
      "      Epoch    GPU_mem   box_loss   cls_loss   dfl_loss  Instances       Size\n"
     ]
    },
    {
     "name": "stderr",
     "output_type": "stream",
     "text": [
      "     38/100       4.3G     0.8362     0.4704      1.135        110        608: 100%|██████████| 252/252 [00:46<00:00,  5.40it/s]\n",
      "                 Class     Images  Instances      Box(P          R      mAP50  mAP50-95): 100%|██████████| 4/4 [00:01<00:00,  3.11it/s]"
     ]
    },
    {
     "name": "stdout",
     "output_type": "stream",
     "text": [
      "                   all        251       1450      0.995      0.994      0.994      0.908\n"
     ]
    },
    {
     "name": "stderr",
     "output_type": "stream",
     "text": [
      "\n"
     ]
    },
    {
     "name": "stdout",
     "output_type": "stream",
     "text": [
      "\n",
      "      Epoch    GPU_mem   box_loss   cls_loss   dfl_loss  Instances       Size\n"
     ]
    },
    {
     "name": "stderr",
     "output_type": "stream",
     "text": [
      "     39/100      4.29G     0.8345     0.4661      1.136        144        608: 100%|██████████| 252/252 [00:46<00:00,  5.39it/s]\n",
      "                 Class     Images  Instances      Box(P          R      mAP50  mAP50-95): 100%|██████████| 4/4 [00:01<00:00,  3.11it/s]"
     ]
    },
    {
     "name": "stdout",
     "output_type": "stream",
     "text": [
      "                   all        251       1450      0.992      0.993      0.994      0.909\n"
     ]
    },
    {
     "name": "stderr",
     "output_type": "stream",
     "text": [
      "\n"
     ]
    },
    {
     "name": "stdout",
     "output_type": "stream",
     "text": [
      "\n",
      "      Epoch    GPU_mem   box_loss   cls_loss   dfl_loss  Instances       Size\n"
     ]
    },
    {
     "name": "stderr",
     "output_type": "stream",
     "text": [
      "     40/100      4.31G     0.8345     0.4689      1.134        115        608: 100%|██████████| 252/252 [00:47<00:00,  5.28it/s]\n",
      "                 Class     Images  Instances      Box(P          R      mAP50  mAP50-95): 100%|██████████| 4/4 [00:01<00:00,  3.10it/s]"
     ]
    },
    {
     "name": "stdout",
     "output_type": "stream",
     "text": [
      "                   all        251       1450      0.997      0.992      0.995      0.908\n"
     ]
    },
    {
     "name": "stderr",
     "output_type": "stream",
     "text": [
      "\n"
     ]
    },
    {
     "name": "stdout",
     "output_type": "stream",
     "text": [
      "\n",
      "      Epoch    GPU_mem   box_loss   cls_loss   dfl_loss  Instances       Size\n"
     ]
    },
    {
     "name": "stderr",
     "output_type": "stream",
     "text": [
      "     41/100      4.29G     0.8305     0.4663      1.132        105        608: 100%|██████████| 252/252 [00:46<00:00,  5.40it/s]\n",
      "                 Class     Images  Instances      Box(P          R      mAP50  mAP50-95): 100%|██████████| 4/4 [00:01<00:00,  3.04it/s]"
     ]
    },
    {
     "name": "stdout",
     "output_type": "stream",
     "text": [
      "                   all        251       1450      0.996      0.993      0.994       0.91\n"
     ]
    },
    {
     "name": "stderr",
     "output_type": "stream",
     "text": [
      "\n"
     ]
    },
    {
     "name": "stdout",
     "output_type": "stream",
     "text": [
      "\n",
      "      Epoch    GPU_mem   box_loss   cls_loss   dfl_loss  Instances       Size\n"
     ]
    },
    {
     "name": "stderr",
     "output_type": "stream",
     "text": [
      "     42/100      4.31G     0.8279     0.4649      1.132        130        608: 100%|██████████| 252/252 [00:48<00:00,  5.22it/s]\n",
      "                 Class     Images  Instances      Box(P          R      mAP50  mAP50-95): 100%|██████████| 4/4 [00:01<00:00,  3.06it/s]"
     ]
    },
    {
     "name": "stdout",
     "output_type": "stream",
     "text": [
      "                   all        251       1450      0.997      0.994      0.995       0.91\n"
     ]
    },
    {
     "name": "stderr",
     "output_type": "stream",
     "text": [
      "\n"
     ]
    },
    {
     "name": "stdout",
     "output_type": "stream",
     "text": [
      "\n",
      "      Epoch    GPU_mem   box_loss   cls_loss   dfl_loss  Instances       Size\n"
     ]
    },
    {
     "name": "stderr",
     "output_type": "stream",
     "text": [
      "     43/100      4.28G     0.8174     0.4598      1.128        131        608: 100%|██████████| 252/252 [00:47<00:00,  5.27it/s]\n",
      "                 Class     Images  Instances      Box(P          R      mAP50  mAP50-95): 100%|██████████| 4/4 [00:01<00:00,  2.72it/s]"
     ]
    },
    {
     "name": "stdout",
     "output_type": "stream",
     "text": [
      "                   all        251       1450      0.996      0.992      0.994      0.913\n"
     ]
    },
    {
     "name": "stderr",
     "output_type": "stream",
     "text": [
      "\n"
     ]
    },
    {
     "name": "stdout",
     "output_type": "stream",
     "text": [
      "\n",
      "      Epoch    GPU_mem   box_loss   cls_loss   dfl_loss  Instances       Size\n"
     ]
    },
    {
     "name": "stderr",
     "output_type": "stream",
     "text": [
      "     44/100       4.3G     0.8206     0.4606      1.123        116        608: 100%|██████████| 252/252 [00:49<00:00,  5.07it/s]\n",
      "                 Class     Images  Instances      Box(P          R      mAP50  mAP50-95): 100%|██████████| 4/4 [00:01<00:00,  3.03it/s]"
     ]
    },
    {
     "name": "stdout",
     "output_type": "stream",
     "text": [
      "                   all        251       1450      0.996      0.993      0.995      0.908\n"
     ]
    },
    {
     "name": "stderr",
     "output_type": "stream",
     "text": [
      "\n"
     ]
    },
    {
     "name": "stdout",
     "output_type": "stream",
     "text": [
      "\n",
      "      Epoch    GPU_mem   box_loss   cls_loss   dfl_loss  Instances       Size\n"
     ]
    },
    {
     "name": "stderr",
     "output_type": "stream",
     "text": [
      "     45/100       4.3G     0.8197     0.4587      1.123        128        608: 100%|██████████| 252/252 [00:50<00:00,  5.04it/s]\n",
      "                 Class     Images  Instances      Box(P          R      mAP50  mAP50-95): 100%|██████████| 4/4 [00:01<00:00,  2.95it/s]"
     ]
    },
    {
     "name": "stdout",
     "output_type": "stream",
     "text": [
      "                   all        251       1450      0.997      0.993      0.994      0.913\n"
     ]
    },
    {
     "name": "stderr",
     "output_type": "stream",
     "text": [
      "\n"
     ]
    },
    {
     "name": "stdout",
     "output_type": "stream",
     "text": [
      "\n",
      "      Epoch    GPU_mem   box_loss   cls_loss   dfl_loss  Instances       Size\n"
     ]
    },
    {
     "name": "stderr",
     "output_type": "stream",
     "text": [
      "     46/100      4.29G     0.8182     0.4549      1.122        156        608: 100%|██████████| 252/252 [00:48<00:00,  5.17it/s]\n",
      "                 Class     Images  Instances      Box(P          R      mAP50  mAP50-95): 100%|██████████| 4/4 [00:01<00:00,  3.01it/s]"
     ]
    },
    {
     "name": "stdout",
     "output_type": "stream",
     "text": [
      "                   all        251       1450      0.996      0.996      0.995      0.913\n"
     ]
    },
    {
     "name": "stderr",
     "output_type": "stream",
     "text": [
      "\n"
     ]
    },
    {
     "name": "stdout",
     "output_type": "stream",
     "text": [
      "\n",
      "      Epoch    GPU_mem   box_loss   cls_loss   dfl_loss  Instances       Size\n"
     ]
    },
    {
     "name": "stderr",
     "output_type": "stream",
     "text": [
      "     47/100      4.29G     0.8139     0.4549      1.123        165        608: 100%|██████████| 252/252 [00:48<00:00,  5.20it/s]\n",
      "                 Class     Images  Instances      Box(P          R      mAP50  mAP50-95): 100%|██████████| 4/4 [00:01<00:00,  3.02it/s]"
     ]
    },
    {
     "name": "stdout",
     "output_type": "stream",
     "text": [
      "                   all        251       1450      0.996      0.994      0.994       0.91\n"
     ]
    },
    {
     "name": "stderr",
     "output_type": "stream",
     "text": [
      "\n"
     ]
    },
    {
     "name": "stdout",
     "output_type": "stream",
     "text": [
      "\n",
      "      Epoch    GPU_mem   box_loss   cls_loss   dfl_loss  Instances       Size\n"
     ]
    },
    {
     "name": "stderr",
     "output_type": "stream",
     "text": [
      "     48/100      4.31G     0.8108     0.4542      1.117        146        608: 100%|██████████| 252/252 [00:48<00:00,  5.23it/s]\n",
      "                 Class     Images  Instances      Box(P          R      mAP50  mAP50-95): 100%|██████████| 4/4 [00:01<00:00,  3.00it/s]"
     ]
    },
    {
     "name": "stdout",
     "output_type": "stream",
     "text": [
      "                   all        251       1450      0.995      0.994      0.994      0.911\n"
     ]
    },
    {
     "name": "stderr",
     "output_type": "stream",
     "text": [
      "\n"
     ]
    },
    {
     "name": "stdout",
     "output_type": "stream",
     "text": [
      "\n",
      "      Epoch    GPU_mem   box_loss   cls_loss   dfl_loss  Instances       Size\n"
     ]
    },
    {
     "name": "stderr",
     "output_type": "stream",
     "text": [
      "     49/100      4.23G     0.8086     0.4523      1.117        141        608: 100%|██████████| 252/252 [00:48<00:00,  5.16it/s]\n",
      "                 Class     Images  Instances      Box(P          R      mAP50  mAP50-95): 100%|██████████| 4/4 [00:01<00:00,  2.97it/s]"
     ]
    },
    {
     "name": "stdout",
     "output_type": "stream",
     "text": [
      "                   all        251       1450      0.996      0.993      0.995      0.909\n"
     ]
    },
    {
     "name": "stderr",
     "output_type": "stream",
     "text": [
      "\n"
     ]
    },
    {
     "name": "stdout",
     "output_type": "stream",
     "text": [
      "\n",
      "      Epoch    GPU_mem   box_loss   cls_loss   dfl_loss  Instances       Size\n"
     ]
    },
    {
     "name": "stderr",
     "output_type": "stream",
     "text": [
      "     50/100      4.31G     0.8047     0.4503      1.118        132        608: 100%|██████████| 252/252 [00:48<00:00,  5.23it/s]\n",
      "                 Class     Images  Instances      Box(P          R      mAP50  mAP50-95): 100%|██████████| 4/4 [00:01<00:00,  2.64it/s]"
     ]
    },
    {
     "name": "stdout",
     "output_type": "stream",
     "text": [
      "                   all        251       1450      0.994      0.993      0.994      0.906\n"
     ]
    },
    {
     "name": "stderr",
     "output_type": "stream",
     "text": [
      "\n"
     ]
    },
    {
     "name": "stdout",
     "output_type": "stream",
     "text": [
      "\n",
      "      Epoch    GPU_mem   box_loss   cls_loss   dfl_loss  Instances       Size\n"
     ]
    },
    {
     "name": "stderr",
     "output_type": "stream",
     "text": [
      "     51/100      4.29G     0.7967     0.4447       1.11        115        608: 100%|██████████| 252/252 [00:48<00:00,  5.15it/s]\n",
      "                 Class     Images  Instances      Box(P          R      mAP50  mAP50-95): 100%|██████████| 4/4 [00:01<00:00,  3.03it/s]"
     ]
    },
    {
     "name": "stdout",
     "output_type": "stream",
     "text": [
      "                   all        251       1450      0.996      0.995      0.994      0.909\n"
     ]
    },
    {
     "name": "stderr",
     "output_type": "stream",
     "text": [
      "\n"
     ]
    },
    {
     "name": "stdout",
     "output_type": "stream",
     "text": [
      "\n",
      "      Epoch    GPU_mem   box_loss   cls_loss   dfl_loss  Instances       Size\n"
     ]
    },
    {
     "name": "stderr",
     "output_type": "stream",
     "text": [
      "     52/100      4.28G     0.7929     0.4441      1.107        151        608: 100%|██████████| 252/252 [00:49<00:00,  5.06it/s]\n",
      "                 Class     Images  Instances      Box(P          R      mAP50  mAP50-95): 100%|██████████| 4/4 [00:01<00:00,  3.03it/s]"
     ]
    },
    {
     "name": "stdout",
     "output_type": "stream",
     "text": [
      "                   all        251       1450      0.996      0.995      0.994      0.909\n"
     ]
    },
    {
     "name": "stderr",
     "output_type": "stream",
     "text": [
      "\n"
     ]
    },
    {
     "name": "stdout",
     "output_type": "stream",
     "text": [
      "\n",
      "      Epoch    GPU_mem   box_loss   cls_loss   dfl_loss  Instances       Size\n"
     ]
    },
    {
     "name": "stderr",
     "output_type": "stream",
     "text": [
      "     53/100      4.27G     0.7925     0.4428      1.109        154        608: 100%|██████████| 252/252 [00:48<00:00,  5.19it/s]\n",
      "                 Class     Images  Instances      Box(P          R      mAP50  mAP50-95): 100%|██████████| 4/4 [00:01<00:00,  3.05it/s]"
     ]
    },
    {
     "name": "stdout",
     "output_type": "stream",
     "text": [
      "                   all        251       1450      0.995      0.995      0.995      0.915\n"
     ]
    },
    {
     "name": "stderr",
     "output_type": "stream",
     "text": [
      "\n"
     ]
    },
    {
     "name": "stdout",
     "output_type": "stream",
     "text": [
      "\n",
      "      Epoch    GPU_mem   box_loss   cls_loss   dfl_loss  Instances       Size\n"
     ]
    },
    {
     "name": "stderr",
     "output_type": "stream",
     "text": [
      "     54/100       4.3G     0.7997     0.4448       1.11        105        608: 100%|██████████| 252/252 [00:48<00:00,  5.22it/s]\n",
      "                 Class     Images  Instances      Box(P          R      mAP50  mAP50-95): 100%|██████████| 4/4 [00:01<00:00,  3.05it/s]"
     ]
    },
    {
     "name": "stdout",
     "output_type": "stream",
     "text": [
      "                   all        251       1450      0.998      0.994      0.994      0.914\n"
     ]
    },
    {
     "name": "stderr",
     "output_type": "stream",
     "text": [
      "\n"
     ]
    },
    {
     "name": "stdout",
     "output_type": "stream",
     "text": [
      "\n",
      "      Epoch    GPU_mem   box_loss   cls_loss   dfl_loss  Instances       Size\n"
     ]
    },
    {
     "name": "stderr",
     "output_type": "stream",
     "text": [
      "     55/100       4.3G     0.7903     0.4426      1.109        119        608: 100%|██████████| 252/252 [00:48<00:00,  5.19it/s]\n",
      "                 Class     Images  Instances      Box(P          R      mAP50  mAP50-95): 100%|██████████| 4/4 [00:01<00:00,  3.02it/s]"
     ]
    },
    {
     "name": "stdout",
     "output_type": "stream",
     "text": [
      "                   all        251       1450      0.998      0.993      0.994      0.915\n"
     ]
    },
    {
     "name": "stderr",
     "output_type": "stream",
     "text": [
      "\n"
     ]
    },
    {
     "name": "stdout",
     "output_type": "stream",
     "text": [
      "\n",
      "      Epoch    GPU_mem   box_loss   cls_loss   dfl_loss  Instances       Size\n"
     ]
    },
    {
     "name": "stderr",
     "output_type": "stream",
     "text": [
      "     56/100      4.29G      0.785     0.4365      1.104        121        608: 100%|██████████| 252/252 [00:48<00:00,  5.22it/s]\n",
      "                 Class     Images  Instances      Box(P          R      mAP50  mAP50-95): 100%|██████████| 4/4 [00:01<00:00,  3.04it/s]"
     ]
    },
    {
     "name": "stdout",
     "output_type": "stream",
     "text": [
      "                   all        251       1450      0.996      0.993      0.994      0.911\n"
     ]
    },
    {
     "name": "stderr",
     "output_type": "stream",
     "text": [
      "\n"
     ]
    },
    {
     "name": "stdout",
     "output_type": "stream",
     "text": [
      "\n",
      "      Epoch    GPU_mem   box_loss   cls_loss   dfl_loss  Instances       Size\n"
     ]
    },
    {
     "name": "stderr",
     "output_type": "stream",
     "text": [
      "     57/100      4.31G     0.7877     0.4372      1.106        120        608: 100%|██████████| 252/252 [00:48<00:00,  5.21it/s]\n",
      "                 Class     Images  Instances      Box(P          R      mAP50  mAP50-95): 100%|██████████| 4/4 [00:01<00:00,  3.03it/s]"
     ]
    },
    {
     "name": "stdout",
     "output_type": "stream",
     "text": [
      "                   all        251       1450      0.996      0.993      0.994      0.916\n"
     ]
    },
    {
     "name": "stderr",
     "output_type": "stream",
     "text": [
      "\n"
     ]
    },
    {
     "name": "stdout",
     "output_type": "stream",
     "text": [
      "\n",
      "      Epoch    GPU_mem   box_loss   cls_loss   dfl_loss  Instances       Size\n"
     ]
    },
    {
     "name": "stderr",
     "output_type": "stream",
     "text": [
      "     58/100      4.31G     0.7833     0.4354      1.103        136        608: 100%|██████████| 252/252 [00:48<00:00,  5.20it/s]\n",
      "                 Class     Images  Instances      Box(P          R      mAP50  mAP50-95): 100%|██████████| 4/4 [00:01<00:00,  3.01it/s]"
     ]
    },
    {
     "name": "stdout",
     "output_type": "stream",
     "text": [
      "                   all        251       1450      0.995      0.994      0.994      0.916\n"
     ]
    },
    {
     "name": "stderr",
     "output_type": "stream",
     "text": [
      "\n"
     ]
    },
    {
     "name": "stdout",
     "output_type": "stream",
     "text": [
      "\n",
      "      Epoch    GPU_mem   box_loss   cls_loss   dfl_loss  Instances       Size\n"
     ]
    },
    {
     "name": "stderr",
     "output_type": "stream",
     "text": [
      "     59/100       4.3G     0.7725     0.4294      1.094        160        608: 100%|██████████| 252/252 [00:48<00:00,  5.21it/s]\n",
      "                 Class     Images  Instances      Box(P          R      mAP50  mAP50-95): 100%|██████████| 4/4 [00:01<00:00,  3.05it/s]"
     ]
    },
    {
     "name": "stdout",
     "output_type": "stream",
     "text": [
      "                   all        251       1450      0.996      0.992      0.994      0.917\n"
     ]
    },
    {
     "name": "stderr",
     "output_type": "stream",
     "text": [
      "\n"
     ]
    },
    {
     "name": "stdout",
     "output_type": "stream",
     "text": [
      "\n",
      "      Epoch    GPU_mem   box_loss   cls_loss   dfl_loss  Instances       Size\n"
     ]
    },
    {
     "name": "stderr",
     "output_type": "stream",
     "text": [
      "     60/100      4.28G     0.7749     0.4313        1.1        132        608: 100%|██████████| 252/252 [00:48<00:00,  5.22it/s]\n",
      "                 Class     Images  Instances      Box(P          R      mAP50  mAP50-95): 100%|██████████| 4/4 [00:01<00:00,  3.04it/s]"
     ]
    },
    {
     "name": "stdout",
     "output_type": "stream",
     "text": [
      "                   all        251       1450      0.992      0.995      0.994      0.913\n"
     ]
    },
    {
     "name": "stderr",
     "output_type": "stream",
     "text": [
      "\n"
     ]
    },
    {
     "name": "stdout",
     "output_type": "stream",
     "text": [
      "\n",
      "      Epoch    GPU_mem   box_loss   cls_loss   dfl_loss  Instances       Size\n"
     ]
    },
    {
     "name": "stderr",
     "output_type": "stream",
     "text": [
      "     61/100       4.3G     0.7731     0.4288      1.092        129        608: 100%|██████████| 252/252 [00:48<00:00,  5.19it/s]\n",
      "                 Class     Images  Instances      Box(P          R      mAP50  mAP50-95): 100%|██████████| 4/4 [00:01<00:00,  3.03it/s]"
     ]
    },
    {
     "name": "stdout",
     "output_type": "stream",
     "text": [
      "                   all        251       1450      0.996      0.993      0.994      0.917\n"
     ]
    },
    {
     "name": "stderr",
     "output_type": "stream",
     "text": [
      "\n"
     ]
    },
    {
     "name": "stdout",
     "output_type": "stream",
     "text": [
      "\n",
      "      Epoch    GPU_mem   box_loss   cls_loss   dfl_loss  Instances       Size\n"
     ]
    },
    {
     "name": "stderr",
     "output_type": "stream",
     "text": [
      "     62/100      4.33G     0.7723     0.4279      1.094        153        608: 100%|██████████| 252/252 [00:48<00:00,  5.20it/s]\n",
      "                 Class     Images  Instances      Box(P          R      mAP50  mAP50-95): 100%|██████████| 4/4 [00:01<00:00,  3.00it/s]"
     ]
    },
    {
     "name": "stdout",
     "output_type": "stream",
     "text": [
      "                   all        251       1450      0.996      0.994      0.994      0.919\n"
     ]
    },
    {
     "name": "stderr",
     "output_type": "stream",
     "text": [
      "\n"
     ]
    },
    {
     "name": "stdout",
     "output_type": "stream",
     "text": [
      "\n",
      "      Epoch    GPU_mem   box_loss   cls_loss   dfl_loss  Instances       Size\n"
     ]
    },
    {
     "name": "stderr",
     "output_type": "stream",
     "text": [
      "     63/100      4.27G     0.7726     0.4262      1.094        126        608: 100%|██████████| 252/252 [00:48<00:00,  5.20it/s]\n",
      "                 Class     Images  Instances      Box(P          R      mAP50  mAP50-95): 100%|██████████| 4/4 [00:01<00:00,  3.01it/s]"
     ]
    },
    {
     "name": "stdout",
     "output_type": "stream",
     "text": [
      "                   all        251       1450      0.994      0.994      0.994      0.917\n"
     ]
    },
    {
     "name": "stderr",
     "output_type": "stream",
     "text": [
      "\n"
     ]
    },
    {
     "name": "stdout",
     "output_type": "stream",
     "text": [
      "\n",
      "      Epoch    GPU_mem   box_loss   cls_loss   dfl_loss  Instances       Size\n"
     ]
    },
    {
     "name": "stderr",
     "output_type": "stream",
     "text": [
      "     64/100      4.23G     0.7633     0.4233       1.09        126        608: 100%|██████████| 252/252 [00:48<00:00,  5.22it/s]\n",
      "                 Class     Images  Instances      Box(P          R      mAP50  mAP50-95): 100%|██████████| 4/4 [00:01<00:00,  3.05it/s]"
     ]
    },
    {
     "name": "stdout",
     "output_type": "stream",
     "text": [
      "                   all        251       1450      0.998      0.994      0.994      0.918\n"
     ]
    },
    {
     "name": "stderr",
     "output_type": "stream",
     "text": [
      "\n"
     ]
    },
    {
     "name": "stdout",
     "output_type": "stream",
     "text": [
      "\n",
      "      Epoch    GPU_mem   box_loss   cls_loss   dfl_loss  Instances       Size\n"
     ]
    },
    {
     "name": "stderr",
     "output_type": "stream",
     "text": [
      "     65/100      4.31G     0.7618     0.4214      1.092        126        608: 100%|██████████| 252/252 [00:48<00:00,  5.21it/s]\n",
      "                 Class     Images  Instances      Box(P          R      mAP50  mAP50-95): 100%|██████████| 4/4 [00:01<00:00,  3.05it/s]"
     ]
    },
    {
     "name": "stdout",
     "output_type": "stream",
     "text": [
      "                   all        251       1450      0.997      0.994      0.994      0.919\n"
     ]
    },
    {
     "name": "stderr",
     "output_type": "stream",
     "text": [
      "\n"
     ]
    },
    {
     "name": "stdout",
     "output_type": "stream",
     "text": [
      "\n",
      "      Epoch    GPU_mem   box_loss   cls_loss   dfl_loss  Instances       Size\n"
     ]
    },
    {
     "name": "stderr",
     "output_type": "stream",
     "text": [
      "     66/100      4.27G       0.76     0.4205      1.089        128        608: 100%|██████████| 252/252 [00:48<00:00,  5.20it/s]\n",
      "                 Class     Images  Instances      Box(P          R      mAP50  mAP50-95): 100%|██████████| 4/4 [00:01<00:00,  3.10it/s]"
     ]
    },
    {
     "name": "stdout",
     "output_type": "stream",
     "text": [
      "                   all        251       1450      0.997      0.994      0.994      0.919\n"
     ]
    },
    {
     "name": "stderr",
     "output_type": "stream",
     "text": [
      "\n"
     ]
    },
    {
     "name": "stdout",
     "output_type": "stream",
     "text": [
      "\n",
      "      Epoch    GPU_mem   box_loss   cls_loss   dfl_loss  Instances       Size\n"
     ]
    },
    {
     "name": "stderr",
     "output_type": "stream",
     "text": [
      "     67/100      4.29G     0.7554     0.4181      1.085        133        608: 100%|██████████| 252/252 [00:46<00:00,  5.42it/s]\n",
      "                 Class     Images  Instances      Box(P          R      mAP50  mAP50-95): 100%|██████████| 4/4 [00:01<00:00,  3.10it/s]"
     ]
    },
    {
     "name": "stdout",
     "output_type": "stream",
     "text": [
      "                   all        251       1450      0.998      0.994      0.994      0.918\n"
     ]
    },
    {
     "name": "stderr",
     "output_type": "stream",
     "text": [
      "\n"
     ]
    },
    {
     "name": "stdout",
     "output_type": "stream",
     "text": [
      "\n",
      "      Epoch    GPU_mem   box_loss   cls_loss   dfl_loss  Instances       Size\n"
     ]
    },
    {
     "name": "stderr",
     "output_type": "stream",
     "text": [
      "     68/100      4.31G     0.7538     0.4195      1.087        101        608: 100%|██████████| 252/252 [00:46<00:00,  5.43it/s]\n",
      "                 Class     Images  Instances      Box(P          R      mAP50  mAP50-95): 100%|██████████| 4/4 [00:01<00:00,  3.11it/s]"
     ]
    },
    {
     "name": "stdout",
     "output_type": "stream",
     "text": [
      "                   all        251       1450      0.995      0.994      0.994      0.919\n"
     ]
    },
    {
     "name": "stderr",
     "output_type": "stream",
     "text": [
      "\n"
     ]
    },
    {
     "name": "stdout",
     "output_type": "stream",
     "text": [
      "\n",
      "      Epoch    GPU_mem   box_loss   cls_loss   dfl_loss  Instances       Size\n"
     ]
    },
    {
     "name": "stderr",
     "output_type": "stream",
     "text": [
      "     69/100      4.23G     0.7549     0.4189      1.087        105        608: 100%|██████████| 252/252 [00:46<00:00,  5.44it/s]\n",
      "                 Class     Images  Instances      Box(P          R      mAP50  mAP50-95): 100%|██████████| 4/4 [00:01<00:00,  3.08it/s]"
     ]
    },
    {
     "name": "stdout",
     "output_type": "stream",
     "text": [
      "                   all        251       1450      0.994      0.996      0.994      0.918\n"
     ]
    },
    {
     "name": "stderr",
     "output_type": "stream",
     "text": [
      "\n"
     ]
    },
    {
     "name": "stdout",
     "output_type": "stream",
     "text": [
      "\n",
      "      Epoch    GPU_mem   box_loss   cls_loss   dfl_loss  Instances       Size\n"
     ]
    },
    {
     "name": "stderr",
     "output_type": "stream",
     "text": [
      "     70/100      4.27G     0.7477     0.4143      1.083        100        608: 100%|██████████| 252/252 [00:47<00:00,  5.26it/s]\n",
      "                 Class     Images  Instances      Box(P          R      mAP50  mAP50-95): 100%|██████████| 4/4 [00:01<00:00,  3.04it/s]"
     ]
    },
    {
     "name": "stdout",
     "output_type": "stream",
     "text": [
      "                   all        251       1450      0.994      0.996      0.994      0.918\n"
     ]
    },
    {
     "name": "stderr",
     "output_type": "stream",
     "text": [
      "\n"
     ]
    },
    {
     "name": "stdout",
     "output_type": "stream",
     "text": [
      "\n",
      "      Epoch    GPU_mem   box_loss   cls_loss   dfl_loss  Instances       Size\n"
     ]
    },
    {
     "name": "stderr",
     "output_type": "stream",
     "text": [
      "     71/100      4.31G     0.7449     0.4136      1.081        140        608: 100%|██████████| 252/252 [00:47<00:00,  5.36it/s]\n",
      "                 Class     Images  Instances      Box(P          R      mAP50  mAP50-95): 100%|██████████| 4/4 [00:01<00:00,  3.11it/s]"
     ]
    },
    {
     "name": "stdout",
     "output_type": "stream",
     "text": [
      "                   all        251       1450      0.995      0.994      0.994      0.919\n"
     ]
    },
    {
     "name": "stderr",
     "output_type": "stream",
     "text": [
      "\n"
     ]
    },
    {
     "name": "stdout",
     "output_type": "stream",
     "text": [
      "\n",
      "      Epoch    GPU_mem   box_loss   cls_loss   dfl_loss  Instances       Size\n"
     ]
    },
    {
     "name": "stderr",
     "output_type": "stream",
     "text": [
      "     72/100      4.31G     0.7425     0.4121      1.078        202        608: 100%|██████████| 252/252 [00:46<00:00,  5.43it/s]\n",
      "                 Class     Images  Instances      Box(P          R      mAP50  mAP50-95): 100%|██████████| 4/4 [00:01<00:00,  3.14it/s]"
     ]
    },
    {
     "name": "stdout",
     "output_type": "stream",
     "text": [
      "                   all        251       1450      0.998      0.992      0.994      0.918\n"
     ]
    },
    {
     "name": "stderr",
     "output_type": "stream",
     "text": [
      "\n"
     ]
    },
    {
     "name": "stdout",
     "output_type": "stream",
     "text": [
      "\n",
      "      Epoch    GPU_mem   box_loss   cls_loss   dfl_loss  Instances       Size\n"
     ]
    },
    {
     "name": "stderr",
     "output_type": "stream",
     "text": [
      "     73/100       4.3G     0.7371     0.4088      1.075        132        608: 100%|██████████| 252/252 [00:47<00:00,  5.34it/s]\n",
      "                 Class     Images  Instances      Box(P          R      mAP50  mAP50-95): 100%|██████████| 4/4 [00:01<00:00,  3.11it/s]"
     ]
    },
    {
     "name": "stdout",
     "output_type": "stream",
     "text": [
      "                   all        251       1450      0.997      0.994      0.994      0.921\n"
     ]
    },
    {
     "name": "stderr",
     "output_type": "stream",
     "text": [
      "\n"
     ]
    },
    {
     "name": "stdout",
     "output_type": "stream",
     "text": [
      "\n",
      "      Epoch    GPU_mem   box_loss   cls_loss   dfl_loss  Instances       Size\n"
     ]
    },
    {
     "name": "stderr",
     "output_type": "stream",
     "text": [
      "     74/100      4.28G     0.7331     0.4066      1.075        104        608: 100%|██████████| 252/252 [00:46<00:00,  5.44it/s]\n",
      "                 Class     Images  Instances      Box(P          R      mAP50  mAP50-95): 100%|██████████| 4/4 [00:01<00:00,  3.14it/s]"
     ]
    },
    {
     "name": "stdout",
     "output_type": "stream",
     "text": [
      "                   all        251       1450      0.996      0.996      0.994       0.92\n"
     ]
    },
    {
     "name": "stderr",
     "output_type": "stream",
     "text": [
      "\n"
     ]
    },
    {
     "name": "stdout",
     "output_type": "stream",
     "text": [
      "\n",
      "      Epoch    GPU_mem   box_loss   cls_loss   dfl_loss  Instances       Size\n"
     ]
    },
    {
     "name": "stderr",
     "output_type": "stream",
     "text": [
      "     75/100      4.28G      0.735     0.4049      1.074        130        608: 100%|██████████| 252/252 [00:46<00:00,  5.42it/s]\n",
      "                 Class     Images  Instances      Box(P          R      mAP50  mAP50-95): 100%|██████████| 4/4 [00:01<00:00,  3.14it/s]"
     ]
    },
    {
     "name": "stdout",
     "output_type": "stream",
     "text": [
      "                   all        251       1450      0.996      0.996      0.995      0.918\n"
     ]
    },
    {
     "name": "stderr",
     "output_type": "stream",
     "text": [
      "\n"
     ]
    },
    {
     "name": "stdout",
     "output_type": "stream",
     "text": [
      "\n",
      "      Epoch    GPU_mem   box_loss   cls_loss   dfl_loss  Instances       Size\n"
     ]
    },
    {
     "name": "stderr",
     "output_type": "stream",
     "text": [
      "     76/100       4.3G     0.7352     0.4053      1.073        126        608: 100%|██████████| 252/252 [00:46<00:00,  5.42it/s]\n",
      "                 Class     Images  Instances      Box(P          R      mAP50  mAP50-95): 100%|██████████| 4/4 [00:01<00:00,  3.12it/s]"
     ]
    },
    {
     "name": "stdout",
     "output_type": "stream",
     "text": [
      "                   all        251       1450      0.995      0.996      0.995      0.919\n"
     ]
    },
    {
     "name": "stderr",
     "output_type": "stream",
     "text": [
      "\n"
     ]
    },
    {
     "name": "stdout",
     "output_type": "stream",
     "text": [
      "\n",
      "      Epoch    GPU_mem   box_loss   cls_loss   dfl_loss  Instances       Size\n"
     ]
    },
    {
     "name": "stderr",
     "output_type": "stream",
     "text": [
      "     77/100      4.29G     0.7274     0.4034      1.067        155        608: 100%|██████████| 252/252 [00:48<00:00,  5.23it/s]\n",
      "                 Class     Images  Instances      Box(P          R      mAP50  mAP50-95): 100%|██████████| 4/4 [00:01<00:00,  3.08it/s]"
     ]
    },
    {
     "name": "stdout",
     "output_type": "stream",
     "text": [
      "                   all        251       1450      0.995      0.996      0.995      0.919\n"
     ]
    },
    {
     "name": "stderr",
     "output_type": "stream",
     "text": [
      "\n"
     ]
    },
    {
     "name": "stdout",
     "output_type": "stream",
     "text": [
      "\n",
      "      Epoch    GPU_mem   box_loss   cls_loss   dfl_loss  Instances       Size\n"
     ]
    },
    {
     "name": "stderr",
     "output_type": "stream",
     "text": [
      "     78/100      4.29G      0.726     0.4043      1.066        122        608: 100%|██████████| 252/252 [00:47<00:00,  5.36it/s]\n",
      "                 Class     Images  Instances      Box(P          R      mAP50  mAP50-95): 100%|██████████| 4/4 [00:01<00:00,  3.11it/s]"
     ]
    },
    {
     "name": "stdout",
     "output_type": "stream",
     "text": [
      "                   all        251       1450      0.996      0.995      0.994      0.919\n"
     ]
    },
    {
     "name": "stderr",
     "output_type": "stream",
     "text": [
      "\n"
     ]
    },
    {
     "name": "stdout",
     "output_type": "stream",
     "text": [
      "\n",
      "      Epoch    GPU_mem   box_loss   cls_loss   dfl_loss  Instances       Size\n"
     ]
    },
    {
     "name": "stderr",
     "output_type": "stream",
     "text": [
      "     79/100      4.32G     0.7249        0.4      1.067        122        608: 100%|██████████| 252/252 [00:47<00:00,  5.26it/s]\n",
      "                 Class     Images  Instances      Box(P          R      mAP50  mAP50-95): 100%|██████████| 4/4 [00:01<00:00,  3.08it/s]"
     ]
    },
    {
     "name": "stdout",
     "output_type": "stream",
     "text": [
      "                   all        251       1450      0.995      0.996      0.994      0.919\n"
     ]
    },
    {
     "name": "stderr",
     "output_type": "stream",
     "text": [
      "\n"
     ]
    },
    {
     "name": "stdout",
     "output_type": "stream",
     "text": [
      "\n",
      "      Epoch    GPU_mem   box_loss   cls_loss   dfl_loss  Instances       Size\n"
     ]
    },
    {
     "name": "stderr",
     "output_type": "stream",
     "text": [
      "     80/100      4.28G     0.7183     0.3974      1.067        151        608: 100%|██████████| 252/252 [00:46<00:00,  5.38it/s]\n",
      "                 Class     Images  Instances      Box(P          R      mAP50  mAP50-95): 100%|██████████| 4/4 [00:01<00:00,  3.11it/s]"
     ]
    },
    {
     "name": "stdout",
     "output_type": "stream",
     "text": [
      "                   all        251       1450      0.996      0.995      0.994      0.918\n"
     ]
    },
    {
     "name": "stderr",
     "output_type": "stream",
     "text": [
      "\n"
     ]
    },
    {
     "name": "stdout",
     "output_type": "stream",
     "text": [
      "\n",
      "      Epoch    GPU_mem   box_loss   cls_loss   dfl_loss  Instances       Size\n"
     ]
    },
    {
     "name": "stderr",
     "output_type": "stream",
     "text": [
      "     81/100      4.31G     0.7144     0.3972      1.062        149        608: 100%|██████████| 252/252 [00:46<00:00,  5.42it/s]\n",
      "                 Class     Images  Instances      Box(P          R      mAP50  mAP50-95): 100%|██████████| 4/4 [00:01<00:00,  3.12it/s]"
     ]
    },
    {
     "name": "stdout",
     "output_type": "stream",
     "text": [
      "                   all        251       1450      0.994      0.996      0.994       0.92\n"
     ]
    },
    {
     "name": "stderr",
     "output_type": "stream",
     "text": [
      "\n"
     ]
    },
    {
     "name": "stdout",
     "output_type": "stream",
     "text": [
      "\n",
      "      Epoch    GPU_mem   box_loss   cls_loss   dfl_loss  Instances       Size\n"
     ]
    },
    {
     "name": "stderr",
     "output_type": "stream",
     "text": [
      "     82/100       4.3G     0.7088      0.393      1.061        140        608: 100%|██████████| 252/252 [00:46<00:00,  5.42it/s]\n",
      "                 Class     Images  Instances      Box(P          R      mAP50  mAP50-95): 100%|██████████| 4/4 [00:01<00:00,  3.12it/s]"
     ]
    },
    {
     "name": "stdout",
     "output_type": "stream",
     "text": [
      "                   all        251       1450      0.994      0.996      0.994       0.92\n"
     ]
    },
    {
     "name": "stderr",
     "output_type": "stream",
     "text": [
      "\n"
     ]
    },
    {
     "name": "stdout",
     "output_type": "stream",
     "text": [
      "\n",
      "      Epoch    GPU_mem   box_loss   cls_loss   dfl_loss  Instances       Size\n"
     ]
    },
    {
     "name": "stderr",
     "output_type": "stream",
     "text": [
      "     83/100       4.3G      0.712     0.3951      1.062        112        608: 100%|██████████| 252/252 [00:46<00:00,  5.43it/s]\n",
      "                 Class     Images  Instances      Box(P          R      mAP50  mAP50-95): 100%|██████████| 4/4 [00:01<00:00,  3.08it/s]"
     ]
    },
    {
     "name": "stdout",
     "output_type": "stream",
     "text": [
      "                   all        251       1450      0.995      0.995      0.994      0.921\n"
     ]
    },
    {
     "name": "stderr",
     "output_type": "stream",
     "text": [
      "\n"
     ]
    },
    {
     "name": "stdout",
     "output_type": "stream",
     "text": [
      "\n",
      "      Epoch    GPU_mem   box_loss   cls_loss   dfl_loss  Instances       Size\n"
     ]
    },
    {
     "name": "stderr",
     "output_type": "stream",
     "text": [
      "     84/100       4.3G     0.7128     0.3956      1.062        127        608: 100%|██████████| 252/252 [00:46<00:00,  5.42it/s]\n",
      "                 Class     Images  Instances      Box(P          R      mAP50  mAP50-95): 100%|██████████| 4/4 [00:01<00:00,  3.11it/s]"
     ]
    },
    {
     "name": "stdout",
     "output_type": "stream",
     "text": [
      "                   all        251       1450      0.995      0.996      0.994      0.921\n"
     ]
    },
    {
     "name": "stderr",
     "output_type": "stream",
     "text": [
      "\n"
     ]
    },
    {
     "name": "stdout",
     "output_type": "stream",
     "text": [
      "\n",
      "      Epoch    GPU_mem   box_loss   cls_loss   dfl_loss  Instances       Size\n"
     ]
    },
    {
     "name": "stderr",
     "output_type": "stream",
     "text": [
      "     85/100      4.28G     0.7067     0.3925      1.054        114        608: 100%|██████████| 252/252 [00:46<00:00,  5.43it/s]\n",
      "                 Class     Images  Instances      Box(P          R      mAP50  mAP50-95): 100%|██████████| 4/4 [00:01<00:00,  3.09it/s]"
     ]
    },
    {
     "name": "stdout",
     "output_type": "stream",
     "text": [
      "                   all        251       1450      0.995      0.996      0.994      0.921\n"
     ]
    },
    {
     "name": "stderr",
     "output_type": "stream",
     "text": [
      "\n"
     ]
    },
    {
     "name": "stdout",
     "output_type": "stream",
     "text": [
      "\n",
      "      Epoch    GPU_mem   box_loss   cls_loss   dfl_loss  Instances       Size\n"
     ]
    },
    {
     "name": "stderr",
     "output_type": "stream",
     "text": [
      "     86/100      4.28G     0.7018     0.3886      1.056        134        608: 100%|██████████| 252/252 [00:46<00:00,  5.42it/s]\n",
      "                 Class     Images  Instances      Box(P          R      mAP50  mAP50-95): 100%|██████████| 4/4 [00:01<00:00,  3.11it/s]"
     ]
    },
    {
     "name": "stdout",
     "output_type": "stream",
     "text": [
      "                   all        251       1450      0.995      0.996      0.994      0.921\n"
     ]
    },
    {
     "name": "stderr",
     "output_type": "stream",
     "text": [
      "\n"
     ]
    },
    {
     "name": "stdout",
     "output_type": "stream",
     "text": [
      "\n",
      "      Epoch    GPU_mem   box_loss   cls_loss   dfl_loss  Instances       Size\n"
     ]
    },
    {
     "name": "stderr",
     "output_type": "stream",
     "text": [
      "     87/100      4.29G     0.6992     0.3876      1.054        124        608: 100%|██████████| 252/252 [00:46<00:00,  5.41it/s]\n",
      "                 Class     Images  Instances      Box(P          R      mAP50  mAP50-95): 100%|██████████| 4/4 [00:01<00:00,  3.13it/s]"
     ]
    },
    {
     "name": "stdout",
     "output_type": "stream",
     "text": [
      "                   all        251       1450      0.995      0.995      0.994       0.92\n"
     ]
    },
    {
     "name": "stderr",
     "output_type": "stream",
     "text": [
      "\n"
     ]
    },
    {
     "name": "stdout",
     "output_type": "stream",
     "text": [
      "\n",
      "      Epoch    GPU_mem   box_loss   cls_loss   dfl_loss  Instances       Size\n"
     ]
    },
    {
     "name": "stderr",
     "output_type": "stream",
     "text": [
      "     88/100      4.23G     0.6977      0.387      1.052         94        608: 100%|██████████| 252/252 [00:46<00:00,  5.42it/s]\n",
      "                 Class     Images  Instances      Box(P          R      mAP50  mAP50-95): 100%|██████████| 4/4 [00:01<00:00,  3.11it/s]"
     ]
    },
    {
     "name": "stdout",
     "output_type": "stream",
     "text": [
      "                   all        251       1450      0.994      0.996      0.994       0.92\n"
     ]
    },
    {
     "name": "stderr",
     "output_type": "stream",
     "text": [
      "\n"
     ]
    },
    {
     "name": "stdout",
     "output_type": "stream",
     "text": [
      "\n",
      "      Epoch    GPU_mem   box_loss   cls_loss   dfl_loss  Instances       Size\n"
     ]
    },
    {
     "name": "stderr",
     "output_type": "stream",
     "text": [
      "     89/100      4.29G     0.6948     0.3857      1.051        101        608: 100%|██████████| 252/252 [00:47<00:00,  5.26it/s]\n",
      "                 Class     Images  Instances      Box(P          R      mAP50  mAP50-95): 100%|██████████| 4/4 [00:01<00:00,  3.13it/s]"
     ]
    },
    {
     "name": "stdout",
     "output_type": "stream",
     "text": [
      "                   all        251       1450      0.994      0.996      0.994       0.92\n"
     ]
    },
    {
     "name": "stderr",
     "output_type": "stream",
     "text": [
      "\n"
     ]
    },
    {
     "name": "stdout",
     "output_type": "stream",
     "text": [
      "\n",
      "      Epoch    GPU_mem   box_loss   cls_loss   dfl_loss  Instances       Size\n"
     ]
    },
    {
     "name": "stderr",
     "output_type": "stream",
     "text": [
      "     90/100       4.3G     0.6909     0.3814      1.047        128        608: 100%|██████████| 252/252 [00:46<00:00,  5.42it/s]\n",
      "                 Class     Images  Instances      Box(P          R      mAP50  mAP50-95): 100%|██████████| 4/4 [00:01<00:00,  3.07it/s]"
     ]
    },
    {
     "name": "stdout",
     "output_type": "stream",
     "text": [
      "                   all        251       1450      0.995      0.996      0.994      0.921\n"
     ]
    },
    {
     "name": "stderr",
     "output_type": "stream",
     "text": [
      "\n"
     ]
    },
    {
     "name": "stdout",
     "output_type": "stream",
     "text": [
      "Closing dataloader mosaic\n",
      "\n",
      "      Epoch    GPU_mem   box_loss   cls_loss   dfl_loss  Instances       Size\n"
     ]
    },
    {
     "name": "stderr",
     "output_type": "stream",
     "text": [
      "     91/100      4.22G     0.6503     0.3123       1.01         69        608: 100%|██████████| 252/252 [00:45<00:00,  5.53it/s]\n",
      "                 Class     Images  Instances      Box(P          R      mAP50  mAP50-95): 100%|██████████| 4/4 [00:01<00:00,  3.15it/s]"
     ]
    },
    {
     "name": "stdout",
     "output_type": "stream",
     "text": [
      "                   all        251       1450      0.996      0.994      0.994      0.921\n"
     ]
    },
    {
     "name": "stderr",
     "output_type": "stream",
     "text": [
      "\n"
     ]
    },
    {
     "name": "stdout",
     "output_type": "stream",
     "text": [
      "\n",
      "      Epoch    GPU_mem   box_loss   cls_loss   dfl_loss  Instances       Size\n"
     ]
    },
    {
     "name": "stderr",
     "output_type": "stream",
     "text": [
      "     92/100      4.22G     0.6297     0.3012     0.9999         79        608: 100%|██████████| 252/252 [00:45<00:00,  5.55it/s]\n",
      "                 Class     Images  Instances      Box(P          R      mAP50  mAP50-95): 100%|██████████| 4/4 [00:01<00:00,  3.11it/s]"
     ]
    },
    {
     "name": "stdout",
     "output_type": "stream",
     "text": [
      "                   all        251       1450      0.995      0.995      0.994      0.921\n"
     ]
    },
    {
     "name": "stderr",
     "output_type": "stream",
     "text": [
      "\n"
     ]
    },
    {
     "name": "stdout",
     "output_type": "stream",
     "text": [
      "\n",
      "      Epoch    GPU_mem   box_loss   cls_loss   dfl_loss  Instances       Size\n"
     ]
    },
    {
     "name": "stderr",
     "output_type": "stream",
     "text": [
      "     93/100      4.23G     0.6218     0.2983     0.9944         71        608: 100%|██████████| 252/252 [00:45<00:00,  5.55it/s]\n",
      "                 Class     Images  Instances      Box(P          R      mAP50  mAP50-95): 100%|██████████| 4/4 [00:01<00:00,  3.10it/s]"
     ]
    },
    {
     "name": "stdout",
     "output_type": "stream",
     "text": [
      "                   all        251       1450      0.995      0.996      0.994       0.92\n"
     ]
    },
    {
     "name": "stderr",
     "output_type": "stream",
     "text": [
      "\n"
     ]
    },
    {
     "name": "stdout",
     "output_type": "stream",
     "text": [
      "\n",
      "      Epoch    GPU_mem   box_loss   cls_loss   dfl_loss  Instances       Size\n"
     ]
    },
    {
     "name": "stderr",
     "output_type": "stream",
     "text": [
      "     94/100      4.22G     0.6176     0.2967     0.9918         70        608: 100%|██████████| 252/252 [00:45<00:00,  5.55it/s]\n",
      "                 Class     Images  Instances      Box(P          R      mAP50  mAP50-95): 100%|██████████| 4/4 [00:01<00:00,  3.13it/s]"
     ]
    },
    {
     "name": "stdout",
     "output_type": "stream",
     "text": [
      "                   all        251       1450      0.994      0.996      0.995      0.921\n"
     ]
    },
    {
     "name": "stderr",
     "output_type": "stream",
     "text": [
      "\n"
     ]
    },
    {
     "name": "stdout",
     "output_type": "stream",
     "text": [
      "\n",
      "      Epoch    GPU_mem   box_loss   cls_loss   dfl_loss  Instances       Size\n"
     ]
    },
    {
     "name": "stderr",
     "output_type": "stream",
     "text": [
      "     95/100      4.19G     0.6096     0.2944     0.9868         68        608: 100%|██████████| 252/252 [00:45<00:00,  5.55it/s]\n",
      "                 Class     Images  Instances      Box(P          R      mAP50  mAP50-95): 100%|██████████| 4/4 [00:01<00:00,  3.13it/s]"
     ]
    },
    {
     "name": "stdout",
     "output_type": "stream",
     "text": [
      "                   all        251       1450      0.994      0.995      0.994      0.922\n"
     ]
    },
    {
     "name": "stderr",
     "output_type": "stream",
     "text": [
      "\n"
     ]
    },
    {
     "name": "stdout",
     "output_type": "stream",
     "text": [
      "\n",
      "      Epoch    GPU_mem   box_loss   cls_loss   dfl_loss  Instances       Size\n"
     ]
    },
    {
     "name": "stderr",
     "output_type": "stream",
     "text": [
      "     96/100      4.22G     0.6076     0.2915     0.9849         65        608: 100%|██████████| 252/252 [00:45<00:00,  5.55it/s]\n",
      "                 Class     Images  Instances      Box(P          R      mAP50  mAP50-95): 100%|██████████| 4/4 [00:01<00:00,  3.09it/s]"
     ]
    },
    {
     "name": "stdout",
     "output_type": "stream",
     "text": [
      "                   all        251       1450      0.994      0.995      0.995      0.924\n"
     ]
    },
    {
     "name": "stderr",
     "output_type": "stream",
     "text": [
      "\n"
     ]
    },
    {
     "name": "stdout",
     "output_type": "stream",
     "text": [
      "\n",
      "      Epoch    GPU_mem   box_loss   cls_loss   dfl_loss  Instances       Size\n"
     ]
    },
    {
     "name": "stderr",
     "output_type": "stream",
     "text": [
      "     97/100      4.22G     0.6082     0.2911     0.9885         67        608: 100%|██████████| 252/252 [00:45<00:00,  5.54it/s]\n",
      "                 Class     Images  Instances      Box(P          R      mAP50  mAP50-95): 100%|██████████| 4/4 [00:01<00:00,  3.10it/s]"
     ]
    },
    {
     "name": "stdout",
     "output_type": "stream",
     "text": [
      "                   all        251       1450      0.993      0.996      0.995      0.923\n"
     ]
    },
    {
     "name": "stderr",
     "output_type": "stream",
     "text": [
      "\n"
     ]
    },
    {
     "name": "stdout",
     "output_type": "stream",
     "text": [
      "\n",
      "      Epoch    GPU_mem   box_loss   cls_loss   dfl_loss  Instances       Size\n"
     ]
    },
    {
     "name": "stderr",
     "output_type": "stream",
     "text": [
      "     98/100      4.23G     0.5966     0.2873     0.9821         71        608: 100%|██████████| 252/252 [00:45<00:00,  5.55it/s]\n",
      "                 Class     Images  Instances      Box(P          R      mAP50  mAP50-95): 100%|██████████| 4/4 [00:01<00:00,  3.11it/s]"
     ]
    },
    {
     "name": "stdout",
     "output_type": "stream",
     "text": [
      "                   all        251       1450      0.993      0.996      0.995      0.924\n"
     ]
    },
    {
     "name": "stderr",
     "output_type": "stream",
     "text": [
      "\n"
     ]
    },
    {
     "name": "stdout",
     "output_type": "stream",
     "text": [
      "\n",
      "      Epoch    GPU_mem   box_loss   cls_loss   dfl_loss  Instances       Size\n"
     ]
    },
    {
     "name": "stderr",
     "output_type": "stream",
     "text": [
      "     99/100      4.22G     0.5933     0.2863     0.9819         67        608: 100%|██████████| 252/252 [00:45<00:00,  5.56it/s]\n",
      "                 Class     Images  Instances      Box(P          R      mAP50  mAP50-95): 100%|██████████| 4/4 [00:01<00:00,  3.14it/s]"
     ]
    },
    {
     "name": "stdout",
     "output_type": "stream",
     "text": [
      "                   all        251       1450      0.993      0.996      0.994      0.924\n"
     ]
    },
    {
     "name": "stderr",
     "output_type": "stream",
     "text": [
      "\n"
     ]
    },
    {
     "name": "stdout",
     "output_type": "stream",
     "text": [
      "\n",
      "      Epoch    GPU_mem   box_loss   cls_loss   dfl_loss  Instances       Size\n"
     ]
    },
    {
     "name": "stderr",
     "output_type": "stream",
     "text": [
      "    100/100      4.22G     0.5951      0.286     0.9806         65        608: 100%|██████████| 252/252 [00:45<00:00,  5.54it/s]\n",
      "                 Class     Images  Instances      Box(P          R      mAP50  mAP50-95): 100%|██████████| 4/4 [00:01<00:00,  3.10it/s]"
     ]
    },
    {
     "name": "stdout",
     "output_type": "stream",
     "text": [
      "                   all        251       1450      0.994      0.996      0.994      0.924\n"
     ]
    },
    {
     "name": "stderr",
     "output_type": "stream",
     "text": [
      "\n"
     ]
    },
    {
     "name": "stdout",
     "output_type": "stream",
     "text": [
      "\n",
      "100 epochs completed in 1.366 hours.\n",
      "Optimizer stripped from runs\\detect\\yolov8_character_segmentation2\\weights\\last.pt, 6.3MB\n",
      "Optimizer stripped from runs\\detect\\yolov8_character_segmentation2\\weights\\best.pt, 6.3MB\n",
      "\n",
      "Validating runs\\detect\\yolov8_character_segmentation2\\weights\\best.pt...\n",
      "Ultralytics YOLOv8.2.66  Python-3.11.8 torch-2.1.0+cu118 CUDA:0 (NVIDIA GeForce RTX 2070, 8192MiB)\n",
      "Model summary (fused): 168 layers, 3,005,843 parameters, 0 gradients, 8.1 GFLOPs\n"
     ]
    },
    {
     "name": "stderr",
     "output_type": "stream",
     "text": [
      "                 Class     Images  Instances      Box(P          R      mAP50  mAP50-95): 100%|██████████| 4/4 [00:02<00:00,  1.62it/s]\n"
     ]
    },
    {
     "name": "stdout",
     "output_type": "stream",
     "text": [
      "                   all        251       1450      0.993      0.996      0.995      0.924\n",
      "Speed: 0.2ms preprocess, 1.5ms inference, 0.0ms loss, 1.2ms postprocess per image\n",
      "Results saved to \u001b[1mruns\\detect\\yolov8_character_segmentation2\u001b[0m\n"
     ]
    },
    {
     "data": {
      "text/plain": [
       "ultralytics.utils.metrics.DetMetrics object with attributes:\n",
       "\n",
       "ap_class_index: array([0])\n",
       "box: ultralytics.utils.metrics.Metric object\n",
       "confusion_matrix: <ultralytics.utils.metrics.ConfusionMatrix object at 0x0000019AD19323D0>\n",
       "curves: ['Precision-Recall(B)', 'F1-Confidence(B)', 'Precision-Confidence(B)', 'Recall-Confidence(B)']\n",
       "curves_results: [[array([          0,    0.001001,    0.002002,    0.003003,    0.004004,    0.005005,    0.006006,    0.007007,    0.008008,    0.009009,     0.01001,    0.011011,    0.012012,    0.013013,    0.014014,    0.015015,    0.016016,    0.017017,    0.018018,    0.019019,     0.02002,    0.021021,    0.022022,    0.023023,\n",
       "          0.024024,    0.025025,    0.026026,    0.027027,    0.028028,    0.029029,     0.03003,    0.031031,    0.032032,    0.033033,    0.034034,    0.035035,    0.036036,    0.037037,    0.038038,    0.039039,     0.04004,    0.041041,    0.042042,    0.043043,    0.044044,    0.045045,    0.046046,    0.047047,\n",
       "          0.048048,    0.049049,     0.05005,    0.051051,    0.052052,    0.053053,    0.054054,    0.055055,    0.056056,    0.057057,    0.058058,    0.059059,     0.06006,    0.061061,    0.062062,    0.063063,    0.064064,    0.065065,    0.066066,    0.067067,    0.068068,    0.069069,     0.07007,    0.071071,\n",
       "          0.072072,    0.073073,    0.074074,    0.075075,    0.076076,    0.077077,    0.078078,    0.079079,     0.08008,    0.081081,    0.082082,    0.083083,    0.084084,    0.085085,    0.086086,    0.087087,    0.088088,    0.089089,     0.09009,    0.091091,    0.092092,    0.093093,    0.094094,    0.095095,\n",
       "          0.096096,    0.097097,    0.098098,    0.099099,      0.1001,      0.1011,      0.1021,      0.1031,      0.1041,     0.10511,     0.10611,     0.10711,     0.10811,     0.10911,     0.11011,     0.11111,     0.11211,     0.11311,     0.11411,     0.11512,     0.11612,     0.11712,     0.11812,     0.11912,\n",
       "           0.12012,     0.12112,     0.12212,     0.12312,     0.12412,     0.12513,     0.12613,     0.12713,     0.12813,     0.12913,     0.13013,     0.13113,     0.13213,     0.13313,     0.13413,     0.13514,     0.13614,     0.13714,     0.13814,     0.13914,     0.14014,     0.14114,     0.14214,     0.14314,\n",
       "           0.14414,     0.14515,     0.14615,     0.14715,     0.14815,     0.14915,     0.15015,     0.15115,     0.15215,     0.15315,     0.15415,     0.15516,     0.15616,     0.15716,     0.15816,     0.15916,     0.16016,     0.16116,     0.16216,     0.16316,     0.16416,     0.16517,     0.16617,     0.16717,\n",
       "           0.16817,     0.16917,     0.17017,     0.17117,     0.17217,     0.17317,     0.17417,     0.17518,     0.17618,     0.17718,     0.17818,     0.17918,     0.18018,     0.18118,     0.18218,     0.18318,     0.18418,     0.18519,     0.18619,     0.18719,     0.18819,     0.18919,     0.19019,     0.19119,\n",
       "           0.19219,     0.19319,     0.19419,      0.1952,      0.1962,      0.1972,      0.1982,      0.1992,      0.2002,      0.2012,      0.2022,      0.2032,      0.2042,     0.20521,     0.20621,     0.20721,     0.20821,     0.20921,     0.21021,     0.21121,     0.21221,     0.21321,     0.21421,     0.21522,\n",
       "           0.21622,     0.21722,     0.21822,     0.21922,     0.22022,     0.22122,     0.22222,     0.22322,     0.22422,     0.22523,     0.22623,     0.22723,     0.22823,     0.22923,     0.23023,     0.23123,     0.23223,     0.23323,     0.23423,     0.23524,     0.23624,     0.23724,     0.23824,     0.23924,\n",
       "           0.24024,     0.24124,     0.24224,     0.24324,     0.24424,     0.24525,     0.24625,     0.24725,     0.24825,     0.24925,     0.25025,     0.25125,     0.25225,     0.25325,     0.25425,     0.25526,     0.25626,     0.25726,     0.25826,     0.25926,     0.26026,     0.26126,     0.26226,     0.26326,\n",
       "           0.26426,     0.26527,     0.26627,     0.26727,     0.26827,     0.26927,     0.27027,     0.27127,     0.27227,     0.27327,     0.27427,     0.27528,     0.27628,     0.27728,     0.27828,     0.27928,     0.28028,     0.28128,     0.28228,     0.28328,     0.28428,     0.28529,     0.28629,     0.28729,\n",
       "           0.28829,     0.28929,     0.29029,     0.29129,     0.29229,     0.29329,     0.29429,      0.2953,      0.2963,      0.2973,      0.2983,      0.2993,      0.3003,      0.3013,      0.3023,      0.3033,      0.3043,     0.30531,     0.30631,     0.30731,     0.30831,     0.30931,     0.31031,     0.31131,\n",
       "           0.31231,     0.31331,     0.31431,     0.31532,     0.31632,     0.31732,     0.31832,     0.31932,     0.32032,     0.32132,     0.32232,     0.32332,     0.32432,     0.32533,     0.32633,     0.32733,     0.32833,     0.32933,     0.33033,     0.33133,     0.33233,     0.33333,     0.33433,     0.33534,\n",
       "           0.33634,     0.33734,     0.33834,     0.33934,     0.34034,     0.34134,     0.34234,     0.34334,     0.34434,     0.34535,     0.34635,     0.34735,     0.34835,     0.34935,     0.35035,     0.35135,     0.35235,     0.35335,     0.35435,     0.35536,     0.35636,     0.35736,     0.35836,     0.35936,\n",
       "           0.36036,     0.36136,     0.36236,     0.36336,     0.36436,     0.36537,     0.36637,     0.36737,     0.36837,     0.36937,     0.37037,     0.37137,     0.37237,     0.37337,     0.37437,     0.37538,     0.37638,     0.37738,     0.37838,     0.37938,     0.38038,     0.38138,     0.38238,     0.38338,\n",
       "           0.38438,     0.38539,     0.38639,     0.38739,     0.38839,     0.38939,     0.39039,     0.39139,     0.39239,     0.39339,     0.39439,      0.3954,      0.3964,      0.3974,      0.3984,      0.3994,      0.4004,      0.4014,      0.4024,      0.4034,      0.4044,     0.40541,     0.40641,     0.40741,\n",
       "           0.40841,     0.40941,     0.41041,     0.41141,     0.41241,     0.41341,     0.41441,     0.41542,     0.41642,     0.41742,     0.41842,     0.41942,     0.42042,     0.42142,     0.42242,     0.42342,     0.42442,     0.42543,     0.42643,     0.42743,     0.42843,     0.42943,     0.43043,     0.43143,\n",
       "           0.43243,     0.43343,     0.43443,     0.43544,     0.43644,     0.43744,     0.43844,     0.43944,     0.44044,     0.44144,     0.44244,     0.44344,     0.44444,     0.44545,     0.44645,     0.44745,     0.44845,     0.44945,     0.45045,     0.45145,     0.45245,     0.45345,     0.45445,     0.45546,\n",
       "           0.45646,     0.45746,     0.45846,     0.45946,     0.46046,     0.46146,     0.46246,     0.46346,     0.46446,     0.46547,     0.46647,     0.46747,     0.46847,     0.46947,     0.47047,     0.47147,     0.47247,     0.47347,     0.47447,     0.47548,     0.47648,     0.47748,     0.47848,     0.47948,\n",
       "           0.48048,     0.48148,     0.48248,     0.48348,     0.48448,     0.48549,     0.48649,     0.48749,     0.48849,     0.48949,     0.49049,     0.49149,     0.49249,     0.49349,     0.49449,      0.4955,      0.4965,      0.4975,      0.4985,      0.4995,      0.5005,      0.5015,      0.5025,      0.5035,\n",
       "            0.5045,     0.50551,     0.50651,     0.50751,     0.50851,     0.50951,     0.51051,     0.51151,     0.51251,     0.51351,     0.51451,     0.51552,     0.51652,     0.51752,     0.51852,     0.51952,     0.52052,     0.52152,     0.52252,     0.52352,     0.52452,     0.52553,     0.52653,     0.52753,\n",
       "           0.52853,     0.52953,     0.53053,     0.53153,     0.53253,     0.53353,     0.53453,     0.53554,     0.53654,     0.53754,     0.53854,     0.53954,     0.54054,     0.54154,     0.54254,     0.54354,     0.54454,     0.54555,     0.54655,     0.54755,     0.54855,     0.54955,     0.55055,     0.55155,\n",
       "           0.55255,     0.55355,     0.55455,     0.55556,     0.55656,     0.55756,     0.55856,     0.55956,     0.56056,     0.56156,     0.56256,     0.56356,     0.56456,     0.56557,     0.56657,     0.56757,     0.56857,     0.56957,     0.57057,     0.57157,     0.57257,     0.57357,     0.57457,     0.57558,\n",
       "           0.57658,     0.57758,     0.57858,     0.57958,     0.58058,     0.58158,     0.58258,     0.58358,     0.58458,     0.58559,     0.58659,     0.58759,     0.58859,     0.58959,     0.59059,     0.59159,     0.59259,     0.59359,     0.59459,      0.5956,      0.5966,      0.5976,      0.5986,      0.5996,\n",
       "            0.6006,      0.6016,      0.6026,      0.6036,      0.6046,     0.60561,     0.60661,     0.60761,     0.60861,     0.60961,     0.61061,     0.61161,     0.61261,     0.61361,     0.61461,     0.61562,     0.61662,     0.61762,     0.61862,     0.61962,     0.62062,     0.62162,     0.62262,     0.62362,\n",
       "           0.62462,     0.62563,     0.62663,     0.62763,     0.62863,     0.62963,     0.63063,     0.63163,     0.63263,     0.63363,     0.63463,     0.63564,     0.63664,     0.63764,     0.63864,     0.63964,     0.64064,     0.64164,     0.64264,     0.64364,     0.64464,     0.64565,     0.64665,     0.64765,\n",
       "           0.64865,     0.64965,     0.65065,     0.65165,     0.65265,     0.65365,     0.65465,     0.65566,     0.65666,     0.65766,     0.65866,     0.65966,     0.66066,     0.66166,     0.66266,     0.66366,     0.66466,     0.66567,     0.66667,     0.66767,     0.66867,     0.66967,     0.67067,     0.67167,\n",
       "           0.67267,     0.67367,     0.67467,     0.67568,     0.67668,     0.67768,     0.67868,     0.67968,     0.68068,     0.68168,     0.68268,     0.68368,     0.68468,     0.68569,     0.68669,     0.68769,     0.68869,     0.68969,     0.69069,     0.69169,     0.69269,     0.69369,     0.69469,      0.6957,\n",
       "            0.6967,      0.6977,      0.6987,      0.6997,      0.7007,      0.7017,      0.7027,      0.7037,      0.7047,     0.70571,     0.70671,     0.70771,     0.70871,     0.70971,     0.71071,     0.71171,     0.71271,     0.71371,     0.71471,     0.71572,     0.71672,     0.71772,     0.71872,     0.71972,\n",
       "           0.72072,     0.72172,     0.72272,     0.72372,     0.72472,     0.72573,     0.72673,     0.72773,     0.72873,     0.72973,     0.73073,     0.73173,     0.73273,     0.73373,     0.73473,     0.73574,     0.73674,     0.73774,     0.73874,     0.73974,     0.74074,     0.74174,     0.74274,     0.74374,\n",
       "           0.74474,     0.74575,     0.74675,     0.74775,     0.74875,     0.74975,     0.75075,     0.75175,     0.75275,     0.75375,     0.75475,     0.75576,     0.75676,     0.75776,     0.75876,     0.75976,     0.76076,     0.76176,     0.76276,     0.76376,     0.76476,     0.76577,     0.76677,     0.76777,\n",
       "           0.76877,     0.76977,     0.77077,     0.77177,     0.77277,     0.77377,     0.77477,     0.77578,     0.77678,     0.77778,     0.77878,     0.77978,     0.78078,     0.78178,     0.78278,     0.78378,     0.78478,     0.78579,     0.78679,     0.78779,     0.78879,     0.78979,     0.79079,     0.79179,\n",
       "           0.79279,     0.79379,     0.79479,      0.7958,      0.7968,      0.7978,      0.7988,      0.7998,      0.8008,      0.8018,      0.8028,      0.8038,      0.8048,     0.80581,     0.80681,     0.80781,     0.80881,     0.80981,     0.81081,     0.81181,     0.81281,     0.81381,     0.81481,     0.81582,\n",
       "           0.81682,     0.81782,     0.81882,     0.81982,     0.82082,     0.82182,     0.82282,     0.82382,     0.82482,     0.82583,     0.82683,     0.82783,     0.82883,     0.82983,     0.83083,     0.83183,     0.83283,     0.83383,     0.83483,     0.83584,     0.83684,     0.83784,     0.83884,     0.83984,\n",
       "           0.84084,     0.84184,     0.84284,     0.84384,     0.84484,     0.84585,     0.84685,     0.84785,     0.84885,     0.84985,     0.85085,     0.85185,     0.85285,     0.85385,     0.85485,     0.85586,     0.85686,     0.85786,     0.85886,     0.85986,     0.86086,     0.86186,     0.86286,     0.86386,\n",
       "           0.86486,     0.86587,     0.86687,     0.86787,     0.86887,     0.86987,     0.87087,     0.87187,     0.87287,     0.87387,     0.87487,     0.87588,     0.87688,     0.87788,     0.87888,     0.87988,     0.88088,     0.88188,     0.88288,     0.88388,     0.88488,     0.88589,     0.88689,     0.88789,\n",
       "           0.88889,     0.88989,     0.89089,     0.89189,     0.89289,     0.89389,     0.89489,      0.8959,      0.8969,      0.8979,      0.8989,      0.8999,      0.9009,      0.9019,      0.9029,      0.9039,      0.9049,     0.90591,     0.90691,     0.90791,     0.90891,     0.90991,     0.91091,     0.91191,\n",
       "           0.91291,     0.91391,     0.91491,     0.91592,     0.91692,     0.91792,     0.91892,     0.91992,     0.92092,     0.92192,     0.92292,     0.92392,     0.92492,     0.92593,     0.92693,     0.92793,     0.92893,     0.92993,     0.93093,     0.93193,     0.93293,     0.93393,     0.93493,     0.93594,\n",
       "           0.93694,     0.93794,     0.93894,     0.93994,     0.94094,     0.94194,     0.94294,     0.94394,     0.94494,     0.94595,     0.94695,     0.94795,     0.94895,     0.94995,     0.95095,     0.95195,     0.95295,     0.95395,     0.95495,     0.95596,     0.95696,     0.95796,     0.95896,     0.95996,\n",
       "           0.96096,     0.96196,     0.96296,     0.96396,     0.96496,     0.96597,     0.96697,     0.96797,     0.96897,     0.96997,     0.97097,     0.97197,     0.97297,     0.97397,     0.97497,     0.97598,     0.97698,     0.97798,     0.97898,     0.97998,     0.98098,     0.98198,     0.98298,     0.98398,\n",
       "           0.98498,     0.98599,     0.98699,     0.98799,     0.98899,     0.98999,     0.99099,     0.99199,     0.99299,     0.99399,     0.99499,       0.996,       0.997,       0.998,       0.999,           1]), array([[          1,           1,           1,           1,           1,           1,           1,           1,           1,           1,           1,           1,           1,           1,           1,           1,           1,           1,           1,           1,           1,           1,           1,\n",
       "                  1,           1,           1,           1,           1,           1,           1,           1,           1,           1,           1,           1,           1,           1,           1,           1,           1,           1,           1,           1,           1,           1,           1,\n",
       "                  1,           1,           1,           1,           1,           1,           1,           1,           1,           1,           1,           1,           1,           1,           1,           1,           1,           1,           1,           1,           1,           1,           1,\n",
       "                  1,           1,           1,           1,           1,           1,           1,           1,           1,           1,           1,           1,           1,           1,           1,           1,           1,           1,           1,           1,           1,           1,           1,\n",
       "                  1,           1,           1,           1,           1,           1,           1,           1,           1,           1,           1,           1,           1,           1,           1,           1,           1,           1,           1,           1,           1,           1,           1,\n",
       "                  1,           1,           1,           1,           1,           1,           1,           1,           1,           1,           1,           1,           1,           1,           1,           1,           1,           1,           1,           1,           1,           1,           1,\n",
       "                  1,           1,           1,           1,           1,           1,           1,           1,           1,           1,           1,           1,           1,           1,           1,           1,           1,           1,           1,           1,           1,           1,           1,\n",
       "                  1,           1,           1,           1,           1,           1,           1,           1,           1,           1,           1,           1,           1,           1,           1,           1,           1,           1,           1,           1,           1,           1,           1,\n",
       "                  1,           1,           1,           1,           1,           1,           1,           1,           1,           1,           1,           1,           1,           1,           1,           1,           1,           1,           1,           1,           1,           1,           1,\n",
       "                  1,           1,           1,           1,           1,           1,           1,           1,           1,           1,           1,           1,           1,           1,           1,           1,           1,           1,           1,           1,           1,           1,           1,\n",
       "                  1,           1,           1,           1,           1,           1,           1,           1,           1,           1,           1,           1,           1,           1,           1,           1,           1,           1,           1,           1,           1,           1,           1,\n",
       "                  1,           1,           1,           1,           1,           1,           1,           1,           1,           1,           1,           1,           1,           1,           1,           1,           1,           1,           1,           1,           1,           1,           1,\n",
       "                  1,           1,           1,           1,           1,           1,           1,           1,           1,           1,           1,           1,           1,           1,           1,           1,           1,      0.9993,      0.9993,      0.9993,      0.9993,      0.9993,      0.9993,\n",
       "             0.9993,      0.9993,      0.9993,      0.9993,      0.9993,      0.9993,      0.9993,      0.9993,      0.9993,      0.9993,      0.9993,      0.9993,      0.9993,      0.9993,      0.9993,      0.9993,      0.9993,      0.9993,      0.9993,      0.9993,      0.9993,      0.9993,      0.9993,\n",
       "             0.9993,      0.9993,      0.9993,      0.9993,      0.9993,      0.9993,      0.9993,      0.9993,      0.9993,      0.9993,      0.9993,      0.9993,      0.9993,      0.9993,      0.9993,      0.9993,      0.9993,      0.9993,      0.9993,      0.9993,      0.9993,      0.9993,      0.9993,\n",
       "             0.9993,      0.9993,      0.9993,      0.9993,      0.9993,      0.9993,      0.9993,      0.9993,      0.9993,      0.9993,      0.9993,      0.9993,      0.9993,      0.9993,      0.9993,      0.9993,      0.9993,      0.9993,      0.9993,      0.9993,      0.9993,      0.9993,      0.9993,\n",
       "             0.9993,      0.9993,      0.9993,      0.9993,      0.9993,      0.9993,      0.9993,      0.9993,      0.9993,      0.9993,      0.9993,      0.9993,      0.9993,      0.9993,      0.9993,      0.9993,      0.9993,      0.9993,      0.9993,      0.9993,      0.9993,      0.9993,      0.9993,\n",
       "             0.9993,      0.9993,      0.9993,      0.9993,      0.9993,      0.9993,      0.9993,      0.9993,      0.9993,      0.9993,      0.9993,      0.9993,      0.9993,      0.9993,      0.9993,      0.9993,      0.9993,      0.9993,      0.9993,      0.9993,      0.9993,      0.9993,      0.9993,\n",
       "             0.9993,      0.9993,      0.9993,      0.9993,      0.9993,      0.9993,      0.9993,      0.9993,      0.9993,      0.9993,      0.9993,      0.9993,      0.9993,      0.9993,      0.9993,      0.9993,      0.9993,      0.9993,      0.9993,      0.9993,      0.9993,      0.9993,      0.9993,\n",
       "             0.9993,      0.9993,      0.9993,      0.9993,      0.9993,      0.9993,      0.9993,      0.9993,      0.9993,      0.9993,      0.9993,      0.9993,      0.9993,      0.9993,      0.9993,      0.9993,      0.9993,      0.9993,      0.9993,      0.9993,      0.9993,      0.9993,      0.9993,\n",
       "             0.9993,      0.9993,      0.9993,      0.9993,      0.9993,      0.9993,      0.9993,      0.9993,      0.9993,      0.9993,      0.9993,      0.9993,      0.9993,      0.9993,      0.9993,      0.9993,      0.9993,      0.9993,      0.9993,      0.9993,      0.9993,      0.9993,      0.9993,\n",
       "             0.9993,      0.9993,      0.9993,      0.9993,      0.9993,      0.9993,      0.9993,      0.9993,      0.9993,      0.9993,      0.9993,      0.9993,      0.9993,      0.9993,      0.9993,      0.9993,      0.9993,      0.9993,      0.9993,      0.9993,      0.9993,      0.9993,      0.9993,\n",
       "             0.9993,      0.9993,      0.9993,      0.9993,      0.9993,      0.9993,      0.9993,      0.9993,      0.9993,      0.9993,      0.9993,      0.9993,      0.9993,      0.9993,      0.9993,      0.9993,      0.9993,      0.9993,      0.9993,      0.9993,      0.9993,      0.9993,      0.9993,\n",
       "             0.9993,      0.9993,      0.9993,      0.9993,      0.9993,      0.9993,      0.9993,      0.9993,      0.9993,      0.9993,      0.9993,      0.9993,      0.9993,      0.9993,      0.9993,      0.9993,      0.9993,      0.9993,      0.9993,      0.9993,      0.9993,      0.9993,      0.9993,\n",
       "             0.9993,      0.9993,      0.9993,      0.9993,      0.9993,      0.9993,      0.9993,      0.9993,      0.9993,      0.9993,      0.9993,      0.9993,      0.9993,      0.9993,      0.9993,      0.9993,      0.9993,      0.9993,      0.9993,      0.9993,      0.9993,      0.9993,      0.9993,\n",
       "             0.9993,      0.9993,      0.9993,      0.9993,      0.9993,      0.9993,      0.9993,      0.9993,      0.9993,      0.9993,      0.9993,      0.9993,      0.9993,      0.9993,      0.9993,      0.9993,      0.9993,      0.9993,      0.9993,      0.9993,      0.9993,      0.9993,      0.9993,\n",
       "             0.9993,      0.9993,      0.9993,      0.9993,      0.9993,      0.9993,      0.9993,      0.9993,      0.9993,      0.9993,      0.9993,      0.9993,      0.9993,      0.9993,      0.9993,      0.9993,      0.9993,      0.9993,      0.9993,      0.9993,      0.9993,      0.9993,      0.9993,\n",
       "             0.9993,      0.9993,      0.9993,      0.9993,      0.9993,      0.9993,      0.9993,      0.9993,      0.9993,      0.9993,      0.9993,      0.9993,      0.9993,      0.9993,      0.9993,      0.9993,      0.9993,      0.9993,      0.9993,      0.9993,      0.9993,      0.9993,      0.9993,\n",
       "             0.9993,      0.9993,      0.9993,      0.9993,      0.9993,      0.9993,      0.9993,      0.9993,      0.9993,      0.9993,      0.9993,      0.9993,      0.9993,      0.9993,      0.9993,      0.9993,      0.9993,      0.9993,      0.9993,      0.9993,      0.9993,      0.9993,      0.9993,\n",
       "             0.9993,      0.9993,      0.9993,      0.9993,      0.9993,      0.9993,      0.9993,      0.9993,      0.9993,      0.9993,      0.9993,      0.9993,      0.9993,      0.9993,      0.9993,      0.9993,      0.9993,      0.9993,      0.9993,      0.9993,      0.9993,      0.9993,      0.9993,\n",
       "             0.9993,      0.9993,      0.9993,      0.9993,      0.9993,      0.9993,      0.9993,      0.9993,      0.9993,      0.9993,      0.9993,      0.9993,      0.9993,      0.9993,      0.9993,      0.9993,      0.9993,      0.9993,      0.9993,      0.9993,      0.9993,      0.9993,      0.9993,\n",
       "             0.9993,      0.9993,      0.9993,      0.9993,      0.9993,      0.9993,      0.9993,      0.9993,      0.9993,      0.9993,      0.9993,      0.9993,      0.9993,      0.9993,      0.9993,      0.9993,      0.9993,      0.9993,      0.9993,      0.9993,      0.9993,      0.9993,      0.9993,\n",
       "             0.9993,      0.9993,      0.9993,      0.9993,      0.9993,      0.9993,      0.9993,      0.9993,      0.9993,      0.9993,      0.9993,      0.9993,      0.9993,      0.9993,      0.9993,      0.9993,      0.9993,      0.9993,      0.9993,      0.9993,      0.9993,      0.9993,      0.9993,\n",
       "             0.9993,      0.9993,      0.9993,      0.9993,      0.9993,      0.9993,      0.9993,      0.9993,      0.9993,      0.9993,      0.9993,      0.9993,      0.9993,      0.9993,      0.9993,      0.9993,      0.9993,      0.9993,      0.9993,      0.9993,      0.9993,      0.9993,      0.9993,\n",
       "             0.9993,      0.9993,      0.9993,      0.9993,      0.9993,      0.9993,      0.9993,      0.9993,      0.9993,      0.9993,      0.9993,      0.9993,      0.9993,      0.9993,      0.9993,      0.9993,      0.9993,      0.9993,      0.9993,      0.9993,      0.9993,      0.9993,      0.9993,\n",
       "             0.9993,      0.9993,      0.9993,      0.9993,      0.9993,      0.9993,      0.9993,      0.9993,      0.9993,      0.9993,      0.9993,      0.9993,      0.9993,      0.9993,      0.9993,      0.9993,      0.9993,      0.9993,      0.9993,      0.9993,      0.9993,      0.9993,      0.9993,\n",
       "             0.9993,      0.9993,      0.9993,      0.9993,      0.9993,      0.9993,      0.9993,      0.9993,      0.9993,      0.9993,      0.9993,      0.9993,      0.9993,      0.9993,      0.9993,      0.9993,      0.9993,      0.9993,      0.9993,      0.9993,      0.9993,      0.9993,      0.9993,\n",
       "             0.9993,      0.9993,      0.9993,      0.9993,      0.9993,      0.9993,      0.9993,      0.9993,      0.9993,      0.9993,      0.9993,      0.9993,      0.9993,      0.9993,      0.9993,      0.9993,      0.9993,      0.9993,      0.9993,      0.9993,      0.9993,      0.9993,      0.9993,\n",
       "             0.9993,      0.9993,      0.9993,      0.9993,      0.9993,      0.9993,      0.9993,      0.9993,      0.9993,      0.9993,      0.9993,      0.9993,      0.9993,      0.9993,      0.9993,      0.9993,      0.9993,      0.9993,      0.9993,      0.9993,      0.9993,      0.9993,      0.9993,\n",
       "             0.9993,      0.9993,      0.9993,      0.9993,      0.9993,      0.9993,      0.9993,      0.9993,      0.9993,      0.9993,      0.9993,      0.9993,      0.9993,      0.9993,      0.9993,      0.9993,      0.9993,      0.9993,      0.9993,      0.9993,      0.9993,      0.9993,      0.9993,\n",
       "             0.9993,      0.9993,      0.9993,      0.9993,      0.9993,      0.9993,      0.9993,      0.9993,      0.9993,      0.9993,      0.9993,      0.9993,      0.9993,      0.9993,      0.9993,      0.9993,      0.9993,      0.9993,      0.9993,      0.9993,      0.9993,      0.9993,      0.9993,\n",
       "             0.9993,      0.9993,      0.9993,      0.9993,      0.9993,      0.9993,      0.9993,      0.9993,      0.9993,      0.9993,      0.9993,      0.9993,      0.9993,      0.9993,      0.9993,      0.9993,      0.9993,      0.9993,      0.9993,      0.9993,      0.9993,      0.9993,      0.9993,\n",
       "             0.9993,      0.9993,      0.9993,      0.9993,      0.9993,      0.9993,      0.9993,      0.9993,      0.9993,      0.9993,      0.9993,      0.9993,      0.9993,      0.9993,      0.9993,      0.9993,      0.9993,      0.9993,      0.9993,      0.9993,      0.9993,      0.9993,      0.9993,\n",
       "             0.9993,     0.99723,     0.99585,     0.99585,     0.99381,     0.99381,     0.99313,     0.78996,     0.52664,     0.26332,           0]]), 'Recall', 'Precision'], [array([          0,    0.001001,    0.002002,    0.003003,    0.004004,    0.005005,    0.006006,    0.007007,    0.008008,    0.009009,     0.01001,    0.011011,    0.012012,    0.013013,    0.014014,    0.015015,    0.016016,    0.017017,    0.018018,    0.019019,     0.02002,    0.021021,    0.022022,    0.023023,\n",
       "          0.024024,    0.025025,    0.026026,    0.027027,    0.028028,    0.029029,     0.03003,    0.031031,    0.032032,    0.033033,    0.034034,    0.035035,    0.036036,    0.037037,    0.038038,    0.039039,     0.04004,    0.041041,    0.042042,    0.043043,    0.044044,    0.045045,    0.046046,    0.047047,\n",
       "          0.048048,    0.049049,     0.05005,    0.051051,    0.052052,    0.053053,    0.054054,    0.055055,    0.056056,    0.057057,    0.058058,    0.059059,     0.06006,    0.061061,    0.062062,    0.063063,    0.064064,    0.065065,    0.066066,    0.067067,    0.068068,    0.069069,     0.07007,    0.071071,\n",
       "          0.072072,    0.073073,    0.074074,    0.075075,    0.076076,    0.077077,    0.078078,    0.079079,     0.08008,    0.081081,    0.082082,    0.083083,    0.084084,    0.085085,    0.086086,    0.087087,    0.088088,    0.089089,     0.09009,    0.091091,    0.092092,    0.093093,    0.094094,    0.095095,\n",
       "          0.096096,    0.097097,    0.098098,    0.099099,      0.1001,      0.1011,      0.1021,      0.1031,      0.1041,     0.10511,     0.10611,     0.10711,     0.10811,     0.10911,     0.11011,     0.11111,     0.11211,     0.11311,     0.11411,     0.11512,     0.11612,     0.11712,     0.11812,     0.11912,\n",
       "           0.12012,     0.12112,     0.12212,     0.12312,     0.12412,     0.12513,     0.12613,     0.12713,     0.12813,     0.12913,     0.13013,     0.13113,     0.13213,     0.13313,     0.13413,     0.13514,     0.13614,     0.13714,     0.13814,     0.13914,     0.14014,     0.14114,     0.14214,     0.14314,\n",
       "           0.14414,     0.14515,     0.14615,     0.14715,     0.14815,     0.14915,     0.15015,     0.15115,     0.15215,     0.15315,     0.15415,     0.15516,     0.15616,     0.15716,     0.15816,     0.15916,     0.16016,     0.16116,     0.16216,     0.16316,     0.16416,     0.16517,     0.16617,     0.16717,\n",
       "           0.16817,     0.16917,     0.17017,     0.17117,     0.17217,     0.17317,     0.17417,     0.17518,     0.17618,     0.17718,     0.17818,     0.17918,     0.18018,     0.18118,     0.18218,     0.18318,     0.18418,     0.18519,     0.18619,     0.18719,     0.18819,     0.18919,     0.19019,     0.19119,\n",
       "           0.19219,     0.19319,     0.19419,      0.1952,      0.1962,      0.1972,      0.1982,      0.1992,      0.2002,      0.2012,      0.2022,      0.2032,      0.2042,     0.20521,     0.20621,     0.20721,     0.20821,     0.20921,     0.21021,     0.21121,     0.21221,     0.21321,     0.21421,     0.21522,\n",
       "           0.21622,     0.21722,     0.21822,     0.21922,     0.22022,     0.22122,     0.22222,     0.22322,     0.22422,     0.22523,     0.22623,     0.22723,     0.22823,     0.22923,     0.23023,     0.23123,     0.23223,     0.23323,     0.23423,     0.23524,     0.23624,     0.23724,     0.23824,     0.23924,\n",
       "           0.24024,     0.24124,     0.24224,     0.24324,     0.24424,     0.24525,     0.24625,     0.24725,     0.24825,     0.24925,     0.25025,     0.25125,     0.25225,     0.25325,     0.25425,     0.25526,     0.25626,     0.25726,     0.25826,     0.25926,     0.26026,     0.26126,     0.26226,     0.26326,\n",
       "           0.26426,     0.26527,     0.26627,     0.26727,     0.26827,     0.26927,     0.27027,     0.27127,     0.27227,     0.27327,     0.27427,     0.27528,     0.27628,     0.27728,     0.27828,     0.27928,     0.28028,     0.28128,     0.28228,     0.28328,     0.28428,     0.28529,     0.28629,     0.28729,\n",
       "           0.28829,     0.28929,     0.29029,     0.29129,     0.29229,     0.29329,     0.29429,      0.2953,      0.2963,      0.2973,      0.2983,      0.2993,      0.3003,      0.3013,      0.3023,      0.3033,      0.3043,     0.30531,     0.30631,     0.30731,     0.30831,     0.30931,     0.31031,     0.31131,\n",
       "           0.31231,     0.31331,     0.31431,     0.31532,     0.31632,     0.31732,     0.31832,     0.31932,     0.32032,     0.32132,     0.32232,     0.32332,     0.32432,     0.32533,     0.32633,     0.32733,     0.32833,     0.32933,     0.33033,     0.33133,     0.33233,     0.33333,     0.33433,     0.33534,\n",
       "           0.33634,     0.33734,     0.33834,     0.33934,     0.34034,     0.34134,     0.34234,     0.34334,     0.34434,     0.34535,     0.34635,     0.34735,     0.34835,     0.34935,     0.35035,     0.35135,     0.35235,     0.35335,     0.35435,     0.35536,     0.35636,     0.35736,     0.35836,     0.35936,\n",
       "           0.36036,     0.36136,     0.36236,     0.36336,     0.36436,     0.36537,     0.36637,     0.36737,     0.36837,     0.36937,     0.37037,     0.37137,     0.37237,     0.37337,     0.37437,     0.37538,     0.37638,     0.37738,     0.37838,     0.37938,     0.38038,     0.38138,     0.38238,     0.38338,\n",
       "           0.38438,     0.38539,     0.38639,     0.38739,     0.38839,     0.38939,     0.39039,     0.39139,     0.39239,     0.39339,     0.39439,      0.3954,      0.3964,      0.3974,      0.3984,      0.3994,      0.4004,      0.4014,      0.4024,      0.4034,      0.4044,     0.40541,     0.40641,     0.40741,\n",
       "           0.40841,     0.40941,     0.41041,     0.41141,     0.41241,     0.41341,     0.41441,     0.41542,     0.41642,     0.41742,     0.41842,     0.41942,     0.42042,     0.42142,     0.42242,     0.42342,     0.42442,     0.42543,     0.42643,     0.42743,     0.42843,     0.42943,     0.43043,     0.43143,\n",
       "           0.43243,     0.43343,     0.43443,     0.43544,     0.43644,     0.43744,     0.43844,     0.43944,     0.44044,     0.44144,     0.44244,     0.44344,     0.44444,     0.44545,     0.44645,     0.44745,     0.44845,     0.44945,     0.45045,     0.45145,     0.45245,     0.45345,     0.45445,     0.45546,\n",
       "           0.45646,     0.45746,     0.45846,     0.45946,     0.46046,     0.46146,     0.46246,     0.46346,     0.46446,     0.46547,     0.46647,     0.46747,     0.46847,     0.46947,     0.47047,     0.47147,     0.47247,     0.47347,     0.47447,     0.47548,     0.47648,     0.47748,     0.47848,     0.47948,\n",
       "           0.48048,     0.48148,     0.48248,     0.48348,     0.48448,     0.48549,     0.48649,     0.48749,     0.48849,     0.48949,     0.49049,     0.49149,     0.49249,     0.49349,     0.49449,      0.4955,      0.4965,      0.4975,      0.4985,      0.4995,      0.5005,      0.5015,      0.5025,      0.5035,\n",
       "            0.5045,     0.50551,     0.50651,     0.50751,     0.50851,     0.50951,     0.51051,     0.51151,     0.51251,     0.51351,     0.51451,     0.51552,     0.51652,     0.51752,     0.51852,     0.51952,     0.52052,     0.52152,     0.52252,     0.52352,     0.52452,     0.52553,     0.52653,     0.52753,\n",
       "           0.52853,     0.52953,     0.53053,     0.53153,     0.53253,     0.53353,     0.53453,     0.53554,     0.53654,     0.53754,     0.53854,     0.53954,     0.54054,     0.54154,     0.54254,     0.54354,     0.54454,     0.54555,     0.54655,     0.54755,     0.54855,     0.54955,     0.55055,     0.55155,\n",
       "           0.55255,     0.55355,     0.55455,     0.55556,     0.55656,     0.55756,     0.55856,     0.55956,     0.56056,     0.56156,     0.56256,     0.56356,     0.56456,     0.56557,     0.56657,     0.56757,     0.56857,     0.56957,     0.57057,     0.57157,     0.57257,     0.57357,     0.57457,     0.57558,\n",
       "           0.57658,     0.57758,     0.57858,     0.57958,     0.58058,     0.58158,     0.58258,     0.58358,     0.58458,     0.58559,     0.58659,     0.58759,     0.58859,     0.58959,     0.59059,     0.59159,     0.59259,     0.59359,     0.59459,      0.5956,      0.5966,      0.5976,      0.5986,      0.5996,\n",
       "            0.6006,      0.6016,      0.6026,      0.6036,      0.6046,     0.60561,     0.60661,     0.60761,     0.60861,     0.60961,     0.61061,     0.61161,     0.61261,     0.61361,     0.61461,     0.61562,     0.61662,     0.61762,     0.61862,     0.61962,     0.62062,     0.62162,     0.62262,     0.62362,\n",
       "           0.62462,     0.62563,     0.62663,     0.62763,     0.62863,     0.62963,     0.63063,     0.63163,     0.63263,     0.63363,     0.63463,     0.63564,     0.63664,     0.63764,     0.63864,     0.63964,     0.64064,     0.64164,     0.64264,     0.64364,     0.64464,     0.64565,     0.64665,     0.64765,\n",
       "           0.64865,     0.64965,     0.65065,     0.65165,     0.65265,     0.65365,     0.65465,     0.65566,     0.65666,     0.65766,     0.65866,     0.65966,     0.66066,     0.66166,     0.66266,     0.66366,     0.66466,     0.66567,     0.66667,     0.66767,     0.66867,     0.66967,     0.67067,     0.67167,\n",
       "           0.67267,     0.67367,     0.67467,     0.67568,     0.67668,     0.67768,     0.67868,     0.67968,     0.68068,     0.68168,     0.68268,     0.68368,     0.68468,     0.68569,     0.68669,     0.68769,     0.68869,     0.68969,     0.69069,     0.69169,     0.69269,     0.69369,     0.69469,      0.6957,\n",
       "            0.6967,      0.6977,      0.6987,      0.6997,      0.7007,      0.7017,      0.7027,      0.7037,      0.7047,     0.70571,     0.70671,     0.70771,     0.70871,     0.70971,     0.71071,     0.71171,     0.71271,     0.71371,     0.71471,     0.71572,     0.71672,     0.71772,     0.71872,     0.71972,\n",
       "           0.72072,     0.72172,     0.72272,     0.72372,     0.72472,     0.72573,     0.72673,     0.72773,     0.72873,     0.72973,     0.73073,     0.73173,     0.73273,     0.73373,     0.73473,     0.73574,     0.73674,     0.73774,     0.73874,     0.73974,     0.74074,     0.74174,     0.74274,     0.74374,\n",
       "           0.74474,     0.74575,     0.74675,     0.74775,     0.74875,     0.74975,     0.75075,     0.75175,     0.75275,     0.75375,     0.75475,     0.75576,     0.75676,     0.75776,     0.75876,     0.75976,     0.76076,     0.76176,     0.76276,     0.76376,     0.76476,     0.76577,     0.76677,     0.76777,\n",
       "           0.76877,     0.76977,     0.77077,     0.77177,     0.77277,     0.77377,     0.77477,     0.77578,     0.77678,     0.77778,     0.77878,     0.77978,     0.78078,     0.78178,     0.78278,     0.78378,     0.78478,     0.78579,     0.78679,     0.78779,     0.78879,     0.78979,     0.79079,     0.79179,\n",
       "           0.79279,     0.79379,     0.79479,      0.7958,      0.7968,      0.7978,      0.7988,      0.7998,      0.8008,      0.8018,      0.8028,      0.8038,      0.8048,     0.80581,     0.80681,     0.80781,     0.80881,     0.80981,     0.81081,     0.81181,     0.81281,     0.81381,     0.81481,     0.81582,\n",
       "           0.81682,     0.81782,     0.81882,     0.81982,     0.82082,     0.82182,     0.82282,     0.82382,     0.82482,     0.82583,     0.82683,     0.82783,     0.82883,     0.82983,     0.83083,     0.83183,     0.83283,     0.83383,     0.83483,     0.83584,     0.83684,     0.83784,     0.83884,     0.83984,\n",
       "           0.84084,     0.84184,     0.84284,     0.84384,     0.84484,     0.84585,     0.84685,     0.84785,     0.84885,     0.84985,     0.85085,     0.85185,     0.85285,     0.85385,     0.85485,     0.85586,     0.85686,     0.85786,     0.85886,     0.85986,     0.86086,     0.86186,     0.86286,     0.86386,\n",
       "           0.86486,     0.86587,     0.86687,     0.86787,     0.86887,     0.86987,     0.87087,     0.87187,     0.87287,     0.87387,     0.87487,     0.87588,     0.87688,     0.87788,     0.87888,     0.87988,     0.88088,     0.88188,     0.88288,     0.88388,     0.88488,     0.88589,     0.88689,     0.88789,\n",
       "           0.88889,     0.88989,     0.89089,     0.89189,     0.89289,     0.89389,     0.89489,      0.8959,      0.8969,      0.8979,      0.8989,      0.8999,      0.9009,      0.9019,      0.9029,      0.9039,      0.9049,     0.90591,     0.90691,     0.90791,     0.90891,     0.90991,     0.91091,     0.91191,\n",
       "           0.91291,     0.91391,     0.91491,     0.91592,     0.91692,     0.91792,     0.91892,     0.91992,     0.92092,     0.92192,     0.92292,     0.92392,     0.92492,     0.92593,     0.92693,     0.92793,     0.92893,     0.92993,     0.93093,     0.93193,     0.93293,     0.93393,     0.93493,     0.93594,\n",
       "           0.93694,     0.93794,     0.93894,     0.93994,     0.94094,     0.94194,     0.94294,     0.94394,     0.94494,     0.94595,     0.94695,     0.94795,     0.94895,     0.94995,     0.95095,     0.95195,     0.95295,     0.95395,     0.95495,     0.95596,     0.95696,     0.95796,     0.95896,     0.95996,\n",
       "           0.96096,     0.96196,     0.96296,     0.96396,     0.96496,     0.96597,     0.96697,     0.96797,     0.96897,     0.96997,     0.97097,     0.97197,     0.97297,     0.97397,     0.97497,     0.97598,     0.97698,     0.97798,     0.97898,     0.97998,     0.98098,     0.98198,     0.98298,     0.98398,\n",
       "           0.98498,     0.98599,     0.98699,     0.98799,     0.98899,     0.98999,     0.99099,     0.99199,     0.99299,     0.99399,     0.99499,       0.996,       0.997,       0.998,       0.999,           1]), array([[    0.94972,     0.94972,     0.97057,     0.97734,      0.9819,     0.98512,     0.98618,     0.98709,     0.98847,      0.9894,     0.98978,     0.98991,     0.99005,      0.9904,     0.99085,     0.99118,     0.99157,     0.99178,     0.99194,     0.99209,     0.99213,     0.99217,      0.9922,\n",
       "            0.99223,     0.99227,      0.9923,     0.99233,     0.99236,      0.9924,     0.99243,     0.99281,     0.99293,     0.99305,     0.99314,     0.99319,     0.99324,     0.99329,     0.99334,     0.99339,     0.99344,     0.99358,     0.99392,     0.99419,     0.99425,     0.99431,     0.99437,\n",
       "            0.99443,     0.99449,     0.99451,     0.99453,     0.99455,     0.99456,     0.99458,      0.9946,     0.99462,     0.99464,     0.99465,     0.99467,     0.99469,     0.99471,     0.99472,     0.99474,     0.99476,     0.99478,      0.9948,     0.99481,     0.99483,     0.99483,     0.99483,\n",
       "            0.99483,     0.99483,     0.99482,     0.99482,     0.99482,     0.99482,     0.99481,     0.99481,     0.99481,      0.9948,      0.9948,      0.9948,      0.9948,     0.99479,     0.99479,     0.99479,     0.99479,     0.99478,     0.99478,     0.99478,     0.99477,     0.99477,     0.99477,\n",
       "            0.99477,     0.99476,     0.99476,     0.99476,     0.99475,     0.99475,     0.99475,     0.99475,     0.99474,     0.99474,     0.99474,     0.99474,     0.99473,     0.99473,     0.99473,     0.99472,     0.99472,     0.99472,     0.99472,     0.99471,     0.99471,     0.99471,     0.99471,\n",
       "             0.9947,      0.9947,      0.9947,     0.99469,     0.99469,     0.99469,     0.99469,     0.99468,     0.99468,     0.99468,     0.99468,     0.99467,     0.99467,     0.99467,     0.99466,     0.99466,     0.99466,     0.99466,     0.99465,     0.99465,     0.99465,     0.99465,     0.99464,\n",
       "            0.99464,     0.99464,     0.99463,     0.99463,     0.99463,     0.99463,     0.99462,     0.99462,     0.99462,     0.99461,     0.99461,     0.99461,     0.99461,      0.9946,      0.9946,      0.9946,      0.9946,     0.99459,     0.99459,     0.99459,     0.99458,     0.99458,     0.99458,\n",
       "            0.99458,     0.99457,     0.99457,     0.99457,     0.99457,     0.99456,     0.99456,     0.99456,     0.99455,     0.99455,     0.99455,     0.99455,     0.99454,     0.99454,     0.99454,     0.99454,     0.99453,     0.99453,     0.99453,     0.99452,     0.99452,     0.99452,     0.99452,\n",
       "            0.99451,     0.99451,     0.99451,      0.9945,      0.9945,      0.9945,      0.9945,     0.99449,     0.99449,     0.99456,     0.99466,     0.99476,     0.99483,     0.99483,     0.99482,     0.99482,     0.99482,     0.99481,     0.99481,      0.9948,      0.9948,      0.9948,     0.99479,\n",
       "            0.99479,     0.99478,     0.99478,     0.99478,     0.99477,     0.99477,     0.99476,     0.99476,     0.99476,     0.99475,     0.99475,     0.99474,     0.99474,     0.99474,     0.99473,     0.99473,     0.99473,     0.99472,     0.99472,     0.99471,     0.99471,     0.99471,      0.9947,\n",
       "             0.9947,     0.99469,     0.99469,     0.99469,     0.99468,     0.99468,     0.99467,     0.99467,     0.99467,     0.99466,     0.99466,     0.99465,     0.99465,     0.99465,     0.99464,     0.99464,     0.99463,     0.99463,     0.99463,     0.99462,     0.99462,     0.99461,     0.99461,\n",
       "            0.99461,      0.9946,      0.9946,     0.99459,     0.99459,     0.99459,     0.99458,     0.99458,     0.99458,     0.99457,     0.99457,     0.99456,     0.99456,     0.99456,     0.99455,     0.99455,     0.99454,     0.99454,     0.99454,     0.99453,     0.99453,     0.99452,     0.99452,\n",
       "            0.99452,     0.99451,     0.99451,      0.9945,      0.9945,      0.9945,     0.99449,     0.99449,     0.99445,     0.99439,     0.99433,     0.99426,      0.9942,     0.99414,     0.99413,     0.99411,      0.9941,     0.99409,     0.99408,     0.99406,     0.99405,     0.99404,     0.99403,\n",
       "            0.99401,       0.994,     0.99399,     0.99398,     0.99396,     0.99395,     0.99394,     0.99392,     0.99391,      0.9939,     0.99389,     0.99387,     0.99386,     0.99385,     0.99384,     0.99382,     0.99381,      0.9938,     0.99381,     0.99383,     0.99385,     0.99387,     0.99389,\n",
       "            0.99391,     0.99394,     0.99396,     0.99398,       0.994,     0.99402,     0.99404,     0.99406,     0.99408,     0.99411,     0.99413,     0.99414,     0.99415,     0.99417,     0.99418,     0.99419,      0.9942,     0.99421,     0.99422,     0.99423,     0.99424,     0.99426,     0.99427,\n",
       "            0.99428,     0.99429,      0.9943,     0.99431,     0.99432,     0.99434,     0.99435,     0.99436,     0.99437,     0.99438,     0.99439,      0.9944,     0.99441,     0.99443,     0.99444,     0.99445,     0.99446,     0.99447,     0.99448,     0.99447,     0.99447,     0.99447,     0.99446,\n",
       "            0.99446,     0.99446,     0.99446,     0.99445,     0.99445,     0.99445,     0.99444,     0.99444,     0.99444,     0.99443,     0.99443,     0.99443,     0.99442,     0.99442,     0.99442,     0.99441,     0.99441,     0.99441,      0.9944,      0.9944,      0.9944,     0.99439,     0.99439,\n",
       "            0.99439,     0.99438,     0.99438,     0.99438,     0.99437,     0.99437,     0.99437,     0.99436,     0.99436,     0.99436,     0.99435,     0.99435,     0.99435,     0.99434,     0.99434,     0.99434,     0.99433,     0.99433,     0.99433,     0.99432,     0.99432,     0.99432,     0.99432,\n",
       "            0.99431,     0.99431,     0.99431,      0.9943,      0.9943,      0.9943,     0.99429,     0.99429,     0.99429,     0.99428,     0.99428,     0.99428,     0.99427,     0.99427,     0.99427,     0.99426,     0.99426,     0.99426,     0.99425,     0.99425,     0.99425,     0.99424,     0.99424,\n",
       "            0.99424,     0.99423,     0.99423,     0.99423,     0.99422,     0.99422,     0.99422,     0.99421,     0.99421,     0.99421,      0.9942,      0.9942,      0.9942,     0.99419,     0.99419,     0.99419,     0.99418,     0.99418,     0.99418,     0.99418,     0.99417,     0.99417,     0.99417,\n",
       "            0.99416,     0.99416,     0.99416,     0.99415,     0.99415,     0.99415,     0.99414,     0.99414,     0.99414,     0.99413,     0.99413,     0.99414,     0.99414,     0.99414,     0.99414,     0.99415,     0.99415,     0.99415,     0.99415,     0.99416,     0.99416,     0.99416,     0.99416,\n",
       "            0.99417,     0.99417,     0.99417,     0.99417,     0.99418,     0.99418,     0.99418,     0.99418,     0.99419,     0.99419,     0.99419,     0.99419,     0.99419,      0.9942,      0.9942,      0.9942,      0.9942,     0.99421,     0.99421,     0.99421,     0.99421,     0.99422,     0.99422,\n",
       "            0.99422,     0.99422,     0.99423,     0.99423,     0.99423,     0.99423,     0.99424,     0.99424,     0.99424,     0.99424,     0.99425,     0.99425,     0.99425,     0.99425,     0.99426,     0.99426,     0.99426,     0.99426,     0.99427,     0.99427,     0.99427,     0.99427,     0.99428,\n",
       "            0.99428,     0.99428,     0.99428,     0.99429,     0.99429,     0.99429,     0.99429,     0.99429,      0.9943,      0.9943,      0.9943,      0.9943,     0.99431,     0.99431,     0.99431,     0.99431,     0.99432,     0.99432,     0.99432,     0.99432,     0.99433,     0.99433,     0.99433,\n",
       "            0.99433,     0.99434,     0.99434,     0.99434,     0.99434,     0.99435,     0.99435,     0.99435,     0.99435,     0.99436,     0.99436,     0.99436,     0.99436,     0.99437,     0.99437,     0.99437,     0.99437,     0.99438,     0.99438,     0.99438,     0.99438,     0.99439,     0.99439,\n",
       "            0.99439,     0.99439,      0.9944,      0.9944,      0.9944,      0.9944,      0.9944,     0.99441,     0.99441,     0.99441,     0.99441,     0.99442,     0.99442,     0.99442,     0.99442,     0.99443,     0.99443,     0.99443,     0.99443,     0.99444,     0.99444,     0.99444,     0.99444,\n",
       "            0.99445,     0.99445,     0.99445,     0.99445,     0.99446,     0.99446,     0.99446,     0.99446,     0.99447,     0.99447,     0.99447,     0.99447,     0.99447,     0.99444,     0.99441,     0.99437,     0.99434,     0.99431,     0.99428,     0.99425,     0.99422,     0.99419,     0.99416,\n",
       "            0.99413,     0.99412,     0.99411,      0.9941,      0.9941,     0.99409,     0.99408,     0.99407,     0.99406,     0.99405,     0.99405,     0.99404,     0.99403,     0.99402,     0.99401,     0.99401,       0.994,     0.99399,     0.99398,     0.99397,     0.99397,     0.99396,     0.99395,\n",
       "            0.99394,     0.99393,     0.99393,     0.99392,     0.99391,      0.9939,     0.99389,     0.99388,     0.99388,     0.99387,     0.99386,     0.99385,     0.99384,     0.99384,     0.99383,     0.99382,     0.99381,      0.9938,      0.9938,     0.99379,     0.99379,     0.99385,     0.99392,\n",
       "            0.99398,     0.99404,     0.99411,     0.99414,     0.99417,     0.99419,     0.99422,     0.99424,     0.99427,     0.99429,     0.99432,     0.99434,     0.99437,     0.99439,     0.99442,     0.99444,     0.99447,     0.99446,     0.99444,     0.99443,     0.99442,     0.99441,      0.9944,\n",
       "            0.99439,     0.99438,     0.99437,     0.99436,     0.99435,     0.99433,     0.99432,     0.99431,      0.9943,     0.99429,     0.99428,     0.99427,     0.99426,     0.99425,     0.99424,     0.99423,     0.99421,      0.9942,     0.99419,     0.99418,     0.99417,     0.99416,     0.99415,\n",
       "            0.99414,     0.99413,     0.99412,     0.99411,      0.9941,     0.99409,     0.99408,     0.99407,     0.99406,     0.99405,     0.99404,     0.99403,     0.99402,     0.99401,       0.994,     0.99399,     0.99398,     0.99397,     0.99396,     0.99395,     0.99394,     0.99393,     0.99392,\n",
       "            0.99391,      0.9939,     0.99389,     0.99388,     0.99387,     0.99386,     0.99385,     0.99384,     0.99383,     0.99382,     0.99381,      0.9938,     0.99379,     0.99378,     0.99377,     0.99379,      0.9938,     0.99381,     0.99382,     0.99384,     0.99385,     0.99386,     0.99387,\n",
       "            0.99388,      0.9939,     0.99391,     0.99392,     0.99393,     0.99395,     0.99396,     0.99397,     0.99398,     0.99399,     0.99401,     0.99402,     0.99403,     0.99404,     0.99405,     0.99407,     0.99408,     0.99409,      0.9941,     0.99412,     0.99414,     0.99416,     0.99418,\n",
       "            0.99421,     0.99423,     0.99425,     0.99427,      0.9943,     0.99432,     0.99434,     0.99437,     0.99439,     0.99441,     0.99443,     0.99446,     0.99475,     0.99461,     0.99447,     0.99443,     0.99439,     0.99436,     0.99433,      0.9943,     0.99426,     0.99423,      0.9942,\n",
       "            0.99417,     0.99413,     0.99408,     0.99394,     0.99379,     0.99369,      0.9936,     0.99351,     0.99342,     0.99332,     0.99322,     0.99312,     0.99261,     0.99237,     0.99219,     0.99166,     0.99151,     0.99137,     0.99125,     0.99115,     0.99105,     0.99094,     0.99082,\n",
       "             0.9907,     0.99044,     0.99012,     0.98994,     0.98986,     0.98981,     0.98976,     0.98971,     0.98966,     0.98961,     0.98956,     0.98938,     0.98884,     0.98849,     0.98825,     0.98806,     0.98792,     0.98777,     0.98759,      0.9873,     0.98683,      0.9866,     0.98642,\n",
       "             0.9861,     0.98573,     0.98555,      0.9854,     0.98526,     0.98511,     0.98497,     0.98356,     0.98283,     0.98272,     0.98262,     0.98251,     0.98236,     0.98218,     0.98202,     0.98187,     0.98161,     0.98101,     0.98086,     0.98071,      0.9804,     0.97953,     0.97928,\n",
       "            0.97893,     0.97857,     0.97802,     0.97693,     0.97668,     0.97657,     0.97647,       0.976,     0.97581,     0.97557,      0.9747,     0.97409,     0.97197,     0.97172,     0.97039,     0.96855,     0.96522,     0.96335,     0.96185,     0.96072,     0.95958,     0.95732,     0.95278,\n",
       "            0.94745,      0.9459,     0.94088,     0.93542,     0.92832,     0.92193,     0.91547,     0.90728,     0.89813,      0.8918,     0.88239,     0.87062,      0.8541,     0.84034,     0.82291,     0.80741,     0.78947,     0.76577,     0.74655,     0.71088,     0.68515,     0.65527,     0.61414,\n",
       "              0.569,      0.5409,     0.50092,     0.46844,     0.42541,     0.39041,     0.34725,     0.30072,     0.25988,     0.22901,     0.18688,     0.15803,     0.12097,    0.094992,    0.073414,    0.061761,    0.044706,    0.038026,    0.028623,    0.017776,    0.014994,   0.0081089,   0.0063489,\n",
       "          0.0053668,   0.0039596,   0.0027276,   0.0025395,   0.0023515,   0.0021634,   0.0019753,   0.0017871,   0.0015989,   0.0014107,           0,           0,           0,           0,           0,           0,           0,           0,           0,           0,           0,           0,           0,\n",
       "                  0,           0,           0,           0,           0,           0,           0,           0,           0,           0,           0,           0,           0,           0,           0,           0,           0,           0,           0,           0,           0,           0,           0,\n",
       "                  0,           0,           0,           0,           0,           0,           0,           0,           0,           0,           0]]), 'Confidence', 'F1'], [array([          0,    0.001001,    0.002002,    0.003003,    0.004004,    0.005005,    0.006006,    0.007007,    0.008008,    0.009009,     0.01001,    0.011011,    0.012012,    0.013013,    0.014014,    0.015015,    0.016016,    0.017017,    0.018018,    0.019019,     0.02002,    0.021021,    0.022022,    0.023023,\n",
       "          0.024024,    0.025025,    0.026026,    0.027027,    0.028028,    0.029029,     0.03003,    0.031031,    0.032032,    0.033033,    0.034034,    0.035035,    0.036036,    0.037037,    0.038038,    0.039039,     0.04004,    0.041041,    0.042042,    0.043043,    0.044044,    0.045045,    0.046046,    0.047047,\n",
       "          0.048048,    0.049049,     0.05005,    0.051051,    0.052052,    0.053053,    0.054054,    0.055055,    0.056056,    0.057057,    0.058058,    0.059059,     0.06006,    0.061061,    0.062062,    0.063063,    0.064064,    0.065065,    0.066066,    0.067067,    0.068068,    0.069069,     0.07007,    0.071071,\n",
       "          0.072072,    0.073073,    0.074074,    0.075075,    0.076076,    0.077077,    0.078078,    0.079079,     0.08008,    0.081081,    0.082082,    0.083083,    0.084084,    0.085085,    0.086086,    0.087087,    0.088088,    0.089089,     0.09009,    0.091091,    0.092092,    0.093093,    0.094094,    0.095095,\n",
       "          0.096096,    0.097097,    0.098098,    0.099099,      0.1001,      0.1011,      0.1021,      0.1031,      0.1041,     0.10511,     0.10611,     0.10711,     0.10811,     0.10911,     0.11011,     0.11111,     0.11211,     0.11311,     0.11411,     0.11512,     0.11612,     0.11712,     0.11812,     0.11912,\n",
       "           0.12012,     0.12112,     0.12212,     0.12312,     0.12412,     0.12513,     0.12613,     0.12713,     0.12813,     0.12913,     0.13013,     0.13113,     0.13213,     0.13313,     0.13413,     0.13514,     0.13614,     0.13714,     0.13814,     0.13914,     0.14014,     0.14114,     0.14214,     0.14314,\n",
       "           0.14414,     0.14515,     0.14615,     0.14715,     0.14815,     0.14915,     0.15015,     0.15115,     0.15215,     0.15315,     0.15415,     0.15516,     0.15616,     0.15716,     0.15816,     0.15916,     0.16016,     0.16116,     0.16216,     0.16316,     0.16416,     0.16517,     0.16617,     0.16717,\n",
       "           0.16817,     0.16917,     0.17017,     0.17117,     0.17217,     0.17317,     0.17417,     0.17518,     0.17618,     0.17718,     0.17818,     0.17918,     0.18018,     0.18118,     0.18218,     0.18318,     0.18418,     0.18519,     0.18619,     0.18719,     0.18819,     0.18919,     0.19019,     0.19119,\n",
       "           0.19219,     0.19319,     0.19419,      0.1952,      0.1962,      0.1972,      0.1982,      0.1992,      0.2002,      0.2012,      0.2022,      0.2032,      0.2042,     0.20521,     0.20621,     0.20721,     0.20821,     0.20921,     0.21021,     0.21121,     0.21221,     0.21321,     0.21421,     0.21522,\n",
       "           0.21622,     0.21722,     0.21822,     0.21922,     0.22022,     0.22122,     0.22222,     0.22322,     0.22422,     0.22523,     0.22623,     0.22723,     0.22823,     0.22923,     0.23023,     0.23123,     0.23223,     0.23323,     0.23423,     0.23524,     0.23624,     0.23724,     0.23824,     0.23924,\n",
       "           0.24024,     0.24124,     0.24224,     0.24324,     0.24424,     0.24525,     0.24625,     0.24725,     0.24825,     0.24925,     0.25025,     0.25125,     0.25225,     0.25325,     0.25425,     0.25526,     0.25626,     0.25726,     0.25826,     0.25926,     0.26026,     0.26126,     0.26226,     0.26326,\n",
       "           0.26426,     0.26527,     0.26627,     0.26727,     0.26827,     0.26927,     0.27027,     0.27127,     0.27227,     0.27327,     0.27427,     0.27528,     0.27628,     0.27728,     0.27828,     0.27928,     0.28028,     0.28128,     0.28228,     0.28328,     0.28428,     0.28529,     0.28629,     0.28729,\n",
       "           0.28829,     0.28929,     0.29029,     0.29129,     0.29229,     0.29329,     0.29429,      0.2953,      0.2963,      0.2973,      0.2983,      0.2993,      0.3003,      0.3013,      0.3023,      0.3033,      0.3043,     0.30531,     0.30631,     0.30731,     0.30831,     0.30931,     0.31031,     0.31131,\n",
       "           0.31231,     0.31331,     0.31431,     0.31532,     0.31632,     0.31732,     0.31832,     0.31932,     0.32032,     0.32132,     0.32232,     0.32332,     0.32432,     0.32533,     0.32633,     0.32733,     0.32833,     0.32933,     0.33033,     0.33133,     0.33233,     0.33333,     0.33433,     0.33534,\n",
       "           0.33634,     0.33734,     0.33834,     0.33934,     0.34034,     0.34134,     0.34234,     0.34334,     0.34434,     0.34535,     0.34635,     0.34735,     0.34835,     0.34935,     0.35035,     0.35135,     0.35235,     0.35335,     0.35435,     0.35536,     0.35636,     0.35736,     0.35836,     0.35936,\n",
       "           0.36036,     0.36136,     0.36236,     0.36336,     0.36436,     0.36537,     0.36637,     0.36737,     0.36837,     0.36937,     0.37037,     0.37137,     0.37237,     0.37337,     0.37437,     0.37538,     0.37638,     0.37738,     0.37838,     0.37938,     0.38038,     0.38138,     0.38238,     0.38338,\n",
       "           0.38438,     0.38539,     0.38639,     0.38739,     0.38839,     0.38939,     0.39039,     0.39139,     0.39239,     0.39339,     0.39439,      0.3954,      0.3964,      0.3974,      0.3984,      0.3994,      0.4004,      0.4014,      0.4024,      0.4034,      0.4044,     0.40541,     0.40641,     0.40741,\n",
       "           0.40841,     0.40941,     0.41041,     0.41141,     0.41241,     0.41341,     0.41441,     0.41542,     0.41642,     0.41742,     0.41842,     0.41942,     0.42042,     0.42142,     0.42242,     0.42342,     0.42442,     0.42543,     0.42643,     0.42743,     0.42843,     0.42943,     0.43043,     0.43143,\n",
       "           0.43243,     0.43343,     0.43443,     0.43544,     0.43644,     0.43744,     0.43844,     0.43944,     0.44044,     0.44144,     0.44244,     0.44344,     0.44444,     0.44545,     0.44645,     0.44745,     0.44845,     0.44945,     0.45045,     0.45145,     0.45245,     0.45345,     0.45445,     0.45546,\n",
       "           0.45646,     0.45746,     0.45846,     0.45946,     0.46046,     0.46146,     0.46246,     0.46346,     0.46446,     0.46547,     0.46647,     0.46747,     0.46847,     0.46947,     0.47047,     0.47147,     0.47247,     0.47347,     0.47447,     0.47548,     0.47648,     0.47748,     0.47848,     0.47948,\n",
       "           0.48048,     0.48148,     0.48248,     0.48348,     0.48448,     0.48549,     0.48649,     0.48749,     0.48849,     0.48949,     0.49049,     0.49149,     0.49249,     0.49349,     0.49449,      0.4955,      0.4965,      0.4975,      0.4985,      0.4995,      0.5005,      0.5015,      0.5025,      0.5035,\n",
       "            0.5045,     0.50551,     0.50651,     0.50751,     0.50851,     0.50951,     0.51051,     0.51151,     0.51251,     0.51351,     0.51451,     0.51552,     0.51652,     0.51752,     0.51852,     0.51952,     0.52052,     0.52152,     0.52252,     0.52352,     0.52452,     0.52553,     0.52653,     0.52753,\n",
       "           0.52853,     0.52953,     0.53053,     0.53153,     0.53253,     0.53353,     0.53453,     0.53554,     0.53654,     0.53754,     0.53854,     0.53954,     0.54054,     0.54154,     0.54254,     0.54354,     0.54454,     0.54555,     0.54655,     0.54755,     0.54855,     0.54955,     0.55055,     0.55155,\n",
       "           0.55255,     0.55355,     0.55455,     0.55556,     0.55656,     0.55756,     0.55856,     0.55956,     0.56056,     0.56156,     0.56256,     0.56356,     0.56456,     0.56557,     0.56657,     0.56757,     0.56857,     0.56957,     0.57057,     0.57157,     0.57257,     0.57357,     0.57457,     0.57558,\n",
       "           0.57658,     0.57758,     0.57858,     0.57958,     0.58058,     0.58158,     0.58258,     0.58358,     0.58458,     0.58559,     0.58659,     0.58759,     0.58859,     0.58959,     0.59059,     0.59159,     0.59259,     0.59359,     0.59459,      0.5956,      0.5966,      0.5976,      0.5986,      0.5996,\n",
       "            0.6006,      0.6016,      0.6026,      0.6036,      0.6046,     0.60561,     0.60661,     0.60761,     0.60861,     0.60961,     0.61061,     0.61161,     0.61261,     0.61361,     0.61461,     0.61562,     0.61662,     0.61762,     0.61862,     0.61962,     0.62062,     0.62162,     0.62262,     0.62362,\n",
       "           0.62462,     0.62563,     0.62663,     0.62763,     0.62863,     0.62963,     0.63063,     0.63163,     0.63263,     0.63363,     0.63463,     0.63564,     0.63664,     0.63764,     0.63864,     0.63964,     0.64064,     0.64164,     0.64264,     0.64364,     0.64464,     0.64565,     0.64665,     0.64765,\n",
       "           0.64865,     0.64965,     0.65065,     0.65165,     0.65265,     0.65365,     0.65465,     0.65566,     0.65666,     0.65766,     0.65866,     0.65966,     0.66066,     0.66166,     0.66266,     0.66366,     0.66466,     0.66567,     0.66667,     0.66767,     0.66867,     0.66967,     0.67067,     0.67167,\n",
       "           0.67267,     0.67367,     0.67467,     0.67568,     0.67668,     0.67768,     0.67868,     0.67968,     0.68068,     0.68168,     0.68268,     0.68368,     0.68468,     0.68569,     0.68669,     0.68769,     0.68869,     0.68969,     0.69069,     0.69169,     0.69269,     0.69369,     0.69469,      0.6957,\n",
       "            0.6967,      0.6977,      0.6987,      0.6997,      0.7007,      0.7017,      0.7027,      0.7037,      0.7047,     0.70571,     0.70671,     0.70771,     0.70871,     0.70971,     0.71071,     0.71171,     0.71271,     0.71371,     0.71471,     0.71572,     0.71672,     0.71772,     0.71872,     0.71972,\n",
       "           0.72072,     0.72172,     0.72272,     0.72372,     0.72472,     0.72573,     0.72673,     0.72773,     0.72873,     0.72973,     0.73073,     0.73173,     0.73273,     0.73373,     0.73473,     0.73574,     0.73674,     0.73774,     0.73874,     0.73974,     0.74074,     0.74174,     0.74274,     0.74374,\n",
       "           0.74474,     0.74575,     0.74675,     0.74775,     0.74875,     0.74975,     0.75075,     0.75175,     0.75275,     0.75375,     0.75475,     0.75576,     0.75676,     0.75776,     0.75876,     0.75976,     0.76076,     0.76176,     0.76276,     0.76376,     0.76476,     0.76577,     0.76677,     0.76777,\n",
       "           0.76877,     0.76977,     0.77077,     0.77177,     0.77277,     0.77377,     0.77477,     0.77578,     0.77678,     0.77778,     0.77878,     0.77978,     0.78078,     0.78178,     0.78278,     0.78378,     0.78478,     0.78579,     0.78679,     0.78779,     0.78879,     0.78979,     0.79079,     0.79179,\n",
       "           0.79279,     0.79379,     0.79479,      0.7958,      0.7968,      0.7978,      0.7988,      0.7998,      0.8008,      0.8018,      0.8028,      0.8038,      0.8048,     0.80581,     0.80681,     0.80781,     0.80881,     0.80981,     0.81081,     0.81181,     0.81281,     0.81381,     0.81481,     0.81582,\n",
       "           0.81682,     0.81782,     0.81882,     0.81982,     0.82082,     0.82182,     0.82282,     0.82382,     0.82482,     0.82583,     0.82683,     0.82783,     0.82883,     0.82983,     0.83083,     0.83183,     0.83283,     0.83383,     0.83483,     0.83584,     0.83684,     0.83784,     0.83884,     0.83984,\n",
       "           0.84084,     0.84184,     0.84284,     0.84384,     0.84484,     0.84585,     0.84685,     0.84785,     0.84885,     0.84985,     0.85085,     0.85185,     0.85285,     0.85385,     0.85485,     0.85586,     0.85686,     0.85786,     0.85886,     0.85986,     0.86086,     0.86186,     0.86286,     0.86386,\n",
       "           0.86486,     0.86587,     0.86687,     0.86787,     0.86887,     0.86987,     0.87087,     0.87187,     0.87287,     0.87387,     0.87487,     0.87588,     0.87688,     0.87788,     0.87888,     0.87988,     0.88088,     0.88188,     0.88288,     0.88388,     0.88488,     0.88589,     0.88689,     0.88789,\n",
       "           0.88889,     0.88989,     0.89089,     0.89189,     0.89289,     0.89389,     0.89489,      0.8959,      0.8969,      0.8979,      0.8989,      0.8999,      0.9009,      0.9019,      0.9029,      0.9039,      0.9049,     0.90591,     0.90691,     0.90791,     0.90891,     0.90991,     0.91091,     0.91191,\n",
       "           0.91291,     0.91391,     0.91491,     0.91592,     0.91692,     0.91792,     0.91892,     0.91992,     0.92092,     0.92192,     0.92292,     0.92392,     0.92492,     0.92593,     0.92693,     0.92793,     0.92893,     0.92993,     0.93093,     0.93193,     0.93293,     0.93393,     0.93493,     0.93594,\n",
       "           0.93694,     0.93794,     0.93894,     0.93994,     0.94094,     0.94194,     0.94294,     0.94394,     0.94494,     0.94595,     0.94695,     0.94795,     0.94895,     0.94995,     0.95095,     0.95195,     0.95295,     0.95395,     0.95495,     0.95596,     0.95696,     0.95796,     0.95896,     0.95996,\n",
       "           0.96096,     0.96196,     0.96296,     0.96396,     0.96496,     0.96597,     0.96697,     0.96797,     0.96897,     0.96997,     0.97097,     0.97197,     0.97297,     0.97397,     0.97497,     0.97598,     0.97698,     0.97798,     0.97898,     0.97998,     0.98098,     0.98198,     0.98298,     0.98398,\n",
       "           0.98498,     0.98599,     0.98699,     0.98799,     0.98899,     0.98999,     0.99099,     0.99199,     0.99299,     0.99399,     0.99499,       0.996,       0.997,       0.998,       0.999,           1]), array([[    0.90709,     0.90709,      0.9459,     0.95885,     0.96767,     0.97395,     0.97602,      0.9778,     0.98051,     0.98235,      0.9831,     0.98336,     0.98363,     0.98432,     0.98522,     0.98587,     0.98664,     0.98705,     0.98736,     0.98767,     0.98776,     0.98782,     0.98789,\n",
       "            0.98795,     0.98802,     0.98808,     0.98814,     0.98821,     0.98827,     0.98834,      0.9891,     0.98933,     0.98957,     0.98976,     0.98986,     0.98995,     0.99005,     0.99015,     0.99025,     0.99035,     0.99063,     0.99131,     0.99183,     0.99195,     0.99208,      0.9922,\n",
       "            0.99232,     0.99244,     0.99248,     0.99251,     0.99255,     0.99259,     0.99262,     0.99266,     0.99269,     0.99273,     0.99276,      0.9928,     0.99283,     0.99287,      0.9929,     0.99294,     0.99298,     0.99301,     0.99305,     0.99308,     0.99312,     0.99313,     0.99313,\n",
       "            0.99313,     0.99313,     0.99313,     0.99313,     0.99313,     0.99313,     0.99313,     0.99313,     0.99313,     0.99313,     0.99313,     0.99313,     0.99313,     0.99313,     0.99313,     0.99313,     0.99313,     0.99313,     0.99313,     0.99313,     0.99313,     0.99313,     0.99313,\n",
       "            0.99313,     0.99313,     0.99313,     0.99313,     0.99313,     0.99313,     0.99313,     0.99313,     0.99313,     0.99313,     0.99313,     0.99313,     0.99313,     0.99313,     0.99313,     0.99313,     0.99313,     0.99313,     0.99313,     0.99313,     0.99313,     0.99313,     0.99313,\n",
       "            0.99313,     0.99313,     0.99313,     0.99313,     0.99313,     0.99313,     0.99313,     0.99313,     0.99313,     0.99312,     0.99312,     0.99312,     0.99312,     0.99312,     0.99312,     0.99312,     0.99312,     0.99312,     0.99312,     0.99312,     0.99312,     0.99312,     0.99312,\n",
       "            0.99312,     0.99312,     0.99312,     0.99312,     0.99312,     0.99312,     0.99312,     0.99312,     0.99312,     0.99312,     0.99312,     0.99312,     0.99312,     0.99312,     0.99312,     0.99312,     0.99312,     0.99312,     0.99312,     0.99312,     0.99312,     0.99312,     0.99312,\n",
       "            0.99312,     0.99312,     0.99312,     0.99312,     0.99312,     0.99312,     0.99312,     0.99312,     0.99312,     0.99312,     0.99312,     0.99312,     0.99312,     0.99312,     0.99312,     0.99312,     0.99312,     0.99312,     0.99312,     0.99312,     0.99312,     0.99312,     0.99312,\n",
       "            0.99312,     0.99312,     0.99312,     0.99312,     0.99312,     0.99312,     0.99312,     0.99312,     0.99312,     0.99326,     0.99346,     0.99366,     0.99381,     0.99381,     0.99381,     0.99381,     0.99381,     0.99381,     0.99381,     0.99381,     0.99381,     0.99381,     0.99381,\n",
       "            0.99381,     0.99381,     0.99381,     0.99381,     0.99381,     0.99381,     0.99381,     0.99381,      0.9938,      0.9938,      0.9938,      0.9938,      0.9938,      0.9938,      0.9938,      0.9938,      0.9938,      0.9938,      0.9938,      0.9938,      0.9938,      0.9938,      0.9938,\n",
       "             0.9938,      0.9938,      0.9938,      0.9938,      0.9938,      0.9938,      0.9938,      0.9938,      0.9938,      0.9938,      0.9938,      0.9938,      0.9938,      0.9938,      0.9938,      0.9938,      0.9938,      0.9938,      0.9938,      0.9938,      0.9938,      0.9938,      0.9938,\n",
       "             0.9938,      0.9938,      0.9938,      0.9938,      0.9938,      0.9938,      0.9938,      0.9938,      0.9938,      0.9938,      0.9938,      0.9938,      0.9938,      0.9938,      0.9938,      0.9938,      0.9938,      0.9938,      0.9938,      0.9938,      0.9938,      0.9938,      0.9938,\n",
       "             0.9938,      0.9938,      0.9938,      0.9938,      0.9938,      0.9938,      0.9938,      0.9938,      0.9938,      0.9938,      0.9938,      0.9938,      0.9938,      0.9938,      0.9938,      0.9938,      0.9938,      0.9938,      0.9938,      0.9938,      0.9938,      0.9938,      0.9938,\n",
       "             0.9938,      0.9938,      0.9938,      0.9938,      0.9938,      0.9938,     0.99379,     0.99379,     0.99379,     0.99379,     0.99379,     0.99379,     0.99379,     0.99379,     0.99379,     0.99379,     0.99379,     0.99379,     0.99382,     0.99386,     0.99391,     0.99395,     0.99399,\n",
       "            0.99403,     0.99408,     0.99412,     0.99416,      0.9942,     0.99425,     0.99429,     0.99433,     0.99438,     0.99442,     0.99446,     0.99449,     0.99451,     0.99454,     0.99456,     0.99458,     0.99461,     0.99463,     0.99465,     0.99467,      0.9947,     0.99472,     0.99474,\n",
       "            0.99476,     0.99479,     0.99481,     0.99483,     0.99486,     0.99488,      0.9949,     0.99492,     0.99495,     0.99497,     0.99499,     0.99501,     0.99504,     0.99506,     0.99508,     0.99511,     0.99513,     0.99515,     0.99517,     0.99517,     0.99517,     0.99517,     0.99517,\n",
       "            0.99517,     0.99517,     0.99517,     0.99517,     0.99517,     0.99517,     0.99517,     0.99517,     0.99517,     0.99517,     0.99517,     0.99517,     0.99517,     0.99517,     0.99517,     0.99517,     0.99517,     0.99517,     0.99517,     0.99516,     0.99516,     0.99516,     0.99516,\n",
       "            0.99516,     0.99516,     0.99516,     0.99516,     0.99516,     0.99516,     0.99516,     0.99516,     0.99516,     0.99516,     0.99516,     0.99516,     0.99516,     0.99516,     0.99516,     0.99516,     0.99516,     0.99516,     0.99516,     0.99516,     0.99516,     0.99516,     0.99516,\n",
       "            0.99516,     0.99516,     0.99516,     0.99516,     0.99516,     0.99516,     0.99516,     0.99516,     0.99516,     0.99516,     0.99516,     0.99516,     0.99516,     0.99516,     0.99516,     0.99516,     0.99516,     0.99516,     0.99516,     0.99516,     0.99516,     0.99516,     0.99516,\n",
       "            0.99516,     0.99516,     0.99516,     0.99516,     0.99516,     0.99516,     0.99516,     0.99516,     0.99516,     0.99516,     0.99516,     0.99516,     0.99516,     0.99516,     0.99516,     0.99516,     0.99516,     0.99516,     0.99516,     0.99516,     0.99516,     0.99516,     0.99516,\n",
       "            0.99516,     0.99516,     0.99516,     0.99516,     0.99516,     0.99516,     0.99516,     0.99516,     0.99516,     0.99516,     0.99517,     0.99517,     0.99518,     0.99518,     0.99519,     0.99519,      0.9952,      0.9952,     0.99521,     0.99521,     0.99522,     0.99522,     0.99522,\n",
       "            0.99523,     0.99523,     0.99524,     0.99524,     0.99525,     0.99525,     0.99526,     0.99526,     0.99527,     0.99527,     0.99528,     0.99528,     0.99529,     0.99529,      0.9953,      0.9953,     0.99531,     0.99531,     0.99532,     0.99532,     0.99533,     0.99533,     0.99534,\n",
       "            0.99534,     0.99535,     0.99535,     0.99536,     0.99536,     0.99537,     0.99537,     0.99538,     0.99538,     0.99539,     0.99539,      0.9954,      0.9954,     0.99541,     0.99541,     0.99542,     0.99542,     0.99543,     0.99543,     0.99544,     0.99544,     0.99545,     0.99545,\n",
       "            0.99546,     0.99546,     0.99546,     0.99547,     0.99547,     0.99548,     0.99548,     0.99549,     0.99549,      0.9955,      0.9955,     0.99551,     0.99551,     0.99552,     0.99552,     0.99553,     0.99553,     0.99554,     0.99554,     0.99555,     0.99555,     0.99556,     0.99556,\n",
       "            0.99557,     0.99557,     0.99558,     0.99558,     0.99559,     0.99559,      0.9956,      0.9956,     0.99561,     0.99561,     0.99562,     0.99562,     0.99563,     0.99563,     0.99564,     0.99564,     0.99565,     0.99565,     0.99566,     0.99566,     0.99567,     0.99567,     0.99568,\n",
       "            0.99568,     0.99569,     0.99569,      0.9957,      0.9957,      0.9957,     0.99571,     0.99571,     0.99572,     0.99572,     0.99573,     0.99573,     0.99574,     0.99574,     0.99575,     0.99575,     0.99576,     0.99576,     0.99577,     0.99577,     0.99578,     0.99578,     0.99579,\n",
       "            0.99579,      0.9958,      0.9958,     0.99581,     0.99581,     0.99582,     0.99582,     0.99583,     0.99583,     0.99584,     0.99584,     0.99585,     0.99585,     0.99585,     0.99585,     0.99585,     0.99585,     0.99585,     0.99585,     0.99585,     0.99585,     0.99585,     0.99585,\n",
       "            0.99585,     0.99585,     0.99585,     0.99585,     0.99585,     0.99585,     0.99585,     0.99585,     0.99585,     0.99585,     0.99585,     0.99585,     0.99585,     0.99585,     0.99585,     0.99585,     0.99585,     0.99585,     0.99585,     0.99585,     0.99585,     0.99585,     0.99585,\n",
       "            0.99585,     0.99585,     0.99585,     0.99585,     0.99585,     0.99585,     0.99585,     0.99585,     0.99585,     0.99585,     0.99585,     0.99585,     0.99585,     0.99585,     0.99585,     0.99585,     0.99585,     0.99585,     0.99585,     0.99584,     0.99586,     0.99599,     0.99612,\n",
       "            0.99625,     0.99637,      0.9965,     0.99657,     0.99662,     0.99667,     0.99672,     0.99678,     0.99683,     0.99688,     0.99693,     0.99698,     0.99703,     0.99708,     0.99713,     0.99718,     0.99723,     0.99723,     0.99723,     0.99723,     0.99723,     0.99723,     0.99723,\n",
       "            0.99723,     0.99723,     0.99723,     0.99723,     0.99723,     0.99723,     0.99723,     0.99723,     0.99723,     0.99723,     0.99723,     0.99722,     0.99722,     0.99722,     0.99722,     0.99722,     0.99722,     0.99722,     0.99722,     0.99722,     0.99722,     0.99722,     0.99722,\n",
       "            0.99722,     0.99722,     0.99722,     0.99722,     0.99722,     0.99722,     0.99722,     0.99722,     0.99722,     0.99722,     0.99722,     0.99722,     0.99722,     0.99722,     0.99722,     0.99722,     0.99722,     0.99722,     0.99722,     0.99722,     0.99722,     0.99722,     0.99722,\n",
       "            0.99722,     0.99722,     0.99722,     0.99722,     0.99722,     0.99722,     0.99722,     0.99722,     0.99722,     0.99722,     0.99722,     0.99722,     0.99722,     0.99722,     0.99723,     0.99725,     0.99728,      0.9973,     0.99733,     0.99735,     0.99738,      0.9974,     0.99742,\n",
       "            0.99745,     0.99747,      0.9975,     0.99752,     0.99755,     0.99757,      0.9976,     0.99762,     0.99765,     0.99767,     0.99769,     0.99772,     0.99774,     0.99777,     0.99779,     0.99782,     0.99784,     0.99787,     0.99789,     0.99791,     0.99796,     0.99801,     0.99805,\n",
       "             0.9981,     0.99814,     0.99819,     0.99824,     0.99828,     0.99833,     0.99837,     0.99842,     0.99846,     0.99851,     0.99856,      0.9986,      0.9993,      0.9993,      0.9993,      0.9993,      0.9993,      0.9993,      0.9993,      0.9993,      0.9993,      0.9993,      0.9993,\n",
       "             0.9993,      0.9993,      0.9993,      0.9993,      0.9993,      0.9993,      0.9993,      0.9993,      0.9993,      0.9993,      0.9993,      0.9993,      0.9993,      0.9993,      0.9993,      0.9993,      0.9993,      0.9993,      0.9993,      0.9993,      0.9993,      0.9993,      0.9993,\n",
       "             0.9993,      0.9993,      0.9993,      0.9993,      0.9993,      0.9993,      0.9993,      0.9993,      0.9993,      0.9993,      0.9993,      0.9993,      0.9993,      0.9993,     0.99929,     0.99929,     0.99929,     0.99929,     0.99929,     0.99929,     0.99929,     0.99929,     0.99929,\n",
       "            0.99929,     0.99929,     0.99929,     0.99929,     0.99929,     0.99929,     0.99929,     0.99929,     0.99929,     0.99929,     0.99929,     0.99929,     0.99929,     0.99929,     0.99929,     0.99929,     0.99929,     0.99928,     0.99928,     0.99928,     0.99928,     0.99928,     0.99928,\n",
       "            0.99928,     0.99928,     0.99928,     0.99928,     0.99928,     0.99928,     0.99928,     0.99928,     0.99928,     0.99928,     0.99928,     0.99927,     0.99927,     0.99927,     0.99927,     0.99927,     0.99926,     0.99926,     0.99926,     0.99926,     0.99925,     0.99925,     0.99924,\n",
       "            0.99923,     0.99923,     0.99922,     0.99922,     0.99921,     0.99919,     0.99918,     0.99917,     0.99916,     0.99914,     0.99913,     0.99911,     0.99908,     0.99905,     0.99902,     0.99898,     0.99894,     0.99889,     0.99884,     0.99875,     0.99868,     0.99859,     0.99845,\n",
       "            0.99827,     0.99814,     0.99794,     0.99775,           1,           1,           1,           1,           1,           1,           1,           1,           1,           1,           1,           1,           1,           1,           1,           1,           1,           1,           1,\n",
       "                  1,           1,           1,           1,           1,           1,           1,           1,           1,           1,           1,           1,           1,           1,           1,           1,           1,           1,           1,           1,           1,           1,           1,\n",
       "                  1,           1,           1,           1,           1,           1,           1,           1,           1,           1,           1,           1,           1,           1,           1,           1,           1,           1,           1,           1,           1,           1,           1,\n",
       "                  1,           1,           1,           1,           1,           1,           1,           1,           1,           1,           1]]), 'Confidence', 'Precision'], [array([          0,    0.001001,    0.002002,    0.003003,    0.004004,    0.005005,    0.006006,    0.007007,    0.008008,    0.009009,     0.01001,    0.011011,    0.012012,    0.013013,    0.014014,    0.015015,    0.016016,    0.017017,    0.018018,    0.019019,     0.02002,    0.021021,    0.022022,    0.023023,\n",
       "          0.024024,    0.025025,    0.026026,    0.027027,    0.028028,    0.029029,     0.03003,    0.031031,    0.032032,    0.033033,    0.034034,    0.035035,    0.036036,    0.037037,    0.038038,    0.039039,     0.04004,    0.041041,    0.042042,    0.043043,    0.044044,    0.045045,    0.046046,    0.047047,\n",
       "          0.048048,    0.049049,     0.05005,    0.051051,    0.052052,    0.053053,    0.054054,    0.055055,    0.056056,    0.057057,    0.058058,    0.059059,     0.06006,    0.061061,    0.062062,    0.063063,    0.064064,    0.065065,    0.066066,    0.067067,    0.068068,    0.069069,     0.07007,    0.071071,\n",
       "          0.072072,    0.073073,    0.074074,    0.075075,    0.076076,    0.077077,    0.078078,    0.079079,     0.08008,    0.081081,    0.082082,    0.083083,    0.084084,    0.085085,    0.086086,    0.087087,    0.088088,    0.089089,     0.09009,    0.091091,    0.092092,    0.093093,    0.094094,    0.095095,\n",
       "          0.096096,    0.097097,    0.098098,    0.099099,      0.1001,      0.1011,      0.1021,      0.1031,      0.1041,     0.10511,     0.10611,     0.10711,     0.10811,     0.10911,     0.11011,     0.11111,     0.11211,     0.11311,     0.11411,     0.11512,     0.11612,     0.11712,     0.11812,     0.11912,\n",
       "           0.12012,     0.12112,     0.12212,     0.12312,     0.12412,     0.12513,     0.12613,     0.12713,     0.12813,     0.12913,     0.13013,     0.13113,     0.13213,     0.13313,     0.13413,     0.13514,     0.13614,     0.13714,     0.13814,     0.13914,     0.14014,     0.14114,     0.14214,     0.14314,\n",
       "           0.14414,     0.14515,     0.14615,     0.14715,     0.14815,     0.14915,     0.15015,     0.15115,     0.15215,     0.15315,     0.15415,     0.15516,     0.15616,     0.15716,     0.15816,     0.15916,     0.16016,     0.16116,     0.16216,     0.16316,     0.16416,     0.16517,     0.16617,     0.16717,\n",
       "           0.16817,     0.16917,     0.17017,     0.17117,     0.17217,     0.17317,     0.17417,     0.17518,     0.17618,     0.17718,     0.17818,     0.17918,     0.18018,     0.18118,     0.18218,     0.18318,     0.18418,     0.18519,     0.18619,     0.18719,     0.18819,     0.18919,     0.19019,     0.19119,\n",
       "           0.19219,     0.19319,     0.19419,      0.1952,      0.1962,      0.1972,      0.1982,      0.1992,      0.2002,      0.2012,      0.2022,      0.2032,      0.2042,     0.20521,     0.20621,     0.20721,     0.20821,     0.20921,     0.21021,     0.21121,     0.21221,     0.21321,     0.21421,     0.21522,\n",
       "           0.21622,     0.21722,     0.21822,     0.21922,     0.22022,     0.22122,     0.22222,     0.22322,     0.22422,     0.22523,     0.22623,     0.22723,     0.22823,     0.22923,     0.23023,     0.23123,     0.23223,     0.23323,     0.23423,     0.23524,     0.23624,     0.23724,     0.23824,     0.23924,\n",
       "           0.24024,     0.24124,     0.24224,     0.24324,     0.24424,     0.24525,     0.24625,     0.24725,     0.24825,     0.24925,     0.25025,     0.25125,     0.25225,     0.25325,     0.25425,     0.25526,     0.25626,     0.25726,     0.25826,     0.25926,     0.26026,     0.26126,     0.26226,     0.26326,\n",
       "           0.26426,     0.26527,     0.26627,     0.26727,     0.26827,     0.26927,     0.27027,     0.27127,     0.27227,     0.27327,     0.27427,     0.27528,     0.27628,     0.27728,     0.27828,     0.27928,     0.28028,     0.28128,     0.28228,     0.28328,     0.28428,     0.28529,     0.28629,     0.28729,\n",
       "           0.28829,     0.28929,     0.29029,     0.29129,     0.29229,     0.29329,     0.29429,      0.2953,      0.2963,      0.2973,      0.2983,      0.2993,      0.3003,      0.3013,      0.3023,      0.3033,      0.3043,     0.30531,     0.30631,     0.30731,     0.30831,     0.30931,     0.31031,     0.31131,\n",
       "           0.31231,     0.31331,     0.31431,     0.31532,     0.31632,     0.31732,     0.31832,     0.31932,     0.32032,     0.32132,     0.32232,     0.32332,     0.32432,     0.32533,     0.32633,     0.32733,     0.32833,     0.32933,     0.33033,     0.33133,     0.33233,     0.33333,     0.33433,     0.33534,\n",
       "           0.33634,     0.33734,     0.33834,     0.33934,     0.34034,     0.34134,     0.34234,     0.34334,     0.34434,     0.34535,     0.34635,     0.34735,     0.34835,     0.34935,     0.35035,     0.35135,     0.35235,     0.35335,     0.35435,     0.35536,     0.35636,     0.35736,     0.35836,     0.35936,\n",
       "           0.36036,     0.36136,     0.36236,     0.36336,     0.36436,     0.36537,     0.36637,     0.36737,     0.36837,     0.36937,     0.37037,     0.37137,     0.37237,     0.37337,     0.37437,     0.37538,     0.37638,     0.37738,     0.37838,     0.37938,     0.38038,     0.38138,     0.38238,     0.38338,\n",
       "           0.38438,     0.38539,     0.38639,     0.38739,     0.38839,     0.38939,     0.39039,     0.39139,     0.39239,     0.39339,     0.39439,      0.3954,      0.3964,      0.3974,      0.3984,      0.3994,      0.4004,      0.4014,      0.4024,      0.4034,      0.4044,     0.40541,     0.40641,     0.40741,\n",
       "           0.40841,     0.40941,     0.41041,     0.41141,     0.41241,     0.41341,     0.41441,     0.41542,     0.41642,     0.41742,     0.41842,     0.41942,     0.42042,     0.42142,     0.42242,     0.42342,     0.42442,     0.42543,     0.42643,     0.42743,     0.42843,     0.42943,     0.43043,     0.43143,\n",
       "           0.43243,     0.43343,     0.43443,     0.43544,     0.43644,     0.43744,     0.43844,     0.43944,     0.44044,     0.44144,     0.44244,     0.44344,     0.44444,     0.44545,     0.44645,     0.44745,     0.44845,     0.44945,     0.45045,     0.45145,     0.45245,     0.45345,     0.45445,     0.45546,\n",
       "           0.45646,     0.45746,     0.45846,     0.45946,     0.46046,     0.46146,     0.46246,     0.46346,     0.46446,     0.46547,     0.46647,     0.46747,     0.46847,     0.46947,     0.47047,     0.47147,     0.47247,     0.47347,     0.47447,     0.47548,     0.47648,     0.47748,     0.47848,     0.47948,\n",
       "           0.48048,     0.48148,     0.48248,     0.48348,     0.48448,     0.48549,     0.48649,     0.48749,     0.48849,     0.48949,     0.49049,     0.49149,     0.49249,     0.49349,     0.49449,      0.4955,      0.4965,      0.4975,      0.4985,      0.4995,      0.5005,      0.5015,      0.5025,      0.5035,\n",
       "            0.5045,     0.50551,     0.50651,     0.50751,     0.50851,     0.50951,     0.51051,     0.51151,     0.51251,     0.51351,     0.51451,     0.51552,     0.51652,     0.51752,     0.51852,     0.51952,     0.52052,     0.52152,     0.52252,     0.52352,     0.52452,     0.52553,     0.52653,     0.52753,\n",
       "           0.52853,     0.52953,     0.53053,     0.53153,     0.53253,     0.53353,     0.53453,     0.53554,     0.53654,     0.53754,     0.53854,     0.53954,     0.54054,     0.54154,     0.54254,     0.54354,     0.54454,     0.54555,     0.54655,     0.54755,     0.54855,     0.54955,     0.55055,     0.55155,\n",
       "           0.55255,     0.55355,     0.55455,     0.55556,     0.55656,     0.55756,     0.55856,     0.55956,     0.56056,     0.56156,     0.56256,     0.56356,     0.56456,     0.56557,     0.56657,     0.56757,     0.56857,     0.56957,     0.57057,     0.57157,     0.57257,     0.57357,     0.57457,     0.57558,\n",
       "           0.57658,     0.57758,     0.57858,     0.57958,     0.58058,     0.58158,     0.58258,     0.58358,     0.58458,     0.58559,     0.58659,     0.58759,     0.58859,     0.58959,     0.59059,     0.59159,     0.59259,     0.59359,     0.59459,      0.5956,      0.5966,      0.5976,      0.5986,      0.5996,\n",
       "            0.6006,      0.6016,      0.6026,      0.6036,      0.6046,     0.60561,     0.60661,     0.60761,     0.60861,     0.60961,     0.61061,     0.61161,     0.61261,     0.61361,     0.61461,     0.61562,     0.61662,     0.61762,     0.61862,     0.61962,     0.62062,     0.62162,     0.62262,     0.62362,\n",
       "           0.62462,     0.62563,     0.62663,     0.62763,     0.62863,     0.62963,     0.63063,     0.63163,     0.63263,     0.63363,     0.63463,     0.63564,     0.63664,     0.63764,     0.63864,     0.63964,     0.64064,     0.64164,     0.64264,     0.64364,     0.64464,     0.64565,     0.64665,     0.64765,\n",
       "           0.64865,     0.64965,     0.65065,     0.65165,     0.65265,     0.65365,     0.65465,     0.65566,     0.65666,     0.65766,     0.65866,     0.65966,     0.66066,     0.66166,     0.66266,     0.66366,     0.66466,     0.66567,     0.66667,     0.66767,     0.66867,     0.66967,     0.67067,     0.67167,\n",
       "           0.67267,     0.67367,     0.67467,     0.67568,     0.67668,     0.67768,     0.67868,     0.67968,     0.68068,     0.68168,     0.68268,     0.68368,     0.68468,     0.68569,     0.68669,     0.68769,     0.68869,     0.68969,     0.69069,     0.69169,     0.69269,     0.69369,     0.69469,      0.6957,\n",
       "            0.6967,      0.6977,      0.6987,      0.6997,      0.7007,      0.7017,      0.7027,      0.7037,      0.7047,     0.70571,     0.70671,     0.70771,     0.70871,     0.70971,     0.71071,     0.71171,     0.71271,     0.71371,     0.71471,     0.71572,     0.71672,     0.71772,     0.71872,     0.71972,\n",
       "           0.72072,     0.72172,     0.72272,     0.72372,     0.72472,     0.72573,     0.72673,     0.72773,     0.72873,     0.72973,     0.73073,     0.73173,     0.73273,     0.73373,     0.73473,     0.73574,     0.73674,     0.73774,     0.73874,     0.73974,     0.74074,     0.74174,     0.74274,     0.74374,\n",
       "           0.74474,     0.74575,     0.74675,     0.74775,     0.74875,     0.74975,     0.75075,     0.75175,     0.75275,     0.75375,     0.75475,     0.75576,     0.75676,     0.75776,     0.75876,     0.75976,     0.76076,     0.76176,     0.76276,     0.76376,     0.76476,     0.76577,     0.76677,     0.76777,\n",
       "           0.76877,     0.76977,     0.77077,     0.77177,     0.77277,     0.77377,     0.77477,     0.77578,     0.77678,     0.77778,     0.77878,     0.77978,     0.78078,     0.78178,     0.78278,     0.78378,     0.78478,     0.78579,     0.78679,     0.78779,     0.78879,     0.78979,     0.79079,     0.79179,\n",
       "           0.79279,     0.79379,     0.79479,      0.7958,      0.7968,      0.7978,      0.7988,      0.7998,      0.8008,      0.8018,      0.8028,      0.8038,      0.8048,     0.80581,     0.80681,     0.80781,     0.80881,     0.80981,     0.81081,     0.81181,     0.81281,     0.81381,     0.81481,     0.81582,\n",
       "           0.81682,     0.81782,     0.81882,     0.81982,     0.82082,     0.82182,     0.82282,     0.82382,     0.82482,     0.82583,     0.82683,     0.82783,     0.82883,     0.82983,     0.83083,     0.83183,     0.83283,     0.83383,     0.83483,     0.83584,     0.83684,     0.83784,     0.83884,     0.83984,\n",
       "           0.84084,     0.84184,     0.84284,     0.84384,     0.84484,     0.84585,     0.84685,     0.84785,     0.84885,     0.84985,     0.85085,     0.85185,     0.85285,     0.85385,     0.85485,     0.85586,     0.85686,     0.85786,     0.85886,     0.85986,     0.86086,     0.86186,     0.86286,     0.86386,\n",
       "           0.86486,     0.86587,     0.86687,     0.86787,     0.86887,     0.86987,     0.87087,     0.87187,     0.87287,     0.87387,     0.87487,     0.87588,     0.87688,     0.87788,     0.87888,     0.87988,     0.88088,     0.88188,     0.88288,     0.88388,     0.88488,     0.88589,     0.88689,     0.88789,\n",
       "           0.88889,     0.88989,     0.89089,     0.89189,     0.89289,     0.89389,     0.89489,      0.8959,      0.8969,      0.8979,      0.8989,      0.8999,      0.9009,      0.9019,      0.9029,      0.9039,      0.9049,     0.90591,     0.90691,     0.90791,     0.90891,     0.90991,     0.91091,     0.91191,\n",
       "           0.91291,     0.91391,     0.91491,     0.91592,     0.91692,     0.91792,     0.91892,     0.91992,     0.92092,     0.92192,     0.92292,     0.92392,     0.92492,     0.92593,     0.92693,     0.92793,     0.92893,     0.92993,     0.93093,     0.93193,     0.93293,     0.93393,     0.93493,     0.93594,\n",
       "           0.93694,     0.93794,     0.93894,     0.93994,     0.94094,     0.94194,     0.94294,     0.94394,     0.94494,     0.94595,     0.94695,     0.94795,     0.94895,     0.94995,     0.95095,     0.95195,     0.95295,     0.95395,     0.95495,     0.95596,     0.95696,     0.95796,     0.95896,     0.95996,\n",
       "           0.96096,     0.96196,     0.96296,     0.96396,     0.96496,     0.96597,     0.96697,     0.96797,     0.96897,     0.96997,     0.97097,     0.97197,     0.97297,     0.97397,     0.97497,     0.97598,     0.97698,     0.97798,     0.97898,     0.97998,     0.98098,     0.98198,     0.98298,     0.98398,\n",
       "           0.98498,     0.98599,     0.98699,     0.98799,     0.98899,     0.98999,     0.99099,     0.99199,     0.99299,     0.99399,     0.99499,       0.996,       0.997,       0.998,       0.999,           1]), array([[    0.99655,     0.99655,     0.99655,     0.99655,     0.99655,     0.99655,     0.99655,     0.99655,     0.99655,     0.99655,     0.99655,     0.99655,     0.99655,     0.99655,     0.99655,     0.99655,     0.99655,     0.99655,     0.99655,     0.99655,     0.99655,     0.99655,     0.99655,\n",
       "            0.99655,     0.99655,     0.99655,     0.99655,     0.99655,     0.99655,     0.99655,     0.99655,     0.99655,     0.99655,     0.99655,     0.99655,     0.99655,     0.99655,     0.99655,     0.99655,     0.99655,     0.99655,     0.99655,     0.99655,     0.99655,     0.99655,     0.99655,\n",
       "            0.99655,     0.99655,     0.99655,     0.99655,     0.99655,     0.99655,     0.99655,     0.99655,     0.99655,     0.99655,     0.99655,     0.99655,     0.99655,     0.99655,     0.99655,     0.99655,     0.99655,     0.99655,     0.99655,     0.99655,     0.99655,     0.99655,     0.99654,\n",
       "            0.99654,     0.99653,     0.99653,     0.99652,     0.99651,     0.99651,      0.9965,      0.9965,     0.99649,     0.99649,     0.99648,     0.99648,     0.99647,     0.99647,     0.99646,     0.99645,     0.99645,     0.99644,     0.99644,     0.99643,     0.99643,     0.99642,     0.99642,\n",
       "            0.99641,     0.99641,      0.9964,     0.99639,     0.99639,     0.99638,     0.99638,     0.99637,     0.99637,     0.99636,     0.99636,     0.99635,     0.99635,     0.99634,     0.99633,     0.99633,     0.99632,     0.99632,     0.99631,     0.99631,      0.9963,      0.9963,     0.99629,\n",
       "            0.99629,     0.99628,     0.99627,     0.99627,     0.99626,     0.99626,     0.99625,     0.99625,     0.99624,     0.99624,     0.99623,     0.99622,     0.99622,     0.99621,     0.99621,      0.9962,      0.9962,     0.99619,     0.99619,     0.99618,     0.99618,     0.99617,     0.99616,\n",
       "            0.99616,     0.99615,     0.99615,     0.99614,     0.99614,     0.99613,     0.99613,     0.99612,     0.99612,     0.99611,      0.9961,      0.9961,     0.99609,     0.99609,     0.99608,     0.99608,     0.99607,     0.99607,     0.99606,     0.99606,     0.99605,     0.99604,     0.99604,\n",
       "            0.99603,     0.99603,     0.99602,     0.99602,     0.99601,     0.99601,       0.996,       0.996,     0.99599,     0.99598,     0.99598,     0.99597,     0.99597,     0.99596,     0.99596,     0.99595,     0.99595,     0.99594,     0.99593,     0.99593,     0.99592,     0.99592,     0.99591,\n",
       "            0.99591,      0.9959,      0.9959,     0.99589,     0.99589,     0.99588,     0.99587,     0.99587,     0.99586,     0.99586,     0.99586,     0.99586,     0.99586,     0.99585,     0.99584,     0.99584,     0.99583,     0.99582,     0.99581,      0.9958,      0.9958,     0.99579,     0.99578,\n",
       "            0.99577,     0.99577,     0.99576,     0.99575,     0.99574,     0.99573,     0.99573,     0.99572,     0.99571,      0.9957,     0.99569,     0.99569,     0.99568,     0.99567,     0.99566,     0.99566,     0.99565,     0.99564,     0.99563,     0.99562,     0.99562,     0.99561,      0.9956,\n",
       "            0.99559,     0.99558,     0.99558,     0.99557,     0.99556,     0.99555,     0.99555,     0.99554,     0.99553,     0.99552,     0.99551,     0.99551,      0.9955,     0.99549,     0.99548,     0.99547,     0.99547,     0.99546,     0.99545,     0.99544,     0.99544,     0.99543,     0.99542,\n",
       "            0.99541,      0.9954,      0.9954,     0.99539,     0.99538,     0.99537,     0.99536,     0.99536,     0.99535,     0.99534,     0.99533,     0.99533,     0.99532,     0.99531,      0.9953,     0.99529,     0.99529,     0.99528,     0.99527,     0.99526,     0.99525,     0.99525,     0.99524,\n",
       "            0.99523,     0.99522,     0.99521,     0.99521,      0.9952,     0.99519,     0.99518,     0.99518,      0.9951,     0.99498,     0.99485,     0.99473,     0.99461,     0.99448,     0.99446,     0.99443,     0.99441,     0.99438,     0.99436,     0.99433,     0.99431,     0.99428,     0.99426,\n",
       "            0.99423,     0.99421,     0.99418,     0.99415,     0.99413,      0.9941,     0.99408,     0.99405,     0.99403,       0.994,     0.99398,     0.99395,     0.99393,      0.9939,     0.99388,     0.99385,     0.99383,      0.9938,     0.99379,     0.99379,     0.99379,     0.99379,     0.99379,\n",
       "            0.99379,     0.99379,     0.99379,     0.99379,     0.99379,     0.99379,     0.99379,     0.99379,     0.99379,     0.99379,     0.99379,     0.99379,     0.99379,     0.99379,     0.99379,     0.99379,     0.99379,     0.99379,     0.99379,     0.99379,     0.99379,     0.99379,     0.99379,\n",
       "            0.99379,     0.99379,     0.99379,     0.99379,     0.99379,     0.99379,     0.99379,     0.99379,     0.99379,     0.99379,     0.99379,     0.99379,     0.99379,     0.99379,     0.99379,     0.99379,     0.99379,     0.99379,     0.99379,     0.99378,     0.99378,     0.99377,     0.99377,\n",
       "            0.99376,     0.99375,     0.99375,     0.99374,     0.99373,     0.99373,     0.99372,     0.99371,     0.99371,      0.9937,     0.99369,     0.99369,     0.99368,     0.99367,     0.99367,     0.99366,     0.99366,     0.99365,     0.99364,     0.99364,     0.99363,     0.99362,     0.99362,\n",
       "            0.99361,      0.9936,      0.9936,     0.99359,     0.99358,     0.99358,     0.99357,     0.99356,     0.99356,     0.99355,     0.99355,     0.99354,     0.99353,     0.99353,     0.99352,     0.99351,     0.99351,      0.9935,     0.99349,     0.99349,     0.99348,     0.99347,     0.99347,\n",
       "            0.99346,     0.99345,     0.99345,     0.99344,     0.99344,     0.99343,     0.99342,     0.99342,     0.99341,      0.9934,      0.9934,     0.99339,     0.99338,     0.99338,     0.99337,     0.99336,     0.99336,     0.99335,     0.99334,     0.99334,     0.99333,     0.99333,     0.99332,\n",
       "            0.99331,     0.99331,      0.9933,     0.99329,     0.99329,     0.99328,     0.99327,     0.99327,     0.99326,     0.99325,     0.99325,     0.99324,     0.99323,     0.99323,     0.99322,     0.99322,     0.99321,      0.9932,      0.9932,     0.99319,     0.99318,     0.99318,     0.99317,\n",
       "            0.99316,     0.99316,     0.99315,     0.99314,     0.99314,     0.99313,     0.99312,     0.99312,     0.99311,     0.99311,      0.9931,      0.9931,      0.9931,      0.9931,      0.9931,      0.9931,      0.9931,      0.9931,      0.9931,      0.9931,      0.9931,      0.9931,      0.9931,\n",
       "             0.9931,      0.9931,      0.9931,      0.9931,      0.9931,      0.9931,      0.9931,      0.9931,      0.9931,      0.9931,      0.9931,      0.9931,      0.9931,      0.9931,      0.9931,      0.9931,      0.9931,      0.9931,      0.9931,      0.9931,      0.9931,      0.9931,      0.9931,\n",
       "             0.9931,      0.9931,      0.9931,      0.9931,      0.9931,      0.9931,      0.9931,      0.9931,      0.9931,      0.9931,      0.9931,      0.9931,      0.9931,      0.9931,      0.9931,      0.9931,      0.9931,      0.9931,      0.9931,      0.9931,      0.9931,      0.9931,      0.9931,\n",
       "             0.9931,      0.9931,      0.9931,      0.9931,      0.9931,      0.9931,      0.9931,      0.9931,      0.9931,      0.9931,      0.9931,      0.9931,      0.9931,      0.9931,      0.9931,      0.9931,      0.9931,      0.9931,      0.9931,      0.9931,      0.9931,      0.9931,      0.9931,\n",
       "             0.9931,      0.9931,      0.9931,      0.9931,      0.9931,      0.9931,      0.9931,      0.9931,      0.9931,      0.9931,      0.9931,      0.9931,      0.9931,      0.9931,      0.9931,      0.9931,      0.9931,      0.9931,      0.9931,      0.9931,      0.9931,      0.9931,      0.9931,\n",
       "             0.9931,      0.9931,      0.9931,      0.9931,      0.9931,      0.9931,      0.9931,      0.9931,      0.9931,      0.9931,      0.9931,      0.9931,      0.9931,      0.9931,      0.9931,      0.9931,      0.9931,      0.9931,      0.9931,      0.9931,      0.9931,      0.9931,      0.9931,\n",
       "             0.9931,      0.9931,      0.9931,      0.9931,      0.9931,      0.9931,      0.9931,      0.9931,      0.9931,      0.9931,      0.9931,      0.9931,     0.99309,     0.99303,     0.99296,      0.9929,     0.99284,     0.99278,     0.99272,     0.99266,      0.9926,     0.99253,     0.99247,\n",
       "            0.99241,      0.9924,     0.99238,     0.99236,     0.99235,     0.99233,     0.99232,      0.9923,     0.99228,     0.99227,     0.99225,     0.99224,     0.99222,      0.9922,     0.99219,     0.99217,     0.99216,     0.99214,     0.99212,     0.99211,     0.99209,     0.99208,     0.99206,\n",
       "            0.99204,     0.99203,     0.99201,       0.992,     0.99198,     0.99196,     0.99195,     0.99193,     0.99192,      0.9919,     0.99188,     0.99187,     0.99185,     0.99183,     0.99182,      0.9918,     0.99179,     0.99177,     0.99175,     0.99174,     0.99172,     0.99172,     0.99172,\n",
       "            0.99172,     0.99172,     0.99172,     0.99172,     0.99172,     0.99172,     0.99172,     0.99172,     0.99172,     0.99172,     0.99172,     0.99172,     0.99172,     0.99172,     0.99172,     0.99172,     0.99172,      0.9917,     0.99168,     0.99166,     0.99164,     0.99161,     0.99159,\n",
       "            0.99157,     0.99155,     0.99153,      0.9915,     0.99148,     0.99146,     0.99144,     0.99142,      0.9914,     0.99137,     0.99135,     0.99133,     0.99131,     0.99129,     0.99127,     0.99124,     0.99122,      0.9912,     0.99118,     0.99116,     0.99113,     0.99111,     0.99109,\n",
       "            0.99107,     0.99105,     0.99103,     0.99101,     0.99099,     0.99097,     0.99095,     0.99093,     0.99091,     0.99089,     0.99087,     0.99085,     0.99083,     0.99081,     0.99079,     0.99077,     0.99075,     0.99073,     0.99071,     0.99069,     0.99067,     0.99065,     0.99063,\n",
       "            0.99061,     0.99059,     0.99058,     0.99056,     0.99054,     0.99052,      0.9905,     0.99048,     0.99046,     0.99044,     0.99042,      0.9904,     0.99038,     0.99036,     0.99034,     0.99034,     0.99034,     0.99034,     0.99034,     0.99034,     0.99034,     0.99034,     0.99034,\n",
       "            0.99034,     0.99034,     0.99034,     0.99034,     0.99034,     0.99034,     0.99034,     0.99034,     0.99034,     0.99034,     0.99034,     0.99034,     0.99034,     0.99034,     0.99034,     0.99034,     0.99034,     0.99034,     0.99034,     0.99034,     0.99034,     0.99034,     0.99034,\n",
       "            0.99034,     0.99034,     0.99034,     0.99034,     0.99034,     0.99034,     0.99034,     0.99034,     0.99034,     0.99034,     0.99034,     0.99034,     0.99024,     0.98996,     0.98968,      0.9896,     0.98953,     0.98947,      0.9894,     0.98934,     0.98927,     0.98921,     0.98915,\n",
       "            0.98908,     0.98902,     0.98891,     0.98863,     0.98835,     0.98814,     0.98797,     0.98779,     0.98761,     0.98741,     0.98721,     0.98701,       0.986,     0.98553,     0.98517,     0.98413,     0.98385,     0.98357,     0.98333,     0.98313,     0.98293,     0.98272,     0.98248,\n",
       "            0.98225,     0.98173,     0.98111,     0.98076,     0.98061,     0.98051,     0.98041,     0.98031,      0.9802,      0.9801,        0.98,     0.97966,     0.97861,     0.97791,     0.97744,     0.97708,     0.97679,      0.9765,     0.97615,     0.97559,     0.97468,     0.97423,     0.97387,\n",
       "            0.97324,     0.97254,     0.97218,      0.9719,     0.97161,     0.97133,     0.97105,     0.96832,      0.9669,      0.9667,     0.96649,     0.96629,       0.966,     0.96565,     0.96534,     0.96506,     0.96456,     0.96339,      0.9631,     0.96282,     0.96221,     0.96054,     0.96007,\n",
       "             0.9594,     0.95869,     0.95764,     0.95555,     0.95508,     0.95488,     0.95468,     0.95378,     0.95342,     0.95297,      0.9513,     0.95014,     0.94613,     0.94566,     0.94314,     0.93966,     0.93342,     0.92993,     0.92714,     0.92504,     0.92293,     0.91876,     0.91045,\n",
       "            0.90076,     0.89797,     0.88897,     0.87928,     0.86683,     0.85576,     0.84469,     0.83087,     0.81566,     0.80528,     0.79007,     0.77142,     0.74587,     0.72514,     0.69959,     0.67749,     0.65262,     0.62087,       0.596,     0.55183,     0.52145,     0.48762,     0.44345,\n",
       "             0.3979,     0.37097,     0.33438,     0.30607,     0.27018,     0.24255,     0.21011,     0.17697,     0.14935,     0.12931,     0.10307,    0.085795,    0.064382,    0.049864,    0.038106,    0.031864,    0.022864,    0.019381,    0.014519,   0.0089676,   0.0075538,    0.004071,   0.0031846,\n",
       "          0.0026906,   0.0019837,   0.0013656,   0.0012714,   0.0011771,   0.0010829,  0.00098862,  0.00089437,  0.00080011,  0.00070586,           0,           0,           0,           0,           0,           0,           0,           0,           0,           0,           0,           0,           0,\n",
       "                  0,           0,           0,           0,           0,           0,           0,           0,           0,           0,           0,           0,           0,           0,           0,           0,           0,           0,           0,           0,           0,           0,           0,\n",
       "                  0,           0,           0,           0,           0,           0,           0,           0,           0,           0,           0]]), 'Confidence', 'Recall']]\n",
       "fitness: 0.9307608878107322\n",
       "keys: ['metrics/precision(B)', 'metrics/recall(B)', 'metrics/mAP50(B)', 'metrics/mAP50-95(B)']\n",
       "maps: array([    0.92368])\n",
       "names: {0: 'Character'}\n",
       "plot: True\n",
       "results_dict: {'metrics/precision(B)': 0.9931257705485583, 'metrics/recall(B)': 0.9963507861664443, 'metrics/mAP50(B)': 0.9945128740431453, 'metrics/mAP50-95(B)': 0.9236773337849085, 'fitness': 0.9307608878107322}\n",
       "save_dir: WindowsPath('runs/detect/yolov8_character_segmentation2')\n",
       "speed: {'preprocess': 0.1751664150283631, 'inference': 1.4765994007368963, 'loss': 0.0, 'postprocess': 1.2313246252052337}\n",
       "task: 'detect'"
      ]
     },
     "execution_count": 6,
     "metadata": {},
     "output_type": "execute_result"
    }
   ],
   "source": [
    "model = YOLO('runs\\\\detect\\\\yolov8_character_segmentation\\\\weights\\\\best.pt')  # You can also use 'yolov8s.pt', 'yolov8m.pt', etc. for different sizes\n",
    "\n",
    "# Train the model\n",
    "model.train(data='C:\\\\Users\\\\Wang Yanchi\\\\Desktop\\\\uoft\\\\3\\\\aps360\\\\ALPR\\\\ALPR_repo\\\\Letter_Segmentation\\\\data.yaml', epochs=100, imgsz=600, batch=32, name='yolov8_character_segmentation', iou=0.3)\n"
   ]
  },
  {
   "cell_type": "code",
   "execution_count": 4,
   "metadata": {},
   "outputs": [],
   "source": [
    "bestmodel=YOLO('runs\\\\detect\\\\yolov8_character_segmentation2\\\\weights\\\\best.pt')\n",
    "\n"
   ]
  },
  {
   "cell_type": "code",
   "execution_count": 9,
   "metadata": {},
   "outputs": [
    {
     "name": "stdout",
     "output_type": "stream",
     "text": [
      "Ultralytics YOLOv8.2.66  Python-3.11.8 torch-2.1.0+cu118 CUDA:0 (NVIDIA GeForce RTX 2070, 8192MiB)\n",
      "Model summary (fused): 168 layers, 3,005,843 parameters, 0 gradients, 8.1 GFLOPs\n"
     ]
    },
    {
     "name": "stderr",
     "output_type": "stream",
     "text": [
      "\u001b[34m\u001b[1mval: \u001b[0mScanning C:\\Users\\Wang Yanchi\\Desktop\\uoft\\3\\aps360\\ALPR\\ALPR_repo\\Letter_Segmentation\\valid\\labels.cache... 251 images, 0 backgrounds, 0 corrupt: 100%|██████████| 251/251 [00:00<?, ?it/s]"
     ]
    },
    {
     "name": "stdout",
     "output_type": "stream",
     "text": [
      "\u001b[34m\u001b[1mval: \u001b[0mWARNING  C:\\Users\\Wang Yanchi\\Desktop\\uoft\\3\\aps360\\ALPR\\ALPR_repo\\Letter_Segmentation\\valid\\images\\1035_jpg.rf.3d15c71057b864ebf5c4df108ae1afd1.jpg: 1 duplicate labels removed\n",
      "\u001b[34m\u001b[1mval: \u001b[0mWARNING  C:\\Users\\Wang Yanchi\\Desktop\\uoft\\3\\aps360\\ALPR\\ALPR_repo\\Letter_Segmentation\\valid\\images\\2270_jpg.rf.9fd993e1604bdcb26a1fa1b6690e423a.jpg: 1 duplicate labels removed\n",
      "\u001b[34m\u001b[1mval: \u001b[0mWARNING  C:\\Users\\Wang Yanchi\\Desktop\\uoft\\3\\aps360\\ALPR\\ALPR_repo\\Letter_Segmentation\\valid\\images\\2516_jpg.rf.78433fd185ad78e1cacce6b676a10fd8.jpg: 1 duplicate labels removed\n",
      "\u001b[34m\u001b[1mval: \u001b[0mWARNING  C:\\Users\\Wang Yanchi\\Desktop\\uoft\\3\\aps360\\ALPR\\ALPR_repo\\Letter_Segmentation\\valid\\images\\3372_jpg.rf.52cc4a25e6440aec7b90daef1a5cd1f2.jpg: 1 duplicate labels removed\n",
      "\u001b[34m\u001b[1mval: \u001b[0mWARNING  C:\\Users\\Wang Yanchi\\Desktop\\uoft\\3\\aps360\\ALPR\\ALPR_repo\\Letter_Segmentation\\valid\\images\\3401_jpg.rf.0ad0e57bc3d3cab262f3f7880c9dcf58.jpg: 1 duplicate labels removed\n",
      "\u001b[34m\u001b[1mval: \u001b[0mWARNING  C:\\Users\\Wang Yanchi\\Desktop\\uoft\\3\\aps360\\ALPR\\ALPR_repo\\Letter_Segmentation\\valid\\images\\3765_jpg.rf.8e2180ac51b21c21b64ed4f33b8313dd.jpg: 1 duplicate labels removed\n",
      "\u001b[34m\u001b[1mval: \u001b[0mWARNING  C:\\Users\\Wang Yanchi\\Desktop\\uoft\\3\\aps360\\ALPR\\ALPR_repo\\Letter_Segmentation\\valid\\images\\5047_jpg.rf.b91676706b262ee7df73eef4a1570ad9.jpg: 1 duplicate labels removed\n",
      "\u001b[34m\u001b[1mval: \u001b[0mWARNING  C:\\Users\\Wang Yanchi\\Desktop\\uoft\\3\\aps360\\ALPR\\ALPR_repo\\Letter_Segmentation\\valid\\images\\5206_jpg.rf.a3ab9901d8c2d579e6ec3c0ad22e0951.jpg: 1 duplicate labels removed\n"
     ]
    },
    {
     "name": "stderr",
     "output_type": "stream",
     "text": [
      "\n",
      "                 Class     Images  Instances      Box(P          R      mAP50  mAP50-95): 100%|██████████| 16/16 [00:03<00:00,  4.86it/s]\n"
     ]
    },
    {
     "name": "stdout",
     "output_type": "stream",
     "text": [
      "                   all        251       1450      0.996      0.993      0.995      0.926\n",
      "Speed: 0.7ms preprocess, 3.7ms inference, 0.0ms loss, 1.2ms postprocess per image\n",
      "Results saved to \u001b[1mruns\\detect\\val\u001b[0m\n"
     ]
    },
    {
     "data": {
      "text/plain": [
       "ultralytics.utils.metrics.DetMetrics object with attributes:\n",
       "\n",
       "ap_class_index: array([0])\n",
       "box: ultralytics.utils.metrics.Metric object\n",
       "confusion_matrix: <ultralytics.utils.metrics.ConfusionMatrix object at 0x0000019AC11714D0>\n",
       "curves: ['Precision-Recall(B)', 'F1-Confidence(B)', 'Precision-Confidence(B)', 'Recall-Confidence(B)']\n",
       "curves_results: [[array([          0,    0.001001,    0.002002,    0.003003,    0.004004,    0.005005,    0.006006,    0.007007,    0.008008,    0.009009,     0.01001,    0.011011,    0.012012,    0.013013,    0.014014,    0.015015,    0.016016,    0.017017,    0.018018,    0.019019,     0.02002,    0.021021,    0.022022,    0.023023,\n",
       "          0.024024,    0.025025,    0.026026,    0.027027,    0.028028,    0.029029,     0.03003,    0.031031,    0.032032,    0.033033,    0.034034,    0.035035,    0.036036,    0.037037,    0.038038,    0.039039,     0.04004,    0.041041,    0.042042,    0.043043,    0.044044,    0.045045,    0.046046,    0.047047,\n",
       "          0.048048,    0.049049,     0.05005,    0.051051,    0.052052,    0.053053,    0.054054,    0.055055,    0.056056,    0.057057,    0.058058,    0.059059,     0.06006,    0.061061,    0.062062,    0.063063,    0.064064,    0.065065,    0.066066,    0.067067,    0.068068,    0.069069,     0.07007,    0.071071,\n",
       "          0.072072,    0.073073,    0.074074,    0.075075,    0.076076,    0.077077,    0.078078,    0.079079,     0.08008,    0.081081,    0.082082,    0.083083,    0.084084,    0.085085,    0.086086,    0.087087,    0.088088,    0.089089,     0.09009,    0.091091,    0.092092,    0.093093,    0.094094,    0.095095,\n",
       "          0.096096,    0.097097,    0.098098,    0.099099,      0.1001,      0.1011,      0.1021,      0.1031,      0.1041,     0.10511,     0.10611,     0.10711,     0.10811,     0.10911,     0.11011,     0.11111,     0.11211,     0.11311,     0.11411,     0.11512,     0.11612,     0.11712,     0.11812,     0.11912,\n",
       "           0.12012,     0.12112,     0.12212,     0.12312,     0.12412,     0.12513,     0.12613,     0.12713,     0.12813,     0.12913,     0.13013,     0.13113,     0.13213,     0.13313,     0.13413,     0.13514,     0.13614,     0.13714,     0.13814,     0.13914,     0.14014,     0.14114,     0.14214,     0.14314,\n",
       "           0.14414,     0.14515,     0.14615,     0.14715,     0.14815,     0.14915,     0.15015,     0.15115,     0.15215,     0.15315,     0.15415,     0.15516,     0.15616,     0.15716,     0.15816,     0.15916,     0.16016,     0.16116,     0.16216,     0.16316,     0.16416,     0.16517,     0.16617,     0.16717,\n",
       "           0.16817,     0.16917,     0.17017,     0.17117,     0.17217,     0.17317,     0.17417,     0.17518,     0.17618,     0.17718,     0.17818,     0.17918,     0.18018,     0.18118,     0.18218,     0.18318,     0.18418,     0.18519,     0.18619,     0.18719,     0.18819,     0.18919,     0.19019,     0.19119,\n",
       "           0.19219,     0.19319,     0.19419,      0.1952,      0.1962,      0.1972,      0.1982,      0.1992,      0.2002,      0.2012,      0.2022,      0.2032,      0.2042,     0.20521,     0.20621,     0.20721,     0.20821,     0.20921,     0.21021,     0.21121,     0.21221,     0.21321,     0.21421,     0.21522,\n",
       "           0.21622,     0.21722,     0.21822,     0.21922,     0.22022,     0.22122,     0.22222,     0.22322,     0.22422,     0.22523,     0.22623,     0.22723,     0.22823,     0.22923,     0.23023,     0.23123,     0.23223,     0.23323,     0.23423,     0.23524,     0.23624,     0.23724,     0.23824,     0.23924,\n",
       "           0.24024,     0.24124,     0.24224,     0.24324,     0.24424,     0.24525,     0.24625,     0.24725,     0.24825,     0.24925,     0.25025,     0.25125,     0.25225,     0.25325,     0.25425,     0.25526,     0.25626,     0.25726,     0.25826,     0.25926,     0.26026,     0.26126,     0.26226,     0.26326,\n",
       "           0.26426,     0.26527,     0.26627,     0.26727,     0.26827,     0.26927,     0.27027,     0.27127,     0.27227,     0.27327,     0.27427,     0.27528,     0.27628,     0.27728,     0.27828,     0.27928,     0.28028,     0.28128,     0.28228,     0.28328,     0.28428,     0.28529,     0.28629,     0.28729,\n",
       "           0.28829,     0.28929,     0.29029,     0.29129,     0.29229,     0.29329,     0.29429,      0.2953,      0.2963,      0.2973,      0.2983,      0.2993,      0.3003,      0.3013,      0.3023,      0.3033,      0.3043,     0.30531,     0.30631,     0.30731,     0.30831,     0.30931,     0.31031,     0.31131,\n",
       "           0.31231,     0.31331,     0.31431,     0.31532,     0.31632,     0.31732,     0.31832,     0.31932,     0.32032,     0.32132,     0.32232,     0.32332,     0.32432,     0.32533,     0.32633,     0.32733,     0.32833,     0.32933,     0.33033,     0.33133,     0.33233,     0.33333,     0.33433,     0.33534,\n",
       "           0.33634,     0.33734,     0.33834,     0.33934,     0.34034,     0.34134,     0.34234,     0.34334,     0.34434,     0.34535,     0.34635,     0.34735,     0.34835,     0.34935,     0.35035,     0.35135,     0.35235,     0.35335,     0.35435,     0.35536,     0.35636,     0.35736,     0.35836,     0.35936,\n",
       "           0.36036,     0.36136,     0.36236,     0.36336,     0.36436,     0.36537,     0.36637,     0.36737,     0.36837,     0.36937,     0.37037,     0.37137,     0.37237,     0.37337,     0.37437,     0.37538,     0.37638,     0.37738,     0.37838,     0.37938,     0.38038,     0.38138,     0.38238,     0.38338,\n",
       "           0.38438,     0.38539,     0.38639,     0.38739,     0.38839,     0.38939,     0.39039,     0.39139,     0.39239,     0.39339,     0.39439,      0.3954,      0.3964,      0.3974,      0.3984,      0.3994,      0.4004,      0.4014,      0.4024,      0.4034,      0.4044,     0.40541,     0.40641,     0.40741,\n",
       "           0.40841,     0.40941,     0.41041,     0.41141,     0.41241,     0.41341,     0.41441,     0.41542,     0.41642,     0.41742,     0.41842,     0.41942,     0.42042,     0.42142,     0.42242,     0.42342,     0.42442,     0.42543,     0.42643,     0.42743,     0.42843,     0.42943,     0.43043,     0.43143,\n",
       "           0.43243,     0.43343,     0.43443,     0.43544,     0.43644,     0.43744,     0.43844,     0.43944,     0.44044,     0.44144,     0.44244,     0.44344,     0.44444,     0.44545,     0.44645,     0.44745,     0.44845,     0.44945,     0.45045,     0.45145,     0.45245,     0.45345,     0.45445,     0.45546,\n",
       "           0.45646,     0.45746,     0.45846,     0.45946,     0.46046,     0.46146,     0.46246,     0.46346,     0.46446,     0.46547,     0.46647,     0.46747,     0.46847,     0.46947,     0.47047,     0.47147,     0.47247,     0.47347,     0.47447,     0.47548,     0.47648,     0.47748,     0.47848,     0.47948,\n",
       "           0.48048,     0.48148,     0.48248,     0.48348,     0.48448,     0.48549,     0.48649,     0.48749,     0.48849,     0.48949,     0.49049,     0.49149,     0.49249,     0.49349,     0.49449,      0.4955,      0.4965,      0.4975,      0.4985,      0.4995,      0.5005,      0.5015,      0.5025,      0.5035,\n",
       "            0.5045,     0.50551,     0.50651,     0.50751,     0.50851,     0.50951,     0.51051,     0.51151,     0.51251,     0.51351,     0.51451,     0.51552,     0.51652,     0.51752,     0.51852,     0.51952,     0.52052,     0.52152,     0.52252,     0.52352,     0.52452,     0.52553,     0.52653,     0.52753,\n",
       "           0.52853,     0.52953,     0.53053,     0.53153,     0.53253,     0.53353,     0.53453,     0.53554,     0.53654,     0.53754,     0.53854,     0.53954,     0.54054,     0.54154,     0.54254,     0.54354,     0.54454,     0.54555,     0.54655,     0.54755,     0.54855,     0.54955,     0.55055,     0.55155,\n",
       "           0.55255,     0.55355,     0.55455,     0.55556,     0.55656,     0.55756,     0.55856,     0.55956,     0.56056,     0.56156,     0.56256,     0.56356,     0.56456,     0.56557,     0.56657,     0.56757,     0.56857,     0.56957,     0.57057,     0.57157,     0.57257,     0.57357,     0.57457,     0.57558,\n",
       "           0.57658,     0.57758,     0.57858,     0.57958,     0.58058,     0.58158,     0.58258,     0.58358,     0.58458,     0.58559,     0.58659,     0.58759,     0.58859,     0.58959,     0.59059,     0.59159,     0.59259,     0.59359,     0.59459,      0.5956,      0.5966,      0.5976,      0.5986,      0.5996,\n",
       "            0.6006,      0.6016,      0.6026,      0.6036,      0.6046,     0.60561,     0.60661,     0.60761,     0.60861,     0.60961,     0.61061,     0.61161,     0.61261,     0.61361,     0.61461,     0.61562,     0.61662,     0.61762,     0.61862,     0.61962,     0.62062,     0.62162,     0.62262,     0.62362,\n",
       "           0.62462,     0.62563,     0.62663,     0.62763,     0.62863,     0.62963,     0.63063,     0.63163,     0.63263,     0.63363,     0.63463,     0.63564,     0.63664,     0.63764,     0.63864,     0.63964,     0.64064,     0.64164,     0.64264,     0.64364,     0.64464,     0.64565,     0.64665,     0.64765,\n",
       "           0.64865,     0.64965,     0.65065,     0.65165,     0.65265,     0.65365,     0.65465,     0.65566,     0.65666,     0.65766,     0.65866,     0.65966,     0.66066,     0.66166,     0.66266,     0.66366,     0.66466,     0.66567,     0.66667,     0.66767,     0.66867,     0.66967,     0.67067,     0.67167,\n",
       "           0.67267,     0.67367,     0.67467,     0.67568,     0.67668,     0.67768,     0.67868,     0.67968,     0.68068,     0.68168,     0.68268,     0.68368,     0.68468,     0.68569,     0.68669,     0.68769,     0.68869,     0.68969,     0.69069,     0.69169,     0.69269,     0.69369,     0.69469,      0.6957,\n",
       "            0.6967,      0.6977,      0.6987,      0.6997,      0.7007,      0.7017,      0.7027,      0.7037,      0.7047,     0.70571,     0.70671,     0.70771,     0.70871,     0.70971,     0.71071,     0.71171,     0.71271,     0.71371,     0.71471,     0.71572,     0.71672,     0.71772,     0.71872,     0.71972,\n",
       "           0.72072,     0.72172,     0.72272,     0.72372,     0.72472,     0.72573,     0.72673,     0.72773,     0.72873,     0.72973,     0.73073,     0.73173,     0.73273,     0.73373,     0.73473,     0.73574,     0.73674,     0.73774,     0.73874,     0.73974,     0.74074,     0.74174,     0.74274,     0.74374,\n",
       "           0.74474,     0.74575,     0.74675,     0.74775,     0.74875,     0.74975,     0.75075,     0.75175,     0.75275,     0.75375,     0.75475,     0.75576,     0.75676,     0.75776,     0.75876,     0.75976,     0.76076,     0.76176,     0.76276,     0.76376,     0.76476,     0.76577,     0.76677,     0.76777,\n",
       "           0.76877,     0.76977,     0.77077,     0.77177,     0.77277,     0.77377,     0.77477,     0.77578,     0.77678,     0.77778,     0.77878,     0.77978,     0.78078,     0.78178,     0.78278,     0.78378,     0.78478,     0.78579,     0.78679,     0.78779,     0.78879,     0.78979,     0.79079,     0.79179,\n",
       "           0.79279,     0.79379,     0.79479,      0.7958,      0.7968,      0.7978,      0.7988,      0.7998,      0.8008,      0.8018,      0.8028,      0.8038,      0.8048,     0.80581,     0.80681,     0.80781,     0.80881,     0.80981,     0.81081,     0.81181,     0.81281,     0.81381,     0.81481,     0.81582,\n",
       "           0.81682,     0.81782,     0.81882,     0.81982,     0.82082,     0.82182,     0.82282,     0.82382,     0.82482,     0.82583,     0.82683,     0.82783,     0.82883,     0.82983,     0.83083,     0.83183,     0.83283,     0.83383,     0.83483,     0.83584,     0.83684,     0.83784,     0.83884,     0.83984,\n",
       "           0.84084,     0.84184,     0.84284,     0.84384,     0.84484,     0.84585,     0.84685,     0.84785,     0.84885,     0.84985,     0.85085,     0.85185,     0.85285,     0.85385,     0.85485,     0.85586,     0.85686,     0.85786,     0.85886,     0.85986,     0.86086,     0.86186,     0.86286,     0.86386,\n",
       "           0.86486,     0.86587,     0.86687,     0.86787,     0.86887,     0.86987,     0.87087,     0.87187,     0.87287,     0.87387,     0.87487,     0.87588,     0.87688,     0.87788,     0.87888,     0.87988,     0.88088,     0.88188,     0.88288,     0.88388,     0.88488,     0.88589,     0.88689,     0.88789,\n",
       "           0.88889,     0.88989,     0.89089,     0.89189,     0.89289,     0.89389,     0.89489,      0.8959,      0.8969,      0.8979,      0.8989,      0.8999,      0.9009,      0.9019,      0.9029,      0.9039,      0.9049,     0.90591,     0.90691,     0.90791,     0.90891,     0.90991,     0.91091,     0.91191,\n",
       "           0.91291,     0.91391,     0.91491,     0.91592,     0.91692,     0.91792,     0.91892,     0.91992,     0.92092,     0.92192,     0.92292,     0.92392,     0.92492,     0.92593,     0.92693,     0.92793,     0.92893,     0.92993,     0.93093,     0.93193,     0.93293,     0.93393,     0.93493,     0.93594,\n",
       "           0.93694,     0.93794,     0.93894,     0.93994,     0.94094,     0.94194,     0.94294,     0.94394,     0.94494,     0.94595,     0.94695,     0.94795,     0.94895,     0.94995,     0.95095,     0.95195,     0.95295,     0.95395,     0.95495,     0.95596,     0.95696,     0.95796,     0.95896,     0.95996,\n",
       "           0.96096,     0.96196,     0.96296,     0.96396,     0.96496,     0.96597,     0.96697,     0.96797,     0.96897,     0.96997,     0.97097,     0.97197,     0.97297,     0.97397,     0.97497,     0.97598,     0.97698,     0.97798,     0.97898,     0.97998,     0.98098,     0.98198,     0.98298,     0.98398,\n",
       "           0.98498,     0.98599,     0.98699,     0.98799,     0.98899,     0.98999,     0.99099,     0.99199,     0.99299,     0.99399,     0.99499,       0.996,       0.997,       0.998,       0.999,           1]), array([[          1,           1,           1,           1,           1,           1,           1,           1,           1,           1,           1,           1,           1,           1,           1,           1,           1,           1,           1,           1,           1,           1,           1,\n",
       "                  1,           1,           1,           1,           1,           1,           1,           1,           1,           1,           1,           1,           1,           1,           1,           1,           1,           1,           1,           1,           1,           1,           1,\n",
       "                  1,           1,           1,           1,           1,           1,           1,           1,           1,           1,           1,           1,           1,           1,           1,           1,           1,           1,           1,           1,           1,           1,           1,\n",
       "                  1,           1,           1,           1,           1,           1,           1,           1,           1,           1,           1,           1,           1,           1,           1,           1,           1,           1,           1,           1,           1,           1,           1,\n",
       "                  1,           1,           1,           1,           1,           1,           1,           1,           1,           1,           1,           1,           1,           1,           1,           1,           1,           1,           1,           1,           1,           1,           1,\n",
       "                  1,           1,           1,           1,           1,           1,           1,           1,           1,           1,           1,           1,           1,           1,           1,           1,           1,           1,           1,           1,           1,           1,           1,\n",
       "                  1,           1,           1,           1,           1,           1,           1,           1,           1,           1,           1,           1,           1,           1,           1,           1,           1,           1,           1,           1,           1,           1,           1,\n",
       "                  1,           1,           1,           1,           1,           1,           1,           1,           1,           1,           1,           1,           1,           1,           1,           1,           1,           1,           1,           1,           1,           1,           1,\n",
       "                  1,           1,           1,           1,           1,           1,           1,           1,           1,           1,           1,           1,           1,           1,           1,           1,           1,           1,           1,           1,           1,           1,           1,\n",
       "                  1,           1,           1,           1,           1,           1,           1,           1,           1,           1,           1,           1,           1,           1,           1,           1,           1,           1,           1,           1,           1,           1,           1,\n",
       "                  1,           1,           1,           1,           1,           1,           1,           1,           1,           1,           1,           1,           1,           1,           1,           1,           1,           1,           1,           1,           1,           1,           1,\n",
       "                  1,           1,           1,           1,           1,           1,           1,           1,           1,           1,           1,           1,           1,           1,           1,           1,           1,           1,           1,           1,           1,           1,           1,\n",
       "                  1,           1,           1,           1,           1,           1,           1,           1,           1,           1,           1,           1,           1,           1,           1,      0.9993,      0.9993,      0.9993,      0.9993,      0.9993,      0.9993,      0.9993,      0.9993,\n",
       "             0.9993,      0.9993,      0.9993,      0.9993,      0.9993,      0.9993,      0.9993,      0.9993,      0.9993,      0.9993,      0.9993,      0.9993,      0.9993,      0.9993,      0.9993,      0.9993,      0.9993,      0.9993,      0.9993,      0.9993,      0.9993,      0.9993,      0.9993,\n",
       "             0.9993,      0.9993,      0.9993,      0.9993,      0.9993,      0.9993,      0.9993,      0.9993,      0.9993,      0.9993,      0.9993,      0.9993,      0.9993,      0.9993,      0.9993,      0.9993,      0.9993,      0.9993,      0.9993,      0.9993,      0.9993,      0.9993,      0.9993,\n",
       "             0.9993,      0.9993,      0.9993,      0.9993,      0.9993,      0.9993,      0.9993,      0.9993,      0.9993,      0.9993,      0.9993,      0.9993,      0.9993,      0.9993,      0.9993,      0.9993,      0.9993,      0.9993,      0.9993,      0.9993,      0.9993,      0.9993,      0.9993,\n",
       "             0.9993,      0.9993,      0.9993,      0.9993,      0.9993,      0.9993,      0.9993,      0.9993,      0.9993,      0.9993,      0.9993,      0.9993,      0.9993,      0.9993,      0.9993,      0.9993,      0.9993,      0.9993,      0.9993,      0.9993,      0.9993,      0.9993,      0.9993,\n",
       "             0.9993,      0.9993,      0.9993,      0.9993,      0.9993,      0.9993,      0.9993,      0.9993,      0.9993,      0.9993,      0.9993,      0.9993,      0.9993,      0.9993,      0.9993,      0.9993,      0.9993,      0.9993,      0.9993,      0.9993,      0.9993,      0.9993,      0.9993,\n",
       "             0.9993,      0.9993,      0.9993,      0.9993,      0.9993,      0.9993,      0.9993,      0.9993,      0.9993,      0.9993,      0.9993,      0.9993,      0.9993,      0.9993,      0.9993,      0.9993,      0.9993,      0.9993,      0.9993,      0.9993,      0.9993,      0.9993,      0.9993,\n",
       "             0.9993,      0.9993,      0.9993,      0.9993,      0.9993,      0.9993,      0.9993,      0.9993,      0.9993,      0.9993,      0.9993,      0.9993,      0.9993,      0.9993,      0.9993,      0.9993,      0.9993,      0.9993,      0.9993,      0.9993,      0.9993,      0.9993,      0.9993,\n",
       "             0.9993,      0.9993,      0.9993,      0.9993,      0.9993,      0.9993,      0.9993,      0.9993,      0.9993,      0.9993,      0.9993,      0.9993,      0.9993,      0.9993,      0.9993,      0.9993,      0.9993,      0.9993,      0.9993,      0.9993,      0.9993,      0.9993,      0.9993,\n",
       "             0.9993,      0.9993,      0.9993,      0.9993,      0.9993,      0.9993,      0.9993,      0.9993,      0.9993,      0.9993,      0.9993,      0.9993,      0.9993,      0.9993,      0.9993,      0.9993,      0.9993,      0.9993,      0.9993,      0.9993,      0.9993,      0.9993,      0.9993,\n",
       "             0.9993,      0.9993,      0.9993,      0.9993,      0.9993,      0.9993,      0.9993,      0.9993,      0.9993,      0.9993,      0.9993,      0.9993,      0.9993,      0.9993,      0.9993,      0.9993,      0.9993,      0.9993,      0.9993,      0.9993,      0.9993,      0.9993,      0.9993,\n",
       "             0.9993,      0.9993,      0.9993,      0.9993,      0.9993,      0.9993,      0.9993,      0.9993,      0.9993,      0.9993,      0.9993,      0.9993,      0.9993,      0.9993,      0.9993,      0.9993,      0.9993,      0.9993,      0.9993,      0.9993,      0.9993,      0.9993,      0.9993,\n",
       "             0.9993,      0.9993,      0.9993,      0.9993,      0.9993,      0.9993,      0.9993,      0.9993,      0.9993,      0.9993,      0.9993,      0.9993,      0.9993,      0.9993,      0.9993,      0.9993,      0.9993,      0.9993,      0.9993,      0.9993,      0.9993,      0.9993,      0.9993,\n",
       "             0.9993,      0.9993,      0.9993,      0.9993,      0.9993,      0.9993,      0.9993,      0.9993,      0.9993,      0.9993,      0.9993,      0.9993,      0.9993,      0.9993,      0.9993,      0.9993,      0.9993,      0.9993,      0.9993,      0.9993,      0.9993,      0.9993,      0.9993,\n",
       "             0.9993,      0.9993,      0.9993,      0.9993,      0.9993,      0.9993,      0.9993,      0.9993,      0.9993,      0.9993,      0.9993,      0.9993,      0.9993,      0.9993,      0.9993,      0.9993,      0.9993,      0.9993,      0.9993,      0.9993,      0.9993,      0.9993,      0.9993,\n",
       "             0.9993,      0.9993,      0.9993,      0.9993,      0.9993,      0.9993,      0.9993,      0.9993,      0.9993,      0.9993,      0.9993,      0.9993,      0.9993,      0.9993,      0.9993,      0.9993,      0.9993,      0.9993,      0.9993,      0.9993,      0.9993,      0.9993,      0.9993,\n",
       "             0.9993,      0.9993,      0.9993,      0.9993,      0.9993,      0.9993,      0.9993,      0.9993,      0.9993,      0.9993,      0.9993,      0.9993,      0.9993,      0.9993,      0.9993,      0.9993,      0.9993,      0.9993,      0.9993,      0.9993,      0.9993,      0.9993,      0.9993,\n",
       "             0.9993,      0.9993,      0.9993,      0.9993,      0.9993,      0.9993,      0.9993,      0.9993,      0.9993,      0.9993,      0.9993,      0.9993,      0.9993,      0.9993,      0.9993,      0.9993,      0.9993,      0.9993,      0.9993,      0.9993,      0.9993,      0.9993,      0.9993,\n",
       "             0.9993,      0.9993,      0.9993,      0.9993,      0.9993,      0.9993,      0.9993,      0.9993,      0.9993,      0.9993,      0.9993,      0.9993,      0.9993,      0.9993,      0.9993,      0.9993,      0.9993,      0.9993,      0.9993,      0.9993,      0.9993,      0.9993,      0.9993,\n",
       "             0.9993,      0.9993,      0.9993,      0.9993,      0.9993,      0.9993,      0.9993,      0.9993,      0.9993,      0.9993,      0.9993,      0.9993,      0.9993,      0.9993,      0.9993,      0.9993,      0.9993,      0.9993,      0.9993,      0.9993,      0.9993,      0.9993,      0.9993,\n",
       "             0.9993,      0.9993,      0.9993,      0.9993,      0.9993,      0.9993,      0.9993,      0.9993,      0.9993,      0.9993,      0.9993,      0.9993,      0.9993,      0.9993,      0.9993,      0.9993,      0.9993,      0.9993,      0.9993,      0.9993,      0.9993,      0.9993,      0.9993,\n",
       "             0.9993,      0.9993,      0.9993,      0.9993,      0.9993,      0.9993,      0.9993,      0.9993,      0.9993,      0.9993,      0.9993,      0.9993,      0.9993,      0.9993,      0.9993,      0.9993,      0.9993,      0.9993,      0.9993,      0.9993,      0.9993,      0.9993,      0.9993,\n",
       "             0.9993,      0.9993,      0.9993,      0.9993,      0.9993,      0.9993,      0.9993,      0.9993,      0.9993,      0.9993,      0.9993,      0.9993,      0.9993,      0.9993,      0.9993,      0.9993,      0.9993,      0.9993,      0.9993,      0.9993,      0.9993,      0.9993,      0.9993,\n",
       "             0.9993,      0.9993,      0.9993,      0.9993,      0.9993,      0.9993,      0.9993,      0.9993,      0.9993,      0.9993,      0.9993,      0.9993,      0.9993,      0.9993,      0.9993,      0.9993,      0.9993,      0.9993,      0.9993,      0.9993,      0.9993,      0.9993,      0.9993,\n",
       "             0.9993,      0.9993,      0.9993,      0.9993,      0.9993,      0.9993,      0.9993,      0.9993,      0.9993,      0.9993,      0.9993,      0.9993,      0.9993,      0.9993,      0.9993,      0.9993,      0.9993,      0.9993,      0.9993,      0.9993,      0.9993,      0.9993,      0.9993,\n",
       "             0.9993,      0.9993,      0.9993,      0.9993,      0.9993,      0.9993,      0.9993,      0.9993,      0.9993,      0.9993,      0.9993,      0.9993,      0.9993,      0.9993,      0.9993,      0.9993,      0.9993,      0.9993,      0.9993,      0.9993,      0.9993,      0.9993,      0.9993,\n",
       "             0.9993,      0.9993,      0.9993,      0.9993,      0.9993,      0.9993,      0.9993,      0.9993,      0.9993,      0.9993,      0.9993,      0.9993,      0.9993,      0.9993,      0.9993,      0.9993,      0.9993,      0.9993,      0.9993,      0.9993,      0.9993,      0.9993,      0.9993,\n",
       "             0.9993,      0.9993,      0.9993,      0.9993,      0.9993,      0.9993,      0.9993,      0.9993,      0.9993,      0.9993,      0.9993,      0.9993,      0.9993,      0.9993,      0.9993,      0.9993,      0.9993,      0.9993,      0.9993,      0.9993,      0.9993,      0.9993,      0.9993,\n",
       "             0.9993,      0.9993,      0.9993,      0.9993,      0.9993,      0.9993,      0.9993,      0.9993,      0.9993,      0.9993,      0.9993,      0.9993,      0.9993,      0.9993,      0.9993,      0.9993,      0.9993,      0.9993,      0.9993,      0.9993,      0.9993,      0.9993,      0.9993,\n",
       "             0.9993,      0.9993,      0.9993,      0.9993,      0.9993,      0.9993,      0.9993,      0.9993,      0.9993,      0.9993,      0.9993,      0.9993,      0.9993,      0.9993,      0.9993,      0.9993,      0.9993,      0.9993,      0.9993,      0.9993,      0.9993,      0.9993,      0.9993,\n",
       "             0.9993,      0.9993,      0.9993,      0.9993,      0.9993,      0.9993,      0.9993,      0.9993,      0.9993,      0.9993,      0.9993,      0.9993,      0.9993,      0.9993,      0.9993,      0.9993,      0.9993,      0.9993,      0.9993,      0.9993,      0.9993,      0.9993,      0.9993,\n",
       "             0.9993,     0.99723,     0.99585,     0.99585,     0.86666,     0.72221,     0.57777,     0.43333,     0.28889,     0.14444,           0]]), 'Recall', 'Precision'], [array([          0,    0.001001,    0.002002,    0.003003,    0.004004,    0.005005,    0.006006,    0.007007,    0.008008,    0.009009,     0.01001,    0.011011,    0.012012,    0.013013,    0.014014,    0.015015,    0.016016,    0.017017,    0.018018,    0.019019,     0.02002,    0.021021,    0.022022,    0.023023,\n",
       "          0.024024,    0.025025,    0.026026,    0.027027,    0.028028,    0.029029,     0.03003,    0.031031,    0.032032,    0.033033,    0.034034,    0.035035,    0.036036,    0.037037,    0.038038,    0.039039,     0.04004,    0.041041,    0.042042,    0.043043,    0.044044,    0.045045,    0.046046,    0.047047,\n",
       "          0.048048,    0.049049,     0.05005,    0.051051,    0.052052,    0.053053,    0.054054,    0.055055,    0.056056,    0.057057,    0.058058,    0.059059,     0.06006,    0.061061,    0.062062,    0.063063,    0.064064,    0.065065,    0.066066,    0.067067,    0.068068,    0.069069,     0.07007,    0.071071,\n",
       "          0.072072,    0.073073,    0.074074,    0.075075,    0.076076,    0.077077,    0.078078,    0.079079,     0.08008,    0.081081,    0.082082,    0.083083,    0.084084,    0.085085,    0.086086,    0.087087,    0.088088,    0.089089,     0.09009,    0.091091,    0.092092,    0.093093,    0.094094,    0.095095,\n",
       "          0.096096,    0.097097,    0.098098,    0.099099,      0.1001,      0.1011,      0.1021,      0.1031,      0.1041,     0.10511,     0.10611,     0.10711,     0.10811,     0.10911,     0.11011,     0.11111,     0.11211,     0.11311,     0.11411,     0.11512,     0.11612,     0.11712,     0.11812,     0.11912,\n",
       "           0.12012,     0.12112,     0.12212,     0.12312,     0.12412,     0.12513,     0.12613,     0.12713,     0.12813,     0.12913,     0.13013,     0.13113,     0.13213,     0.13313,     0.13413,     0.13514,     0.13614,     0.13714,     0.13814,     0.13914,     0.14014,     0.14114,     0.14214,     0.14314,\n",
       "           0.14414,     0.14515,     0.14615,     0.14715,     0.14815,     0.14915,     0.15015,     0.15115,     0.15215,     0.15315,     0.15415,     0.15516,     0.15616,     0.15716,     0.15816,     0.15916,     0.16016,     0.16116,     0.16216,     0.16316,     0.16416,     0.16517,     0.16617,     0.16717,\n",
       "           0.16817,     0.16917,     0.17017,     0.17117,     0.17217,     0.17317,     0.17417,     0.17518,     0.17618,     0.17718,     0.17818,     0.17918,     0.18018,     0.18118,     0.18218,     0.18318,     0.18418,     0.18519,     0.18619,     0.18719,     0.18819,     0.18919,     0.19019,     0.19119,\n",
       "           0.19219,     0.19319,     0.19419,      0.1952,      0.1962,      0.1972,      0.1982,      0.1992,      0.2002,      0.2012,      0.2022,      0.2032,      0.2042,     0.20521,     0.20621,     0.20721,     0.20821,     0.20921,     0.21021,     0.21121,     0.21221,     0.21321,     0.21421,     0.21522,\n",
       "           0.21622,     0.21722,     0.21822,     0.21922,     0.22022,     0.22122,     0.22222,     0.22322,     0.22422,     0.22523,     0.22623,     0.22723,     0.22823,     0.22923,     0.23023,     0.23123,     0.23223,     0.23323,     0.23423,     0.23524,     0.23624,     0.23724,     0.23824,     0.23924,\n",
       "           0.24024,     0.24124,     0.24224,     0.24324,     0.24424,     0.24525,     0.24625,     0.24725,     0.24825,     0.24925,     0.25025,     0.25125,     0.25225,     0.25325,     0.25425,     0.25526,     0.25626,     0.25726,     0.25826,     0.25926,     0.26026,     0.26126,     0.26226,     0.26326,\n",
       "           0.26426,     0.26527,     0.26627,     0.26727,     0.26827,     0.26927,     0.27027,     0.27127,     0.27227,     0.27327,     0.27427,     0.27528,     0.27628,     0.27728,     0.27828,     0.27928,     0.28028,     0.28128,     0.28228,     0.28328,     0.28428,     0.28529,     0.28629,     0.28729,\n",
       "           0.28829,     0.28929,     0.29029,     0.29129,     0.29229,     0.29329,     0.29429,      0.2953,      0.2963,      0.2973,      0.2983,      0.2993,      0.3003,      0.3013,      0.3023,      0.3033,      0.3043,     0.30531,     0.30631,     0.30731,     0.30831,     0.30931,     0.31031,     0.31131,\n",
       "           0.31231,     0.31331,     0.31431,     0.31532,     0.31632,     0.31732,     0.31832,     0.31932,     0.32032,     0.32132,     0.32232,     0.32332,     0.32432,     0.32533,     0.32633,     0.32733,     0.32833,     0.32933,     0.33033,     0.33133,     0.33233,     0.33333,     0.33433,     0.33534,\n",
       "           0.33634,     0.33734,     0.33834,     0.33934,     0.34034,     0.34134,     0.34234,     0.34334,     0.34434,     0.34535,     0.34635,     0.34735,     0.34835,     0.34935,     0.35035,     0.35135,     0.35235,     0.35335,     0.35435,     0.35536,     0.35636,     0.35736,     0.35836,     0.35936,\n",
       "           0.36036,     0.36136,     0.36236,     0.36336,     0.36436,     0.36537,     0.36637,     0.36737,     0.36837,     0.36937,     0.37037,     0.37137,     0.37237,     0.37337,     0.37437,     0.37538,     0.37638,     0.37738,     0.37838,     0.37938,     0.38038,     0.38138,     0.38238,     0.38338,\n",
       "           0.38438,     0.38539,     0.38639,     0.38739,     0.38839,     0.38939,     0.39039,     0.39139,     0.39239,     0.39339,     0.39439,      0.3954,      0.3964,      0.3974,      0.3984,      0.3994,      0.4004,      0.4014,      0.4024,      0.4034,      0.4044,     0.40541,     0.40641,     0.40741,\n",
       "           0.40841,     0.40941,     0.41041,     0.41141,     0.41241,     0.41341,     0.41441,     0.41542,     0.41642,     0.41742,     0.41842,     0.41942,     0.42042,     0.42142,     0.42242,     0.42342,     0.42442,     0.42543,     0.42643,     0.42743,     0.42843,     0.42943,     0.43043,     0.43143,\n",
       "           0.43243,     0.43343,     0.43443,     0.43544,     0.43644,     0.43744,     0.43844,     0.43944,     0.44044,     0.44144,     0.44244,     0.44344,     0.44444,     0.44545,     0.44645,     0.44745,     0.44845,     0.44945,     0.45045,     0.45145,     0.45245,     0.45345,     0.45445,     0.45546,\n",
       "           0.45646,     0.45746,     0.45846,     0.45946,     0.46046,     0.46146,     0.46246,     0.46346,     0.46446,     0.46547,     0.46647,     0.46747,     0.46847,     0.46947,     0.47047,     0.47147,     0.47247,     0.47347,     0.47447,     0.47548,     0.47648,     0.47748,     0.47848,     0.47948,\n",
       "           0.48048,     0.48148,     0.48248,     0.48348,     0.48448,     0.48549,     0.48649,     0.48749,     0.48849,     0.48949,     0.49049,     0.49149,     0.49249,     0.49349,     0.49449,      0.4955,      0.4965,      0.4975,      0.4985,      0.4995,      0.5005,      0.5015,      0.5025,      0.5035,\n",
       "            0.5045,     0.50551,     0.50651,     0.50751,     0.50851,     0.50951,     0.51051,     0.51151,     0.51251,     0.51351,     0.51451,     0.51552,     0.51652,     0.51752,     0.51852,     0.51952,     0.52052,     0.52152,     0.52252,     0.52352,     0.52452,     0.52553,     0.52653,     0.52753,\n",
       "           0.52853,     0.52953,     0.53053,     0.53153,     0.53253,     0.53353,     0.53453,     0.53554,     0.53654,     0.53754,     0.53854,     0.53954,     0.54054,     0.54154,     0.54254,     0.54354,     0.54454,     0.54555,     0.54655,     0.54755,     0.54855,     0.54955,     0.55055,     0.55155,\n",
       "           0.55255,     0.55355,     0.55455,     0.55556,     0.55656,     0.55756,     0.55856,     0.55956,     0.56056,     0.56156,     0.56256,     0.56356,     0.56456,     0.56557,     0.56657,     0.56757,     0.56857,     0.56957,     0.57057,     0.57157,     0.57257,     0.57357,     0.57457,     0.57558,\n",
       "           0.57658,     0.57758,     0.57858,     0.57958,     0.58058,     0.58158,     0.58258,     0.58358,     0.58458,     0.58559,     0.58659,     0.58759,     0.58859,     0.58959,     0.59059,     0.59159,     0.59259,     0.59359,     0.59459,      0.5956,      0.5966,      0.5976,      0.5986,      0.5996,\n",
       "            0.6006,      0.6016,      0.6026,      0.6036,      0.6046,     0.60561,     0.60661,     0.60761,     0.60861,     0.60961,     0.61061,     0.61161,     0.61261,     0.61361,     0.61461,     0.61562,     0.61662,     0.61762,     0.61862,     0.61962,     0.62062,     0.62162,     0.62262,     0.62362,\n",
       "           0.62462,     0.62563,     0.62663,     0.62763,     0.62863,     0.62963,     0.63063,     0.63163,     0.63263,     0.63363,     0.63463,     0.63564,     0.63664,     0.63764,     0.63864,     0.63964,     0.64064,     0.64164,     0.64264,     0.64364,     0.64464,     0.64565,     0.64665,     0.64765,\n",
       "           0.64865,     0.64965,     0.65065,     0.65165,     0.65265,     0.65365,     0.65465,     0.65566,     0.65666,     0.65766,     0.65866,     0.65966,     0.66066,     0.66166,     0.66266,     0.66366,     0.66466,     0.66567,     0.66667,     0.66767,     0.66867,     0.66967,     0.67067,     0.67167,\n",
       "           0.67267,     0.67367,     0.67467,     0.67568,     0.67668,     0.67768,     0.67868,     0.67968,     0.68068,     0.68168,     0.68268,     0.68368,     0.68468,     0.68569,     0.68669,     0.68769,     0.68869,     0.68969,     0.69069,     0.69169,     0.69269,     0.69369,     0.69469,      0.6957,\n",
       "            0.6967,      0.6977,      0.6987,      0.6997,      0.7007,      0.7017,      0.7027,      0.7037,      0.7047,     0.70571,     0.70671,     0.70771,     0.70871,     0.70971,     0.71071,     0.71171,     0.71271,     0.71371,     0.71471,     0.71572,     0.71672,     0.71772,     0.71872,     0.71972,\n",
       "           0.72072,     0.72172,     0.72272,     0.72372,     0.72472,     0.72573,     0.72673,     0.72773,     0.72873,     0.72973,     0.73073,     0.73173,     0.73273,     0.73373,     0.73473,     0.73574,     0.73674,     0.73774,     0.73874,     0.73974,     0.74074,     0.74174,     0.74274,     0.74374,\n",
       "           0.74474,     0.74575,     0.74675,     0.74775,     0.74875,     0.74975,     0.75075,     0.75175,     0.75275,     0.75375,     0.75475,     0.75576,     0.75676,     0.75776,     0.75876,     0.75976,     0.76076,     0.76176,     0.76276,     0.76376,     0.76476,     0.76577,     0.76677,     0.76777,\n",
       "           0.76877,     0.76977,     0.77077,     0.77177,     0.77277,     0.77377,     0.77477,     0.77578,     0.77678,     0.77778,     0.77878,     0.77978,     0.78078,     0.78178,     0.78278,     0.78378,     0.78478,     0.78579,     0.78679,     0.78779,     0.78879,     0.78979,     0.79079,     0.79179,\n",
       "           0.79279,     0.79379,     0.79479,      0.7958,      0.7968,      0.7978,      0.7988,      0.7998,      0.8008,      0.8018,      0.8028,      0.8038,      0.8048,     0.80581,     0.80681,     0.80781,     0.80881,     0.80981,     0.81081,     0.81181,     0.81281,     0.81381,     0.81481,     0.81582,\n",
       "           0.81682,     0.81782,     0.81882,     0.81982,     0.82082,     0.82182,     0.82282,     0.82382,     0.82482,     0.82583,     0.82683,     0.82783,     0.82883,     0.82983,     0.83083,     0.83183,     0.83283,     0.83383,     0.83483,     0.83584,     0.83684,     0.83784,     0.83884,     0.83984,\n",
       "           0.84084,     0.84184,     0.84284,     0.84384,     0.84484,     0.84585,     0.84685,     0.84785,     0.84885,     0.84985,     0.85085,     0.85185,     0.85285,     0.85385,     0.85485,     0.85586,     0.85686,     0.85786,     0.85886,     0.85986,     0.86086,     0.86186,     0.86286,     0.86386,\n",
       "           0.86486,     0.86587,     0.86687,     0.86787,     0.86887,     0.86987,     0.87087,     0.87187,     0.87287,     0.87387,     0.87487,     0.87588,     0.87688,     0.87788,     0.87888,     0.87988,     0.88088,     0.88188,     0.88288,     0.88388,     0.88488,     0.88589,     0.88689,     0.88789,\n",
       "           0.88889,     0.88989,     0.89089,     0.89189,     0.89289,     0.89389,     0.89489,      0.8959,      0.8969,      0.8979,      0.8989,      0.8999,      0.9009,      0.9019,      0.9029,      0.9039,      0.9049,     0.90591,     0.90691,     0.90791,     0.90891,     0.90991,     0.91091,     0.91191,\n",
       "           0.91291,     0.91391,     0.91491,     0.91592,     0.91692,     0.91792,     0.91892,     0.91992,     0.92092,     0.92192,     0.92292,     0.92392,     0.92492,     0.92593,     0.92693,     0.92793,     0.92893,     0.92993,     0.93093,     0.93193,     0.93293,     0.93393,     0.93493,     0.93594,\n",
       "           0.93694,     0.93794,     0.93894,     0.93994,     0.94094,     0.94194,     0.94294,     0.94394,     0.94494,     0.94595,     0.94695,     0.94795,     0.94895,     0.94995,     0.95095,     0.95195,     0.95295,     0.95395,     0.95495,     0.95596,     0.95696,     0.95796,     0.95896,     0.95996,\n",
       "           0.96096,     0.96196,     0.96296,     0.96396,     0.96496,     0.96597,     0.96697,     0.96797,     0.96897,     0.96997,     0.97097,     0.97197,     0.97297,     0.97397,     0.97497,     0.97598,     0.97698,     0.97798,     0.97898,     0.97998,     0.98098,     0.98198,     0.98298,     0.98398,\n",
       "           0.98498,     0.98599,     0.98699,     0.98799,     0.98899,     0.98999,     0.99099,     0.99199,     0.99299,     0.99399,     0.99499,       0.996,       0.997,       0.998,       0.999,           1]), array([[    0.99413,     0.99413,     0.99413,     0.99413,     0.99413,     0.99413,     0.99413,     0.99413,     0.99413,     0.99413,     0.99413,     0.99413,     0.99413,     0.99413,     0.99413,     0.99413,     0.99413,     0.99413,     0.99413,     0.99413,     0.99413,     0.99413,     0.99413,\n",
       "            0.99413,     0.99413,     0.99413,     0.99413,     0.99413,     0.99413,     0.99413,     0.99413,     0.99413,     0.99413,     0.99413,     0.99413,     0.99413,     0.99413,     0.99413,     0.99413,     0.99413,     0.99413,     0.99413,     0.99413,     0.99413,     0.99413,     0.99413,\n",
       "            0.99413,     0.99413,     0.99413,     0.99413,     0.99413,     0.99413,     0.99413,     0.99413,     0.99413,     0.99413,     0.99413,     0.99413,     0.99413,     0.99413,     0.99413,     0.99413,     0.99413,     0.99413,     0.99413,     0.99413,     0.99413,     0.99413,     0.99413,\n",
       "            0.99413,     0.99413,     0.99413,     0.99413,     0.99413,     0.99413,     0.99413,     0.99413,     0.99413,     0.99413,     0.99413,     0.99413,     0.99413,     0.99413,     0.99413,     0.99413,     0.99413,     0.99413,     0.99413,     0.99413,     0.99413,     0.99413,     0.99413,\n",
       "            0.99413,     0.99413,     0.99413,     0.99413,     0.99413,     0.99413,     0.99413,     0.99413,     0.99413,     0.99413,     0.99413,     0.99413,     0.99413,     0.99413,     0.99413,     0.99413,     0.99413,     0.99413,     0.99413,     0.99413,     0.99413,     0.99413,     0.99413,\n",
       "            0.99413,     0.99413,     0.99413,     0.99413,     0.99413,     0.99413,     0.99413,     0.99413,     0.99413,     0.99413,     0.99413,     0.99413,     0.99413,     0.99413,     0.99413,     0.99413,     0.99413,     0.99413,     0.99413,     0.99413,     0.99413,     0.99413,     0.99413,\n",
       "            0.99413,     0.99413,     0.99413,     0.99413,     0.99413,     0.99413,     0.99413,     0.99413,     0.99413,     0.99413,     0.99413,     0.99413,     0.99413,     0.99413,     0.99413,     0.99413,     0.99413,     0.99413,     0.99413,     0.99413,     0.99413,     0.99413,     0.99413,\n",
       "            0.99413,     0.99413,     0.99413,     0.99413,     0.99413,     0.99413,     0.99413,     0.99413,     0.99413,     0.99413,     0.99413,     0.99413,     0.99413,     0.99413,     0.99413,     0.99413,     0.99413,     0.99413,     0.99413,     0.99413,     0.99413,     0.99413,     0.99413,\n",
       "            0.99413,     0.99413,     0.99413,     0.99413,     0.99413,     0.99413,     0.99413,     0.99413,     0.99413,     0.99413,     0.99413,     0.99413,     0.99413,     0.99413,     0.99413,     0.99413,     0.99413,     0.99413,     0.99413,     0.99413,     0.99413,     0.99413,     0.99413,\n",
       "            0.99413,     0.99413,     0.99413,     0.99413,     0.99413,     0.99413,     0.99413,     0.99413,     0.99413,     0.99413,     0.99413,     0.99413,     0.99413,     0.99413,     0.99413,     0.99413,     0.99413,     0.99413,     0.99413,     0.99413,     0.99413,     0.99413,     0.99413,\n",
       "            0.99413,     0.99413,     0.99413,     0.99413,     0.99413,     0.99413,     0.99413,     0.99413,     0.99413,     0.99413,     0.99413,     0.99413,     0.99413,     0.99413,     0.99413,     0.99413,     0.99413,     0.99413,     0.99413,     0.99413,     0.99413,     0.99413,     0.99413,\n",
       "            0.99413,     0.99413,     0.99413,     0.99413,     0.99413,     0.99413,     0.99413,     0.99413,     0.99413,     0.99413,     0.99413,     0.99413,     0.99413,     0.99413,     0.99413,     0.99413,     0.99413,     0.99413,     0.99413,     0.99413,     0.99413,     0.99413,     0.99413,\n",
       "            0.99413,     0.99413,     0.99413,     0.99413,     0.99413,     0.99413,     0.99413,     0.99413,     0.99413,     0.99413,     0.99413,     0.99413,     0.99413,     0.99413,     0.99413,     0.99413,     0.99413,     0.99413,     0.99413,     0.99413,     0.99413,     0.99413,     0.99413,\n",
       "            0.99413,     0.99413,     0.99413,     0.99413,     0.99413,     0.99413,     0.99413,     0.99413,     0.99413,     0.99413,     0.99413,     0.99413,     0.99413,     0.99413,     0.99413,     0.99413,     0.99413,     0.99413,     0.99413,     0.99413,     0.99413,     0.99413,     0.99413,\n",
       "            0.99413,     0.99413,     0.99413,     0.99413,     0.99413,     0.99413,     0.99413,     0.99413,     0.99413,     0.99413,     0.99413,     0.99413,     0.99413,     0.99413,     0.99413,     0.99413,     0.99413,     0.99413,     0.99413,     0.99413,     0.99413,     0.99413,     0.99413,\n",
       "            0.99413,     0.99413,     0.99413,     0.99413,     0.99413,     0.99413,     0.99413,     0.99413,     0.99413,     0.99413,     0.99413,     0.99413,     0.99413,     0.99413,     0.99413,     0.99413,     0.99413,     0.99413,     0.99413,     0.99413,     0.99413,     0.99413,     0.99413,\n",
       "            0.99413,     0.99413,     0.99413,     0.99413,     0.99413,     0.99413,     0.99413,     0.99413,     0.99413,     0.99413,     0.99413,     0.99413,     0.99413,     0.99413,     0.99413,     0.99413,     0.99413,     0.99413,     0.99413,     0.99413,     0.99413,     0.99413,     0.99413,\n",
       "            0.99413,     0.99413,     0.99413,     0.99413,     0.99413,     0.99413,     0.99413,     0.99413,     0.99413,     0.99413,     0.99413,     0.99413,     0.99413,     0.99413,     0.99413,     0.99413,     0.99413,     0.99413,     0.99413,     0.99413,     0.99413,     0.99413,     0.99413,\n",
       "            0.99413,     0.99413,     0.99413,     0.99413,     0.99413,     0.99413,     0.99413,     0.99413,     0.99413,     0.99413,     0.99413,     0.99413,     0.99413,     0.99413,     0.99413,     0.99413,     0.99413,     0.99413,     0.99413,     0.99413,     0.99413,     0.99413,     0.99413,\n",
       "            0.99413,     0.99413,     0.99413,     0.99413,     0.99413,     0.99413,     0.99413,     0.99413,     0.99413,     0.99413,     0.99413,     0.99413,     0.99413,     0.99413,     0.99413,     0.99413,     0.99413,     0.99413,     0.99413,     0.99413,     0.99413,     0.99413,     0.99413,\n",
       "            0.99413,     0.99413,     0.99413,     0.99413,     0.99413,     0.99413,     0.99413,     0.99413,     0.99413,     0.99413,     0.99413,     0.99413,     0.99413,     0.99413,     0.99413,     0.99413,     0.99413,     0.99413,     0.99413,     0.99413,     0.99413,     0.99413,     0.99413,\n",
       "            0.99413,     0.99413,     0.99413,     0.99413,     0.99413,     0.99413,     0.99413,     0.99413,     0.99413,     0.99413,     0.99413,     0.99413,     0.99413,     0.99413,     0.99413,     0.99413,     0.99413,     0.99413,     0.99413,     0.99413,     0.99413,     0.99413,     0.99413,\n",
       "            0.99413,     0.99413,     0.99413,     0.99413,     0.99413,     0.99413,     0.99413,     0.99413,     0.99413,     0.99413,     0.99413,     0.99413,     0.99413,     0.99413,     0.99413,     0.99413,     0.99413,     0.99413,     0.99413,     0.99413,     0.99413,     0.99413,     0.99413,\n",
       "            0.99413,     0.99413,     0.99413,     0.99414,     0.99414,     0.99414,     0.99415,     0.99415,     0.99416,     0.99416,     0.99417,     0.99417,     0.99417,     0.99418,     0.99418,     0.99419,     0.99419,     0.99419,      0.9942,      0.9942,     0.99421,     0.99421,     0.99422,\n",
       "            0.99422,     0.99422,     0.99423,     0.99423,     0.99424,     0.99424,     0.99425,     0.99425,     0.99425,     0.99426,     0.99426,     0.99427,     0.99427,     0.99428,     0.99428,     0.99428,     0.99429,     0.99429,      0.9943,      0.9943,      0.9943,     0.99431,     0.99431,\n",
       "            0.99432,     0.99432,     0.99433,     0.99433,     0.99433,     0.99434,     0.99434,     0.99435,     0.99435,     0.99436,     0.99436,     0.99436,     0.99437,     0.99437,     0.99438,     0.99438,     0.99438,     0.99439,     0.99439,      0.9944,      0.9944,     0.99441,     0.99441,\n",
       "            0.99441,     0.99442,     0.99442,     0.99443,     0.99443,     0.99444,     0.99444,     0.99444,     0.99445,     0.99445,     0.99446,     0.99446,     0.99447,     0.99447,     0.99447,     0.99445,     0.99441,     0.99437,     0.99434,      0.9943,     0.99426,     0.99422,     0.99418,\n",
       "            0.99415,     0.99412,     0.99412,     0.99411,      0.9941,     0.99409,     0.99408,     0.99407,     0.99407,     0.99406,     0.99405,     0.99404,     0.99403,     0.99402,     0.99402,     0.99401,       0.994,     0.99399,     0.99398,     0.99398,     0.99397,     0.99396,     0.99395,\n",
       "            0.99394,     0.99393,     0.99393,     0.99392,     0.99391,      0.9939,     0.99389,     0.99389,     0.99388,     0.99387,     0.99386,     0.99385,     0.99384,     0.99384,     0.99383,     0.99382,     0.99381,      0.9938,     0.99379,     0.99379,     0.99379,     0.99386,     0.99392,\n",
       "            0.99398,     0.99404,      0.9941,     0.99414,     0.99417,     0.99419,     0.99422,     0.99424,     0.99427,     0.99429,     0.99432,     0.99434,     0.99437,      0.9944,     0.99442,     0.99445,     0.99447,     0.99445,     0.99444,     0.99443,     0.99442,     0.99441,      0.9944,\n",
       "            0.99439,     0.99438,     0.99437,     0.99436,     0.99434,     0.99433,     0.99432,     0.99431,      0.9943,     0.99429,     0.99428,     0.99427,     0.99426,     0.99424,     0.99423,     0.99422,     0.99421,      0.9942,     0.99419,     0.99418,     0.99417,     0.99416,     0.99415,\n",
       "            0.99413,     0.99412,     0.99411,      0.9941,     0.99409,     0.99408,     0.99407,     0.99406,     0.99405,     0.99404,     0.99403,     0.99402,     0.99401,       0.994,     0.99399,     0.99398,     0.99397,     0.99396,     0.99395,     0.99394,     0.99393,     0.99392,     0.99391,\n",
       "             0.9939,     0.99389,     0.99388,     0.99387,     0.99386,     0.99385,     0.99384,     0.99383,     0.99382,     0.99381,      0.9938,     0.99379,     0.99378,     0.99377,     0.99378,     0.99379,     0.99381,     0.99382,     0.99383,     0.99384,     0.99385,     0.99387,     0.99388,\n",
       "            0.99389,      0.9939,     0.99391,     0.99392,     0.99394,     0.99395,     0.99396,     0.99397,     0.99398,     0.99399,     0.99401,     0.99402,     0.99403,     0.99404,     0.99405,     0.99407,     0.99408,     0.99409,      0.9941,     0.99411,     0.99413,     0.99416,     0.99418,\n",
       "             0.9942,     0.99423,     0.99425,     0.99427,      0.9943,     0.99432,     0.99434,     0.99437,     0.99439,     0.99441,     0.99444,     0.99446,     0.99475,     0.99456,     0.99444,     0.99441,     0.99438,     0.99435,     0.99432,     0.99429,     0.99426,     0.99423,      0.9942,\n",
       "            0.99417,     0.99413,     0.99409,     0.99392,     0.99376,     0.99368,      0.9936,     0.99352,     0.99344,     0.99334,     0.99323,     0.99312,     0.99268,     0.99235,     0.99221,     0.99206,      0.9916,      0.9914,     0.99126,     0.99116,     0.99106,     0.99096,     0.99081,\n",
       "            0.99066,     0.99036,     0.99013,     0.98995,     0.98987,     0.98982,     0.98976,     0.98971,     0.98966,     0.98961,     0.98956,     0.98925,     0.98885,     0.98846,     0.98822,     0.98805,     0.98792,     0.98779,     0.98758,     0.98721,     0.98673,     0.98657,     0.98641,\n",
       "            0.98601,     0.98566,     0.98552,     0.98538,     0.98523,     0.98508,     0.98422,     0.98316,     0.98277,     0.98269,      0.9826,     0.98251,     0.98237,     0.98218,       0.982,     0.98182,     0.98154,     0.98106,     0.98088,     0.98071,     0.98008,     0.97949,     0.97932,\n",
       "            0.97878,     0.97844,     0.97798,     0.97691,     0.97667,     0.97656,     0.97646,     0.97601,     0.97576,     0.97492,     0.97458,     0.97345,     0.97197,     0.97176,     0.97047,     0.96671,     0.96524,     0.96342,     0.96157,     0.96081,     0.95894,     0.95648,     0.95192,\n",
       "            0.94789,     0.94532,     0.93952,     0.93502,     0.93063,     0.92361,     0.91763,     0.90823,     0.90007,     0.89022,     0.88063,     0.86907,      0.8562,     0.84028,     0.82333,     0.80654,       0.787,     0.76291,     0.73843,     0.70963,     0.67956,     0.64598,     0.61148,\n",
       "            0.57645,     0.54808,     0.50771,     0.47243,     0.42811,     0.38903,     0.34736,       0.302,     0.26375,      0.2265,     0.18282,     0.15295,     0.11808,    0.091861,    0.069908,    0.061587,    0.044955,     0.03808,    0.028296,    0.017865,    0.015391,   0.0085062,   0.0061262,\n",
       "          0.0052087,   0.0042951,   0.0026538,   0.0024779,   0.0023019,   0.0021258,   0.0019498,   0.0017737,   0.0015975,   0.0014214,           0,           0,           0,           0,           0,           0,           0,           0,           0,           0,           0,           0,           0,\n",
       "                  0,           0,           0,           0,           0,           0,           0,           0,           0,           0,           0,           0,           0,           0,           0,           0,           0,           0,           0,           0,           0,           0,           0,\n",
       "                  0,           0,           0,           0,           0,           0,           0,           0,           0,           0,           0]]), 'Confidence', 'F1'], [array([          0,    0.001001,    0.002002,    0.003003,    0.004004,    0.005005,    0.006006,    0.007007,    0.008008,    0.009009,     0.01001,    0.011011,    0.012012,    0.013013,    0.014014,    0.015015,    0.016016,    0.017017,    0.018018,    0.019019,     0.02002,    0.021021,    0.022022,    0.023023,\n",
       "          0.024024,    0.025025,    0.026026,    0.027027,    0.028028,    0.029029,     0.03003,    0.031031,    0.032032,    0.033033,    0.034034,    0.035035,    0.036036,    0.037037,    0.038038,    0.039039,     0.04004,    0.041041,    0.042042,    0.043043,    0.044044,    0.045045,    0.046046,    0.047047,\n",
       "          0.048048,    0.049049,     0.05005,    0.051051,    0.052052,    0.053053,    0.054054,    0.055055,    0.056056,    0.057057,    0.058058,    0.059059,     0.06006,    0.061061,    0.062062,    0.063063,    0.064064,    0.065065,    0.066066,    0.067067,    0.068068,    0.069069,     0.07007,    0.071071,\n",
       "          0.072072,    0.073073,    0.074074,    0.075075,    0.076076,    0.077077,    0.078078,    0.079079,     0.08008,    0.081081,    0.082082,    0.083083,    0.084084,    0.085085,    0.086086,    0.087087,    0.088088,    0.089089,     0.09009,    0.091091,    0.092092,    0.093093,    0.094094,    0.095095,\n",
       "          0.096096,    0.097097,    0.098098,    0.099099,      0.1001,      0.1011,      0.1021,      0.1031,      0.1041,     0.10511,     0.10611,     0.10711,     0.10811,     0.10911,     0.11011,     0.11111,     0.11211,     0.11311,     0.11411,     0.11512,     0.11612,     0.11712,     0.11812,     0.11912,\n",
       "           0.12012,     0.12112,     0.12212,     0.12312,     0.12412,     0.12513,     0.12613,     0.12713,     0.12813,     0.12913,     0.13013,     0.13113,     0.13213,     0.13313,     0.13413,     0.13514,     0.13614,     0.13714,     0.13814,     0.13914,     0.14014,     0.14114,     0.14214,     0.14314,\n",
       "           0.14414,     0.14515,     0.14615,     0.14715,     0.14815,     0.14915,     0.15015,     0.15115,     0.15215,     0.15315,     0.15415,     0.15516,     0.15616,     0.15716,     0.15816,     0.15916,     0.16016,     0.16116,     0.16216,     0.16316,     0.16416,     0.16517,     0.16617,     0.16717,\n",
       "           0.16817,     0.16917,     0.17017,     0.17117,     0.17217,     0.17317,     0.17417,     0.17518,     0.17618,     0.17718,     0.17818,     0.17918,     0.18018,     0.18118,     0.18218,     0.18318,     0.18418,     0.18519,     0.18619,     0.18719,     0.18819,     0.18919,     0.19019,     0.19119,\n",
       "           0.19219,     0.19319,     0.19419,      0.1952,      0.1962,      0.1972,      0.1982,      0.1992,      0.2002,      0.2012,      0.2022,      0.2032,      0.2042,     0.20521,     0.20621,     0.20721,     0.20821,     0.20921,     0.21021,     0.21121,     0.21221,     0.21321,     0.21421,     0.21522,\n",
       "           0.21622,     0.21722,     0.21822,     0.21922,     0.22022,     0.22122,     0.22222,     0.22322,     0.22422,     0.22523,     0.22623,     0.22723,     0.22823,     0.22923,     0.23023,     0.23123,     0.23223,     0.23323,     0.23423,     0.23524,     0.23624,     0.23724,     0.23824,     0.23924,\n",
       "           0.24024,     0.24124,     0.24224,     0.24324,     0.24424,     0.24525,     0.24625,     0.24725,     0.24825,     0.24925,     0.25025,     0.25125,     0.25225,     0.25325,     0.25425,     0.25526,     0.25626,     0.25726,     0.25826,     0.25926,     0.26026,     0.26126,     0.26226,     0.26326,\n",
       "           0.26426,     0.26527,     0.26627,     0.26727,     0.26827,     0.26927,     0.27027,     0.27127,     0.27227,     0.27327,     0.27427,     0.27528,     0.27628,     0.27728,     0.27828,     0.27928,     0.28028,     0.28128,     0.28228,     0.28328,     0.28428,     0.28529,     0.28629,     0.28729,\n",
       "           0.28829,     0.28929,     0.29029,     0.29129,     0.29229,     0.29329,     0.29429,      0.2953,      0.2963,      0.2973,      0.2983,      0.2993,      0.3003,      0.3013,      0.3023,      0.3033,      0.3043,     0.30531,     0.30631,     0.30731,     0.30831,     0.30931,     0.31031,     0.31131,\n",
       "           0.31231,     0.31331,     0.31431,     0.31532,     0.31632,     0.31732,     0.31832,     0.31932,     0.32032,     0.32132,     0.32232,     0.32332,     0.32432,     0.32533,     0.32633,     0.32733,     0.32833,     0.32933,     0.33033,     0.33133,     0.33233,     0.33333,     0.33433,     0.33534,\n",
       "           0.33634,     0.33734,     0.33834,     0.33934,     0.34034,     0.34134,     0.34234,     0.34334,     0.34434,     0.34535,     0.34635,     0.34735,     0.34835,     0.34935,     0.35035,     0.35135,     0.35235,     0.35335,     0.35435,     0.35536,     0.35636,     0.35736,     0.35836,     0.35936,\n",
       "           0.36036,     0.36136,     0.36236,     0.36336,     0.36436,     0.36537,     0.36637,     0.36737,     0.36837,     0.36937,     0.37037,     0.37137,     0.37237,     0.37337,     0.37437,     0.37538,     0.37638,     0.37738,     0.37838,     0.37938,     0.38038,     0.38138,     0.38238,     0.38338,\n",
       "           0.38438,     0.38539,     0.38639,     0.38739,     0.38839,     0.38939,     0.39039,     0.39139,     0.39239,     0.39339,     0.39439,      0.3954,      0.3964,      0.3974,      0.3984,      0.3994,      0.4004,      0.4014,      0.4024,      0.4034,      0.4044,     0.40541,     0.40641,     0.40741,\n",
       "           0.40841,     0.40941,     0.41041,     0.41141,     0.41241,     0.41341,     0.41441,     0.41542,     0.41642,     0.41742,     0.41842,     0.41942,     0.42042,     0.42142,     0.42242,     0.42342,     0.42442,     0.42543,     0.42643,     0.42743,     0.42843,     0.42943,     0.43043,     0.43143,\n",
       "           0.43243,     0.43343,     0.43443,     0.43544,     0.43644,     0.43744,     0.43844,     0.43944,     0.44044,     0.44144,     0.44244,     0.44344,     0.44444,     0.44545,     0.44645,     0.44745,     0.44845,     0.44945,     0.45045,     0.45145,     0.45245,     0.45345,     0.45445,     0.45546,\n",
       "           0.45646,     0.45746,     0.45846,     0.45946,     0.46046,     0.46146,     0.46246,     0.46346,     0.46446,     0.46547,     0.46647,     0.46747,     0.46847,     0.46947,     0.47047,     0.47147,     0.47247,     0.47347,     0.47447,     0.47548,     0.47648,     0.47748,     0.47848,     0.47948,\n",
       "           0.48048,     0.48148,     0.48248,     0.48348,     0.48448,     0.48549,     0.48649,     0.48749,     0.48849,     0.48949,     0.49049,     0.49149,     0.49249,     0.49349,     0.49449,      0.4955,      0.4965,      0.4975,      0.4985,      0.4995,      0.5005,      0.5015,      0.5025,      0.5035,\n",
       "            0.5045,     0.50551,     0.50651,     0.50751,     0.50851,     0.50951,     0.51051,     0.51151,     0.51251,     0.51351,     0.51451,     0.51552,     0.51652,     0.51752,     0.51852,     0.51952,     0.52052,     0.52152,     0.52252,     0.52352,     0.52452,     0.52553,     0.52653,     0.52753,\n",
       "           0.52853,     0.52953,     0.53053,     0.53153,     0.53253,     0.53353,     0.53453,     0.53554,     0.53654,     0.53754,     0.53854,     0.53954,     0.54054,     0.54154,     0.54254,     0.54354,     0.54454,     0.54555,     0.54655,     0.54755,     0.54855,     0.54955,     0.55055,     0.55155,\n",
       "           0.55255,     0.55355,     0.55455,     0.55556,     0.55656,     0.55756,     0.55856,     0.55956,     0.56056,     0.56156,     0.56256,     0.56356,     0.56456,     0.56557,     0.56657,     0.56757,     0.56857,     0.56957,     0.57057,     0.57157,     0.57257,     0.57357,     0.57457,     0.57558,\n",
       "           0.57658,     0.57758,     0.57858,     0.57958,     0.58058,     0.58158,     0.58258,     0.58358,     0.58458,     0.58559,     0.58659,     0.58759,     0.58859,     0.58959,     0.59059,     0.59159,     0.59259,     0.59359,     0.59459,      0.5956,      0.5966,      0.5976,      0.5986,      0.5996,\n",
       "            0.6006,      0.6016,      0.6026,      0.6036,      0.6046,     0.60561,     0.60661,     0.60761,     0.60861,     0.60961,     0.61061,     0.61161,     0.61261,     0.61361,     0.61461,     0.61562,     0.61662,     0.61762,     0.61862,     0.61962,     0.62062,     0.62162,     0.62262,     0.62362,\n",
       "           0.62462,     0.62563,     0.62663,     0.62763,     0.62863,     0.62963,     0.63063,     0.63163,     0.63263,     0.63363,     0.63463,     0.63564,     0.63664,     0.63764,     0.63864,     0.63964,     0.64064,     0.64164,     0.64264,     0.64364,     0.64464,     0.64565,     0.64665,     0.64765,\n",
       "           0.64865,     0.64965,     0.65065,     0.65165,     0.65265,     0.65365,     0.65465,     0.65566,     0.65666,     0.65766,     0.65866,     0.65966,     0.66066,     0.66166,     0.66266,     0.66366,     0.66466,     0.66567,     0.66667,     0.66767,     0.66867,     0.66967,     0.67067,     0.67167,\n",
       "           0.67267,     0.67367,     0.67467,     0.67568,     0.67668,     0.67768,     0.67868,     0.67968,     0.68068,     0.68168,     0.68268,     0.68368,     0.68468,     0.68569,     0.68669,     0.68769,     0.68869,     0.68969,     0.69069,     0.69169,     0.69269,     0.69369,     0.69469,      0.6957,\n",
       "            0.6967,      0.6977,      0.6987,      0.6997,      0.7007,      0.7017,      0.7027,      0.7037,      0.7047,     0.70571,     0.70671,     0.70771,     0.70871,     0.70971,     0.71071,     0.71171,     0.71271,     0.71371,     0.71471,     0.71572,     0.71672,     0.71772,     0.71872,     0.71972,\n",
       "           0.72072,     0.72172,     0.72272,     0.72372,     0.72472,     0.72573,     0.72673,     0.72773,     0.72873,     0.72973,     0.73073,     0.73173,     0.73273,     0.73373,     0.73473,     0.73574,     0.73674,     0.73774,     0.73874,     0.73974,     0.74074,     0.74174,     0.74274,     0.74374,\n",
       "           0.74474,     0.74575,     0.74675,     0.74775,     0.74875,     0.74975,     0.75075,     0.75175,     0.75275,     0.75375,     0.75475,     0.75576,     0.75676,     0.75776,     0.75876,     0.75976,     0.76076,     0.76176,     0.76276,     0.76376,     0.76476,     0.76577,     0.76677,     0.76777,\n",
       "           0.76877,     0.76977,     0.77077,     0.77177,     0.77277,     0.77377,     0.77477,     0.77578,     0.77678,     0.77778,     0.77878,     0.77978,     0.78078,     0.78178,     0.78278,     0.78378,     0.78478,     0.78579,     0.78679,     0.78779,     0.78879,     0.78979,     0.79079,     0.79179,\n",
       "           0.79279,     0.79379,     0.79479,      0.7958,      0.7968,      0.7978,      0.7988,      0.7998,      0.8008,      0.8018,      0.8028,      0.8038,      0.8048,     0.80581,     0.80681,     0.80781,     0.80881,     0.80981,     0.81081,     0.81181,     0.81281,     0.81381,     0.81481,     0.81582,\n",
       "           0.81682,     0.81782,     0.81882,     0.81982,     0.82082,     0.82182,     0.82282,     0.82382,     0.82482,     0.82583,     0.82683,     0.82783,     0.82883,     0.82983,     0.83083,     0.83183,     0.83283,     0.83383,     0.83483,     0.83584,     0.83684,     0.83784,     0.83884,     0.83984,\n",
       "           0.84084,     0.84184,     0.84284,     0.84384,     0.84484,     0.84585,     0.84685,     0.84785,     0.84885,     0.84985,     0.85085,     0.85185,     0.85285,     0.85385,     0.85485,     0.85586,     0.85686,     0.85786,     0.85886,     0.85986,     0.86086,     0.86186,     0.86286,     0.86386,\n",
       "           0.86486,     0.86587,     0.86687,     0.86787,     0.86887,     0.86987,     0.87087,     0.87187,     0.87287,     0.87387,     0.87487,     0.87588,     0.87688,     0.87788,     0.87888,     0.87988,     0.88088,     0.88188,     0.88288,     0.88388,     0.88488,     0.88589,     0.88689,     0.88789,\n",
       "           0.88889,     0.88989,     0.89089,     0.89189,     0.89289,     0.89389,     0.89489,      0.8959,      0.8969,      0.8979,      0.8989,      0.8999,      0.9009,      0.9019,      0.9029,      0.9039,      0.9049,     0.90591,     0.90691,     0.90791,     0.90891,     0.90991,     0.91091,     0.91191,\n",
       "           0.91291,     0.91391,     0.91491,     0.91592,     0.91692,     0.91792,     0.91892,     0.91992,     0.92092,     0.92192,     0.92292,     0.92392,     0.92492,     0.92593,     0.92693,     0.92793,     0.92893,     0.92993,     0.93093,     0.93193,     0.93293,     0.93393,     0.93493,     0.93594,\n",
       "           0.93694,     0.93794,     0.93894,     0.93994,     0.94094,     0.94194,     0.94294,     0.94394,     0.94494,     0.94595,     0.94695,     0.94795,     0.94895,     0.94995,     0.95095,     0.95195,     0.95295,     0.95395,     0.95495,     0.95596,     0.95696,     0.95796,     0.95896,     0.95996,\n",
       "           0.96096,     0.96196,     0.96296,     0.96396,     0.96496,     0.96597,     0.96697,     0.96797,     0.96897,     0.96997,     0.97097,     0.97197,     0.97297,     0.97397,     0.97497,     0.97598,     0.97698,     0.97798,     0.97898,     0.97998,     0.98098,     0.98198,     0.98298,     0.98398,\n",
       "           0.98498,     0.98599,     0.98699,     0.98799,     0.98899,     0.98999,     0.99099,     0.99199,     0.99299,     0.99399,     0.99499,       0.996,       0.997,       0.998,       0.999,           1]), array([[    0.99516,     0.99516,     0.99516,     0.99516,     0.99516,     0.99516,     0.99516,     0.99516,     0.99516,     0.99516,     0.99516,     0.99516,     0.99516,     0.99516,     0.99516,     0.99516,     0.99516,     0.99516,     0.99516,     0.99516,     0.99516,     0.99516,     0.99516,\n",
       "            0.99516,     0.99516,     0.99516,     0.99516,     0.99516,     0.99516,     0.99516,     0.99516,     0.99516,     0.99516,     0.99516,     0.99516,     0.99516,     0.99516,     0.99516,     0.99516,     0.99516,     0.99516,     0.99516,     0.99516,     0.99516,     0.99516,     0.99516,\n",
       "            0.99516,     0.99516,     0.99516,     0.99516,     0.99516,     0.99516,     0.99516,     0.99516,     0.99516,     0.99516,     0.99516,     0.99516,     0.99516,     0.99516,     0.99516,     0.99516,     0.99516,     0.99516,     0.99516,     0.99516,     0.99516,     0.99516,     0.99516,\n",
       "            0.99516,     0.99516,     0.99516,     0.99516,     0.99516,     0.99516,     0.99516,     0.99516,     0.99516,     0.99516,     0.99516,     0.99516,     0.99516,     0.99516,     0.99516,     0.99516,     0.99516,     0.99516,     0.99516,     0.99516,     0.99516,     0.99516,     0.99516,\n",
       "            0.99516,     0.99516,     0.99516,     0.99516,     0.99516,     0.99516,     0.99516,     0.99516,     0.99516,     0.99516,     0.99516,     0.99516,     0.99516,     0.99516,     0.99516,     0.99516,     0.99516,     0.99516,     0.99516,     0.99516,     0.99516,     0.99516,     0.99516,\n",
       "            0.99516,     0.99516,     0.99516,     0.99516,     0.99516,     0.99516,     0.99516,     0.99516,     0.99516,     0.99516,     0.99516,     0.99516,     0.99516,     0.99516,     0.99516,     0.99516,     0.99516,     0.99516,     0.99516,     0.99516,     0.99516,     0.99516,     0.99516,\n",
       "            0.99516,     0.99516,     0.99516,     0.99516,     0.99516,     0.99516,     0.99516,     0.99516,     0.99516,     0.99516,     0.99516,     0.99516,     0.99516,     0.99516,     0.99516,     0.99516,     0.99516,     0.99516,     0.99516,     0.99516,     0.99516,     0.99516,     0.99516,\n",
       "            0.99516,     0.99516,     0.99516,     0.99516,     0.99516,     0.99516,     0.99516,     0.99516,     0.99516,     0.99516,     0.99516,     0.99516,     0.99516,     0.99516,     0.99516,     0.99516,     0.99516,     0.99516,     0.99516,     0.99516,     0.99516,     0.99516,     0.99516,\n",
       "            0.99516,     0.99516,     0.99516,     0.99516,     0.99516,     0.99516,     0.99516,     0.99516,     0.99516,     0.99516,     0.99516,     0.99516,     0.99516,     0.99516,     0.99516,     0.99516,     0.99516,     0.99516,     0.99516,     0.99516,     0.99516,     0.99516,     0.99516,\n",
       "            0.99516,     0.99516,     0.99516,     0.99516,     0.99516,     0.99516,     0.99516,     0.99516,     0.99516,     0.99516,     0.99516,     0.99516,     0.99516,     0.99516,     0.99516,     0.99516,     0.99516,     0.99516,     0.99516,     0.99516,     0.99516,     0.99516,     0.99516,\n",
       "            0.99516,     0.99516,     0.99516,     0.99516,     0.99516,     0.99516,     0.99516,     0.99516,     0.99516,     0.99516,     0.99516,     0.99516,     0.99516,     0.99516,     0.99516,     0.99516,     0.99516,     0.99516,     0.99516,     0.99516,     0.99516,     0.99516,     0.99516,\n",
       "            0.99516,     0.99516,     0.99516,     0.99516,     0.99516,     0.99516,     0.99516,     0.99516,     0.99516,     0.99516,     0.99516,     0.99516,     0.99516,     0.99516,     0.99516,     0.99516,     0.99516,     0.99516,     0.99516,     0.99516,     0.99516,     0.99516,     0.99516,\n",
       "            0.99516,     0.99516,     0.99516,     0.99516,     0.99516,     0.99516,     0.99516,     0.99516,     0.99516,     0.99516,     0.99516,     0.99516,     0.99516,     0.99516,     0.99516,     0.99516,     0.99516,     0.99516,     0.99516,     0.99516,     0.99516,     0.99516,     0.99516,\n",
       "            0.99516,     0.99516,     0.99516,     0.99516,     0.99516,     0.99516,     0.99516,     0.99516,     0.99516,     0.99516,     0.99516,     0.99516,     0.99516,     0.99516,     0.99516,     0.99516,     0.99516,     0.99516,     0.99516,     0.99516,     0.99516,     0.99516,     0.99516,\n",
       "            0.99516,     0.99516,     0.99516,     0.99516,     0.99516,     0.99516,     0.99516,     0.99516,     0.99516,     0.99516,     0.99516,     0.99516,     0.99516,     0.99516,     0.99516,     0.99516,     0.99516,     0.99516,     0.99516,     0.99516,     0.99516,     0.99516,     0.99516,\n",
       "            0.99516,     0.99516,     0.99516,     0.99516,     0.99516,     0.99516,     0.99516,     0.99516,     0.99516,     0.99516,     0.99516,     0.99516,     0.99516,     0.99516,     0.99516,     0.99516,     0.99516,     0.99516,     0.99516,     0.99516,     0.99516,     0.99516,     0.99516,\n",
       "            0.99516,     0.99516,     0.99516,     0.99516,     0.99516,     0.99516,     0.99516,     0.99516,     0.99516,     0.99516,     0.99516,     0.99516,     0.99516,     0.99516,     0.99516,     0.99516,     0.99516,     0.99516,     0.99516,     0.99516,     0.99516,     0.99516,     0.99516,\n",
       "            0.99516,     0.99516,     0.99516,     0.99516,     0.99516,     0.99516,     0.99516,     0.99516,     0.99516,     0.99516,     0.99516,     0.99516,     0.99516,     0.99516,     0.99516,     0.99516,     0.99516,     0.99516,     0.99516,     0.99516,     0.99516,     0.99516,     0.99516,\n",
       "            0.99516,     0.99516,     0.99516,     0.99516,     0.99516,     0.99516,     0.99516,     0.99516,     0.99516,     0.99516,     0.99516,     0.99516,     0.99516,     0.99516,     0.99516,     0.99516,     0.99516,     0.99516,     0.99516,     0.99516,     0.99516,     0.99516,     0.99516,\n",
       "            0.99516,     0.99516,     0.99516,     0.99516,     0.99516,     0.99516,     0.99516,     0.99516,     0.99516,     0.99516,     0.99516,     0.99516,     0.99516,     0.99516,     0.99516,     0.99516,     0.99516,     0.99516,     0.99516,     0.99516,     0.99516,     0.99516,     0.99516,\n",
       "            0.99516,     0.99516,     0.99516,     0.99516,     0.99516,     0.99516,     0.99516,     0.99516,     0.99516,     0.99516,     0.99516,     0.99516,     0.99516,     0.99516,     0.99516,     0.99516,     0.99516,     0.99516,     0.99516,     0.99516,     0.99516,     0.99516,     0.99516,\n",
       "            0.99516,     0.99516,     0.99516,     0.99516,     0.99516,     0.99516,     0.99516,     0.99516,     0.99516,     0.99516,     0.99516,     0.99516,     0.99516,     0.99516,     0.99516,     0.99516,     0.99516,     0.99516,     0.99516,     0.99516,     0.99516,     0.99516,     0.99516,\n",
       "            0.99516,     0.99516,     0.99516,     0.99516,     0.99516,     0.99516,     0.99516,     0.99516,     0.99516,     0.99516,     0.99516,     0.99516,     0.99516,     0.99516,     0.99516,     0.99516,     0.99516,     0.99516,     0.99516,     0.99516,     0.99516,     0.99516,     0.99516,\n",
       "            0.99516,     0.99516,     0.99516,     0.99517,     0.99518,     0.99519,      0.9952,      0.9952,     0.99521,     0.99522,     0.99523,     0.99524,     0.99525,     0.99525,     0.99526,     0.99527,     0.99528,     0.99529,      0.9953,     0.99531,     0.99531,     0.99532,     0.99533,\n",
       "            0.99534,     0.99535,     0.99536,     0.99536,     0.99537,     0.99538,     0.99539,      0.9954,     0.99541,     0.99542,     0.99542,     0.99543,     0.99544,     0.99545,     0.99546,     0.99547,     0.99547,     0.99548,     0.99549,      0.9955,     0.99551,     0.99552,     0.99553,\n",
       "            0.99553,     0.99554,     0.99555,     0.99556,     0.99557,     0.99558,     0.99559,     0.99559,      0.9956,     0.99561,     0.99562,     0.99563,     0.99564,     0.99564,     0.99565,     0.99566,     0.99567,     0.99568,     0.99569,      0.9957,      0.9957,     0.99571,     0.99572,\n",
       "            0.99573,     0.99574,     0.99575,     0.99575,     0.99576,     0.99577,     0.99578,     0.99579,      0.9958,     0.99581,     0.99581,     0.99582,     0.99583,     0.99584,     0.99585,     0.99585,     0.99585,     0.99585,     0.99585,     0.99585,     0.99585,     0.99585,     0.99585,\n",
       "            0.99585,     0.99585,     0.99585,     0.99585,     0.99585,     0.99585,     0.99585,     0.99585,     0.99585,     0.99585,     0.99585,     0.99585,     0.99585,     0.99585,     0.99585,     0.99585,     0.99585,     0.99585,     0.99585,     0.99585,     0.99585,     0.99585,     0.99585,\n",
       "            0.99585,     0.99585,     0.99585,     0.99585,     0.99585,     0.99585,     0.99585,     0.99585,     0.99585,     0.99585,     0.99585,     0.99585,     0.99585,     0.99585,     0.99585,     0.99585,     0.99585,     0.99585,     0.99584,     0.99584,     0.99587,       0.996,     0.99612,\n",
       "            0.99624,     0.99637,     0.99649,     0.99657,     0.99662,     0.99667,     0.99672,     0.99677,     0.99682,     0.99688,     0.99693,     0.99698,     0.99703,     0.99708,     0.99713,     0.99718,     0.99723,     0.99723,     0.99723,     0.99723,     0.99723,     0.99723,     0.99723,\n",
       "            0.99723,     0.99723,     0.99723,     0.99723,     0.99723,     0.99723,     0.99723,     0.99723,     0.99723,     0.99723,     0.99723,     0.99722,     0.99722,     0.99722,     0.99722,     0.99722,     0.99722,     0.99722,     0.99722,     0.99722,     0.99722,     0.99722,     0.99722,\n",
       "            0.99722,     0.99722,     0.99722,     0.99722,     0.99722,     0.99722,     0.99722,     0.99722,     0.99722,     0.99722,     0.99722,     0.99722,     0.99722,     0.99722,     0.99722,     0.99722,     0.99722,     0.99722,     0.99722,     0.99722,     0.99722,     0.99722,     0.99722,\n",
       "            0.99722,     0.99722,     0.99722,     0.99722,     0.99722,     0.99722,     0.99722,     0.99722,     0.99722,     0.99722,     0.99722,     0.99722,     0.99722,     0.99722,     0.99725,     0.99727,     0.99729,     0.99732,     0.99734,     0.99736,     0.99739,     0.99741,     0.99744,\n",
       "            0.99746,     0.99748,     0.99751,     0.99753,     0.99755,     0.99758,      0.9976,     0.99762,     0.99765,     0.99767,      0.9977,     0.99772,     0.99774,     0.99777,     0.99779,     0.99781,     0.99784,     0.99786,     0.99788,     0.99791,     0.99795,       0.998,     0.99804,\n",
       "            0.99809,     0.99814,     0.99818,     0.99823,     0.99828,     0.99832,     0.99837,     0.99842,     0.99847,     0.99851,     0.99856,     0.99861,      0.9993,      0.9993,      0.9993,      0.9993,      0.9993,      0.9993,      0.9993,      0.9993,      0.9993,      0.9993,      0.9993,\n",
       "             0.9993,      0.9993,      0.9993,      0.9993,      0.9993,      0.9993,      0.9993,      0.9993,      0.9993,      0.9993,      0.9993,      0.9993,      0.9993,      0.9993,      0.9993,      0.9993,      0.9993,      0.9993,      0.9993,      0.9993,      0.9993,      0.9993,      0.9993,\n",
       "             0.9993,      0.9993,      0.9993,      0.9993,      0.9993,      0.9993,      0.9993,      0.9993,      0.9993,      0.9993,      0.9993,      0.9993,      0.9993,      0.9993,     0.99929,     0.99929,     0.99929,     0.99929,     0.99929,     0.99929,     0.99929,     0.99929,     0.99929,\n",
       "            0.99929,     0.99929,     0.99929,     0.99929,     0.99929,     0.99929,     0.99929,     0.99929,     0.99929,     0.99929,     0.99929,     0.99929,     0.99929,     0.99929,     0.99929,     0.99929,     0.99929,     0.99928,     0.99928,     0.99928,     0.99928,     0.99928,     0.99928,\n",
       "            0.99928,     0.99928,     0.99928,     0.99928,     0.99928,     0.99928,     0.99928,     0.99928,     0.99928,     0.99928,     0.99928,     0.99927,     0.99927,     0.99927,     0.99927,     0.99926,     0.99926,     0.99926,     0.99926,     0.99926,     0.99925,     0.99925,     0.99924,\n",
       "            0.99924,     0.99923,     0.99922,     0.99922,     0.99921,      0.9992,     0.99919,     0.99917,     0.99916,     0.99914,     0.99912,      0.9991,     0.99908,     0.99905,     0.99902,     0.99898,     0.99894,     0.99888,     0.99882,     0.99875,     0.99866,     0.99856,     0.99844,\n",
       "             0.9983,     0.99818,     0.99798,     0.99778,           1,           1,           1,           1,           1,           1,           1,           1,           1,           1,           1,           1,           1,           1,           1,           1,           1,           1,           1,\n",
       "                  1,           1,           1,           1,           1,           1,           1,           1,           1,           1,           1,           1,           1,           1,           1,           1,           1,           1,           1,           1,           1,           1,           1,\n",
       "                  1,           1,           1,           1,           1,           1,           1,           1,           1,           1,           1,           1,           1,           1,           1,           1,           1,           1,           1,           1,           1,           1,           1,\n",
       "                  1,           1,           1,           1,           1,           1,           1,           1,           1,           1,           1]]), 'Confidence', 'Precision'], [array([          0,    0.001001,    0.002002,    0.003003,    0.004004,    0.005005,    0.006006,    0.007007,    0.008008,    0.009009,     0.01001,    0.011011,    0.012012,    0.013013,    0.014014,    0.015015,    0.016016,    0.017017,    0.018018,    0.019019,     0.02002,    0.021021,    0.022022,    0.023023,\n",
       "          0.024024,    0.025025,    0.026026,    0.027027,    0.028028,    0.029029,     0.03003,    0.031031,    0.032032,    0.033033,    0.034034,    0.035035,    0.036036,    0.037037,    0.038038,    0.039039,     0.04004,    0.041041,    0.042042,    0.043043,    0.044044,    0.045045,    0.046046,    0.047047,\n",
       "          0.048048,    0.049049,     0.05005,    0.051051,    0.052052,    0.053053,    0.054054,    0.055055,    0.056056,    0.057057,    0.058058,    0.059059,     0.06006,    0.061061,    0.062062,    0.063063,    0.064064,    0.065065,    0.066066,    0.067067,    0.068068,    0.069069,     0.07007,    0.071071,\n",
       "          0.072072,    0.073073,    0.074074,    0.075075,    0.076076,    0.077077,    0.078078,    0.079079,     0.08008,    0.081081,    0.082082,    0.083083,    0.084084,    0.085085,    0.086086,    0.087087,    0.088088,    0.089089,     0.09009,    0.091091,    0.092092,    0.093093,    0.094094,    0.095095,\n",
       "          0.096096,    0.097097,    0.098098,    0.099099,      0.1001,      0.1011,      0.1021,      0.1031,      0.1041,     0.10511,     0.10611,     0.10711,     0.10811,     0.10911,     0.11011,     0.11111,     0.11211,     0.11311,     0.11411,     0.11512,     0.11612,     0.11712,     0.11812,     0.11912,\n",
       "           0.12012,     0.12112,     0.12212,     0.12312,     0.12412,     0.12513,     0.12613,     0.12713,     0.12813,     0.12913,     0.13013,     0.13113,     0.13213,     0.13313,     0.13413,     0.13514,     0.13614,     0.13714,     0.13814,     0.13914,     0.14014,     0.14114,     0.14214,     0.14314,\n",
       "           0.14414,     0.14515,     0.14615,     0.14715,     0.14815,     0.14915,     0.15015,     0.15115,     0.15215,     0.15315,     0.15415,     0.15516,     0.15616,     0.15716,     0.15816,     0.15916,     0.16016,     0.16116,     0.16216,     0.16316,     0.16416,     0.16517,     0.16617,     0.16717,\n",
       "           0.16817,     0.16917,     0.17017,     0.17117,     0.17217,     0.17317,     0.17417,     0.17518,     0.17618,     0.17718,     0.17818,     0.17918,     0.18018,     0.18118,     0.18218,     0.18318,     0.18418,     0.18519,     0.18619,     0.18719,     0.18819,     0.18919,     0.19019,     0.19119,\n",
       "           0.19219,     0.19319,     0.19419,      0.1952,      0.1962,      0.1972,      0.1982,      0.1992,      0.2002,      0.2012,      0.2022,      0.2032,      0.2042,     0.20521,     0.20621,     0.20721,     0.20821,     0.20921,     0.21021,     0.21121,     0.21221,     0.21321,     0.21421,     0.21522,\n",
       "           0.21622,     0.21722,     0.21822,     0.21922,     0.22022,     0.22122,     0.22222,     0.22322,     0.22422,     0.22523,     0.22623,     0.22723,     0.22823,     0.22923,     0.23023,     0.23123,     0.23223,     0.23323,     0.23423,     0.23524,     0.23624,     0.23724,     0.23824,     0.23924,\n",
       "           0.24024,     0.24124,     0.24224,     0.24324,     0.24424,     0.24525,     0.24625,     0.24725,     0.24825,     0.24925,     0.25025,     0.25125,     0.25225,     0.25325,     0.25425,     0.25526,     0.25626,     0.25726,     0.25826,     0.25926,     0.26026,     0.26126,     0.26226,     0.26326,\n",
       "           0.26426,     0.26527,     0.26627,     0.26727,     0.26827,     0.26927,     0.27027,     0.27127,     0.27227,     0.27327,     0.27427,     0.27528,     0.27628,     0.27728,     0.27828,     0.27928,     0.28028,     0.28128,     0.28228,     0.28328,     0.28428,     0.28529,     0.28629,     0.28729,\n",
       "           0.28829,     0.28929,     0.29029,     0.29129,     0.29229,     0.29329,     0.29429,      0.2953,      0.2963,      0.2973,      0.2983,      0.2993,      0.3003,      0.3013,      0.3023,      0.3033,      0.3043,     0.30531,     0.30631,     0.30731,     0.30831,     0.30931,     0.31031,     0.31131,\n",
       "           0.31231,     0.31331,     0.31431,     0.31532,     0.31632,     0.31732,     0.31832,     0.31932,     0.32032,     0.32132,     0.32232,     0.32332,     0.32432,     0.32533,     0.32633,     0.32733,     0.32833,     0.32933,     0.33033,     0.33133,     0.33233,     0.33333,     0.33433,     0.33534,\n",
       "           0.33634,     0.33734,     0.33834,     0.33934,     0.34034,     0.34134,     0.34234,     0.34334,     0.34434,     0.34535,     0.34635,     0.34735,     0.34835,     0.34935,     0.35035,     0.35135,     0.35235,     0.35335,     0.35435,     0.35536,     0.35636,     0.35736,     0.35836,     0.35936,\n",
       "           0.36036,     0.36136,     0.36236,     0.36336,     0.36436,     0.36537,     0.36637,     0.36737,     0.36837,     0.36937,     0.37037,     0.37137,     0.37237,     0.37337,     0.37437,     0.37538,     0.37638,     0.37738,     0.37838,     0.37938,     0.38038,     0.38138,     0.38238,     0.38338,\n",
       "           0.38438,     0.38539,     0.38639,     0.38739,     0.38839,     0.38939,     0.39039,     0.39139,     0.39239,     0.39339,     0.39439,      0.3954,      0.3964,      0.3974,      0.3984,      0.3994,      0.4004,      0.4014,      0.4024,      0.4034,      0.4044,     0.40541,     0.40641,     0.40741,\n",
       "           0.40841,     0.40941,     0.41041,     0.41141,     0.41241,     0.41341,     0.41441,     0.41542,     0.41642,     0.41742,     0.41842,     0.41942,     0.42042,     0.42142,     0.42242,     0.42342,     0.42442,     0.42543,     0.42643,     0.42743,     0.42843,     0.42943,     0.43043,     0.43143,\n",
       "           0.43243,     0.43343,     0.43443,     0.43544,     0.43644,     0.43744,     0.43844,     0.43944,     0.44044,     0.44144,     0.44244,     0.44344,     0.44444,     0.44545,     0.44645,     0.44745,     0.44845,     0.44945,     0.45045,     0.45145,     0.45245,     0.45345,     0.45445,     0.45546,\n",
       "           0.45646,     0.45746,     0.45846,     0.45946,     0.46046,     0.46146,     0.46246,     0.46346,     0.46446,     0.46547,     0.46647,     0.46747,     0.46847,     0.46947,     0.47047,     0.47147,     0.47247,     0.47347,     0.47447,     0.47548,     0.47648,     0.47748,     0.47848,     0.47948,\n",
       "           0.48048,     0.48148,     0.48248,     0.48348,     0.48448,     0.48549,     0.48649,     0.48749,     0.48849,     0.48949,     0.49049,     0.49149,     0.49249,     0.49349,     0.49449,      0.4955,      0.4965,      0.4975,      0.4985,      0.4995,      0.5005,      0.5015,      0.5025,      0.5035,\n",
       "            0.5045,     0.50551,     0.50651,     0.50751,     0.50851,     0.50951,     0.51051,     0.51151,     0.51251,     0.51351,     0.51451,     0.51552,     0.51652,     0.51752,     0.51852,     0.51952,     0.52052,     0.52152,     0.52252,     0.52352,     0.52452,     0.52553,     0.52653,     0.52753,\n",
       "           0.52853,     0.52953,     0.53053,     0.53153,     0.53253,     0.53353,     0.53453,     0.53554,     0.53654,     0.53754,     0.53854,     0.53954,     0.54054,     0.54154,     0.54254,     0.54354,     0.54454,     0.54555,     0.54655,     0.54755,     0.54855,     0.54955,     0.55055,     0.55155,\n",
       "           0.55255,     0.55355,     0.55455,     0.55556,     0.55656,     0.55756,     0.55856,     0.55956,     0.56056,     0.56156,     0.56256,     0.56356,     0.56456,     0.56557,     0.56657,     0.56757,     0.56857,     0.56957,     0.57057,     0.57157,     0.57257,     0.57357,     0.57457,     0.57558,\n",
       "           0.57658,     0.57758,     0.57858,     0.57958,     0.58058,     0.58158,     0.58258,     0.58358,     0.58458,     0.58559,     0.58659,     0.58759,     0.58859,     0.58959,     0.59059,     0.59159,     0.59259,     0.59359,     0.59459,      0.5956,      0.5966,      0.5976,      0.5986,      0.5996,\n",
       "            0.6006,      0.6016,      0.6026,      0.6036,      0.6046,     0.60561,     0.60661,     0.60761,     0.60861,     0.60961,     0.61061,     0.61161,     0.61261,     0.61361,     0.61461,     0.61562,     0.61662,     0.61762,     0.61862,     0.61962,     0.62062,     0.62162,     0.62262,     0.62362,\n",
       "           0.62462,     0.62563,     0.62663,     0.62763,     0.62863,     0.62963,     0.63063,     0.63163,     0.63263,     0.63363,     0.63463,     0.63564,     0.63664,     0.63764,     0.63864,     0.63964,     0.64064,     0.64164,     0.64264,     0.64364,     0.64464,     0.64565,     0.64665,     0.64765,\n",
       "           0.64865,     0.64965,     0.65065,     0.65165,     0.65265,     0.65365,     0.65465,     0.65566,     0.65666,     0.65766,     0.65866,     0.65966,     0.66066,     0.66166,     0.66266,     0.66366,     0.66466,     0.66567,     0.66667,     0.66767,     0.66867,     0.66967,     0.67067,     0.67167,\n",
       "           0.67267,     0.67367,     0.67467,     0.67568,     0.67668,     0.67768,     0.67868,     0.67968,     0.68068,     0.68168,     0.68268,     0.68368,     0.68468,     0.68569,     0.68669,     0.68769,     0.68869,     0.68969,     0.69069,     0.69169,     0.69269,     0.69369,     0.69469,      0.6957,\n",
       "            0.6967,      0.6977,      0.6987,      0.6997,      0.7007,      0.7017,      0.7027,      0.7037,      0.7047,     0.70571,     0.70671,     0.70771,     0.70871,     0.70971,     0.71071,     0.71171,     0.71271,     0.71371,     0.71471,     0.71572,     0.71672,     0.71772,     0.71872,     0.71972,\n",
       "           0.72072,     0.72172,     0.72272,     0.72372,     0.72472,     0.72573,     0.72673,     0.72773,     0.72873,     0.72973,     0.73073,     0.73173,     0.73273,     0.73373,     0.73473,     0.73574,     0.73674,     0.73774,     0.73874,     0.73974,     0.74074,     0.74174,     0.74274,     0.74374,\n",
       "           0.74474,     0.74575,     0.74675,     0.74775,     0.74875,     0.74975,     0.75075,     0.75175,     0.75275,     0.75375,     0.75475,     0.75576,     0.75676,     0.75776,     0.75876,     0.75976,     0.76076,     0.76176,     0.76276,     0.76376,     0.76476,     0.76577,     0.76677,     0.76777,\n",
       "           0.76877,     0.76977,     0.77077,     0.77177,     0.77277,     0.77377,     0.77477,     0.77578,     0.77678,     0.77778,     0.77878,     0.77978,     0.78078,     0.78178,     0.78278,     0.78378,     0.78478,     0.78579,     0.78679,     0.78779,     0.78879,     0.78979,     0.79079,     0.79179,\n",
       "           0.79279,     0.79379,     0.79479,      0.7958,      0.7968,      0.7978,      0.7988,      0.7998,      0.8008,      0.8018,      0.8028,      0.8038,      0.8048,     0.80581,     0.80681,     0.80781,     0.80881,     0.80981,     0.81081,     0.81181,     0.81281,     0.81381,     0.81481,     0.81582,\n",
       "           0.81682,     0.81782,     0.81882,     0.81982,     0.82082,     0.82182,     0.82282,     0.82382,     0.82482,     0.82583,     0.82683,     0.82783,     0.82883,     0.82983,     0.83083,     0.83183,     0.83283,     0.83383,     0.83483,     0.83584,     0.83684,     0.83784,     0.83884,     0.83984,\n",
       "           0.84084,     0.84184,     0.84284,     0.84384,     0.84484,     0.84585,     0.84685,     0.84785,     0.84885,     0.84985,     0.85085,     0.85185,     0.85285,     0.85385,     0.85485,     0.85586,     0.85686,     0.85786,     0.85886,     0.85986,     0.86086,     0.86186,     0.86286,     0.86386,\n",
       "           0.86486,     0.86587,     0.86687,     0.86787,     0.86887,     0.86987,     0.87087,     0.87187,     0.87287,     0.87387,     0.87487,     0.87588,     0.87688,     0.87788,     0.87888,     0.87988,     0.88088,     0.88188,     0.88288,     0.88388,     0.88488,     0.88589,     0.88689,     0.88789,\n",
       "           0.88889,     0.88989,     0.89089,     0.89189,     0.89289,     0.89389,     0.89489,      0.8959,      0.8969,      0.8979,      0.8989,      0.8999,      0.9009,      0.9019,      0.9029,      0.9039,      0.9049,     0.90591,     0.90691,     0.90791,     0.90891,     0.90991,     0.91091,     0.91191,\n",
       "           0.91291,     0.91391,     0.91491,     0.91592,     0.91692,     0.91792,     0.91892,     0.91992,     0.92092,     0.92192,     0.92292,     0.92392,     0.92492,     0.92593,     0.92693,     0.92793,     0.92893,     0.92993,     0.93093,     0.93193,     0.93293,     0.93393,     0.93493,     0.93594,\n",
       "           0.93694,     0.93794,     0.93894,     0.93994,     0.94094,     0.94194,     0.94294,     0.94394,     0.94494,     0.94595,     0.94695,     0.94795,     0.94895,     0.94995,     0.95095,     0.95195,     0.95295,     0.95395,     0.95495,     0.95596,     0.95696,     0.95796,     0.95896,     0.95996,\n",
       "           0.96096,     0.96196,     0.96296,     0.96396,     0.96496,     0.96597,     0.96697,     0.96797,     0.96897,     0.96997,     0.97097,     0.97197,     0.97297,     0.97397,     0.97497,     0.97598,     0.97698,     0.97798,     0.97898,     0.97998,     0.98098,     0.98198,     0.98298,     0.98398,\n",
       "           0.98498,     0.98599,     0.98699,     0.98799,     0.98899,     0.98999,     0.99099,     0.99199,     0.99299,     0.99399,     0.99499,       0.996,       0.997,       0.998,       0.999,           1]), array([[     0.9931,      0.9931,      0.9931,      0.9931,      0.9931,      0.9931,      0.9931,      0.9931,      0.9931,      0.9931,      0.9931,      0.9931,      0.9931,      0.9931,      0.9931,      0.9931,      0.9931,      0.9931,      0.9931,      0.9931,      0.9931,      0.9931,      0.9931,\n",
       "             0.9931,      0.9931,      0.9931,      0.9931,      0.9931,      0.9931,      0.9931,      0.9931,      0.9931,      0.9931,      0.9931,      0.9931,      0.9931,      0.9931,      0.9931,      0.9931,      0.9931,      0.9931,      0.9931,      0.9931,      0.9931,      0.9931,      0.9931,\n",
       "             0.9931,      0.9931,      0.9931,      0.9931,      0.9931,      0.9931,      0.9931,      0.9931,      0.9931,      0.9931,      0.9931,      0.9931,      0.9931,      0.9931,      0.9931,      0.9931,      0.9931,      0.9931,      0.9931,      0.9931,      0.9931,      0.9931,      0.9931,\n",
       "             0.9931,      0.9931,      0.9931,      0.9931,      0.9931,      0.9931,      0.9931,      0.9931,      0.9931,      0.9931,      0.9931,      0.9931,      0.9931,      0.9931,      0.9931,      0.9931,      0.9931,      0.9931,      0.9931,      0.9931,      0.9931,      0.9931,      0.9931,\n",
       "             0.9931,      0.9931,      0.9931,      0.9931,      0.9931,      0.9931,      0.9931,      0.9931,      0.9931,      0.9931,      0.9931,      0.9931,      0.9931,      0.9931,      0.9931,      0.9931,      0.9931,      0.9931,      0.9931,      0.9931,      0.9931,      0.9931,      0.9931,\n",
       "             0.9931,      0.9931,      0.9931,      0.9931,      0.9931,      0.9931,      0.9931,      0.9931,      0.9931,      0.9931,      0.9931,      0.9931,      0.9931,      0.9931,      0.9931,      0.9931,      0.9931,      0.9931,      0.9931,      0.9931,      0.9931,      0.9931,      0.9931,\n",
       "             0.9931,      0.9931,      0.9931,      0.9931,      0.9931,      0.9931,      0.9931,      0.9931,      0.9931,      0.9931,      0.9931,      0.9931,      0.9931,      0.9931,      0.9931,      0.9931,      0.9931,      0.9931,      0.9931,      0.9931,      0.9931,      0.9931,      0.9931,\n",
       "             0.9931,      0.9931,      0.9931,      0.9931,      0.9931,      0.9931,      0.9931,      0.9931,      0.9931,      0.9931,      0.9931,      0.9931,      0.9931,      0.9931,      0.9931,      0.9931,      0.9931,      0.9931,      0.9931,      0.9931,      0.9931,      0.9931,      0.9931,\n",
       "             0.9931,      0.9931,      0.9931,      0.9931,      0.9931,      0.9931,      0.9931,      0.9931,      0.9931,      0.9931,      0.9931,      0.9931,      0.9931,      0.9931,      0.9931,      0.9931,      0.9931,      0.9931,      0.9931,      0.9931,      0.9931,      0.9931,      0.9931,\n",
       "             0.9931,      0.9931,      0.9931,      0.9931,      0.9931,      0.9931,      0.9931,      0.9931,      0.9931,      0.9931,      0.9931,      0.9931,      0.9931,      0.9931,      0.9931,      0.9931,      0.9931,      0.9931,      0.9931,      0.9931,      0.9931,      0.9931,      0.9931,\n",
       "             0.9931,      0.9931,      0.9931,      0.9931,      0.9931,      0.9931,      0.9931,      0.9931,      0.9931,      0.9931,      0.9931,      0.9931,      0.9931,      0.9931,      0.9931,      0.9931,      0.9931,      0.9931,      0.9931,      0.9931,      0.9931,      0.9931,      0.9931,\n",
       "             0.9931,      0.9931,      0.9931,      0.9931,      0.9931,      0.9931,      0.9931,      0.9931,      0.9931,      0.9931,      0.9931,      0.9931,      0.9931,      0.9931,      0.9931,      0.9931,      0.9931,      0.9931,      0.9931,      0.9931,      0.9931,      0.9931,      0.9931,\n",
       "             0.9931,      0.9931,      0.9931,      0.9931,      0.9931,      0.9931,      0.9931,      0.9931,      0.9931,      0.9931,      0.9931,      0.9931,      0.9931,      0.9931,      0.9931,      0.9931,      0.9931,      0.9931,      0.9931,      0.9931,      0.9931,      0.9931,      0.9931,\n",
       "             0.9931,      0.9931,      0.9931,      0.9931,      0.9931,      0.9931,      0.9931,      0.9931,      0.9931,      0.9931,      0.9931,      0.9931,      0.9931,      0.9931,      0.9931,      0.9931,      0.9931,      0.9931,      0.9931,      0.9931,      0.9931,      0.9931,      0.9931,\n",
       "             0.9931,      0.9931,      0.9931,      0.9931,      0.9931,      0.9931,      0.9931,      0.9931,      0.9931,      0.9931,      0.9931,      0.9931,      0.9931,      0.9931,      0.9931,      0.9931,      0.9931,      0.9931,      0.9931,      0.9931,      0.9931,      0.9931,      0.9931,\n",
       "             0.9931,      0.9931,      0.9931,      0.9931,      0.9931,      0.9931,      0.9931,      0.9931,      0.9931,      0.9931,      0.9931,      0.9931,      0.9931,      0.9931,      0.9931,      0.9931,      0.9931,      0.9931,      0.9931,      0.9931,      0.9931,      0.9931,      0.9931,\n",
       "             0.9931,      0.9931,      0.9931,      0.9931,      0.9931,      0.9931,      0.9931,      0.9931,      0.9931,      0.9931,      0.9931,      0.9931,      0.9931,      0.9931,      0.9931,      0.9931,      0.9931,      0.9931,      0.9931,      0.9931,      0.9931,      0.9931,      0.9931,\n",
       "             0.9931,      0.9931,      0.9931,      0.9931,      0.9931,      0.9931,      0.9931,      0.9931,      0.9931,      0.9931,      0.9931,      0.9931,      0.9931,      0.9931,      0.9931,      0.9931,      0.9931,      0.9931,      0.9931,      0.9931,      0.9931,      0.9931,      0.9931,\n",
       "             0.9931,      0.9931,      0.9931,      0.9931,      0.9931,      0.9931,      0.9931,      0.9931,      0.9931,      0.9931,      0.9931,      0.9931,      0.9931,      0.9931,      0.9931,      0.9931,      0.9931,      0.9931,      0.9931,      0.9931,      0.9931,      0.9931,      0.9931,\n",
       "             0.9931,      0.9931,      0.9931,      0.9931,      0.9931,      0.9931,      0.9931,      0.9931,      0.9931,      0.9931,      0.9931,      0.9931,      0.9931,      0.9931,      0.9931,      0.9931,      0.9931,      0.9931,      0.9931,      0.9931,      0.9931,      0.9931,      0.9931,\n",
       "             0.9931,      0.9931,      0.9931,      0.9931,      0.9931,      0.9931,      0.9931,      0.9931,      0.9931,      0.9931,      0.9931,      0.9931,      0.9931,      0.9931,      0.9931,      0.9931,      0.9931,      0.9931,      0.9931,      0.9931,      0.9931,      0.9931,      0.9931,\n",
       "             0.9931,      0.9931,      0.9931,      0.9931,      0.9931,      0.9931,      0.9931,      0.9931,      0.9931,      0.9931,      0.9931,      0.9931,      0.9931,      0.9931,      0.9931,      0.9931,      0.9931,      0.9931,      0.9931,      0.9931,      0.9931,      0.9931,      0.9931,\n",
       "             0.9931,      0.9931,      0.9931,      0.9931,      0.9931,      0.9931,      0.9931,      0.9931,      0.9931,      0.9931,      0.9931,      0.9931,      0.9931,      0.9931,      0.9931,      0.9931,      0.9931,      0.9931,      0.9931,      0.9931,      0.9931,      0.9931,      0.9931,\n",
       "             0.9931,      0.9931,      0.9931,      0.9931,      0.9931,      0.9931,      0.9931,      0.9931,      0.9931,      0.9931,      0.9931,      0.9931,      0.9931,      0.9931,      0.9931,      0.9931,      0.9931,      0.9931,      0.9931,      0.9931,      0.9931,      0.9931,      0.9931,\n",
       "             0.9931,      0.9931,      0.9931,      0.9931,      0.9931,      0.9931,      0.9931,      0.9931,      0.9931,      0.9931,      0.9931,      0.9931,      0.9931,      0.9931,      0.9931,      0.9931,      0.9931,      0.9931,      0.9931,      0.9931,      0.9931,      0.9931,      0.9931,\n",
       "             0.9931,      0.9931,      0.9931,      0.9931,      0.9931,      0.9931,      0.9931,      0.9931,      0.9931,      0.9931,      0.9931,      0.9931,      0.9931,      0.9931,      0.9931,      0.9931,      0.9931,      0.9931,      0.9931,      0.9931,      0.9931,      0.9931,      0.9931,\n",
       "             0.9931,      0.9931,      0.9931,      0.9931,      0.9931,      0.9931,      0.9931,      0.9931,      0.9931,      0.9931,      0.9931,      0.9931,      0.9931,      0.9931,      0.9931,     0.99305,     0.99298,      0.9929,     0.99283,     0.99275,     0.99268,      0.9926,     0.99252,\n",
       "            0.99245,      0.9924,     0.99239,     0.99237,     0.99236,     0.99234,     0.99232,     0.99231,     0.99229,     0.99227,     0.99226,     0.99224,     0.99223,     0.99221,     0.99219,     0.99218,     0.99216,     0.99214,     0.99213,     0.99211,      0.9921,     0.99208,     0.99206,\n",
       "            0.99205,     0.99203,     0.99201,       0.992,     0.99198,     0.99196,     0.99195,     0.99193,     0.99192,      0.9919,     0.99188,     0.99187,     0.99185,     0.99183,     0.99182,      0.9918,     0.99179,     0.99177,     0.99175,     0.99174,     0.99172,     0.99172,     0.99172,\n",
       "            0.99172,     0.99172,     0.99172,     0.99172,     0.99172,     0.99172,     0.99172,     0.99172,     0.99172,     0.99172,     0.99172,     0.99172,     0.99172,     0.99172,     0.99172,     0.99172,     0.99172,      0.9917,     0.99168,     0.99165,     0.99163,     0.99161,     0.99159,\n",
       "            0.99157,     0.99155,     0.99152,      0.9915,     0.99148,     0.99146,     0.99144,     0.99141,     0.99139,     0.99137,     0.99135,     0.99133,      0.9913,     0.99128,     0.99126,     0.99124,     0.99122,     0.99119,     0.99117,     0.99115,     0.99113,     0.99111,     0.99109,\n",
       "            0.99106,     0.99104,     0.99102,       0.991,     0.99098,     0.99096,     0.99094,     0.99092,      0.9909,     0.99088,     0.99086,     0.99084,     0.99082,      0.9908,     0.99078,     0.99076,     0.99074,     0.99072,      0.9907,     0.99068,     0.99066,     0.99064,     0.99062,\n",
       "             0.9906,     0.99058,     0.99056,     0.99054,     0.99052,      0.9905,     0.99048,     0.99046,     0.99044,     0.99042,      0.9904,     0.99038,     0.99036,     0.99035,     0.99034,     0.99034,     0.99034,     0.99034,     0.99034,     0.99034,     0.99034,     0.99034,     0.99034,\n",
       "            0.99034,     0.99034,     0.99034,     0.99034,     0.99034,     0.99034,     0.99034,     0.99034,     0.99034,     0.99034,     0.99034,     0.99034,     0.99034,     0.99034,     0.99034,     0.99034,     0.99034,     0.99034,     0.99034,     0.99034,     0.99034,     0.99034,     0.99034,\n",
       "            0.99034,     0.99034,     0.99034,     0.99034,     0.99034,     0.99034,     0.99034,     0.99034,     0.99034,     0.99034,     0.99034,     0.99034,     0.99025,     0.98987,     0.98963,     0.98957,     0.98951,     0.98945,     0.98938,     0.98932,     0.98926,      0.9892,     0.98914,\n",
       "            0.98908,     0.98902,     0.98892,      0.9886,     0.98828,     0.98812,     0.98796,      0.9878,     0.98764,     0.98744,     0.98723,     0.98702,     0.98615,      0.9855,     0.98521,     0.98492,     0.98401,     0.98362,     0.98334,     0.98315,     0.98295,     0.98276,     0.98246,\n",
       "            0.98216,     0.98158,     0.98113,     0.98077,     0.98061,     0.98051,     0.98041,     0.98031,     0.98021,     0.98011,     0.98001,      0.9794,     0.97862,     0.97785,     0.97739,     0.97707,      0.9768,     0.97654,     0.97614,     0.97542,     0.97447,     0.97417,     0.97386,\n",
       "            0.97308,     0.97239,     0.97212,     0.97184,     0.97156,     0.97127,      0.9696,     0.96754,      0.9668,     0.96663,     0.96646,     0.96629,     0.96602,     0.96565,      0.9653,     0.96495,     0.96441,      0.9635,     0.96314,     0.96281,     0.96161,     0.96047,     0.96014,\n",
       "            0.95911,     0.95845,     0.95756,     0.95552,     0.95506,     0.95486,     0.95465,     0.95381,     0.95332,     0.95171,     0.95107,     0.94893,     0.94612,     0.94572,     0.94328,     0.93621,     0.93346,     0.93007,     0.92662,     0.92521,     0.92176,     0.91722,     0.90887,\n",
       "            0.90157,     0.89692,     0.88654,     0.87858,     0.87086,     0.85865,     0.84838,     0.83246,     0.81886,     0.80271,     0.78726,     0.76898,     0.74907,     0.72505,      0.7002,     0.67627,     0.64925,     0.61713,     0.58573,     0.55032,       0.515,     0.47742,     0.44069,\n",
       "            0.40522,     0.37774,     0.34046,     0.30948,     0.27236,     0.24149,     0.21018,     0.17786,     0.15191,     0.12772,     0.10061,    0.082808,    0.062745,    0.048142,     0.03622,    0.031772,    0.022994,     0.01941,    0.014351,   0.0090131,    0.007755,   0.0042713,   0.0030725,\n",
       "          0.0026111,   0.0021521,   0.0013287,   0.0012405,   0.0011523,    0.001064,  0.00097583,  0.00088762,  0.00079941,   0.0007112,           0,           0,           0,           0,           0,           0,           0,           0,           0,           0,           0,           0,           0,\n",
       "                  0,           0,           0,           0,           0,           0,           0,           0,           0,           0,           0,           0,           0,           0,           0,           0,           0,           0,           0,           0,           0,           0,           0,\n",
       "                  0,           0,           0,           0,           0,           0,           0,           0,           0,           0,           0]]), 'Confidence', 'Recall']]\n",
       "fitness: 0.9325233925157914\n",
       "keys: ['metrics/precision(B)', 'metrics/recall(B)', 'metrics/mAP50(B)', 'metrics/mAP50-95(B)']\n",
       "maps: array([    0.92564])\n",
       "names: {0: 'Character'}\n",
       "plot: True\n",
       "results_dict: {'metrics/precision(B)': 0.9955002672088492, 'metrics/recall(B)': 0.993103448275862, 'metrics/mAP50(B)': 0.9945128740431453, 'metrics/mAP50-95(B)': 0.9256356723460855, 'fitness': 0.9325233925157914}\n",
       "save_dir: WindowsPath('runs/detect/val')\n",
       "speed: {'preprocess': 0.6533333979754808, 'inference': 3.6954157855881165, 'loss': 0.003978075734172684, 'postprocess': 1.1639547537997426}\n",
       "task: 'detect'"
      ]
     },
     "execution_count": 9,
     "metadata": {},
     "output_type": "execute_result"
    }
   ],
   "source": [
    "bestmodel.val(conf=0.5, plots=True, show_conf=False)"
   ]
  },
  {
   "cell_type": "code",
   "execution_count": 5,
   "metadata": {},
   "outputs": [
    {
     "name": "stdout",
     "output_type": "stream",
     "text": [
      "Ultralytics YOLOv8.2.66  Python-3.11.8 torch-2.1.0+cu118 CUDA:0 (NVIDIA GeForce RTX 2070, 8192MiB)\n",
      "Model summary (fused): 168 layers, 3,005,843 parameters, 0 gradients, 8.1 GFLOPs\n"
     ]
    },
    {
     "name": "stderr",
     "output_type": "stream",
     "text": [
      "\u001b[34m\u001b[1mval: \u001b[0mScanning C:\\Users\\Wang Yanchi\\Desktop\\uoft\\3\\aps360\\ALPR\\ALPR_repo\\Letter_Segmentation\\test\\labels.cache... 110 images, 0 backgrounds, 0 corrupt: 100%|██████████| 110/110 [00:00<?, ?it/s]"
     ]
    },
    {
     "name": "stdout",
     "output_type": "stream",
     "text": [
      "\u001b[34m\u001b[1mval: \u001b[0mWARNING  C:\\Users\\Wang Yanchi\\Desktop\\uoft\\3\\aps360\\ALPR\\ALPR_repo\\Letter_Segmentation\\test\\images\\1759_jpg.rf.8e27d2ab30e67bf865e3812082f04685.jpg: 1 duplicate labels removed\n",
      "\u001b[34m\u001b[1mval: \u001b[0mWARNING  C:\\Users\\Wang Yanchi\\Desktop\\uoft\\3\\aps360\\ALPR\\ALPR_repo\\Letter_Segmentation\\test\\images\\3037_jpg.rf.73f60259c4b07ed29cb324e18c52b544.jpg: 1 duplicate labels removed\n",
      "\u001b[34m\u001b[1mval: \u001b[0mWARNING  C:\\Users\\Wang Yanchi\\Desktop\\uoft\\3\\aps360\\ALPR\\ALPR_repo\\Letter_Segmentation\\test\\images\\331_jpg.rf.8900ea528c90d2354318724964532e93.jpg: 1 duplicate labels removed\n",
      "\u001b[34m\u001b[1mval: \u001b[0mWARNING  C:\\Users\\Wang Yanchi\\Desktop\\uoft\\3\\aps360\\ALPR\\ALPR_repo\\Letter_Segmentation\\test\\images\\4172_jpg.rf.63866d83dd1516b2ec3c9b9926dc10e4.jpg: 1 duplicate labels removed\n"
     ]
    },
    {
     "name": "stderr",
     "output_type": "stream",
     "text": [
      "\n",
      "                 Class     Images  Instances      Box(P          R      mAP50  mAP50-95): 100%|██████████| 7/7 [00:02<00:00,  3.47it/s]\n"
     ]
    },
    {
     "name": "stdout",
     "output_type": "stream",
     "text": [
      "                   all        110        617      0.997      0.998      0.995      0.915\n",
      "Speed: 0.8ms preprocess, 3.1ms inference, 0.0ms loss, 4.0ms postprocess per image\n",
      "Results saved to \u001b[1mruns\\detect\\val3\u001b[0m\n"
     ]
    },
    {
     "data": {
      "text/plain": [
       "ultralytics.utils.metrics.DetMetrics object with attributes:\n",
       "\n",
       "ap_class_index: array([0])\n",
       "box: ultralytics.utils.metrics.Metric object\n",
       "confusion_matrix: <ultralytics.utils.metrics.ConfusionMatrix object at 0x0000022448AF1150>\n",
       "curves: ['Precision-Recall(B)', 'F1-Confidence(B)', 'Precision-Confidence(B)', 'Recall-Confidence(B)']\n",
       "curves_results: [[array([          0,    0.001001,    0.002002,    0.003003,    0.004004,    0.005005,    0.006006,    0.007007,    0.008008,    0.009009,     0.01001,    0.011011,    0.012012,    0.013013,    0.014014,    0.015015,    0.016016,    0.017017,    0.018018,    0.019019,     0.02002,    0.021021,    0.022022,    0.023023,\n",
       "          0.024024,    0.025025,    0.026026,    0.027027,    0.028028,    0.029029,     0.03003,    0.031031,    0.032032,    0.033033,    0.034034,    0.035035,    0.036036,    0.037037,    0.038038,    0.039039,     0.04004,    0.041041,    0.042042,    0.043043,    0.044044,    0.045045,    0.046046,    0.047047,\n",
       "          0.048048,    0.049049,     0.05005,    0.051051,    0.052052,    0.053053,    0.054054,    0.055055,    0.056056,    0.057057,    0.058058,    0.059059,     0.06006,    0.061061,    0.062062,    0.063063,    0.064064,    0.065065,    0.066066,    0.067067,    0.068068,    0.069069,     0.07007,    0.071071,\n",
       "          0.072072,    0.073073,    0.074074,    0.075075,    0.076076,    0.077077,    0.078078,    0.079079,     0.08008,    0.081081,    0.082082,    0.083083,    0.084084,    0.085085,    0.086086,    0.087087,    0.088088,    0.089089,     0.09009,    0.091091,    0.092092,    0.093093,    0.094094,    0.095095,\n",
       "          0.096096,    0.097097,    0.098098,    0.099099,      0.1001,      0.1011,      0.1021,      0.1031,      0.1041,     0.10511,     0.10611,     0.10711,     0.10811,     0.10911,     0.11011,     0.11111,     0.11211,     0.11311,     0.11411,     0.11512,     0.11612,     0.11712,     0.11812,     0.11912,\n",
       "           0.12012,     0.12112,     0.12212,     0.12312,     0.12412,     0.12513,     0.12613,     0.12713,     0.12813,     0.12913,     0.13013,     0.13113,     0.13213,     0.13313,     0.13413,     0.13514,     0.13614,     0.13714,     0.13814,     0.13914,     0.14014,     0.14114,     0.14214,     0.14314,\n",
       "           0.14414,     0.14515,     0.14615,     0.14715,     0.14815,     0.14915,     0.15015,     0.15115,     0.15215,     0.15315,     0.15415,     0.15516,     0.15616,     0.15716,     0.15816,     0.15916,     0.16016,     0.16116,     0.16216,     0.16316,     0.16416,     0.16517,     0.16617,     0.16717,\n",
       "           0.16817,     0.16917,     0.17017,     0.17117,     0.17217,     0.17317,     0.17417,     0.17518,     0.17618,     0.17718,     0.17818,     0.17918,     0.18018,     0.18118,     0.18218,     0.18318,     0.18418,     0.18519,     0.18619,     0.18719,     0.18819,     0.18919,     0.19019,     0.19119,\n",
       "           0.19219,     0.19319,     0.19419,      0.1952,      0.1962,      0.1972,      0.1982,      0.1992,      0.2002,      0.2012,      0.2022,      0.2032,      0.2042,     0.20521,     0.20621,     0.20721,     0.20821,     0.20921,     0.21021,     0.21121,     0.21221,     0.21321,     0.21421,     0.21522,\n",
       "           0.21622,     0.21722,     0.21822,     0.21922,     0.22022,     0.22122,     0.22222,     0.22322,     0.22422,     0.22523,     0.22623,     0.22723,     0.22823,     0.22923,     0.23023,     0.23123,     0.23223,     0.23323,     0.23423,     0.23524,     0.23624,     0.23724,     0.23824,     0.23924,\n",
       "           0.24024,     0.24124,     0.24224,     0.24324,     0.24424,     0.24525,     0.24625,     0.24725,     0.24825,     0.24925,     0.25025,     0.25125,     0.25225,     0.25325,     0.25425,     0.25526,     0.25626,     0.25726,     0.25826,     0.25926,     0.26026,     0.26126,     0.26226,     0.26326,\n",
       "           0.26426,     0.26527,     0.26627,     0.26727,     0.26827,     0.26927,     0.27027,     0.27127,     0.27227,     0.27327,     0.27427,     0.27528,     0.27628,     0.27728,     0.27828,     0.27928,     0.28028,     0.28128,     0.28228,     0.28328,     0.28428,     0.28529,     0.28629,     0.28729,\n",
       "           0.28829,     0.28929,     0.29029,     0.29129,     0.29229,     0.29329,     0.29429,      0.2953,      0.2963,      0.2973,      0.2983,      0.2993,      0.3003,      0.3013,      0.3023,      0.3033,      0.3043,     0.30531,     0.30631,     0.30731,     0.30831,     0.30931,     0.31031,     0.31131,\n",
       "           0.31231,     0.31331,     0.31431,     0.31532,     0.31632,     0.31732,     0.31832,     0.31932,     0.32032,     0.32132,     0.32232,     0.32332,     0.32432,     0.32533,     0.32633,     0.32733,     0.32833,     0.32933,     0.33033,     0.33133,     0.33233,     0.33333,     0.33433,     0.33534,\n",
       "           0.33634,     0.33734,     0.33834,     0.33934,     0.34034,     0.34134,     0.34234,     0.34334,     0.34434,     0.34535,     0.34635,     0.34735,     0.34835,     0.34935,     0.35035,     0.35135,     0.35235,     0.35335,     0.35435,     0.35536,     0.35636,     0.35736,     0.35836,     0.35936,\n",
       "           0.36036,     0.36136,     0.36236,     0.36336,     0.36436,     0.36537,     0.36637,     0.36737,     0.36837,     0.36937,     0.37037,     0.37137,     0.37237,     0.37337,     0.37437,     0.37538,     0.37638,     0.37738,     0.37838,     0.37938,     0.38038,     0.38138,     0.38238,     0.38338,\n",
       "           0.38438,     0.38539,     0.38639,     0.38739,     0.38839,     0.38939,     0.39039,     0.39139,     0.39239,     0.39339,     0.39439,      0.3954,      0.3964,      0.3974,      0.3984,      0.3994,      0.4004,      0.4014,      0.4024,      0.4034,      0.4044,     0.40541,     0.40641,     0.40741,\n",
       "           0.40841,     0.40941,     0.41041,     0.41141,     0.41241,     0.41341,     0.41441,     0.41542,     0.41642,     0.41742,     0.41842,     0.41942,     0.42042,     0.42142,     0.42242,     0.42342,     0.42442,     0.42543,     0.42643,     0.42743,     0.42843,     0.42943,     0.43043,     0.43143,\n",
       "           0.43243,     0.43343,     0.43443,     0.43544,     0.43644,     0.43744,     0.43844,     0.43944,     0.44044,     0.44144,     0.44244,     0.44344,     0.44444,     0.44545,     0.44645,     0.44745,     0.44845,     0.44945,     0.45045,     0.45145,     0.45245,     0.45345,     0.45445,     0.45546,\n",
       "           0.45646,     0.45746,     0.45846,     0.45946,     0.46046,     0.46146,     0.46246,     0.46346,     0.46446,     0.46547,     0.46647,     0.46747,     0.46847,     0.46947,     0.47047,     0.47147,     0.47247,     0.47347,     0.47447,     0.47548,     0.47648,     0.47748,     0.47848,     0.47948,\n",
       "           0.48048,     0.48148,     0.48248,     0.48348,     0.48448,     0.48549,     0.48649,     0.48749,     0.48849,     0.48949,     0.49049,     0.49149,     0.49249,     0.49349,     0.49449,      0.4955,      0.4965,      0.4975,      0.4985,      0.4995,      0.5005,      0.5015,      0.5025,      0.5035,\n",
       "            0.5045,     0.50551,     0.50651,     0.50751,     0.50851,     0.50951,     0.51051,     0.51151,     0.51251,     0.51351,     0.51451,     0.51552,     0.51652,     0.51752,     0.51852,     0.51952,     0.52052,     0.52152,     0.52252,     0.52352,     0.52452,     0.52553,     0.52653,     0.52753,\n",
       "           0.52853,     0.52953,     0.53053,     0.53153,     0.53253,     0.53353,     0.53453,     0.53554,     0.53654,     0.53754,     0.53854,     0.53954,     0.54054,     0.54154,     0.54254,     0.54354,     0.54454,     0.54555,     0.54655,     0.54755,     0.54855,     0.54955,     0.55055,     0.55155,\n",
       "           0.55255,     0.55355,     0.55455,     0.55556,     0.55656,     0.55756,     0.55856,     0.55956,     0.56056,     0.56156,     0.56256,     0.56356,     0.56456,     0.56557,     0.56657,     0.56757,     0.56857,     0.56957,     0.57057,     0.57157,     0.57257,     0.57357,     0.57457,     0.57558,\n",
       "           0.57658,     0.57758,     0.57858,     0.57958,     0.58058,     0.58158,     0.58258,     0.58358,     0.58458,     0.58559,     0.58659,     0.58759,     0.58859,     0.58959,     0.59059,     0.59159,     0.59259,     0.59359,     0.59459,      0.5956,      0.5966,      0.5976,      0.5986,      0.5996,\n",
       "            0.6006,      0.6016,      0.6026,      0.6036,      0.6046,     0.60561,     0.60661,     0.60761,     0.60861,     0.60961,     0.61061,     0.61161,     0.61261,     0.61361,     0.61461,     0.61562,     0.61662,     0.61762,     0.61862,     0.61962,     0.62062,     0.62162,     0.62262,     0.62362,\n",
       "           0.62462,     0.62563,     0.62663,     0.62763,     0.62863,     0.62963,     0.63063,     0.63163,     0.63263,     0.63363,     0.63463,     0.63564,     0.63664,     0.63764,     0.63864,     0.63964,     0.64064,     0.64164,     0.64264,     0.64364,     0.64464,     0.64565,     0.64665,     0.64765,\n",
       "           0.64865,     0.64965,     0.65065,     0.65165,     0.65265,     0.65365,     0.65465,     0.65566,     0.65666,     0.65766,     0.65866,     0.65966,     0.66066,     0.66166,     0.66266,     0.66366,     0.66466,     0.66567,     0.66667,     0.66767,     0.66867,     0.66967,     0.67067,     0.67167,\n",
       "           0.67267,     0.67367,     0.67467,     0.67568,     0.67668,     0.67768,     0.67868,     0.67968,     0.68068,     0.68168,     0.68268,     0.68368,     0.68468,     0.68569,     0.68669,     0.68769,     0.68869,     0.68969,     0.69069,     0.69169,     0.69269,     0.69369,     0.69469,      0.6957,\n",
       "            0.6967,      0.6977,      0.6987,      0.6997,      0.7007,      0.7017,      0.7027,      0.7037,      0.7047,     0.70571,     0.70671,     0.70771,     0.70871,     0.70971,     0.71071,     0.71171,     0.71271,     0.71371,     0.71471,     0.71572,     0.71672,     0.71772,     0.71872,     0.71972,\n",
       "           0.72072,     0.72172,     0.72272,     0.72372,     0.72472,     0.72573,     0.72673,     0.72773,     0.72873,     0.72973,     0.73073,     0.73173,     0.73273,     0.73373,     0.73473,     0.73574,     0.73674,     0.73774,     0.73874,     0.73974,     0.74074,     0.74174,     0.74274,     0.74374,\n",
       "           0.74474,     0.74575,     0.74675,     0.74775,     0.74875,     0.74975,     0.75075,     0.75175,     0.75275,     0.75375,     0.75475,     0.75576,     0.75676,     0.75776,     0.75876,     0.75976,     0.76076,     0.76176,     0.76276,     0.76376,     0.76476,     0.76577,     0.76677,     0.76777,\n",
       "           0.76877,     0.76977,     0.77077,     0.77177,     0.77277,     0.77377,     0.77477,     0.77578,     0.77678,     0.77778,     0.77878,     0.77978,     0.78078,     0.78178,     0.78278,     0.78378,     0.78478,     0.78579,     0.78679,     0.78779,     0.78879,     0.78979,     0.79079,     0.79179,\n",
       "           0.79279,     0.79379,     0.79479,      0.7958,      0.7968,      0.7978,      0.7988,      0.7998,      0.8008,      0.8018,      0.8028,      0.8038,      0.8048,     0.80581,     0.80681,     0.80781,     0.80881,     0.80981,     0.81081,     0.81181,     0.81281,     0.81381,     0.81481,     0.81582,\n",
       "           0.81682,     0.81782,     0.81882,     0.81982,     0.82082,     0.82182,     0.82282,     0.82382,     0.82482,     0.82583,     0.82683,     0.82783,     0.82883,     0.82983,     0.83083,     0.83183,     0.83283,     0.83383,     0.83483,     0.83584,     0.83684,     0.83784,     0.83884,     0.83984,\n",
       "           0.84084,     0.84184,     0.84284,     0.84384,     0.84484,     0.84585,     0.84685,     0.84785,     0.84885,     0.84985,     0.85085,     0.85185,     0.85285,     0.85385,     0.85485,     0.85586,     0.85686,     0.85786,     0.85886,     0.85986,     0.86086,     0.86186,     0.86286,     0.86386,\n",
       "           0.86486,     0.86587,     0.86687,     0.86787,     0.86887,     0.86987,     0.87087,     0.87187,     0.87287,     0.87387,     0.87487,     0.87588,     0.87688,     0.87788,     0.87888,     0.87988,     0.88088,     0.88188,     0.88288,     0.88388,     0.88488,     0.88589,     0.88689,     0.88789,\n",
       "           0.88889,     0.88989,     0.89089,     0.89189,     0.89289,     0.89389,     0.89489,      0.8959,      0.8969,      0.8979,      0.8989,      0.8999,      0.9009,      0.9019,      0.9029,      0.9039,      0.9049,     0.90591,     0.90691,     0.90791,     0.90891,     0.90991,     0.91091,     0.91191,\n",
       "           0.91291,     0.91391,     0.91491,     0.91592,     0.91692,     0.91792,     0.91892,     0.91992,     0.92092,     0.92192,     0.92292,     0.92392,     0.92492,     0.92593,     0.92693,     0.92793,     0.92893,     0.92993,     0.93093,     0.93193,     0.93293,     0.93393,     0.93493,     0.93594,\n",
       "           0.93694,     0.93794,     0.93894,     0.93994,     0.94094,     0.94194,     0.94294,     0.94394,     0.94494,     0.94595,     0.94695,     0.94795,     0.94895,     0.94995,     0.95095,     0.95195,     0.95295,     0.95395,     0.95495,     0.95596,     0.95696,     0.95796,     0.95896,     0.95996,\n",
       "           0.96096,     0.96196,     0.96296,     0.96396,     0.96496,     0.96597,     0.96697,     0.96797,     0.96897,     0.96997,     0.97097,     0.97197,     0.97297,     0.97397,     0.97497,     0.97598,     0.97698,     0.97798,     0.97898,     0.97998,     0.98098,     0.98198,     0.98298,     0.98398,\n",
       "           0.98498,     0.98599,     0.98699,     0.98799,     0.98899,     0.98999,     0.99099,     0.99199,     0.99299,     0.99399,     0.99499,       0.996,       0.997,       0.998,       0.999,           1]), array([[          1,           1,           1,           1,           1,           1,           1,           1,           1,           1,           1,           1,           1,           1,           1,           1,           1,           1,           1,           1,           1,           1,           1,\n",
       "                  1,           1,           1,           1,           1,           1,           1,           1,           1,           1,           1,           1,           1,           1,           1,           1,           1,           1,           1,           1,           1,           1,           1,\n",
       "                  1,           1,           1,           1,           1,           1,           1,           1,           1,           1,           1,           1,           1,           1,           1,           1,           1,           1,           1,           1,           1,           1,           1,\n",
       "                  1,           1,           1,           1,           1,           1,           1,           1,           1,           1,           1,           1,           1,           1,           1,           1,           1,           1,           1,           1,           1,           1,           1,\n",
       "                  1,           1,           1,           1,           1,           1,           1,           1,           1,           1,           1,           1,           1,           1,           1,           1,           1,           1,           1,           1,           1,           1,           1,\n",
       "                  1,           1,           1,           1,           1,           1,           1,           1,           1,           1,           1,           1,           1,           1,           1,           1,           1,           1,           1,           1,           1,           1,           1,\n",
       "                  1,           1,           1,           1,           1,           1,           1,           1,           1,           1,           1,           1,           1,           1,           1,           1,           1,           1,           1,           1,           1,           1,           1,\n",
       "                  1,           1,           1,           1,           1,           1,           1,           1,           1,           1,           1,           1,           1,           1,           1,           1,           1,           1,           1,           1,           1,           1,           1,\n",
       "                  1,           1,           1,           1,           1,           1,           1,           1,           1,           1,           1,           1,           1,           1,           1,           1,           1,           1,           1,           1,           1,           1,           1,\n",
       "                  1,           1,           1,           1,           1,           1,           1,           1,           1,           1,           1,           1,           1,           1,           1,           1,           1,           1,           1,           1,           1,           1,           1,\n",
       "                  1,           1,           1,           1,           1,           1,           1,           1,           1,           1,           1,           1,           1,           1,           1,           1,           1,           1,           1,           1,           1,           1,           1,\n",
       "                  1,           1,           1,           1,           1,           1,           1,           1,           1,           1,           1,           1,           1,           1,           1,           1,           1,           1,           1,           1,           1,           1,           1,\n",
       "                  1,           1,           1,           1,           1,           1,           1,           1,           1,           1,           1,           1,           1,           1,           1,           1,           1,           1,           1,           1,           1,           1,           1,\n",
       "                  1,           1,           1,           1,           1,           1,           1,           1,           1,           1,           1,           1,           1,           1,           1,           1,           1,           1,           1,           1,           1,           1,           1,\n",
       "                  1,           1,           1,           1,           1,           1,           1,           1,           1,           1,           1,           1,           1,           1,           1,           1,           1,           1,           1,           1,           1,           1,           1,\n",
       "                  1,           1,           1,           1,           1,           1,           1,           1,           1,           1,           1,           1,           1,           1,           1,           1,           1,           1,           1,           1,           1,           1,           1,\n",
       "                  1,           1,           1,           1,           1,           1,           1,           1,           1,           1,           1,           1,           1,           1,           1,           1,           1,           1,           1,           1,           1,           1,           1,\n",
       "                  1,           1,           1,           1,           1,           1,           1,           1,           1,           1,           1,           1,           1,           1,           1,           1,           1,           1,           1,           1,           1,           1,           1,\n",
       "                  1,           1,           1,           1,           1,           1,           1,           1,           1,           1,           1,           1,           1,           1,           1,           1,           1,           1,           1,           1,           1,           1,           1,\n",
       "                  1,           1,           1,           1,           1,           1,           1,           1,           1,           1,           1,           1,           1,           1,           1,           1,           1,           1,           1,           1,           1,           1,           1,\n",
       "                  1,           1,           1,           1,           1,           1,           1,           1,           1,           1,           1,           1,           1,           1,           1,           1,           1,           1,           1,           1,           1,           1,           1,\n",
       "                  1,           1,           1,           1,           1,           1,           1,           1,           1,           1,           1,           1,           1,           1,           1,           1,           1,           1,           1,           1,           1,           1,           1,\n",
       "                  1,           1,           1,           1,           1,           1,           1,           1,           1,           1,           1,           1,           1,           1,           1,           1,           1,           1,           1,           1,           1,           1,           1,\n",
       "                  1,           1,           1,           1,           1,           1,           1,           1,           1,           1,           1,           1,           1,           1,           1,           1,           1,           1,           1,           1,           1,           1,           1,\n",
       "                  1,           1,           1,           1,           1,           1,           1,           1,           1,           1,           1,           1,           1,           1,           1,           1,           1,           1,           1,           1,           1,           1,           1,\n",
       "                  1,           1,           1,           1,           1,           1,           1,           1,           1,           1,           1,           1,           1,           1,           1,           1,           1,           1,           1,           1,           1,           1,           1,\n",
       "                  1,           1,           1,           1,           1,           1,           1,           1,           1,           1,           1,           1,           1,           1,           1,           1,           1,           1,           1,           1,           1,           1,           1,\n",
       "                  1,           1,           1,           1,           1,           1,           1,           1,           1,           1,           1,           1,           1,           1,           1,           1,           1,           1,           1,           1,           1,           1,           1,\n",
       "                  1,           1,           1,           1,           1,           1,           1,           1,           1,           1,           1,           1,           1,           1,           1,           1,           1,           1,           1,           1,           1,           1,           1,\n",
       "                  1,           1,           1,           1,           1,           1,           1,           1,           1,           1,           1,           1,           1,           1,           1,           1,           1,           1,           1,           1,           1,           1,           1,\n",
       "                  1,           1,           1,           1,           1,           1,           1,           1,           1,           1,           1,           1,           1,           1,           1,           1,           1,           1,           1,           1,           1,           1,           1,\n",
       "                  1,           1,           1,           1,           1,           1,           1,           1,           1,           1,           1,           1,           1,           1,           1,           1,           1,           1,           1,           1,           1,           1,           1,\n",
       "                  1,           1,           1,           1,           1,           1,           1,           1,           1,           1,           1,           1,           1,           1,           1,           1,           1,           1,           1,           1,           1,           1,           1,\n",
       "                  1,           1,           1,           1,           1,           1,           1,           1,           1,           1,           1,           1,           1,           1,           1,           1,           1,           1,           1,           1,           1,           1,           1,\n",
       "                  1,           1,           1,           1,           1,           1,           1,           1,           1,           1,           1,           1,           1,           1,           1,           1,           1,           1,           1,           1,           1,           1,           1,\n",
       "                  1,           1,           1,           1,           1,           1,           1,           1,           1,           1,           1,           1,           1,           1,           1,           1,           1,           1,           1,           1,           1,           1,           1,\n",
       "                  1,           1,           1,           1,           1,           1,           1,           1,           1,           1,           1,           1,           1,           1,           1,           1,           1,           1,           1,           1,           1,           1,           1,\n",
       "                  1,           1,           1,           1,           1,           1,           1,           1,           1,           1,           1,           1,           1,           1,           1,           1,           1,           1,           1,           1,           1,           1,           1,\n",
       "                  1,           1,           1,           1,           1,           1,           1,           1,           1,           1,           1,           1,           1,           1,           1,           1,           1,           1,           1,           1,           1,           1,           1,\n",
       "                  1,           1,           1,           1,           1,           1,           1,           1,           1,           1,           1,           1,           1,           1,           1,           1,           1,           1,           1,           1,           1,           1,           1,\n",
       "                  1,           1,           1,           1,           1,           1,           1,           1,           1,           1,           1,           1,           1,           1,           1,           1,           1,           1,           1,           1,           1,           1,           1,\n",
       "                  1,           1,           1,           1,           1,           1,           1,           1,           1,           1,           1,           1,           1,           1,           1,           1,           1,           1,           1,           1,           1,           1,           1,\n",
       "                  1,           1,           1,           1,           1,           1,           1,           1,           1,           1,           1,           1,           1,           1,           1,           1,           1,           1,           1,           1,           1,           1,           1,\n",
       "                  1,           1,     0.99837,     0.99837,     0.99837,     0.99837,     0.99676,     0.99676,     0.99676,     0.61562,           0]]), 'Recall', 'Precision'], [array([          0,    0.001001,    0.002002,    0.003003,    0.004004,    0.005005,    0.006006,    0.007007,    0.008008,    0.009009,     0.01001,    0.011011,    0.012012,    0.013013,    0.014014,    0.015015,    0.016016,    0.017017,    0.018018,    0.019019,     0.02002,    0.021021,    0.022022,    0.023023,\n",
       "          0.024024,    0.025025,    0.026026,    0.027027,    0.028028,    0.029029,     0.03003,    0.031031,    0.032032,    0.033033,    0.034034,    0.035035,    0.036036,    0.037037,    0.038038,    0.039039,     0.04004,    0.041041,    0.042042,    0.043043,    0.044044,    0.045045,    0.046046,    0.047047,\n",
       "          0.048048,    0.049049,     0.05005,    0.051051,    0.052052,    0.053053,    0.054054,    0.055055,    0.056056,    0.057057,    0.058058,    0.059059,     0.06006,    0.061061,    0.062062,    0.063063,    0.064064,    0.065065,    0.066066,    0.067067,    0.068068,    0.069069,     0.07007,    0.071071,\n",
       "          0.072072,    0.073073,    0.074074,    0.075075,    0.076076,    0.077077,    0.078078,    0.079079,     0.08008,    0.081081,    0.082082,    0.083083,    0.084084,    0.085085,    0.086086,    0.087087,    0.088088,    0.089089,     0.09009,    0.091091,    0.092092,    0.093093,    0.094094,    0.095095,\n",
       "          0.096096,    0.097097,    0.098098,    0.099099,      0.1001,      0.1011,      0.1021,      0.1031,      0.1041,     0.10511,     0.10611,     0.10711,     0.10811,     0.10911,     0.11011,     0.11111,     0.11211,     0.11311,     0.11411,     0.11512,     0.11612,     0.11712,     0.11812,     0.11912,\n",
       "           0.12012,     0.12112,     0.12212,     0.12312,     0.12412,     0.12513,     0.12613,     0.12713,     0.12813,     0.12913,     0.13013,     0.13113,     0.13213,     0.13313,     0.13413,     0.13514,     0.13614,     0.13714,     0.13814,     0.13914,     0.14014,     0.14114,     0.14214,     0.14314,\n",
       "           0.14414,     0.14515,     0.14615,     0.14715,     0.14815,     0.14915,     0.15015,     0.15115,     0.15215,     0.15315,     0.15415,     0.15516,     0.15616,     0.15716,     0.15816,     0.15916,     0.16016,     0.16116,     0.16216,     0.16316,     0.16416,     0.16517,     0.16617,     0.16717,\n",
       "           0.16817,     0.16917,     0.17017,     0.17117,     0.17217,     0.17317,     0.17417,     0.17518,     0.17618,     0.17718,     0.17818,     0.17918,     0.18018,     0.18118,     0.18218,     0.18318,     0.18418,     0.18519,     0.18619,     0.18719,     0.18819,     0.18919,     0.19019,     0.19119,\n",
       "           0.19219,     0.19319,     0.19419,      0.1952,      0.1962,      0.1972,      0.1982,      0.1992,      0.2002,      0.2012,      0.2022,      0.2032,      0.2042,     0.20521,     0.20621,     0.20721,     0.20821,     0.20921,     0.21021,     0.21121,     0.21221,     0.21321,     0.21421,     0.21522,\n",
       "           0.21622,     0.21722,     0.21822,     0.21922,     0.22022,     0.22122,     0.22222,     0.22322,     0.22422,     0.22523,     0.22623,     0.22723,     0.22823,     0.22923,     0.23023,     0.23123,     0.23223,     0.23323,     0.23423,     0.23524,     0.23624,     0.23724,     0.23824,     0.23924,\n",
       "           0.24024,     0.24124,     0.24224,     0.24324,     0.24424,     0.24525,     0.24625,     0.24725,     0.24825,     0.24925,     0.25025,     0.25125,     0.25225,     0.25325,     0.25425,     0.25526,     0.25626,     0.25726,     0.25826,     0.25926,     0.26026,     0.26126,     0.26226,     0.26326,\n",
       "           0.26426,     0.26527,     0.26627,     0.26727,     0.26827,     0.26927,     0.27027,     0.27127,     0.27227,     0.27327,     0.27427,     0.27528,     0.27628,     0.27728,     0.27828,     0.27928,     0.28028,     0.28128,     0.28228,     0.28328,     0.28428,     0.28529,     0.28629,     0.28729,\n",
       "           0.28829,     0.28929,     0.29029,     0.29129,     0.29229,     0.29329,     0.29429,      0.2953,      0.2963,      0.2973,      0.2983,      0.2993,      0.3003,      0.3013,      0.3023,      0.3033,      0.3043,     0.30531,     0.30631,     0.30731,     0.30831,     0.30931,     0.31031,     0.31131,\n",
       "           0.31231,     0.31331,     0.31431,     0.31532,     0.31632,     0.31732,     0.31832,     0.31932,     0.32032,     0.32132,     0.32232,     0.32332,     0.32432,     0.32533,     0.32633,     0.32733,     0.32833,     0.32933,     0.33033,     0.33133,     0.33233,     0.33333,     0.33433,     0.33534,\n",
       "           0.33634,     0.33734,     0.33834,     0.33934,     0.34034,     0.34134,     0.34234,     0.34334,     0.34434,     0.34535,     0.34635,     0.34735,     0.34835,     0.34935,     0.35035,     0.35135,     0.35235,     0.35335,     0.35435,     0.35536,     0.35636,     0.35736,     0.35836,     0.35936,\n",
       "           0.36036,     0.36136,     0.36236,     0.36336,     0.36436,     0.36537,     0.36637,     0.36737,     0.36837,     0.36937,     0.37037,     0.37137,     0.37237,     0.37337,     0.37437,     0.37538,     0.37638,     0.37738,     0.37838,     0.37938,     0.38038,     0.38138,     0.38238,     0.38338,\n",
       "           0.38438,     0.38539,     0.38639,     0.38739,     0.38839,     0.38939,     0.39039,     0.39139,     0.39239,     0.39339,     0.39439,      0.3954,      0.3964,      0.3974,      0.3984,      0.3994,      0.4004,      0.4014,      0.4024,      0.4034,      0.4044,     0.40541,     0.40641,     0.40741,\n",
       "           0.40841,     0.40941,     0.41041,     0.41141,     0.41241,     0.41341,     0.41441,     0.41542,     0.41642,     0.41742,     0.41842,     0.41942,     0.42042,     0.42142,     0.42242,     0.42342,     0.42442,     0.42543,     0.42643,     0.42743,     0.42843,     0.42943,     0.43043,     0.43143,\n",
       "           0.43243,     0.43343,     0.43443,     0.43544,     0.43644,     0.43744,     0.43844,     0.43944,     0.44044,     0.44144,     0.44244,     0.44344,     0.44444,     0.44545,     0.44645,     0.44745,     0.44845,     0.44945,     0.45045,     0.45145,     0.45245,     0.45345,     0.45445,     0.45546,\n",
       "           0.45646,     0.45746,     0.45846,     0.45946,     0.46046,     0.46146,     0.46246,     0.46346,     0.46446,     0.46547,     0.46647,     0.46747,     0.46847,     0.46947,     0.47047,     0.47147,     0.47247,     0.47347,     0.47447,     0.47548,     0.47648,     0.47748,     0.47848,     0.47948,\n",
       "           0.48048,     0.48148,     0.48248,     0.48348,     0.48448,     0.48549,     0.48649,     0.48749,     0.48849,     0.48949,     0.49049,     0.49149,     0.49249,     0.49349,     0.49449,      0.4955,      0.4965,      0.4975,      0.4985,      0.4995,      0.5005,      0.5015,      0.5025,      0.5035,\n",
       "            0.5045,     0.50551,     0.50651,     0.50751,     0.50851,     0.50951,     0.51051,     0.51151,     0.51251,     0.51351,     0.51451,     0.51552,     0.51652,     0.51752,     0.51852,     0.51952,     0.52052,     0.52152,     0.52252,     0.52352,     0.52452,     0.52553,     0.52653,     0.52753,\n",
       "           0.52853,     0.52953,     0.53053,     0.53153,     0.53253,     0.53353,     0.53453,     0.53554,     0.53654,     0.53754,     0.53854,     0.53954,     0.54054,     0.54154,     0.54254,     0.54354,     0.54454,     0.54555,     0.54655,     0.54755,     0.54855,     0.54955,     0.55055,     0.55155,\n",
       "           0.55255,     0.55355,     0.55455,     0.55556,     0.55656,     0.55756,     0.55856,     0.55956,     0.56056,     0.56156,     0.56256,     0.56356,     0.56456,     0.56557,     0.56657,     0.56757,     0.56857,     0.56957,     0.57057,     0.57157,     0.57257,     0.57357,     0.57457,     0.57558,\n",
       "           0.57658,     0.57758,     0.57858,     0.57958,     0.58058,     0.58158,     0.58258,     0.58358,     0.58458,     0.58559,     0.58659,     0.58759,     0.58859,     0.58959,     0.59059,     0.59159,     0.59259,     0.59359,     0.59459,      0.5956,      0.5966,      0.5976,      0.5986,      0.5996,\n",
       "            0.6006,      0.6016,      0.6026,      0.6036,      0.6046,     0.60561,     0.60661,     0.60761,     0.60861,     0.60961,     0.61061,     0.61161,     0.61261,     0.61361,     0.61461,     0.61562,     0.61662,     0.61762,     0.61862,     0.61962,     0.62062,     0.62162,     0.62262,     0.62362,\n",
       "           0.62462,     0.62563,     0.62663,     0.62763,     0.62863,     0.62963,     0.63063,     0.63163,     0.63263,     0.63363,     0.63463,     0.63564,     0.63664,     0.63764,     0.63864,     0.63964,     0.64064,     0.64164,     0.64264,     0.64364,     0.64464,     0.64565,     0.64665,     0.64765,\n",
       "           0.64865,     0.64965,     0.65065,     0.65165,     0.65265,     0.65365,     0.65465,     0.65566,     0.65666,     0.65766,     0.65866,     0.65966,     0.66066,     0.66166,     0.66266,     0.66366,     0.66466,     0.66567,     0.66667,     0.66767,     0.66867,     0.66967,     0.67067,     0.67167,\n",
       "           0.67267,     0.67367,     0.67467,     0.67568,     0.67668,     0.67768,     0.67868,     0.67968,     0.68068,     0.68168,     0.68268,     0.68368,     0.68468,     0.68569,     0.68669,     0.68769,     0.68869,     0.68969,     0.69069,     0.69169,     0.69269,     0.69369,     0.69469,      0.6957,\n",
       "            0.6967,      0.6977,      0.6987,      0.6997,      0.7007,      0.7017,      0.7027,      0.7037,      0.7047,     0.70571,     0.70671,     0.70771,     0.70871,     0.70971,     0.71071,     0.71171,     0.71271,     0.71371,     0.71471,     0.71572,     0.71672,     0.71772,     0.71872,     0.71972,\n",
       "           0.72072,     0.72172,     0.72272,     0.72372,     0.72472,     0.72573,     0.72673,     0.72773,     0.72873,     0.72973,     0.73073,     0.73173,     0.73273,     0.73373,     0.73473,     0.73574,     0.73674,     0.73774,     0.73874,     0.73974,     0.74074,     0.74174,     0.74274,     0.74374,\n",
       "           0.74474,     0.74575,     0.74675,     0.74775,     0.74875,     0.74975,     0.75075,     0.75175,     0.75275,     0.75375,     0.75475,     0.75576,     0.75676,     0.75776,     0.75876,     0.75976,     0.76076,     0.76176,     0.76276,     0.76376,     0.76476,     0.76577,     0.76677,     0.76777,\n",
       "           0.76877,     0.76977,     0.77077,     0.77177,     0.77277,     0.77377,     0.77477,     0.77578,     0.77678,     0.77778,     0.77878,     0.77978,     0.78078,     0.78178,     0.78278,     0.78378,     0.78478,     0.78579,     0.78679,     0.78779,     0.78879,     0.78979,     0.79079,     0.79179,\n",
       "           0.79279,     0.79379,     0.79479,      0.7958,      0.7968,      0.7978,      0.7988,      0.7998,      0.8008,      0.8018,      0.8028,      0.8038,      0.8048,     0.80581,     0.80681,     0.80781,     0.80881,     0.80981,     0.81081,     0.81181,     0.81281,     0.81381,     0.81481,     0.81582,\n",
       "           0.81682,     0.81782,     0.81882,     0.81982,     0.82082,     0.82182,     0.82282,     0.82382,     0.82482,     0.82583,     0.82683,     0.82783,     0.82883,     0.82983,     0.83083,     0.83183,     0.83283,     0.83383,     0.83483,     0.83584,     0.83684,     0.83784,     0.83884,     0.83984,\n",
       "           0.84084,     0.84184,     0.84284,     0.84384,     0.84484,     0.84585,     0.84685,     0.84785,     0.84885,     0.84985,     0.85085,     0.85185,     0.85285,     0.85385,     0.85485,     0.85586,     0.85686,     0.85786,     0.85886,     0.85986,     0.86086,     0.86186,     0.86286,     0.86386,\n",
       "           0.86486,     0.86587,     0.86687,     0.86787,     0.86887,     0.86987,     0.87087,     0.87187,     0.87287,     0.87387,     0.87487,     0.87588,     0.87688,     0.87788,     0.87888,     0.87988,     0.88088,     0.88188,     0.88288,     0.88388,     0.88488,     0.88589,     0.88689,     0.88789,\n",
       "           0.88889,     0.88989,     0.89089,     0.89189,     0.89289,     0.89389,     0.89489,      0.8959,      0.8969,      0.8979,      0.8989,      0.8999,      0.9009,      0.9019,      0.9029,      0.9039,      0.9049,     0.90591,     0.90691,     0.90791,     0.90891,     0.90991,     0.91091,     0.91191,\n",
       "           0.91291,     0.91391,     0.91491,     0.91592,     0.91692,     0.91792,     0.91892,     0.91992,     0.92092,     0.92192,     0.92292,     0.92392,     0.92492,     0.92593,     0.92693,     0.92793,     0.92893,     0.92993,     0.93093,     0.93193,     0.93293,     0.93393,     0.93493,     0.93594,\n",
       "           0.93694,     0.93794,     0.93894,     0.93994,     0.94094,     0.94194,     0.94294,     0.94394,     0.94494,     0.94595,     0.94695,     0.94795,     0.94895,     0.94995,     0.95095,     0.95195,     0.95295,     0.95395,     0.95495,     0.95596,     0.95696,     0.95796,     0.95896,     0.95996,\n",
       "           0.96096,     0.96196,     0.96296,     0.96396,     0.96496,     0.96597,     0.96697,     0.96797,     0.96897,     0.96997,     0.97097,     0.97197,     0.97297,     0.97397,     0.97497,     0.97598,     0.97698,     0.97798,     0.97898,     0.97998,     0.98098,     0.98198,     0.98298,     0.98398,\n",
       "           0.98498,     0.98599,     0.98699,     0.98799,     0.98899,     0.98999,     0.99099,     0.99199,     0.99299,     0.99399,     0.99499,       0.996,       0.997,       0.998,       0.999,           1]), array([[    0.99757,     0.99757,     0.99757,     0.99757,     0.99757,     0.99757,     0.99757,     0.99757,     0.99757,     0.99757,     0.99757,     0.99757,     0.99757,     0.99757,     0.99757,     0.99757,     0.99757,     0.99757,     0.99757,     0.99757,     0.99757,     0.99757,     0.99757,\n",
       "            0.99757,     0.99757,     0.99757,     0.99757,     0.99757,     0.99757,     0.99757,     0.99757,     0.99757,     0.99757,     0.99757,     0.99757,     0.99757,     0.99757,     0.99757,     0.99757,     0.99757,     0.99757,     0.99757,     0.99757,     0.99757,     0.99757,     0.99757,\n",
       "            0.99757,     0.99757,     0.99757,     0.99757,     0.99757,     0.99757,     0.99757,     0.99757,     0.99757,     0.99757,     0.99757,     0.99757,     0.99757,     0.99757,     0.99757,     0.99757,     0.99757,     0.99757,     0.99757,     0.99757,     0.99757,     0.99757,     0.99757,\n",
       "            0.99757,     0.99757,     0.99757,     0.99757,     0.99757,     0.99757,     0.99757,     0.99757,     0.99757,     0.99757,     0.99757,     0.99757,     0.99757,     0.99757,     0.99757,     0.99757,     0.99757,     0.99757,     0.99757,     0.99757,     0.99757,     0.99757,     0.99757,\n",
       "            0.99757,     0.99757,     0.99757,     0.99757,     0.99757,     0.99757,     0.99757,     0.99757,     0.99757,     0.99757,     0.99757,     0.99757,     0.99757,     0.99757,     0.99757,     0.99757,     0.99757,     0.99757,     0.99757,     0.99757,     0.99757,     0.99757,     0.99757,\n",
       "            0.99757,     0.99757,     0.99757,     0.99757,     0.99757,     0.99757,     0.99757,     0.99757,     0.99757,     0.99757,     0.99757,     0.99757,     0.99757,     0.99757,     0.99757,     0.99757,     0.99757,     0.99757,     0.99757,     0.99757,     0.99757,     0.99757,     0.99757,\n",
       "            0.99757,     0.99757,     0.99757,     0.99757,     0.99757,     0.99757,     0.99757,     0.99757,     0.99757,     0.99757,     0.99757,     0.99757,     0.99757,     0.99757,     0.99757,     0.99757,     0.99757,     0.99757,     0.99757,     0.99757,     0.99757,     0.99757,     0.99757,\n",
       "            0.99757,     0.99757,     0.99757,     0.99757,     0.99757,     0.99757,     0.99757,     0.99757,     0.99757,     0.99757,     0.99757,     0.99757,     0.99757,     0.99757,     0.99757,     0.99757,     0.99757,     0.99757,     0.99757,     0.99757,     0.99757,     0.99757,     0.99757,\n",
       "            0.99757,     0.99757,     0.99757,     0.99757,     0.99757,     0.99757,     0.99757,     0.99757,     0.99757,     0.99757,     0.99757,     0.99757,     0.99757,     0.99757,     0.99757,     0.99757,     0.99757,     0.99757,     0.99757,     0.99757,     0.99757,     0.99757,     0.99757,\n",
       "            0.99757,     0.99757,     0.99757,     0.99757,     0.99757,     0.99757,     0.99757,     0.99757,     0.99757,     0.99757,     0.99757,     0.99757,     0.99757,     0.99757,     0.99757,     0.99757,     0.99757,     0.99757,     0.99757,     0.99757,     0.99757,     0.99757,     0.99757,\n",
       "            0.99757,     0.99757,     0.99757,     0.99757,     0.99757,     0.99757,     0.99757,     0.99757,     0.99757,     0.99757,     0.99757,     0.99757,     0.99757,     0.99757,     0.99757,     0.99757,     0.99757,     0.99757,     0.99757,     0.99757,     0.99757,     0.99757,     0.99757,\n",
       "            0.99757,     0.99757,     0.99757,     0.99757,     0.99757,     0.99757,     0.99757,     0.99757,     0.99757,     0.99757,     0.99757,     0.99757,     0.99757,     0.99757,     0.99757,     0.99757,     0.99757,     0.99757,     0.99757,     0.99757,     0.99757,     0.99757,     0.99757,\n",
       "            0.99757,     0.99757,     0.99757,     0.99757,     0.99757,     0.99757,     0.99757,     0.99757,     0.99757,     0.99757,     0.99757,     0.99757,     0.99757,     0.99757,     0.99757,     0.99757,     0.99757,     0.99757,     0.99757,     0.99757,     0.99757,     0.99757,     0.99757,\n",
       "            0.99757,     0.99757,     0.99757,     0.99757,     0.99757,     0.99757,     0.99757,     0.99757,     0.99757,     0.99757,     0.99757,     0.99757,     0.99757,     0.99757,     0.99757,     0.99757,     0.99757,     0.99757,     0.99757,     0.99757,     0.99757,     0.99757,     0.99757,\n",
       "            0.99757,     0.99757,     0.99757,     0.99757,     0.99757,     0.99757,     0.99757,     0.99757,     0.99757,     0.99757,     0.99757,     0.99757,     0.99757,     0.99757,     0.99757,     0.99757,     0.99757,     0.99757,     0.99757,     0.99757,     0.99757,     0.99757,     0.99757,\n",
       "            0.99757,     0.99757,     0.99757,     0.99757,     0.99757,     0.99757,     0.99757,     0.99757,     0.99757,     0.99757,     0.99757,     0.99757,     0.99757,     0.99757,     0.99757,     0.99757,     0.99757,     0.99757,     0.99757,     0.99757,     0.99757,     0.99757,     0.99757,\n",
       "            0.99757,     0.99757,     0.99757,     0.99757,     0.99757,     0.99757,     0.99757,     0.99757,     0.99757,     0.99757,     0.99757,     0.99757,     0.99757,     0.99757,     0.99757,     0.99757,     0.99757,     0.99757,     0.99757,     0.99757,     0.99757,     0.99757,     0.99757,\n",
       "            0.99757,     0.99757,     0.99757,     0.99757,     0.99757,     0.99757,     0.99757,     0.99757,     0.99757,     0.99757,     0.99757,     0.99757,     0.99757,     0.99757,     0.99757,     0.99757,     0.99757,     0.99757,     0.99757,     0.99757,     0.99757,     0.99757,     0.99757,\n",
       "            0.99757,     0.99757,     0.99757,     0.99757,     0.99757,     0.99757,     0.99757,     0.99757,     0.99757,     0.99757,     0.99757,     0.99757,     0.99757,     0.99757,     0.99757,     0.99757,     0.99757,     0.99757,     0.99757,     0.99757,     0.99757,     0.99757,     0.99757,\n",
       "            0.99757,     0.99757,     0.99757,     0.99757,     0.99757,     0.99757,     0.99757,     0.99757,     0.99757,     0.99757,     0.99757,     0.99757,     0.99757,     0.99757,     0.99757,     0.99757,     0.99757,     0.99757,     0.99757,     0.99757,     0.99757,     0.99757,     0.99757,\n",
       "            0.99757,     0.99757,     0.99757,     0.99757,     0.99757,     0.99757,     0.99757,     0.99757,     0.99757,     0.99757,     0.99757,     0.99757,     0.99757,     0.99757,     0.99757,     0.99757,     0.99757,     0.99757,     0.99757,     0.99757,     0.99757,     0.99757,     0.99757,\n",
       "            0.99757,     0.99757,     0.99757,     0.99757,     0.99757,     0.99757,     0.99757,     0.99757,     0.99757,     0.99757,     0.99757,     0.99757,     0.99757,     0.99757,     0.99757,     0.99757,     0.99757,     0.99757,     0.99757,     0.99757,     0.99757,     0.99757,     0.99757,\n",
       "            0.99757,     0.99757,     0.99757,     0.99757,     0.99757,     0.99757,     0.99757,     0.99757,     0.99757,     0.99757,     0.99757,     0.99757,     0.99757,     0.99757,     0.99757,     0.99757,     0.99757,     0.99757,     0.99757,     0.99757,     0.99757,     0.99757,     0.99757,\n",
       "            0.99757,     0.99757,     0.99757,     0.99757,     0.99757,     0.99757,     0.99756,     0.99754,     0.99753,     0.99751,      0.9975,     0.99748,     0.99747,     0.99745,     0.99744,     0.99742,     0.99741,     0.99739,     0.99738,     0.99736,     0.99735,     0.99733,     0.99732,\n",
       "             0.9973,     0.99729,     0.99728,     0.99726,     0.99725,     0.99723,     0.99722,      0.9972,     0.99719,     0.99717,     0.99716,     0.99714,     0.99713,     0.99711,      0.9971,     0.99708,     0.99707,     0.99705,     0.99704,     0.99702,     0.99701,     0.99699,     0.99698,\n",
       "            0.99696,     0.99695,     0.99693,     0.99692,      0.9969,     0.99689,     0.99687,     0.99686,     0.99684,     0.99683,     0.99681,      0.9968,     0.99678,     0.99677,     0.99675,     0.99673,     0.99671,      0.9967,     0.99668,     0.99666,     0.99664,     0.99662,      0.9966,\n",
       "            0.99658,     0.99656,     0.99654,     0.99652,      0.9965,     0.99649,     0.99647,     0.99645,     0.99643,     0.99641,     0.99639,     0.99637,     0.99635,     0.99633,     0.99631,     0.99629,     0.99628,     0.99626,     0.99624,     0.99622,      0.9962,     0.99618,     0.99616,\n",
       "            0.99614,     0.99612,      0.9961,     0.99608,     0.99606,     0.99605,     0.99603,     0.99601,     0.99599,     0.99597,     0.99595,     0.99595,     0.99596,     0.99596,     0.99597,     0.99598,     0.99598,     0.99599,       0.996,       0.996,     0.99601,     0.99602,     0.99602,\n",
       "            0.99603,     0.99604,     0.99604,     0.99605,     0.99606,     0.99606,     0.99607,     0.99608,     0.99608,     0.99609,      0.9961,      0.9961,     0.99611,     0.99612,     0.99612,     0.99613,     0.99614,     0.99614,     0.99615,     0.99616,     0.99616,     0.99617,     0.99618,\n",
       "            0.99618,     0.99619,      0.9962,      0.9962,     0.99621,     0.99622,     0.99622,     0.99623,     0.99624,     0.99624,     0.99625,     0.99626,     0.99626,     0.99627,     0.99628,     0.99628,     0.99629,     0.99629,      0.9963,     0.99631,     0.99631,     0.99632,     0.99633,\n",
       "            0.99633,     0.99634,     0.99635,     0.99635,     0.99636,     0.99637,     0.99637,     0.99638,     0.99639,     0.99639,      0.9964,     0.99641,     0.99641,     0.99642,     0.99643,     0.99643,     0.99644,     0.99645,     0.99645,     0.99646,     0.99647,     0.99647,     0.99648,\n",
       "            0.99649,     0.99649,      0.9965,     0.99651,     0.99651,     0.99652,     0.99653,     0.99653,     0.99654,     0.99655,     0.99655,     0.99656,     0.99657,     0.99657,     0.99658,     0.99659,     0.99659,      0.9966,     0.99661,     0.99661,     0.99662,     0.99663,     0.99663,\n",
       "            0.99664,     0.99665,     0.99665,     0.99666,     0.99667,     0.99667,     0.99668,     0.99669,     0.99669,      0.9967,     0.99671,     0.99671,     0.99672,     0.99673,     0.99673,     0.99674,     0.99675,     0.99675,     0.99671,     0.99667,     0.99663,     0.99659,     0.99655,\n",
       "            0.99651,     0.99647,     0.99643,     0.99639,     0.99634,      0.9963,     0.99626,     0.99622,     0.99618,     0.99614,      0.9961,     0.99606,     0.99602,     0.99597,     0.99583,     0.99513,     0.99517,      0.9952,     0.99524,     0.99527,     0.99531,     0.99534,     0.99538,\n",
       "            0.99541,     0.99545,     0.99548,     0.99552,     0.99555,     0.99559,     0.99562,     0.99566,     0.99569,     0.99573,     0.99576,      0.9958,     0.99583,     0.99587,      0.9959,     0.99589,     0.99564,     0.99538,     0.99513,     0.99505,     0.99498,     0.99492,     0.99485,\n",
       "            0.99478,     0.99472,     0.99465,     0.99458,     0.99452,     0.99445,     0.99438,     0.99432,     0.99425,     0.99418,     0.99411,     0.99404,     0.99397,      0.9939,     0.99384,     0.99377,      0.9937,     0.99363,     0.99356,     0.99349,     0.99323,     0.99291,     0.99262,\n",
       "            0.99246,     0.99229,     0.99212,     0.99196,      0.9918,     0.99169,     0.99157,     0.99146,     0.99134,     0.99123,     0.99111,     0.99017,     0.98999,     0.98981,     0.98962,     0.98944,     0.98926,     0.98908,      0.9889,     0.98872,     0.98855,     0.98831,     0.98807,\n",
       "            0.98783,     0.98767,     0.98761,     0.98755,      0.9875,     0.98744,     0.98738,     0.98732,     0.98727,     0.98721,     0.98715,     0.98709,     0.98703,     0.98698,     0.98692,     0.98677,     0.98514,     0.98504,     0.98494,     0.98483,     0.98473,     0.98462,     0.98452,\n",
       "            0.98441,     0.98389,     0.98298,     0.97998,     0.97827,     0.97661,     0.97572,     0.97536,     0.97489,     0.97409,     0.97281,      0.9698,     0.96818,     0.96723,     0.96598,     0.96517,     0.96365,     0.96059,     0.95782,     0.95601,     0.95322,      0.9518,     0.94868,\n",
       "            0.94777,     0.94719,     0.94306,     0.93538,     0.92867,     0.92262,     0.91892,     0.91078,     0.90571,     0.89739,     0.89284,     0.88005,     0.87278,     0.86063,     0.85316,     0.83052,     0.81166,     0.79503,     0.77152,     0.73918,     0.71337,     0.67562,     0.65139,\n",
       "            0.60007,     0.56081,     0.52697,     0.47779,     0.42074,     0.37547,     0.33346,     0.29987,     0.26643,     0.23359,     0.19396,     0.16934,      0.1259,    0.095318,    0.082082,    0.075171,    0.051653,    0.035553,    0.027061,    0.020325,    0.017492,    0.013569,   0.0059863,\n",
       "          0.0042896,           0,           0,           0,           0,           0,           0,           0,           0,           0,           0,           0,           0,           0,           0,           0,           0,           0,           0,           0,           0,           0,           0,\n",
       "                  0,           0,           0,           0,           0,           0,           0,           0,           0,           0,           0,           0,           0,           0,           0,           0,           0,           0,           0,           0,           0,           0,           0,\n",
       "                  0,           0,           0,           0,           0,           0,           0,           0,           0,           0,           0]]), 'Confidence', 'F1'], [array([          0,    0.001001,    0.002002,    0.003003,    0.004004,    0.005005,    0.006006,    0.007007,    0.008008,    0.009009,     0.01001,    0.011011,    0.012012,    0.013013,    0.014014,    0.015015,    0.016016,    0.017017,    0.018018,    0.019019,     0.02002,    0.021021,    0.022022,    0.023023,\n",
       "          0.024024,    0.025025,    0.026026,    0.027027,    0.028028,    0.029029,     0.03003,    0.031031,    0.032032,    0.033033,    0.034034,    0.035035,    0.036036,    0.037037,    0.038038,    0.039039,     0.04004,    0.041041,    0.042042,    0.043043,    0.044044,    0.045045,    0.046046,    0.047047,\n",
       "          0.048048,    0.049049,     0.05005,    0.051051,    0.052052,    0.053053,    0.054054,    0.055055,    0.056056,    0.057057,    0.058058,    0.059059,     0.06006,    0.061061,    0.062062,    0.063063,    0.064064,    0.065065,    0.066066,    0.067067,    0.068068,    0.069069,     0.07007,    0.071071,\n",
       "          0.072072,    0.073073,    0.074074,    0.075075,    0.076076,    0.077077,    0.078078,    0.079079,     0.08008,    0.081081,    0.082082,    0.083083,    0.084084,    0.085085,    0.086086,    0.087087,    0.088088,    0.089089,     0.09009,    0.091091,    0.092092,    0.093093,    0.094094,    0.095095,\n",
       "          0.096096,    0.097097,    0.098098,    0.099099,      0.1001,      0.1011,      0.1021,      0.1031,      0.1041,     0.10511,     0.10611,     0.10711,     0.10811,     0.10911,     0.11011,     0.11111,     0.11211,     0.11311,     0.11411,     0.11512,     0.11612,     0.11712,     0.11812,     0.11912,\n",
       "           0.12012,     0.12112,     0.12212,     0.12312,     0.12412,     0.12513,     0.12613,     0.12713,     0.12813,     0.12913,     0.13013,     0.13113,     0.13213,     0.13313,     0.13413,     0.13514,     0.13614,     0.13714,     0.13814,     0.13914,     0.14014,     0.14114,     0.14214,     0.14314,\n",
       "           0.14414,     0.14515,     0.14615,     0.14715,     0.14815,     0.14915,     0.15015,     0.15115,     0.15215,     0.15315,     0.15415,     0.15516,     0.15616,     0.15716,     0.15816,     0.15916,     0.16016,     0.16116,     0.16216,     0.16316,     0.16416,     0.16517,     0.16617,     0.16717,\n",
       "           0.16817,     0.16917,     0.17017,     0.17117,     0.17217,     0.17317,     0.17417,     0.17518,     0.17618,     0.17718,     0.17818,     0.17918,     0.18018,     0.18118,     0.18218,     0.18318,     0.18418,     0.18519,     0.18619,     0.18719,     0.18819,     0.18919,     0.19019,     0.19119,\n",
       "           0.19219,     0.19319,     0.19419,      0.1952,      0.1962,      0.1972,      0.1982,      0.1992,      0.2002,      0.2012,      0.2022,      0.2032,      0.2042,     0.20521,     0.20621,     0.20721,     0.20821,     0.20921,     0.21021,     0.21121,     0.21221,     0.21321,     0.21421,     0.21522,\n",
       "           0.21622,     0.21722,     0.21822,     0.21922,     0.22022,     0.22122,     0.22222,     0.22322,     0.22422,     0.22523,     0.22623,     0.22723,     0.22823,     0.22923,     0.23023,     0.23123,     0.23223,     0.23323,     0.23423,     0.23524,     0.23624,     0.23724,     0.23824,     0.23924,\n",
       "           0.24024,     0.24124,     0.24224,     0.24324,     0.24424,     0.24525,     0.24625,     0.24725,     0.24825,     0.24925,     0.25025,     0.25125,     0.25225,     0.25325,     0.25425,     0.25526,     0.25626,     0.25726,     0.25826,     0.25926,     0.26026,     0.26126,     0.26226,     0.26326,\n",
       "           0.26426,     0.26527,     0.26627,     0.26727,     0.26827,     0.26927,     0.27027,     0.27127,     0.27227,     0.27327,     0.27427,     0.27528,     0.27628,     0.27728,     0.27828,     0.27928,     0.28028,     0.28128,     0.28228,     0.28328,     0.28428,     0.28529,     0.28629,     0.28729,\n",
       "           0.28829,     0.28929,     0.29029,     0.29129,     0.29229,     0.29329,     0.29429,      0.2953,      0.2963,      0.2973,      0.2983,      0.2993,      0.3003,      0.3013,      0.3023,      0.3033,      0.3043,     0.30531,     0.30631,     0.30731,     0.30831,     0.30931,     0.31031,     0.31131,\n",
       "           0.31231,     0.31331,     0.31431,     0.31532,     0.31632,     0.31732,     0.31832,     0.31932,     0.32032,     0.32132,     0.32232,     0.32332,     0.32432,     0.32533,     0.32633,     0.32733,     0.32833,     0.32933,     0.33033,     0.33133,     0.33233,     0.33333,     0.33433,     0.33534,\n",
       "           0.33634,     0.33734,     0.33834,     0.33934,     0.34034,     0.34134,     0.34234,     0.34334,     0.34434,     0.34535,     0.34635,     0.34735,     0.34835,     0.34935,     0.35035,     0.35135,     0.35235,     0.35335,     0.35435,     0.35536,     0.35636,     0.35736,     0.35836,     0.35936,\n",
       "           0.36036,     0.36136,     0.36236,     0.36336,     0.36436,     0.36537,     0.36637,     0.36737,     0.36837,     0.36937,     0.37037,     0.37137,     0.37237,     0.37337,     0.37437,     0.37538,     0.37638,     0.37738,     0.37838,     0.37938,     0.38038,     0.38138,     0.38238,     0.38338,\n",
       "           0.38438,     0.38539,     0.38639,     0.38739,     0.38839,     0.38939,     0.39039,     0.39139,     0.39239,     0.39339,     0.39439,      0.3954,      0.3964,      0.3974,      0.3984,      0.3994,      0.4004,      0.4014,      0.4024,      0.4034,      0.4044,     0.40541,     0.40641,     0.40741,\n",
       "           0.40841,     0.40941,     0.41041,     0.41141,     0.41241,     0.41341,     0.41441,     0.41542,     0.41642,     0.41742,     0.41842,     0.41942,     0.42042,     0.42142,     0.42242,     0.42342,     0.42442,     0.42543,     0.42643,     0.42743,     0.42843,     0.42943,     0.43043,     0.43143,\n",
       "           0.43243,     0.43343,     0.43443,     0.43544,     0.43644,     0.43744,     0.43844,     0.43944,     0.44044,     0.44144,     0.44244,     0.44344,     0.44444,     0.44545,     0.44645,     0.44745,     0.44845,     0.44945,     0.45045,     0.45145,     0.45245,     0.45345,     0.45445,     0.45546,\n",
       "           0.45646,     0.45746,     0.45846,     0.45946,     0.46046,     0.46146,     0.46246,     0.46346,     0.46446,     0.46547,     0.46647,     0.46747,     0.46847,     0.46947,     0.47047,     0.47147,     0.47247,     0.47347,     0.47447,     0.47548,     0.47648,     0.47748,     0.47848,     0.47948,\n",
       "           0.48048,     0.48148,     0.48248,     0.48348,     0.48448,     0.48549,     0.48649,     0.48749,     0.48849,     0.48949,     0.49049,     0.49149,     0.49249,     0.49349,     0.49449,      0.4955,      0.4965,      0.4975,      0.4985,      0.4995,      0.5005,      0.5015,      0.5025,      0.5035,\n",
       "            0.5045,     0.50551,     0.50651,     0.50751,     0.50851,     0.50951,     0.51051,     0.51151,     0.51251,     0.51351,     0.51451,     0.51552,     0.51652,     0.51752,     0.51852,     0.51952,     0.52052,     0.52152,     0.52252,     0.52352,     0.52452,     0.52553,     0.52653,     0.52753,\n",
       "           0.52853,     0.52953,     0.53053,     0.53153,     0.53253,     0.53353,     0.53453,     0.53554,     0.53654,     0.53754,     0.53854,     0.53954,     0.54054,     0.54154,     0.54254,     0.54354,     0.54454,     0.54555,     0.54655,     0.54755,     0.54855,     0.54955,     0.55055,     0.55155,\n",
       "           0.55255,     0.55355,     0.55455,     0.55556,     0.55656,     0.55756,     0.55856,     0.55956,     0.56056,     0.56156,     0.56256,     0.56356,     0.56456,     0.56557,     0.56657,     0.56757,     0.56857,     0.56957,     0.57057,     0.57157,     0.57257,     0.57357,     0.57457,     0.57558,\n",
       "           0.57658,     0.57758,     0.57858,     0.57958,     0.58058,     0.58158,     0.58258,     0.58358,     0.58458,     0.58559,     0.58659,     0.58759,     0.58859,     0.58959,     0.59059,     0.59159,     0.59259,     0.59359,     0.59459,      0.5956,      0.5966,      0.5976,      0.5986,      0.5996,\n",
       "            0.6006,      0.6016,      0.6026,      0.6036,      0.6046,     0.60561,     0.60661,     0.60761,     0.60861,     0.60961,     0.61061,     0.61161,     0.61261,     0.61361,     0.61461,     0.61562,     0.61662,     0.61762,     0.61862,     0.61962,     0.62062,     0.62162,     0.62262,     0.62362,\n",
       "           0.62462,     0.62563,     0.62663,     0.62763,     0.62863,     0.62963,     0.63063,     0.63163,     0.63263,     0.63363,     0.63463,     0.63564,     0.63664,     0.63764,     0.63864,     0.63964,     0.64064,     0.64164,     0.64264,     0.64364,     0.64464,     0.64565,     0.64665,     0.64765,\n",
       "           0.64865,     0.64965,     0.65065,     0.65165,     0.65265,     0.65365,     0.65465,     0.65566,     0.65666,     0.65766,     0.65866,     0.65966,     0.66066,     0.66166,     0.66266,     0.66366,     0.66466,     0.66567,     0.66667,     0.66767,     0.66867,     0.66967,     0.67067,     0.67167,\n",
       "           0.67267,     0.67367,     0.67467,     0.67568,     0.67668,     0.67768,     0.67868,     0.67968,     0.68068,     0.68168,     0.68268,     0.68368,     0.68468,     0.68569,     0.68669,     0.68769,     0.68869,     0.68969,     0.69069,     0.69169,     0.69269,     0.69369,     0.69469,      0.6957,\n",
       "            0.6967,      0.6977,      0.6987,      0.6997,      0.7007,      0.7017,      0.7027,      0.7037,      0.7047,     0.70571,     0.70671,     0.70771,     0.70871,     0.70971,     0.71071,     0.71171,     0.71271,     0.71371,     0.71471,     0.71572,     0.71672,     0.71772,     0.71872,     0.71972,\n",
       "           0.72072,     0.72172,     0.72272,     0.72372,     0.72472,     0.72573,     0.72673,     0.72773,     0.72873,     0.72973,     0.73073,     0.73173,     0.73273,     0.73373,     0.73473,     0.73574,     0.73674,     0.73774,     0.73874,     0.73974,     0.74074,     0.74174,     0.74274,     0.74374,\n",
       "           0.74474,     0.74575,     0.74675,     0.74775,     0.74875,     0.74975,     0.75075,     0.75175,     0.75275,     0.75375,     0.75475,     0.75576,     0.75676,     0.75776,     0.75876,     0.75976,     0.76076,     0.76176,     0.76276,     0.76376,     0.76476,     0.76577,     0.76677,     0.76777,\n",
       "           0.76877,     0.76977,     0.77077,     0.77177,     0.77277,     0.77377,     0.77477,     0.77578,     0.77678,     0.77778,     0.77878,     0.77978,     0.78078,     0.78178,     0.78278,     0.78378,     0.78478,     0.78579,     0.78679,     0.78779,     0.78879,     0.78979,     0.79079,     0.79179,\n",
       "           0.79279,     0.79379,     0.79479,      0.7958,      0.7968,      0.7978,      0.7988,      0.7998,      0.8008,      0.8018,      0.8028,      0.8038,      0.8048,     0.80581,     0.80681,     0.80781,     0.80881,     0.80981,     0.81081,     0.81181,     0.81281,     0.81381,     0.81481,     0.81582,\n",
       "           0.81682,     0.81782,     0.81882,     0.81982,     0.82082,     0.82182,     0.82282,     0.82382,     0.82482,     0.82583,     0.82683,     0.82783,     0.82883,     0.82983,     0.83083,     0.83183,     0.83283,     0.83383,     0.83483,     0.83584,     0.83684,     0.83784,     0.83884,     0.83984,\n",
       "           0.84084,     0.84184,     0.84284,     0.84384,     0.84484,     0.84585,     0.84685,     0.84785,     0.84885,     0.84985,     0.85085,     0.85185,     0.85285,     0.85385,     0.85485,     0.85586,     0.85686,     0.85786,     0.85886,     0.85986,     0.86086,     0.86186,     0.86286,     0.86386,\n",
       "           0.86486,     0.86587,     0.86687,     0.86787,     0.86887,     0.86987,     0.87087,     0.87187,     0.87287,     0.87387,     0.87487,     0.87588,     0.87688,     0.87788,     0.87888,     0.87988,     0.88088,     0.88188,     0.88288,     0.88388,     0.88488,     0.88589,     0.88689,     0.88789,\n",
       "           0.88889,     0.88989,     0.89089,     0.89189,     0.89289,     0.89389,     0.89489,      0.8959,      0.8969,      0.8979,      0.8989,      0.8999,      0.9009,      0.9019,      0.9029,      0.9039,      0.9049,     0.90591,     0.90691,     0.90791,     0.90891,     0.90991,     0.91091,     0.91191,\n",
       "           0.91291,     0.91391,     0.91491,     0.91592,     0.91692,     0.91792,     0.91892,     0.91992,     0.92092,     0.92192,     0.92292,     0.92392,     0.92492,     0.92593,     0.92693,     0.92793,     0.92893,     0.92993,     0.93093,     0.93193,     0.93293,     0.93393,     0.93493,     0.93594,\n",
       "           0.93694,     0.93794,     0.93894,     0.93994,     0.94094,     0.94194,     0.94294,     0.94394,     0.94494,     0.94595,     0.94695,     0.94795,     0.94895,     0.94995,     0.95095,     0.95195,     0.95295,     0.95395,     0.95495,     0.95596,     0.95696,     0.95796,     0.95896,     0.95996,\n",
       "           0.96096,     0.96196,     0.96296,     0.96396,     0.96496,     0.96597,     0.96697,     0.96797,     0.96897,     0.96997,     0.97097,     0.97197,     0.97297,     0.97397,     0.97497,     0.97598,     0.97698,     0.97798,     0.97898,     0.97998,     0.98098,     0.98198,     0.98298,     0.98398,\n",
       "           0.98498,     0.98599,     0.98699,     0.98799,     0.98899,     0.98999,     0.99099,     0.99199,     0.99299,     0.99399,     0.99499,       0.996,       0.997,       0.998,       0.999,           1]), array([[    0.99676,     0.99676,     0.99676,     0.99676,     0.99676,     0.99676,     0.99676,     0.99676,     0.99676,     0.99676,     0.99676,     0.99676,     0.99676,     0.99676,     0.99676,     0.99676,     0.99676,     0.99676,     0.99676,     0.99676,     0.99676,     0.99676,     0.99676,\n",
       "            0.99676,     0.99676,     0.99676,     0.99676,     0.99676,     0.99676,     0.99676,     0.99676,     0.99676,     0.99676,     0.99676,     0.99676,     0.99676,     0.99676,     0.99676,     0.99676,     0.99676,     0.99676,     0.99676,     0.99676,     0.99676,     0.99676,     0.99676,\n",
       "            0.99676,     0.99676,     0.99676,     0.99676,     0.99676,     0.99676,     0.99676,     0.99676,     0.99676,     0.99676,     0.99676,     0.99676,     0.99676,     0.99676,     0.99676,     0.99676,     0.99676,     0.99676,     0.99676,     0.99676,     0.99676,     0.99676,     0.99676,\n",
       "            0.99676,     0.99676,     0.99676,     0.99676,     0.99676,     0.99676,     0.99676,     0.99676,     0.99676,     0.99676,     0.99676,     0.99676,     0.99676,     0.99676,     0.99676,     0.99676,     0.99676,     0.99676,     0.99676,     0.99676,     0.99676,     0.99676,     0.99676,\n",
       "            0.99676,     0.99676,     0.99676,     0.99676,     0.99676,     0.99676,     0.99676,     0.99676,     0.99676,     0.99676,     0.99676,     0.99676,     0.99676,     0.99676,     0.99676,     0.99676,     0.99676,     0.99676,     0.99676,     0.99676,     0.99676,     0.99676,     0.99676,\n",
       "            0.99676,     0.99676,     0.99676,     0.99676,     0.99676,     0.99676,     0.99676,     0.99676,     0.99676,     0.99676,     0.99676,     0.99676,     0.99676,     0.99676,     0.99676,     0.99676,     0.99676,     0.99676,     0.99676,     0.99676,     0.99676,     0.99676,     0.99676,\n",
       "            0.99676,     0.99676,     0.99676,     0.99676,     0.99676,     0.99676,     0.99676,     0.99676,     0.99676,     0.99676,     0.99676,     0.99676,     0.99676,     0.99676,     0.99676,     0.99676,     0.99676,     0.99676,     0.99676,     0.99676,     0.99676,     0.99676,     0.99676,\n",
       "            0.99676,     0.99676,     0.99676,     0.99676,     0.99676,     0.99676,     0.99676,     0.99676,     0.99676,     0.99676,     0.99676,     0.99676,     0.99676,     0.99676,     0.99676,     0.99676,     0.99676,     0.99676,     0.99676,     0.99676,     0.99676,     0.99676,     0.99676,\n",
       "            0.99676,     0.99676,     0.99676,     0.99676,     0.99676,     0.99676,     0.99676,     0.99676,     0.99676,     0.99676,     0.99676,     0.99676,     0.99676,     0.99676,     0.99676,     0.99676,     0.99676,     0.99676,     0.99676,     0.99676,     0.99676,     0.99676,     0.99676,\n",
       "            0.99676,     0.99676,     0.99676,     0.99676,     0.99676,     0.99676,     0.99676,     0.99676,     0.99676,     0.99676,     0.99676,     0.99676,     0.99676,     0.99676,     0.99676,     0.99676,     0.99676,     0.99676,     0.99676,     0.99676,     0.99676,     0.99676,     0.99676,\n",
       "            0.99676,     0.99676,     0.99676,     0.99676,     0.99676,     0.99676,     0.99676,     0.99676,     0.99676,     0.99676,     0.99676,     0.99676,     0.99676,     0.99676,     0.99676,     0.99676,     0.99676,     0.99676,     0.99676,     0.99676,     0.99676,     0.99676,     0.99676,\n",
       "            0.99676,     0.99676,     0.99676,     0.99676,     0.99676,     0.99676,     0.99676,     0.99676,     0.99676,     0.99676,     0.99676,     0.99676,     0.99676,     0.99676,     0.99676,     0.99676,     0.99676,     0.99676,     0.99676,     0.99676,     0.99676,     0.99676,     0.99676,\n",
       "            0.99676,     0.99676,     0.99676,     0.99676,     0.99676,     0.99676,     0.99676,     0.99676,     0.99676,     0.99676,     0.99676,     0.99676,     0.99676,     0.99676,     0.99676,     0.99676,     0.99676,     0.99676,     0.99676,     0.99676,     0.99676,     0.99676,     0.99676,\n",
       "            0.99676,     0.99676,     0.99676,     0.99676,     0.99676,     0.99676,     0.99676,     0.99676,     0.99676,     0.99676,     0.99676,     0.99676,     0.99676,     0.99676,     0.99676,     0.99676,     0.99676,     0.99676,     0.99676,     0.99676,     0.99676,     0.99676,     0.99676,\n",
       "            0.99676,     0.99676,     0.99676,     0.99676,     0.99676,     0.99676,     0.99676,     0.99676,     0.99676,     0.99676,     0.99676,     0.99676,     0.99676,     0.99676,     0.99676,     0.99676,     0.99676,     0.99676,     0.99676,     0.99676,     0.99676,     0.99676,     0.99676,\n",
       "            0.99676,     0.99676,     0.99676,     0.99676,     0.99676,     0.99676,     0.99676,     0.99676,     0.99676,     0.99676,     0.99676,     0.99676,     0.99676,     0.99676,     0.99676,     0.99676,     0.99676,     0.99676,     0.99676,     0.99676,     0.99676,     0.99676,     0.99676,\n",
       "            0.99676,     0.99676,     0.99676,     0.99676,     0.99676,     0.99676,     0.99676,     0.99676,     0.99676,     0.99676,     0.99676,     0.99676,     0.99676,     0.99676,     0.99676,     0.99676,     0.99676,     0.99676,     0.99676,     0.99676,     0.99676,     0.99676,     0.99676,\n",
       "            0.99676,     0.99676,     0.99676,     0.99676,     0.99676,     0.99676,     0.99676,     0.99676,     0.99676,     0.99676,     0.99676,     0.99676,     0.99676,     0.99676,     0.99676,     0.99676,     0.99676,     0.99676,     0.99676,     0.99676,     0.99676,     0.99676,     0.99676,\n",
       "            0.99676,     0.99676,     0.99676,     0.99676,     0.99676,     0.99676,     0.99676,     0.99676,     0.99676,     0.99676,     0.99676,     0.99676,     0.99676,     0.99676,     0.99676,     0.99676,     0.99676,     0.99676,     0.99676,     0.99676,     0.99676,     0.99676,     0.99676,\n",
       "            0.99676,     0.99676,     0.99676,     0.99676,     0.99676,     0.99676,     0.99676,     0.99676,     0.99676,     0.99676,     0.99676,     0.99676,     0.99676,     0.99676,     0.99676,     0.99676,     0.99676,     0.99676,     0.99676,     0.99676,     0.99676,     0.99676,     0.99676,\n",
       "            0.99676,     0.99676,     0.99676,     0.99676,     0.99676,     0.99676,     0.99676,     0.99676,     0.99676,     0.99676,     0.99676,     0.99676,     0.99676,     0.99676,     0.99676,     0.99676,     0.99676,     0.99676,     0.99676,     0.99676,     0.99676,     0.99676,     0.99676,\n",
       "            0.99676,     0.99676,     0.99676,     0.99676,     0.99676,     0.99676,     0.99676,     0.99676,     0.99676,     0.99676,     0.99676,     0.99676,     0.99676,     0.99676,     0.99676,     0.99676,     0.99676,     0.99676,     0.99676,     0.99676,     0.99676,     0.99676,     0.99676,\n",
       "            0.99676,     0.99676,     0.99676,     0.99676,     0.99676,     0.99676,     0.99676,     0.99676,     0.99676,     0.99676,     0.99676,     0.99676,     0.99676,     0.99676,     0.99676,     0.99676,     0.99676,     0.99676,     0.99676,     0.99676,     0.99676,     0.99676,     0.99676,\n",
       "            0.99676,     0.99676,     0.99676,     0.99676,     0.99676,     0.99676,     0.99676,     0.99676,     0.99676,     0.99676,     0.99676,     0.99676,     0.99676,     0.99676,     0.99676,     0.99676,     0.99676,     0.99676,     0.99676,     0.99676,     0.99676,     0.99676,     0.99676,\n",
       "            0.99676,     0.99676,     0.99676,     0.99676,     0.99676,     0.99676,     0.99676,     0.99676,     0.99676,     0.99676,     0.99676,     0.99676,     0.99676,     0.99676,     0.99676,     0.99676,     0.99676,     0.99676,     0.99676,     0.99676,     0.99676,     0.99676,     0.99676,\n",
       "            0.99676,     0.99676,     0.99676,     0.99676,     0.99676,     0.99676,     0.99676,     0.99676,     0.99676,     0.99676,     0.99676,     0.99676,     0.99676,     0.99676,     0.99676,     0.99676,     0.99676,     0.99676,     0.99676,     0.99676,     0.99676,     0.99676,     0.99676,\n",
       "            0.99676,     0.99676,     0.99676,     0.99676,     0.99676,     0.99676,     0.99676,     0.99676,     0.99676,     0.99676,     0.99676,     0.99676,     0.99676,     0.99676,     0.99676,     0.99676,     0.99676,     0.99676,     0.99676,     0.99676,     0.99675,     0.99675,     0.99675,\n",
       "            0.99675,     0.99675,     0.99675,     0.99675,     0.99675,     0.99675,     0.99675,     0.99675,     0.99675,     0.99675,     0.99675,     0.99676,     0.99678,     0.99679,      0.9968,     0.99682,     0.99683,     0.99684,     0.99686,     0.99687,     0.99688,      0.9969,     0.99691,\n",
       "            0.99692,     0.99694,     0.99695,     0.99696,     0.99698,     0.99699,       0.997,     0.99702,     0.99703,     0.99704,     0.99706,     0.99707,     0.99708,      0.9971,     0.99711,     0.99712,     0.99714,     0.99715,     0.99716,     0.99718,     0.99719,      0.9972,     0.99722,\n",
       "            0.99723,     0.99724,     0.99726,     0.99727,     0.99728,      0.9973,     0.99731,     0.99732,     0.99734,     0.99735,     0.99736,     0.99738,     0.99739,      0.9974,     0.99741,     0.99743,     0.99744,     0.99745,     0.99747,     0.99748,     0.99749,     0.99751,     0.99752,\n",
       "            0.99753,     0.99755,     0.99756,     0.99757,     0.99759,      0.9976,     0.99761,     0.99763,     0.99764,     0.99765,     0.99767,     0.99768,     0.99769,     0.99771,     0.99772,     0.99773,     0.99775,     0.99776,     0.99777,     0.99779,      0.9978,     0.99781,     0.99783,\n",
       "            0.99784,     0.99785,     0.99787,     0.99788,     0.99789,     0.99791,     0.99792,     0.99793,     0.99795,     0.99796,     0.99797,     0.99799,       0.998,     0.99801,     0.99803,     0.99804,     0.99805,     0.99807,     0.99808,     0.99809,     0.99811,     0.99812,     0.99813,\n",
       "            0.99815,     0.99816,     0.99817,     0.99819,      0.9982,     0.99821,     0.99823,     0.99824,     0.99825,     0.99827,     0.99828,     0.99829,     0.99831,     0.99832,     0.99833,     0.99835,     0.99836,     0.99837,     0.99837,     0.99837,     0.99837,     0.99837,     0.99837,\n",
       "            0.99837,     0.99837,     0.99837,     0.99837,     0.99837,     0.99837,     0.99837,     0.99837,     0.99837,     0.99837,     0.99837,     0.99837,     0.99837,     0.99837,     0.99837,     0.99839,     0.99846,     0.99853,      0.9986,     0.99867,     0.99874,     0.99881,     0.99888,\n",
       "            0.99895,     0.99902,     0.99909,     0.99916,     0.99923,     0.99931,     0.99938,     0.99945,     0.99952,     0.99959,     0.99966,     0.99973,      0.9998,     0.99987,     0.99994,           1,           1,           1,           1,           1,           1,           1,           1,\n",
       "                  1,           1,           1,           1,           1,           1,           1,           1,           1,           1,           1,           1,           1,           1,           1,           1,           1,           1,           1,           1,           1,           1,           1,\n",
       "                  1,           1,           1,           1,           1,           1,           1,           1,           1,           1,           1,           1,           1,           1,           1,           1,           1,           1,           1,           1,           1,           1,           1,\n",
       "                  1,           1,           1,           1,           1,           1,           1,           1,           1,           1,           1,           1,           1,           1,           1,           1,           1,           1,           1,           1,           1,           1,           1,\n",
       "                  1,           1,           1,           1,           1,           1,           1,           1,           1,           1,           1,           1,           1,           1,           1,           1,           1,           1,           1,           1,           1,           1,           1,\n",
       "                  1,           1,           1,           1,           1,           1,           1,           1,           1,           1,           1,           1,           1,           1,           1,           1,           1,           1,           1,           1,           1,           1,           1,\n",
       "                  1,           1,           1,           1,           1,           1,           1,           1,           1,           1,           1,           1,           1,           1,           1,           1,           1,           1,           1,           1,           1,           1,           1,\n",
       "                  1,           1,           1,           1,           1,           1,           1,           1,           1,           1,           1,           1,           1,           1,           1,           1,           1,           1,           1,           1,           1,           1,           1,\n",
       "                  1,           1,           1,           1,           1,           1,           1,           1,           1,           1,           1,           1,           1,           1,           1,           1,           1,           1,           1,           1,           1,           1,           1,\n",
       "                  1,           1,           1,           1,           1,           1,           1,           1,           1,           1,           1]]), 'Confidence', 'Precision'], [array([          0,    0.001001,    0.002002,    0.003003,    0.004004,    0.005005,    0.006006,    0.007007,    0.008008,    0.009009,     0.01001,    0.011011,    0.012012,    0.013013,    0.014014,    0.015015,    0.016016,    0.017017,    0.018018,    0.019019,     0.02002,    0.021021,    0.022022,    0.023023,\n",
       "          0.024024,    0.025025,    0.026026,    0.027027,    0.028028,    0.029029,     0.03003,    0.031031,    0.032032,    0.033033,    0.034034,    0.035035,    0.036036,    0.037037,    0.038038,    0.039039,     0.04004,    0.041041,    0.042042,    0.043043,    0.044044,    0.045045,    0.046046,    0.047047,\n",
       "          0.048048,    0.049049,     0.05005,    0.051051,    0.052052,    0.053053,    0.054054,    0.055055,    0.056056,    0.057057,    0.058058,    0.059059,     0.06006,    0.061061,    0.062062,    0.063063,    0.064064,    0.065065,    0.066066,    0.067067,    0.068068,    0.069069,     0.07007,    0.071071,\n",
       "          0.072072,    0.073073,    0.074074,    0.075075,    0.076076,    0.077077,    0.078078,    0.079079,     0.08008,    0.081081,    0.082082,    0.083083,    0.084084,    0.085085,    0.086086,    0.087087,    0.088088,    0.089089,     0.09009,    0.091091,    0.092092,    0.093093,    0.094094,    0.095095,\n",
       "          0.096096,    0.097097,    0.098098,    0.099099,      0.1001,      0.1011,      0.1021,      0.1031,      0.1041,     0.10511,     0.10611,     0.10711,     0.10811,     0.10911,     0.11011,     0.11111,     0.11211,     0.11311,     0.11411,     0.11512,     0.11612,     0.11712,     0.11812,     0.11912,\n",
       "           0.12012,     0.12112,     0.12212,     0.12312,     0.12412,     0.12513,     0.12613,     0.12713,     0.12813,     0.12913,     0.13013,     0.13113,     0.13213,     0.13313,     0.13413,     0.13514,     0.13614,     0.13714,     0.13814,     0.13914,     0.14014,     0.14114,     0.14214,     0.14314,\n",
       "           0.14414,     0.14515,     0.14615,     0.14715,     0.14815,     0.14915,     0.15015,     0.15115,     0.15215,     0.15315,     0.15415,     0.15516,     0.15616,     0.15716,     0.15816,     0.15916,     0.16016,     0.16116,     0.16216,     0.16316,     0.16416,     0.16517,     0.16617,     0.16717,\n",
       "           0.16817,     0.16917,     0.17017,     0.17117,     0.17217,     0.17317,     0.17417,     0.17518,     0.17618,     0.17718,     0.17818,     0.17918,     0.18018,     0.18118,     0.18218,     0.18318,     0.18418,     0.18519,     0.18619,     0.18719,     0.18819,     0.18919,     0.19019,     0.19119,\n",
       "           0.19219,     0.19319,     0.19419,      0.1952,      0.1962,      0.1972,      0.1982,      0.1992,      0.2002,      0.2012,      0.2022,      0.2032,      0.2042,     0.20521,     0.20621,     0.20721,     0.20821,     0.20921,     0.21021,     0.21121,     0.21221,     0.21321,     0.21421,     0.21522,\n",
       "           0.21622,     0.21722,     0.21822,     0.21922,     0.22022,     0.22122,     0.22222,     0.22322,     0.22422,     0.22523,     0.22623,     0.22723,     0.22823,     0.22923,     0.23023,     0.23123,     0.23223,     0.23323,     0.23423,     0.23524,     0.23624,     0.23724,     0.23824,     0.23924,\n",
       "           0.24024,     0.24124,     0.24224,     0.24324,     0.24424,     0.24525,     0.24625,     0.24725,     0.24825,     0.24925,     0.25025,     0.25125,     0.25225,     0.25325,     0.25425,     0.25526,     0.25626,     0.25726,     0.25826,     0.25926,     0.26026,     0.26126,     0.26226,     0.26326,\n",
       "           0.26426,     0.26527,     0.26627,     0.26727,     0.26827,     0.26927,     0.27027,     0.27127,     0.27227,     0.27327,     0.27427,     0.27528,     0.27628,     0.27728,     0.27828,     0.27928,     0.28028,     0.28128,     0.28228,     0.28328,     0.28428,     0.28529,     0.28629,     0.28729,\n",
       "           0.28829,     0.28929,     0.29029,     0.29129,     0.29229,     0.29329,     0.29429,      0.2953,      0.2963,      0.2973,      0.2983,      0.2993,      0.3003,      0.3013,      0.3023,      0.3033,      0.3043,     0.30531,     0.30631,     0.30731,     0.30831,     0.30931,     0.31031,     0.31131,\n",
       "           0.31231,     0.31331,     0.31431,     0.31532,     0.31632,     0.31732,     0.31832,     0.31932,     0.32032,     0.32132,     0.32232,     0.32332,     0.32432,     0.32533,     0.32633,     0.32733,     0.32833,     0.32933,     0.33033,     0.33133,     0.33233,     0.33333,     0.33433,     0.33534,\n",
       "           0.33634,     0.33734,     0.33834,     0.33934,     0.34034,     0.34134,     0.34234,     0.34334,     0.34434,     0.34535,     0.34635,     0.34735,     0.34835,     0.34935,     0.35035,     0.35135,     0.35235,     0.35335,     0.35435,     0.35536,     0.35636,     0.35736,     0.35836,     0.35936,\n",
       "           0.36036,     0.36136,     0.36236,     0.36336,     0.36436,     0.36537,     0.36637,     0.36737,     0.36837,     0.36937,     0.37037,     0.37137,     0.37237,     0.37337,     0.37437,     0.37538,     0.37638,     0.37738,     0.37838,     0.37938,     0.38038,     0.38138,     0.38238,     0.38338,\n",
       "           0.38438,     0.38539,     0.38639,     0.38739,     0.38839,     0.38939,     0.39039,     0.39139,     0.39239,     0.39339,     0.39439,      0.3954,      0.3964,      0.3974,      0.3984,      0.3994,      0.4004,      0.4014,      0.4024,      0.4034,      0.4044,     0.40541,     0.40641,     0.40741,\n",
       "           0.40841,     0.40941,     0.41041,     0.41141,     0.41241,     0.41341,     0.41441,     0.41542,     0.41642,     0.41742,     0.41842,     0.41942,     0.42042,     0.42142,     0.42242,     0.42342,     0.42442,     0.42543,     0.42643,     0.42743,     0.42843,     0.42943,     0.43043,     0.43143,\n",
       "           0.43243,     0.43343,     0.43443,     0.43544,     0.43644,     0.43744,     0.43844,     0.43944,     0.44044,     0.44144,     0.44244,     0.44344,     0.44444,     0.44545,     0.44645,     0.44745,     0.44845,     0.44945,     0.45045,     0.45145,     0.45245,     0.45345,     0.45445,     0.45546,\n",
       "           0.45646,     0.45746,     0.45846,     0.45946,     0.46046,     0.46146,     0.46246,     0.46346,     0.46446,     0.46547,     0.46647,     0.46747,     0.46847,     0.46947,     0.47047,     0.47147,     0.47247,     0.47347,     0.47447,     0.47548,     0.47648,     0.47748,     0.47848,     0.47948,\n",
       "           0.48048,     0.48148,     0.48248,     0.48348,     0.48448,     0.48549,     0.48649,     0.48749,     0.48849,     0.48949,     0.49049,     0.49149,     0.49249,     0.49349,     0.49449,      0.4955,      0.4965,      0.4975,      0.4985,      0.4995,      0.5005,      0.5015,      0.5025,      0.5035,\n",
       "            0.5045,     0.50551,     0.50651,     0.50751,     0.50851,     0.50951,     0.51051,     0.51151,     0.51251,     0.51351,     0.51451,     0.51552,     0.51652,     0.51752,     0.51852,     0.51952,     0.52052,     0.52152,     0.52252,     0.52352,     0.52452,     0.52553,     0.52653,     0.52753,\n",
       "           0.52853,     0.52953,     0.53053,     0.53153,     0.53253,     0.53353,     0.53453,     0.53554,     0.53654,     0.53754,     0.53854,     0.53954,     0.54054,     0.54154,     0.54254,     0.54354,     0.54454,     0.54555,     0.54655,     0.54755,     0.54855,     0.54955,     0.55055,     0.55155,\n",
       "           0.55255,     0.55355,     0.55455,     0.55556,     0.55656,     0.55756,     0.55856,     0.55956,     0.56056,     0.56156,     0.56256,     0.56356,     0.56456,     0.56557,     0.56657,     0.56757,     0.56857,     0.56957,     0.57057,     0.57157,     0.57257,     0.57357,     0.57457,     0.57558,\n",
       "           0.57658,     0.57758,     0.57858,     0.57958,     0.58058,     0.58158,     0.58258,     0.58358,     0.58458,     0.58559,     0.58659,     0.58759,     0.58859,     0.58959,     0.59059,     0.59159,     0.59259,     0.59359,     0.59459,      0.5956,      0.5966,      0.5976,      0.5986,      0.5996,\n",
       "            0.6006,      0.6016,      0.6026,      0.6036,      0.6046,     0.60561,     0.60661,     0.60761,     0.60861,     0.60961,     0.61061,     0.61161,     0.61261,     0.61361,     0.61461,     0.61562,     0.61662,     0.61762,     0.61862,     0.61962,     0.62062,     0.62162,     0.62262,     0.62362,\n",
       "           0.62462,     0.62563,     0.62663,     0.62763,     0.62863,     0.62963,     0.63063,     0.63163,     0.63263,     0.63363,     0.63463,     0.63564,     0.63664,     0.63764,     0.63864,     0.63964,     0.64064,     0.64164,     0.64264,     0.64364,     0.64464,     0.64565,     0.64665,     0.64765,\n",
       "           0.64865,     0.64965,     0.65065,     0.65165,     0.65265,     0.65365,     0.65465,     0.65566,     0.65666,     0.65766,     0.65866,     0.65966,     0.66066,     0.66166,     0.66266,     0.66366,     0.66466,     0.66567,     0.66667,     0.66767,     0.66867,     0.66967,     0.67067,     0.67167,\n",
       "           0.67267,     0.67367,     0.67467,     0.67568,     0.67668,     0.67768,     0.67868,     0.67968,     0.68068,     0.68168,     0.68268,     0.68368,     0.68468,     0.68569,     0.68669,     0.68769,     0.68869,     0.68969,     0.69069,     0.69169,     0.69269,     0.69369,     0.69469,      0.6957,\n",
       "            0.6967,      0.6977,      0.6987,      0.6997,      0.7007,      0.7017,      0.7027,      0.7037,      0.7047,     0.70571,     0.70671,     0.70771,     0.70871,     0.70971,     0.71071,     0.71171,     0.71271,     0.71371,     0.71471,     0.71572,     0.71672,     0.71772,     0.71872,     0.71972,\n",
       "           0.72072,     0.72172,     0.72272,     0.72372,     0.72472,     0.72573,     0.72673,     0.72773,     0.72873,     0.72973,     0.73073,     0.73173,     0.73273,     0.73373,     0.73473,     0.73574,     0.73674,     0.73774,     0.73874,     0.73974,     0.74074,     0.74174,     0.74274,     0.74374,\n",
       "           0.74474,     0.74575,     0.74675,     0.74775,     0.74875,     0.74975,     0.75075,     0.75175,     0.75275,     0.75375,     0.75475,     0.75576,     0.75676,     0.75776,     0.75876,     0.75976,     0.76076,     0.76176,     0.76276,     0.76376,     0.76476,     0.76577,     0.76677,     0.76777,\n",
       "           0.76877,     0.76977,     0.77077,     0.77177,     0.77277,     0.77377,     0.77477,     0.77578,     0.77678,     0.77778,     0.77878,     0.77978,     0.78078,     0.78178,     0.78278,     0.78378,     0.78478,     0.78579,     0.78679,     0.78779,     0.78879,     0.78979,     0.79079,     0.79179,\n",
       "           0.79279,     0.79379,     0.79479,      0.7958,      0.7968,      0.7978,      0.7988,      0.7998,      0.8008,      0.8018,      0.8028,      0.8038,      0.8048,     0.80581,     0.80681,     0.80781,     0.80881,     0.80981,     0.81081,     0.81181,     0.81281,     0.81381,     0.81481,     0.81582,\n",
       "           0.81682,     0.81782,     0.81882,     0.81982,     0.82082,     0.82182,     0.82282,     0.82382,     0.82482,     0.82583,     0.82683,     0.82783,     0.82883,     0.82983,     0.83083,     0.83183,     0.83283,     0.83383,     0.83483,     0.83584,     0.83684,     0.83784,     0.83884,     0.83984,\n",
       "           0.84084,     0.84184,     0.84284,     0.84384,     0.84484,     0.84585,     0.84685,     0.84785,     0.84885,     0.84985,     0.85085,     0.85185,     0.85285,     0.85385,     0.85485,     0.85586,     0.85686,     0.85786,     0.85886,     0.85986,     0.86086,     0.86186,     0.86286,     0.86386,\n",
       "           0.86486,     0.86587,     0.86687,     0.86787,     0.86887,     0.86987,     0.87087,     0.87187,     0.87287,     0.87387,     0.87487,     0.87588,     0.87688,     0.87788,     0.87888,     0.87988,     0.88088,     0.88188,     0.88288,     0.88388,     0.88488,     0.88589,     0.88689,     0.88789,\n",
       "           0.88889,     0.88989,     0.89089,     0.89189,     0.89289,     0.89389,     0.89489,      0.8959,      0.8969,      0.8979,      0.8989,      0.8999,      0.9009,      0.9019,      0.9029,      0.9039,      0.9049,     0.90591,     0.90691,     0.90791,     0.90891,     0.90991,     0.91091,     0.91191,\n",
       "           0.91291,     0.91391,     0.91491,     0.91592,     0.91692,     0.91792,     0.91892,     0.91992,     0.92092,     0.92192,     0.92292,     0.92392,     0.92492,     0.92593,     0.92693,     0.92793,     0.92893,     0.92993,     0.93093,     0.93193,     0.93293,     0.93393,     0.93493,     0.93594,\n",
       "           0.93694,     0.93794,     0.93894,     0.93994,     0.94094,     0.94194,     0.94294,     0.94394,     0.94494,     0.94595,     0.94695,     0.94795,     0.94895,     0.94995,     0.95095,     0.95195,     0.95295,     0.95395,     0.95495,     0.95596,     0.95696,     0.95796,     0.95896,     0.95996,\n",
       "           0.96096,     0.96196,     0.96296,     0.96396,     0.96496,     0.96597,     0.96697,     0.96797,     0.96897,     0.96997,     0.97097,     0.97197,     0.97297,     0.97397,     0.97497,     0.97598,     0.97698,     0.97798,     0.97898,     0.97998,     0.98098,     0.98198,     0.98298,     0.98398,\n",
       "           0.98498,     0.98599,     0.98699,     0.98799,     0.98899,     0.98999,     0.99099,     0.99199,     0.99299,     0.99399,     0.99499,       0.996,       0.997,       0.998,       0.999,           1]), array([[    0.99838,     0.99838,     0.99838,     0.99838,     0.99838,     0.99838,     0.99838,     0.99838,     0.99838,     0.99838,     0.99838,     0.99838,     0.99838,     0.99838,     0.99838,     0.99838,     0.99838,     0.99838,     0.99838,     0.99838,     0.99838,     0.99838,     0.99838,\n",
       "            0.99838,     0.99838,     0.99838,     0.99838,     0.99838,     0.99838,     0.99838,     0.99838,     0.99838,     0.99838,     0.99838,     0.99838,     0.99838,     0.99838,     0.99838,     0.99838,     0.99838,     0.99838,     0.99838,     0.99838,     0.99838,     0.99838,     0.99838,\n",
       "            0.99838,     0.99838,     0.99838,     0.99838,     0.99838,     0.99838,     0.99838,     0.99838,     0.99838,     0.99838,     0.99838,     0.99838,     0.99838,     0.99838,     0.99838,     0.99838,     0.99838,     0.99838,     0.99838,     0.99838,     0.99838,     0.99838,     0.99838,\n",
       "            0.99838,     0.99838,     0.99838,     0.99838,     0.99838,     0.99838,     0.99838,     0.99838,     0.99838,     0.99838,     0.99838,     0.99838,     0.99838,     0.99838,     0.99838,     0.99838,     0.99838,     0.99838,     0.99838,     0.99838,     0.99838,     0.99838,     0.99838,\n",
       "            0.99838,     0.99838,     0.99838,     0.99838,     0.99838,     0.99838,     0.99838,     0.99838,     0.99838,     0.99838,     0.99838,     0.99838,     0.99838,     0.99838,     0.99838,     0.99838,     0.99838,     0.99838,     0.99838,     0.99838,     0.99838,     0.99838,     0.99838,\n",
       "            0.99838,     0.99838,     0.99838,     0.99838,     0.99838,     0.99838,     0.99838,     0.99838,     0.99838,     0.99838,     0.99838,     0.99838,     0.99838,     0.99838,     0.99838,     0.99838,     0.99838,     0.99838,     0.99838,     0.99838,     0.99838,     0.99838,     0.99838,\n",
       "            0.99838,     0.99838,     0.99838,     0.99838,     0.99838,     0.99838,     0.99838,     0.99838,     0.99838,     0.99838,     0.99838,     0.99838,     0.99838,     0.99838,     0.99838,     0.99838,     0.99838,     0.99838,     0.99838,     0.99838,     0.99838,     0.99838,     0.99838,\n",
       "            0.99838,     0.99838,     0.99838,     0.99838,     0.99838,     0.99838,     0.99838,     0.99838,     0.99838,     0.99838,     0.99838,     0.99838,     0.99838,     0.99838,     0.99838,     0.99838,     0.99838,     0.99838,     0.99838,     0.99838,     0.99838,     0.99838,     0.99838,\n",
       "            0.99838,     0.99838,     0.99838,     0.99838,     0.99838,     0.99838,     0.99838,     0.99838,     0.99838,     0.99838,     0.99838,     0.99838,     0.99838,     0.99838,     0.99838,     0.99838,     0.99838,     0.99838,     0.99838,     0.99838,     0.99838,     0.99838,     0.99838,\n",
       "            0.99838,     0.99838,     0.99838,     0.99838,     0.99838,     0.99838,     0.99838,     0.99838,     0.99838,     0.99838,     0.99838,     0.99838,     0.99838,     0.99838,     0.99838,     0.99838,     0.99838,     0.99838,     0.99838,     0.99838,     0.99838,     0.99838,     0.99838,\n",
       "            0.99838,     0.99838,     0.99838,     0.99838,     0.99838,     0.99838,     0.99838,     0.99838,     0.99838,     0.99838,     0.99838,     0.99838,     0.99838,     0.99838,     0.99838,     0.99838,     0.99838,     0.99838,     0.99838,     0.99838,     0.99838,     0.99838,     0.99838,\n",
       "            0.99838,     0.99838,     0.99838,     0.99838,     0.99838,     0.99838,     0.99838,     0.99838,     0.99838,     0.99838,     0.99838,     0.99838,     0.99838,     0.99838,     0.99838,     0.99838,     0.99838,     0.99838,     0.99838,     0.99838,     0.99838,     0.99838,     0.99838,\n",
       "            0.99838,     0.99838,     0.99838,     0.99838,     0.99838,     0.99838,     0.99838,     0.99838,     0.99838,     0.99838,     0.99838,     0.99838,     0.99838,     0.99838,     0.99838,     0.99838,     0.99838,     0.99838,     0.99838,     0.99838,     0.99838,     0.99838,     0.99838,\n",
       "            0.99838,     0.99838,     0.99838,     0.99838,     0.99838,     0.99838,     0.99838,     0.99838,     0.99838,     0.99838,     0.99838,     0.99838,     0.99838,     0.99838,     0.99838,     0.99838,     0.99838,     0.99838,     0.99838,     0.99838,     0.99838,     0.99838,     0.99838,\n",
       "            0.99838,     0.99838,     0.99838,     0.99838,     0.99838,     0.99838,     0.99838,     0.99838,     0.99838,     0.99838,     0.99838,     0.99838,     0.99838,     0.99838,     0.99838,     0.99838,     0.99838,     0.99838,     0.99838,     0.99838,     0.99838,     0.99838,     0.99838,\n",
       "            0.99838,     0.99838,     0.99838,     0.99838,     0.99838,     0.99838,     0.99838,     0.99838,     0.99838,     0.99838,     0.99838,     0.99838,     0.99838,     0.99838,     0.99838,     0.99838,     0.99838,     0.99838,     0.99838,     0.99838,     0.99838,     0.99838,     0.99838,\n",
       "            0.99838,     0.99838,     0.99838,     0.99838,     0.99838,     0.99838,     0.99838,     0.99838,     0.99838,     0.99838,     0.99838,     0.99838,     0.99838,     0.99838,     0.99838,     0.99838,     0.99838,     0.99838,     0.99838,     0.99838,     0.99838,     0.99838,     0.99838,\n",
       "            0.99838,     0.99838,     0.99838,     0.99838,     0.99838,     0.99838,     0.99838,     0.99838,     0.99838,     0.99838,     0.99838,     0.99838,     0.99838,     0.99838,     0.99838,     0.99838,     0.99838,     0.99838,     0.99838,     0.99838,     0.99838,     0.99838,     0.99838,\n",
       "            0.99838,     0.99838,     0.99838,     0.99838,     0.99838,     0.99838,     0.99838,     0.99838,     0.99838,     0.99838,     0.99838,     0.99838,     0.99838,     0.99838,     0.99838,     0.99838,     0.99838,     0.99838,     0.99838,     0.99838,     0.99838,     0.99838,     0.99838,\n",
       "            0.99838,     0.99838,     0.99838,     0.99838,     0.99838,     0.99838,     0.99838,     0.99838,     0.99838,     0.99838,     0.99838,     0.99838,     0.99838,     0.99838,     0.99838,     0.99838,     0.99838,     0.99838,     0.99838,     0.99838,     0.99838,     0.99838,     0.99838,\n",
       "            0.99838,     0.99838,     0.99838,     0.99838,     0.99838,     0.99838,     0.99838,     0.99838,     0.99838,     0.99838,     0.99838,     0.99838,     0.99838,     0.99838,     0.99838,     0.99838,     0.99838,     0.99838,     0.99838,     0.99838,     0.99838,     0.99838,     0.99838,\n",
       "            0.99838,     0.99838,     0.99838,     0.99838,     0.99838,     0.99838,     0.99838,     0.99838,     0.99838,     0.99838,     0.99838,     0.99838,     0.99838,     0.99838,     0.99838,     0.99838,     0.99838,     0.99838,     0.99838,     0.99838,     0.99838,     0.99838,     0.99838,\n",
       "            0.99838,     0.99838,     0.99838,     0.99838,     0.99838,     0.99838,     0.99838,     0.99838,     0.99838,     0.99838,     0.99838,     0.99838,     0.99838,     0.99838,     0.99838,     0.99838,     0.99838,     0.99838,     0.99838,     0.99838,     0.99838,     0.99838,     0.99838,\n",
       "            0.99838,     0.99838,     0.99838,     0.99838,     0.99838,     0.99838,     0.99835,     0.99832,     0.99829,     0.99826,     0.99823,      0.9982,     0.99817,     0.99815,     0.99812,     0.99809,     0.99806,     0.99803,       0.998,     0.99797,     0.99794,     0.99791,     0.99788,\n",
       "            0.99785,     0.99782,     0.99779,     0.99776,     0.99773,      0.9977,     0.99767,     0.99764,     0.99761,     0.99758,     0.99755,     0.99752,     0.99749,     0.99746,     0.99743,      0.9974,     0.99737,     0.99734,     0.99731,     0.99728,     0.99725,     0.99722,     0.99719,\n",
       "            0.99717,     0.99714,     0.99711,     0.99708,     0.99705,     0.99702,     0.99699,     0.99696,     0.99693,      0.9969,     0.99687,     0.99684,     0.99681,     0.99678,     0.99675,     0.99671,     0.99667,     0.99663,     0.99659,     0.99656,     0.99652,     0.99648,     0.99644,\n",
       "             0.9964,     0.99637,     0.99633,     0.99629,     0.99625,     0.99621,     0.99618,     0.99614,      0.9961,     0.99606,     0.99602,     0.99599,     0.99595,     0.99591,     0.99587,     0.99583,      0.9958,     0.99576,     0.99572,     0.99568,     0.99564,     0.99561,     0.99557,\n",
       "            0.99553,     0.99549,     0.99545,     0.99541,     0.99538,     0.99534,      0.9953,     0.99526,     0.99522,     0.99519,     0.99515,     0.99514,     0.99514,     0.99514,     0.99514,     0.99514,     0.99514,     0.99514,     0.99514,     0.99514,     0.99514,     0.99514,     0.99514,\n",
       "            0.99514,     0.99514,     0.99514,     0.99514,     0.99514,     0.99514,     0.99514,     0.99514,     0.99514,     0.99514,     0.99514,     0.99514,     0.99514,     0.99514,     0.99514,     0.99514,     0.99514,     0.99514,     0.99514,     0.99514,     0.99514,     0.99514,     0.99514,\n",
       "            0.99514,     0.99514,     0.99514,     0.99514,     0.99514,     0.99514,     0.99514,     0.99514,     0.99514,     0.99514,     0.99514,     0.99514,     0.99514,     0.99514,     0.99514,     0.99514,     0.99514,     0.99514,     0.99514,     0.99514,     0.99514,     0.99514,     0.99514,\n",
       "            0.99514,     0.99514,     0.99514,     0.99514,     0.99514,     0.99514,     0.99514,     0.99514,     0.99514,     0.99514,     0.99514,     0.99514,     0.99514,     0.99514,     0.99514,     0.99514,     0.99514,     0.99514,     0.99514,     0.99514,     0.99514,     0.99514,     0.99514,\n",
       "            0.99514,     0.99514,     0.99514,     0.99514,     0.99514,     0.99514,     0.99514,     0.99514,     0.99514,     0.99514,     0.99514,     0.99514,     0.99514,     0.99514,     0.99514,     0.99514,     0.99514,     0.99514,     0.99514,     0.99514,     0.99514,     0.99514,     0.99514,\n",
       "            0.99514,     0.99514,     0.99514,     0.99514,     0.99514,     0.99514,     0.99514,     0.99514,     0.99514,     0.99514,     0.99514,     0.99514,     0.99514,     0.99514,     0.99514,     0.99514,     0.99514,     0.99514,     0.99506,     0.99498,      0.9949,     0.99482,     0.99473,\n",
       "            0.99465,     0.99457,     0.99449,     0.99441,     0.99433,     0.99424,     0.99416,     0.99408,       0.994,     0.99392,     0.99383,     0.99375,     0.99367,     0.99359,      0.9933,      0.9919,      0.9919,      0.9919,      0.9919,      0.9919,      0.9919,      0.9919,      0.9919,\n",
       "             0.9919,      0.9919,      0.9919,      0.9919,      0.9919,      0.9919,      0.9919,      0.9919,      0.9919,      0.9919,      0.9919,      0.9919,      0.9919,      0.9919,      0.9919,     0.99182,     0.99132,     0.99081,      0.9903,     0.99015,     0.99002,     0.98989,     0.98975,\n",
       "            0.98962,     0.98949,     0.98936,     0.98923,      0.9891,     0.98896,     0.98883,      0.9887,     0.98856,     0.98843,     0.98829,     0.98816,     0.98802,     0.98788,     0.98775,     0.98761,     0.98747,     0.98734,      0.9872,     0.98707,     0.98655,     0.98592,     0.98535,\n",
       "            0.98502,      0.9847,     0.98437,     0.98404,     0.98374,     0.98351,     0.98329,     0.98306,     0.98283,     0.98261,     0.98238,     0.98054,     0.98018,     0.97982,     0.97946,     0.97909,     0.97874,     0.97839,     0.97805,      0.9777,     0.97735,      0.9769,     0.97643,\n",
       "            0.97596,     0.97564,     0.97553,     0.97542,      0.9753,     0.97519,     0.97508,     0.97496,     0.97485,     0.97474,     0.97463,     0.97451,      0.9744,     0.97429,     0.97417,     0.97388,     0.97072,     0.97052,     0.97032,     0.97012,     0.96991,     0.96971,     0.96951,\n",
       "            0.96931,     0.96829,     0.96653,     0.96074,     0.95747,     0.95428,     0.95258,      0.9519,     0.95102,     0.94949,     0.94705,     0.94137,     0.93832,     0.93654,     0.93421,     0.93269,     0.92985,     0.92416,     0.91906,     0.91573,     0.91063,     0.90803,     0.90236,\n",
       "            0.90073,     0.89967,     0.89225,      0.8786,     0.86684,     0.85635,     0.85001,     0.83618,     0.82767,     0.81388,     0.80642,      0.7858,     0.77427,     0.75535,     0.74393,     0.71016,     0.68302,     0.65979,     0.62803,     0.58627,     0.55445,     0.51014,     0.48301,\n",
       "            0.42864,     0.38967,     0.35774,     0.31388,     0.26642,     0.23112,     0.20009,     0.17638,     0.15369,     0.13224,     0.10739,    0.092502,    0.067181,    0.050044,    0.042798,    0.039053,    0.026511,    0.018098,    0.013716,    0.010267,   0.0088232,   0.0068309,   0.0030021,\n",
       "          0.0021494,           0,           0,           0,           0,           0,           0,           0,           0,           0,           0,           0,           0,           0,           0,           0,           0,           0,           0,           0,           0,           0,           0,\n",
       "                  0,           0,           0,           0,           0,           0,           0,           0,           0,           0,           0,           0,           0,           0,           0,           0,           0,           0,           0,           0,           0,           0,           0,\n",
       "                  0,           0,           0,           0,           0,           0,           0,           0,           0,           0,           0]]), 'Confidence', 'Recall']]\n",
       "fitness: 0.9229642084520845\n",
       "keys: ['metrics/precision(B)', 'metrics/recall(B)', 'metrics/mAP50(B)', 'metrics/mAP50-95(B)']\n",
       "maps: array([    0.91496])\n",
       "names: {0: 'Character'}\n",
       "plot: True\n",
       "results_dict: {'metrics/precision(B)': 0.9967637540453075, 'metrics/recall(B)': 0.9983792544570502, 'metrics/mAP50(B)': 0.995, 'metrics/mAP50-95(B)': 0.9149602316134271, 'fitness': 0.9229642084520845}\n",
       "save_dir: WindowsPath('runs/detect/val3')\n",
       "speed: {'preprocess': 0.7794553583318538, 'inference': 3.1008091839877046, 'loss': 0.0, 'postprocess': 4.04618653384122}\n",
       "task: 'detect'"
      ]
     },
     "execution_count": 5,
     "metadata": {},
     "output_type": "execute_result"
    }
   ],
   "source": [
    "bestmodel.val(conf=0.5, plots=True, show_conf=False, split='test')"
   ]
  },
  {
   "cell_type": "code",
   "execution_count": 11,
   "metadata": {},
   "outputs": [
    {
     "name": "stdout",
     "output_type": "stream",
     "text": [
      "\n",
      "image 1/110 C:\\Users\\Wang Yanchi\\Desktop\\uoft\\3\\aps360\\ALPR\\ALPR_repo\\Letter_Segmentation\\test\\images\\1028_jpg.rf.83394e69f8ccc11bb99cb474c22dcf5f.jpg: 608x608 5 Characters, 9.9ms\n",
      "image 2/110 C:\\Users\\Wang Yanchi\\Desktop\\uoft\\3\\aps360\\ALPR\\ALPR_repo\\Letter_Segmentation\\test\\images\\1062_jpg.rf.d431cd26ee65731c971fd034cdee1f45.jpg: 608x608 3 Characters, 7.0ms\n",
      "image 3/110 C:\\Users\\Wang Yanchi\\Desktop\\uoft\\3\\aps360\\ALPR\\ALPR_repo\\Letter_Segmentation\\test\\images\\107_jpg.rf.eb48f6f88a82df3a3b670bc72c508712.jpg: 608x608 6 Characters, 9.0ms\n",
      "image 4/110 C:\\Users\\Wang Yanchi\\Desktop\\uoft\\3\\aps360\\ALPR\\ALPR_repo\\Letter_Segmentation\\test\\images\\117_jpg.rf.190fef535bff311369b947c4fe69a361.jpg: 608x608 7 Characters, 9.0ms\n",
      "image 5/110 C:\\Users\\Wang Yanchi\\Desktop\\uoft\\3\\aps360\\ALPR\\ALPR_repo\\Letter_Segmentation\\test\\images\\123_jpg.rf.ef9cd265ef2a25c2f356afde617f4fb7.jpg: 608x608 5 Characters, 9.0ms\n",
      "image 6/110 C:\\Users\\Wang Yanchi\\Desktop\\uoft\\3\\aps360\\ALPR\\ALPR_repo\\Letter_Segmentation\\test\\images\\1247_jpg.rf.ed08203888d0356734e689f17b8ae422.jpg: 608x608 6 Characters, 9.0ms\n",
      "image 7/110 C:\\Users\\Wang Yanchi\\Desktop\\uoft\\3\\aps360\\ALPR\\ALPR_repo\\Letter_Segmentation\\test\\images\\1273_jpg.rf.c8b77c31772fad3f811585bda586a276.jpg: 608x608 6 Characters, 8.0ms\n",
      "image 8/110 C:\\Users\\Wang Yanchi\\Desktop\\uoft\\3\\aps360\\ALPR\\ALPR_repo\\Letter_Segmentation\\test\\images\\12_jpg.rf.6de4876da2220b4998ea8214fb7646ff.jpg: 608x608 5 Characters, 8.0ms\n",
      "image 9/110 C:\\Users\\Wang Yanchi\\Desktop\\uoft\\3\\aps360\\ALPR\\ALPR_repo\\Letter_Segmentation\\test\\images\\1332_jpg.rf.0754168d55ea40709dc7641575b86821.jpg: 608x608 6 Characters, 8.0ms\n",
      "image 10/110 C:\\Users\\Wang Yanchi\\Desktop\\uoft\\3\\aps360\\ALPR\\ALPR_repo\\Letter_Segmentation\\test\\images\\137_jpg.rf.29cfb5a543f6428d29b3aef963246600.jpg: 608x608 4 Characters, 7.0ms\n",
      "image 11/110 C:\\Users\\Wang Yanchi\\Desktop\\uoft\\3\\aps360\\ALPR\\ALPR_repo\\Letter_Segmentation\\test\\images\\148_jpg.rf.a1828f3d0f78f65f506c01d40a9e4b2f.jpg: 608x608 6 Characters, 8.0ms\n",
      "image 12/110 C:\\Users\\Wang Yanchi\\Desktop\\uoft\\3\\aps360\\ALPR\\ALPR_repo\\Letter_Segmentation\\test\\images\\1529_jpg.rf.d1c10ed4493288ae9385fc1dfcaa0d17.jpg: 608x608 6 Characters, 10.0ms\n",
      "image 13/110 C:\\Users\\Wang Yanchi\\Desktop\\uoft\\3\\aps360\\ALPR\\ALPR_repo\\Letter_Segmentation\\test\\images\\1567_jpg.rf.9d9592cdd7867b32a7ce362428d02da2.jpg: 608x608 6 Characters, 7.0ms\n",
      "image 14/110 C:\\Users\\Wang Yanchi\\Desktop\\uoft\\3\\aps360\\ALPR\\ALPR_repo\\Letter_Segmentation\\test\\images\\1617_jpg.rf.f57b4ab4ba93f62bc5369c386ea19c0c.jpg: 608x608 4 Characters, 8.0ms\n",
      "image 15/110 C:\\Users\\Wang Yanchi\\Desktop\\uoft\\3\\aps360\\ALPR\\ALPR_repo\\Letter_Segmentation\\test\\images\\163_jpg.rf.50c082dc81b37f785c7ca4064acf75fb.jpg: 608x608 6 Characters, 7.0ms\n",
      "image 16/110 C:\\Users\\Wang Yanchi\\Desktop\\uoft\\3\\aps360\\ALPR\\ALPR_repo\\Letter_Segmentation\\test\\images\\1670_jpg.rf.980defe4aafb0ae5538bde87b3e5f591.jpg: 608x608 6 Characters, 7.0ms\n",
      "image 17/110 C:\\Users\\Wang Yanchi\\Desktop\\uoft\\3\\aps360\\ALPR\\ALPR_repo\\Letter_Segmentation\\test\\images\\1672_jpg.rf.6614ef128850e4587539e76fe36c7d5b.jpg: 608x608 5 Characters, 6.5ms\n",
      "image 18/110 C:\\Users\\Wang Yanchi\\Desktop\\uoft\\3\\aps360\\ALPR\\ALPR_repo\\Letter_Segmentation\\test\\images\\168_jpg.rf.8c0d7e4883c0ed426dec44aa38812613.jpg: 608x608 5 Characters, 7.0ms\n",
      "image 19/110 C:\\Users\\Wang Yanchi\\Desktop\\uoft\\3\\aps360\\ALPR\\ALPR_repo\\Letter_Segmentation\\test\\images\\1759_jpg.rf.8e27d2ab30e67bf865e3812082f04685.jpg: 608x608 4 Characters, 7.0ms\n",
      "image 20/110 C:\\Users\\Wang Yanchi\\Desktop\\uoft\\3\\aps360\\ALPR\\ALPR_repo\\Letter_Segmentation\\test\\images\\181_jpg.rf.4487b376c86a3c86a68806d97a3cec7b.jpg: 608x608 7 Characters, 6.0ms\n",
      "image 21/110 C:\\Users\\Wang Yanchi\\Desktop\\uoft\\3\\aps360\\ALPR\\ALPR_repo\\Letter_Segmentation\\test\\images\\1837_jpg.rf.19f4a20c069d0395cb7d471564c84b39.jpg: 608x608 3 Characters, 7.0ms\n",
      "image 22/110 C:\\Users\\Wang Yanchi\\Desktop\\uoft\\3\\aps360\\ALPR\\ALPR_repo\\Letter_Segmentation\\test\\images\\18_jpg.rf.f9a2557d704b62b2a94450ef3817afe6.jpg: 608x608 5 Characters, 6.0ms\n",
      "image 23/110 C:\\Users\\Wang Yanchi\\Desktop\\uoft\\3\\aps360\\ALPR\\ALPR_repo\\Letter_Segmentation\\test\\images\\2035_jpg.rf.af8faafffe6dbee6c0549ea3b1cb3710.jpg: 608x608 6 Characters, 7.0ms\n",
      "image 24/110 C:\\Users\\Wang Yanchi\\Desktop\\uoft\\3\\aps360\\ALPR\\ALPR_repo\\Letter_Segmentation\\test\\images\\2044_jpg.rf.97172ff19d60e51bfe5e9b834d39ba5b.jpg: 608x608 7 Characters, 8.0ms\n",
      "image 25/110 C:\\Users\\Wang Yanchi\\Desktop\\uoft\\3\\aps360\\ALPR\\ALPR_repo\\Letter_Segmentation\\test\\images\\2059_jpg.rf.daddbb12704f90655c119ec3521cf029.jpg: 608x608 6 Characters, 7.9ms\n",
      "image 26/110 C:\\Users\\Wang Yanchi\\Desktop\\uoft\\3\\aps360\\ALPR\\ALPR_repo\\Letter_Segmentation\\test\\images\\206_jpg.rf.106de56fbe9aa7383f1080e8cd287beb.jpg: 608x608 7 Characters, 7.0ms\n",
      "image 27/110 C:\\Users\\Wang Yanchi\\Desktop\\uoft\\3\\aps360\\ALPR\\ALPR_repo\\Letter_Segmentation\\test\\images\\207_jpg.rf.d3426f44ee104212428838853a68ae6c.jpg: 608x608 6 Characters, 6.0ms\n",
      "image 28/110 C:\\Users\\Wang Yanchi\\Desktop\\uoft\\3\\aps360\\ALPR\\ALPR_repo\\Letter_Segmentation\\test\\images\\209_jpg.rf.3173e5627e9c8df3f831fec0b0c0cc30.jpg: 608x608 6 Characters, 7.0ms\n",
      "image 29/110 C:\\Users\\Wang Yanchi\\Desktop\\uoft\\3\\aps360\\ALPR\\ALPR_repo\\Letter_Segmentation\\test\\images\\212_jpg.rf.62aa59e91fc62815387f5d961e7aaa2f.jpg: 608x608 6 Characters, 7.0ms\n",
      "image 30/110 C:\\Users\\Wang Yanchi\\Desktop\\uoft\\3\\aps360\\ALPR\\ALPR_repo\\Letter_Segmentation\\test\\images\\2139_jpg.rf.c421a2cda6a6291d3a815bc1c39be13e.jpg: 608x608 6 Characters, 8.0ms\n",
      "image 31/110 C:\\Users\\Wang Yanchi\\Desktop\\uoft\\3\\aps360\\ALPR\\ALPR_repo\\Letter_Segmentation\\test\\images\\2145_jpg.rf.dcf2deb0437dc58766d317eb3f0b51fd.jpg: 608x608 7 Characters, 7.0ms\n",
      "image 32/110 C:\\Users\\Wang Yanchi\\Desktop\\uoft\\3\\aps360\\ALPR\\ALPR_repo\\Letter_Segmentation\\test\\images\\217_jpg.rf.2ce0c6e1e3bf4998e26b464e6bb02c9a.jpg: 608x608 7 Characters, 8.0ms\n",
      "image 33/110 C:\\Users\\Wang Yanchi\\Desktop\\uoft\\3\\aps360\\ALPR\\ALPR_repo\\Letter_Segmentation\\test\\images\\2188_jpg.rf.6124ccf9c5ce09f0b17853ac8a53b803.jpg: 608x608 6 Characters, 6.0ms\n",
      "image 34/110 C:\\Users\\Wang Yanchi\\Desktop\\uoft\\3\\aps360\\ALPR\\ALPR_repo\\Letter_Segmentation\\test\\images\\218_jpg.rf.b9731e0d71def93f3e907f4fd240e08b.jpg: 608x608 4 Characters, 6.0ms\n",
      "image 35/110 C:\\Users\\Wang Yanchi\\Desktop\\uoft\\3\\aps360\\ALPR\\ALPR_repo\\Letter_Segmentation\\test\\images\\2241_jpg.rf.28e3335cb8e1dc857a3e64a318726390.jpg: 608x608 7 Characters, 7.0ms\n",
      "image 36/110 C:\\Users\\Wang Yanchi\\Desktop\\uoft\\3\\aps360\\ALPR\\ALPR_repo\\Letter_Segmentation\\test\\images\\2249_jpg.rf.0f06dfec2d536e8db67f02853151cfc5.jpg: 608x608 3 Characters, 7.0ms\n",
      "image 37/110 C:\\Users\\Wang Yanchi\\Desktop\\uoft\\3\\aps360\\ALPR\\ALPR_repo\\Letter_Segmentation\\test\\images\\2375_jpg.rf.219070a7dda12455e4062264b32b6055.jpg: 608x608 5 Characters, 7.0ms\n",
      "image 38/110 C:\\Users\\Wang Yanchi\\Desktop\\uoft\\3\\aps360\\ALPR\\ALPR_repo\\Letter_Segmentation\\test\\images\\2379_jpg.rf.1b59b3a4b55edc51141d1909879c9ce4.jpg: 608x608 4 Characters, 8.0ms\n",
      "image 39/110 C:\\Users\\Wang Yanchi\\Desktop\\uoft\\3\\aps360\\ALPR\\ALPR_repo\\Letter_Segmentation\\test\\images\\2395_jpg.rf.78ab3db3c96b4ae4bf12543c13993909.jpg: 608x608 4 Characters, 7.0ms\n",
      "image 40/110 C:\\Users\\Wang Yanchi\\Desktop\\uoft\\3\\aps360\\ALPR\\ALPR_repo\\Letter_Segmentation\\test\\images\\2453_jpg.rf.c14fa853cf280f31bacba2bf74ba2de1.jpg: 608x608 5 Characters, 7.9ms\n",
      "image 41/110 C:\\Users\\Wang Yanchi\\Desktop\\uoft\\3\\aps360\\ALPR\\ALPR_repo\\Letter_Segmentation\\test\\images\\2483_jpg.rf.528b4c62950492f5824a038df8e5b70a.jpg: 608x608 4 Characters, 8.0ms\n",
      "image 42/110 C:\\Users\\Wang Yanchi\\Desktop\\uoft\\3\\aps360\\ALPR\\ALPR_repo\\Letter_Segmentation\\test\\images\\249_jpg.rf.4694b6570283c4ab3439f952767456ab.jpg: 608x608 6 Characters, 7.0ms\n",
      "image 43/110 C:\\Users\\Wang Yanchi\\Desktop\\uoft\\3\\aps360\\ALPR\\ALPR_repo\\Letter_Segmentation\\test\\images\\2518_jpg.rf.a434150b095f56c4b38e58883a6501ce.jpg: 608x608 7 Characters, 6.0ms\n",
      "image 44/110 C:\\Users\\Wang Yanchi\\Desktop\\uoft\\3\\aps360\\ALPR\\ALPR_repo\\Letter_Segmentation\\test\\images\\2650_jpg.rf.6ef5e7106a1da73849a727811673c031.jpg: 608x608 6 Characters, 8.0ms\n",
      "image 45/110 C:\\Users\\Wang Yanchi\\Desktop\\uoft\\3\\aps360\\ALPR\\ALPR_repo\\Letter_Segmentation\\test\\images\\266_jpg.rf.085598485076d31a2067d6f2d6490b41.jpg: 608x608 6 Characters, 6.0ms\n",
      "image 46/110 C:\\Users\\Wang Yanchi\\Desktop\\uoft\\3\\aps360\\ALPR\\ALPR_repo\\Letter_Segmentation\\test\\images\\272_jpg.rf.4bd9a9e59afcb5651ba640344e05a114.jpg: 608x608 5 Characters, 6.9ms\n",
      "image 47/110 C:\\Users\\Wang Yanchi\\Desktop\\uoft\\3\\aps360\\ALPR\\ALPR_repo\\Letter_Segmentation\\test\\images\\2876_jpg.rf.8038cfab16fbcf1d310f3b6b6c6f8d06.jpg: 608x608 4 Characters, 8.0ms\n",
      "image 48/110 C:\\Users\\Wang Yanchi\\Desktop\\uoft\\3\\aps360\\ALPR\\ALPR_repo\\Letter_Segmentation\\test\\images\\28_jpg.rf.3275752de1ee8f72b4b889b8e5ea29ba.jpg: 608x608 5 Characters, 9.0ms\n",
      "image 49/110 C:\\Users\\Wang Yanchi\\Desktop\\uoft\\3\\aps360\\ALPR\\ALPR_repo\\Letter_Segmentation\\test\\images\\2947_jpg.rf.5370d60c6d7e3baf6b2c7b5bd12709e4.jpg: 608x608 7 Characters, 7.0ms\n",
      "image 50/110 C:\\Users\\Wang Yanchi\\Desktop\\uoft\\3\\aps360\\ALPR\\ALPR_repo\\Letter_Segmentation\\test\\images\\3037_jpg.rf.73f60259c4b07ed29cb324e18c52b544.jpg: 608x608 6 Characters, 7.0ms\n",
      "image 51/110 C:\\Users\\Wang Yanchi\\Desktop\\uoft\\3\\aps360\\ALPR\\ALPR_repo\\Letter_Segmentation\\test\\images\\3104_jpg.rf.09a60bc675df59b9806095baa81030e6.jpg: 608x608 6 Characters, 6.0ms\n",
      "image 52/110 C:\\Users\\Wang Yanchi\\Desktop\\uoft\\3\\aps360\\ALPR\\ALPR_repo\\Letter_Segmentation\\test\\images\\3112_jpg.rf.aa5b6e7e9c53d65b50e652d724fde038.jpg: 608x608 7 Characters, 7.0ms\n",
      "image 53/110 C:\\Users\\Wang Yanchi\\Desktop\\uoft\\3\\aps360\\ALPR\\ALPR_repo\\Letter_Segmentation\\test\\images\\3118_jpg.rf.01c1abf732706b31e9887627cc4dfdab.jpg: 608x608 5 Characters, 6.0ms\n",
      "image 54/110 C:\\Users\\Wang Yanchi\\Desktop\\uoft\\3\\aps360\\ALPR\\ALPR_repo\\Letter_Segmentation\\test\\images\\3135_jpg.rf.8f22f363330e15b612f9ff10d2089530.jpg: 608x608 4 Characters, 7.0ms\n",
      "image 55/110 C:\\Users\\Wang Yanchi\\Desktop\\uoft\\3\\aps360\\ALPR\\ALPR_repo\\Letter_Segmentation\\test\\images\\316_jpg.rf.328437abccbd727bc821510638443375.jpg: 608x608 6 Characters, 7.0ms\n",
      "image 56/110 C:\\Users\\Wang Yanchi\\Desktop\\uoft\\3\\aps360\\ALPR\\ALPR_repo\\Letter_Segmentation\\test\\images\\3223_jpg.rf.65fdb5e9f30a2d79cb5cea8c4e7e5e96.jpg: 608x608 7 Characters, 10.0ms\n",
      "image 57/110 C:\\Users\\Wang Yanchi\\Desktop\\uoft\\3\\aps360\\ALPR\\ALPR_repo\\Letter_Segmentation\\test\\images\\3253_jpg.rf.89c2341fb081bfefc8d841c99289c37e.jpg: 608x608 6 Characters, 8.0ms\n",
      "image 58/110 C:\\Users\\Wang Yanchi\\Desktop\\uoft\\3\\aps360\\ALPR\\ALPR_repo\\Letter_Segmentation\\test\\images\\331_jpg.rf.8900ea528c90d2354318724964532e93.jpg: 608x608 6 Characters, 8.0ms\n",
      "image 59/110 C:\\Users\\Wang Yanchi\\Desktop\\uoft\\3\\aps360\\ALPR\\ALPR_repo\\Letter_Segmentation\\test\\images\\336_jpg.rf.57a38ed05e4e14c98c1f1903d14ff5d3.jpg: 608x608 5 Characters, 7.0ms\n",
      "image 60/110 C:\\Users\\Wang Yanchi\\Desktop\\uoft\\3\\aps360\\ALPR\\ALPR_repo\\Letter_Segmentation\\test\\images\\3413_jpg.rf.8fe230e6d20bf7e8c9c2b7fd2d1597c4.jpg: 608x608 4 Characters, 7.0ms\n",
      "image 61/110 C:\\Users\\Wang Yanchi\\Desktop\\uoft\\3\\aps360\\ALPR\\ALPR_repo\\Letter_Segmentation\\test\\images\\3431_jpg.rf.df26575e8350ba71d4c84e245bea6a34.jpg: 608x608 6 Characters, 6.0ms\n",
      "image 62/110 C:\\Users\\Wang Yanchi\\Desktop\\uoft\\3\\aps360\\ALPR\\ALPR_repo\\Letter_Segmentation\\test\\images\\3458_jpg.rf.e216597fa18f3d84ab7eabf04135bf4c.jpg: 608x608 3 Characters, 7.0ms\n",
      "image 63/110 C:\\Users\\Wang Yanchi\\Desktop\\uoft\\3\\aps360\\ALPR\\ALPR_repo\\Letter_Segmentation\\test\\images\\3538_jpg.rf.418fa7de19bd32c05fbb278e83233140.jpg: 608x608 6 Characters, 8.0ms\n",
      "image 64/110 C:\\Users\\Wang Yanchi\\Desktop\\uoft\\3\\aps360\\ALPR\\ALPR_repo\\Letter_Segmentation\\test\\images\\356_jpg.rf.faa72cc407fa28cad956d29361c3e0d5.jpg: 608x608 6 Characters, 8.0ms\n",
      "image 65/110 C:\\Users\\Wang Yanchi\\Desktop\\uoft\\3\\aps360\\ALPR\\ALPR_repo\\Letter_Segmentation\\test\\images\\3637_jpg.rf.7517362b532eb0409ad2e66f6d48e0dd.jpg: 608x608 7 Characters, 9.0ms\n",
      "image 66/110 C:\\Users\\Wang Yanchi\\Desktop\\uoft\\3\\aps360\\ALPR\\ALPR_repo\\Letter_Segmentation\\test\\images\\3782_jpg.rf.a9150bc4fff920849e3621eede5b76f6.jpg: 608x608 6 Characters, 7.0ms\n",
      "image 67/110 C:\\Users\\Wang Yanchi\\Desktop\\uoft\\3\\aps360\\ALPR\\ALPR_repo\\Letter_Segmentation\\test\\images\\386_jpg.rf.a8e5222ad516ef9ad0c8ef2f29802887.jpg: 608x608 6 Characters, 7.0ms\n",
      "image 68/110 C:\\Users\\Wang Yanchi\\Desktop\\uoft\\3\\aps360\\ALPR\\ALPR_repo\\Letter_Segmentation\\test\\images\\3890_jpg.rf.421eded380198e9c8ea9c16c51f5f710.jpg: 608x608 6 Characters, 6.0ms\n",
      "image 69/110 C:\\Users\\Wang Yanchi\\Desktop\\uoft\\3\\aps360\\ALPR\\ALPR_repo\\Letter_Segmentation\\test\\images\\400_jpg.rf.fc9ec73f49585c231621e352454ac3c7.jpg: 608x608 5 Characters, 6.0ms\n",
      "image 70/110 C:\\Users\\Wang Yanchi\\Desktop\\uoft\\3\\aps360\\ALPR\\ALPR_repo\\Letter_Segmentation\\test\\images\\4172_jpg.rf.63866d83dd1516b2ec3c9b9926dc10e4.jpg: 608x608 6 Characters, 6.0ms\n",
      "image 71/110 C:\\Users\\Wang Yanchi\\Desktop\\uoft\\3\\aps360\\ALPR\\ALPR_repo\\Letter_Segmentation\\test\\images\\417_jpg.rf.01fa2ec4f759039b9ad5dabb80195077.jpg: 608x608 6 Characters, 7.0ms\n",
      "image 72/110 C:\\Users\\Wang Yanchi\\Desktop\\uoft\\3\\aps360\\ALPR\\ALPR_repo\\Letter_Segmentation\\test\\images\\418_jpg.rf.41269b0145e008ce9d6e40b1f0a42bfc.jpg: 608x608 6 Characters, 7.0ms\n",
      "image 73/110 C:\\Users\\Wang Yanchi\\Desktop\\uoft\\3\\aps360\\ALPR\\ALPR_repo\\Letter_Segmentation\\test\\images\\4263_jpg.rf.d48e0a61cd235b2d6b8b01c33ec77797.jpg: 608x608 7 Characters, 7.0ms\n",
      "image 74/110 C:\\Users\\Wang Yanchi\\Desktop\\uoft\\3\\aps360\\ALPR\\ALPR_repo\\Letter_Segmentation\\test\\images\\431_jpg.rf.10342561a72465deffc99c4798170aa5.jpg: 608x608 6 Characters, 6.0ms\n",
      "image 75/110 C:\\Users\\Wang Yanchi\\Desktop\\uoft\\3\\aps360\\ALPR\\ALPR_repo\\Letter_Segmentation\\test\\images\\4385_jpg.rf.3c13c92e2296d90ee0297cf5b2ac3977.jpg: 608x608 6 Characters, 7.0ms\n",
      "image 76/110 C:\\Users\\Wang Yanchi\\Desktop\\uoft\\3\\aps360\\ALPR\\ALPR_repo\\Letter_Segmentation\\test\\images\\4386_jpg.rf.f83eacb05f45d1dfb1ad6e97923f3f68.jpg: 608x608 7 Characters, 7.0ms\n",
      "image 77/110 C:\\Users\\Wang Yanchi\\Desktop\\uoft\\3\\aps360\\ALPR\\ALPR_repo\\Letter_Segmentation\\test\\images\\438_jpg.rf.0e7b92a023f69063951e8eeb40d7f385.jpg: 608x608 7 Characters, 7.0ms\n",
      "image 78/110 C:\\Users\\Wang Yanchi\\Desktop\\uoft\\3\\aps360\\ALPR\\ALPR_repo\\Letter_Segmentation\\test\\images\\441_jpg.rf.e91d7272b2311040870c5926a69ff8df.jpg: 608x608 7 Characters, 7.0ms\n",
      "image 79/110 C:\\Users\\Wang Yanchi\\Desktop\\uoft\\3\\aps360\\ALPR\\ALPR_repo\\Letter_Segmentation\\test\\images\\4420_jpg.rf.72789a3853b5175509dd2f7d7d3970c8.jpg: 608x608 6 Characters, 6.0ms\n",
      "image 80/110 C:\\Users\\Wang Yanchi\\Desktop\\uoft\\3\\aps360\\ALPR\\ALPR_repo\\Letter_Segmentation\\test\\images\\449_jpg.rf.e6350f048d4140a1b9a2036e0aa819bb.jpg: 608x608 6 Characters, 7.0ms\n",
      "image 81/110 C:\\Users\\Wang Yanchi\\Desktop\\uoft\\3\\aps360\\ALPR\\ALPR_repo\\Letter_Segmentation\\test\\images\\451_jpg.rf.f51ad9569f80d55388c1b7ef8a1e568b.jpg: 608x608 6 Characters, 7.0ms\n",
      "image 82/110 C:\\Users\\Wang Yanchi\\Desktop\\uoft\\3\\aps360\\ALPR\\ALPR_repo\\Letter_Segmentation\\test\\images\\4542_jpg.rf.54edcb68496933e996c2265278fb635b.jpg: 608x608 7 Characters, 7.0ms\n",
      "image 83/110 C:\\Users\\Wang Yanchi\\Desktop\\uoft\\3\\aps360\\ALPR\\ALPR_repo\\Letter_Segmentation\\test\\images\\4568_jpg.rf.ed8ef1be2d4905a48ef5e5ae43db257c.jpg: 608x608 5 Characters, 7.0ms\n",
      "image 84/110 C:\\Users\\Wang Yanchi\\Desktop\\uoft\\3\\aps360\\ALPR\\ALPR_repo\\Letter_Segmentation\\test\\images\\459_jpg.rf.908a65c66c553266c663199c87c26da3.jpg: 608x608 6 Characters, 7.0ms\n",
      "image 85/110 C:\\Users\\Wang Yanchi\\Desktop\\uoft\\3\\aps360\\ALPR\\ALPR_repo\\Letter_Segmentation\\test\\images\\4638_jpg.rf.f016817eb27da20df4eeec21dc43c9a2.jpg: 608x608 5 Characters, 7.0ms\n",
      "image 86/110 C:\\Users\\Wang Yanchi\\Desktop\\uoft\\3\\aps360\\ALPR\\ALPR_repo\\Letter_Segmentation\\test\\images\\4702_jpg.rf.b0c6d05409bc9c16006443d61357f44a.jpg: 608x608 6 Characters, 8.0ms\n",
      "image 87/110 C:\\Users\\Wang Yanchi\\Desktop\\uoft\\3\\aps360\\ALPR\\ALPR_repo\\Letter_Segmentation\\test\\images\\476_jpg.rf.b3cd8763b68e114e9fc52cc1ee861785.jpg: 608x608 7 Characters, 8.0ms\n",
      "image 88/110 C:\\Users\\Wang Yanchi\\Desktop\\uoft\\3\\aps360\\ALPR\\ALPR_repo\\Letter_Segmentation\\test\\images\\4771_jpg.rf.c43cf029aaa5f3e01d4f658910bbd6f3.jpg: 608x608 7 Characters, 6.7ms\n",
      "image 89/110 C:\\Users\\Wang Yanchi\\Desktop\\uoft\\3\\aps360\\ALPR\\ALPR_repo\\Letter_Segmentation\\test\\images\\477_jpg.rf.1ef51e58eb7d3618d4424fdd7dfe6f0b.jpg: 608x608 2 Characters, 6.0ms\n",
      "image 90/110 C:\\Users\\Wang Yanchi\\Desktop\\uoft\\3\\aps360\\ALPR\\ALPR_repo\\Letter_Segmentation\\test\\images\\4782_jpg.rf.5c887f654763c922bd2bb466c0cc1e24.jpg: 608x608 5 Characters, 7.0ms\n",
      "image 91/110 C:\\Users\\Wang Yanchi\\Desktop\\uoft\\3\\aps360\\ALPR\\ALPR_repo\\Letter_Segmentation\\test\\images\\482_jpg.rf.de0de322b949a8952aab1e44dde01c4d.jpg: 608x608 6 Characters, 8.0ms\n",
      "image 92/110 C:\\Users\\Wang Yanchi\\Desktop\\uoft\\3\\aps360\\ALPR\\ALPR_repo\\Letter_Segmentation\\test\\images\\4877_jpg.rf.f557e61683092382dfdcf0fd1f7a34cd.jpg: 608x608 6 Characters, 7.0ms\n",
      "image 93/110 C:\\Users\\Wang Yanchi\\Desktop\\uoft\\3\\aps360\\ALPR\\ALPR_repo\\Letter_Segmentation\\test\\images\\489_jpg.rf.fac428ef93cadad3dbeacaa5b2a9e056.jpg: 608x608 6 Characters, 7.0ms\n",
      "image 94/110 C:\\Users\\Wang Yanchi\\Desktop\\uoft\\3\\aps360\\ALPR\\ALPR_repo\\Letter_Segmentation\\test\\images\\4913_jpg.rf.8fcd811bf2def48dc6129bf923fb4a36.jpg: 608x608 7 Characters, 8.0ms\n",
      "image 95/110 C:\\Users\\Wang Yanchi\\Desktop\\uoft\\3\\aps360\\ALPR\\ALPR_repo\\Letter_Segmentation\\test\\images\\492_jpg.rf.190e6918758d0e596d0f474089f9c615.jpg: 608x608 6 Characters, 8.0ms\n",
      "image 96/110 C:\\Users\\Wang Yanchi\\Desktop\\uoft\\3\\aps360\\ALPR\\ALPR_repo\\Letter_Segmentation\\test\\images\\5044_jpg.rf.6645e10731a7f289dbaf7b3c06696912.jpg: 608x608 7 Characters, 7.0ms\n",
      "image 97/110 C:\\Users\\Wang Yanchi\\Desktop\\uoft\\3\\aps360\\ALPR\\ALPR_repo\\Letter_Segmentation\\test\\images\\5122_jpg.rf.dc3ae51c14555f504185915ddcca336e.jpg: 608x608 5 Characters, 8.0ms\n",
      "image 98/110 C:\\Users\\Wang Yanchi\\Desktop\\uoft\\3\\aps360\\ALPR\\ALPR_repo\\Letter_Segmentation\\test\\images\\5226_jpg.rf.7f299125e563ee75ff47e8a140819190.jpg: 608x608 5 Characters, 7.0ms\n",
      "image 99/110 C:\\Users\\Wang Yanchi\\Desktop\\uoft\\3\\aps360\\ALPR\\ALPR_repo\\Letter_Segmentation\\test\\images\\5331_jpg.rf.84b006beff3fa04539d08ddcc9b4cc8a.jpg: 608x608 7 Characters, 7.0ms\n",
      "image 100/110 C:\\Users\\Wang Yanchi\\Desktop\\uoft\\3\\aps360\\ALPR\\ALPR_repo\\Letter_Segmentation\\test\\images\\5392_jpg.rf.96a8495488d319d98eadb6c90389a8e8.jpg: 608x608 6 Characters, 8.0ms\n",
      "image 101/110 C:\\Users\\Wang Yanchi\\Desktop\\uoft\\3\\aps360\\ALPR\\ALPR_repo\\Letter_Segmentation\\test\\images\\5488_jpg.rf.cdcc4b54c4f08abf91c6ea39bb1863b9.jpg: 608x608 6 Characters, 7.0ms\n",
      "image 102/110 C:\\Users\\Wang Yanchi\\Desktop\\uoft\\3\\aps360\\ALPR\\ALPR_repo\\Letter_Segmentation\\test\\images\\54_jpg.rf.1d5a398b59bf4b1c034131176ae27fe2.jpg: 608x608 6 Characters, 7.0ms\n",
      "image 103/110 C:\\Users\\Wang Yanchi\\Desktop\\uoft\\3\\aps360\\ALPR\\ALPR_repo\\Letter_Segmentation\\test\\images\\5594_jpg.rf.a09cfa76882d0ec1a3b8a233fe7b999b.jpg: 608x608 5 Characters, 7.0ms\n",
      "image 104/110 C:\\Users\\Wang Yanchi\\Desktop\\uoft\\3\\aps360\\ALPR\\ALPR_repo\\Letter_Segmentation\\test\\images\\5650_jpg.rf.561886089ae19633dcb5f745d3ec112c.jpg: 608x608 5 Characters, 7.0ms\n",
      "image 105/110 C:\\Users\\Wang Yanchi\\Desktop\\uoft\\3\\aps360\\ALPR\\ALPR_repo\\Letter_Segmentation\\test\\images\\602_jpg.rf.707cdca286aa5248a0a3cf200a4a690d.jpg: 608x608 3 Characters, 6.0ms\n",
      "image 106/110 C:\\Users\\Wang Yanchi\\Desktop\\uoft\\3\\aps360\\ALPR\\ALPR_repo\\Letter_Segmentation\\test\\images\\6125_jpg.rf.89fbab39a81ec13e25f759a183faf121.jpg: 608x608 6 Characters, 5.5ms\n",
      "image 107/110 C:\\Users\\Wang Yanchi\\Desktop\\uoft\\3\\aps360\\ALPR\\ALPR_repo\\Letter_Segmentation\\test\\images\\6171_jpg.rf.9f07a3677a3cd2f8d5324a8cfaa5f84e.jpg: 608x608 3 Characters, 6.0ms\n",
      "image 108/110 C:\\Users\\Wang Yanchi\\Desktop\\uoft\\3\\aps360\\ALPR\\ALPR_repo\\Letter_Segmentation\\test\\images\\6214_jpg.rf.e2570010b4a564ff985d6a81ac83eebe.jpg: 608x608 5 Characters, 7.0ms\n",
      "image 109/110 C:\\Users\\Wang Yanchi\\Desktop\\uoft\\3\\aps360\\ALPR\\ALPR_repo\\Letter_Segmentation\\test\\images\\6310_jpg.rf.cc888c5101386b8ebfe9b014f0ceed80.jpg: 608x608 2 Characters, 6.0ms\n",
      "image 110/110 C:\\Users\\Wang Yanchi\\Desktop\\uoft\\3\\aps360\\ALPR\\ALPR_repo\\Letter_Segmentation\\test\\images\\65_jpg.rf.77bc98b4f82179dea5dd9179425fdabb.jpg: 608x608 6 Characters, 7.0ms\n",
      "Speed: 3.2ms preprocess, 7.2ms inference, 1.6ms postprocess per image at shape (1, 3, 608, 608)\n"
     ]
    }
   ],
   "source": [
    "# Predict the images, let source=file_path\n",
    "results = bestmodel.predict(source='C:\\\\Users\\\\Wang Yanchi\\\\Desktop\\\\uoft\\\\3\\\\aps360\\\\ALPR\\\\ALPR_repo\\\\Letter_Segmentation\\\\test\\\\images', iou=0.3, conf=0.5, show_conf=False, show_labels=False)"
   ]
  },
  {
   "cell_type": "code",
   "execution_count": null,
   "metadata": {},
   "outputs": [],
   "source": []
  },
  {
   "cell_type": "code",
   "execution_count": 7,
   "metadata": {},
   "outputs": [],
   "source": [
    "classes = ['0', '1', '2', '3', '4', '5', '6', '7', '8', '9', 'A', 'B', 'C', 'D', 'E', 'F', 'G', 'H', 'I', 'J', 'K', 'L', 'M', 'N', 'O', 'P', 'Q', 'R', 'S', 'T', 'U', 'V', 'W', 'X', 'Y', 'Z']"
   ]
  },
  {
   "cell_type": "code",
   "execution_count": 14,
   "metadata": {},
   "outputs": [],
   "source": [
    "def print_final_answer(results):\n",
    "    sorted_tensor = 0\n",
    "    l=[]\n",
    "    for i, r in enumerate(results):\n",
    "        # Save results to disk\n",
    "        r.save(filename=f\"results{i}.jpg\", conf=False,labels=False)\n",
    "        \n",
    "        # View results\n",
    "    #     sorted_tensor = r.boxes.data[r.boxes.data[:, 0].argsort()]\n",
    "    #     l.append(sorted_tensor[:, -2:].tolist())\n",
    "        \n",
    "    # ans = []\n",
    "    # for arr in l:\n",
    "    #     temp=\"\"\n",
    "    #     for i in range(len(arr)):\n",
    "    #         temp=temp+classes[int(arr[i][1])]\n",
    "    #     ans.append([temp])\n",
    "            \n",
    "    # for i in ans:\n",
    "    #     print(i)"
   ]
  },
  {
   "cell_type": "code",
   "execution_count": 22,
   "metadata": {},
   "outputs": [],
   "source": [
    "\n",
    "def print_answer_with_prob(results):\n",
    "    # Visualize the results\n",
    "    sorted_tensor = 0\n",
    "    l=[]\n",
    "    for i, r in enumerate(results):\n",
    "        sorted_tensor = r.boxes.data[r.boxes.data[:, 0].argsort()]\n",
    "        l.append(sorted_tensor[:, -2:].tolist())\n",
    "    \n",
    "    for arr in l:\n",
    "        for i in range(len(arr)):\n",
    "            # print(classes[int(arr[i])])\n",
    "            arr[i][1] = classes[int(arr[i][1])]\n",
    "\n",
    "            \n",
    "\n",
    "    for i in l:\n",
    "        print(i)\n",
    "        \n"
   ]
  },
  {
   "cell_type": "code",
   "execution_count": 15,
   "metadata": {},
   "outputs": [],
   "source": [
    "print_final_answer(results)"
   ]
  },
  {
   "cell_type": "code",
   "execution_count": 24,
   "metadata": {},
   "outputs": [
    {
     "name": "stdout",
     "output_type": "stream",
     "text": [
      "[[0.9936036467552185, '2'], [0.9208992123603821, '2'], [0.9822254180908203, '2'], [0.8407059907913208, '8'], [0.8748525977134705, '0'], [0.992755115032196, '6']]\n",
      "[[0.9428855180740356, '9'], [0.9451688528060913, '2'], [0.8233806490898132, '0'], [0.8917821645736694, '1'], [0.9624351859092712, '3'], [0.9355837106704712, '2']]\n",
      "[[0.9241737723350525, '0'], [0.9069002866744995, '0'], [0.9602450132369995, '0'], [0.930432915687561, '0'], [0.8987595438957214, '0']]\n",
      "[[0.9598112106323242, '6'], [0.9809397459030151, '9'], [0.849162757396698, '3'], [0.9340808987617493, '7'], [0.9910286068916321, '4']]\n",
      "[[0.967734694480896, '3'], [0.732441782951355, '1'], [0.9173595309257507, '0'], [0.9491463899612427, '2']]\n",
      "[[0.987068772315979, '5'], [0.9838737845420837, '8'], [0.9650781750679016, '3'], [0.7201797962188721, 'M'], [0.9349799156188965, 'P']]\n",
      "[[0.9420691728591919, '7'], [0.8096705079078674, '1'], [0.9441031813621521, '8']]\n",
      "[[0.7952986359596252, 'F'], [0.9656192660331726, '1'], [0.8560189008712769, '5'], [0.9230512976646423, '2']]\n",
      "[[0.8102935552597046, 'F'], [0.7595831155776978, 'R'], [0.9844078421592712, 'A'], [0.8571004867553711, '7'], [0.8647059798240662, '0'], [0.9622087478637695, '5'], [0.9526079893112183, '6']]\n",
      "[[0.9821505546569824, '5'], [0.9531014561653137, '2'], [0.9584885239601135, '4'], [0.9308286309242249, '7'], [0.889348030090332, '7']]\n",
      "[[0.913469135761261, '6'], [0.9727796912193298, '0'], [0.9878329038619995, '0'], [0.9584444761276245, '0'], [0.8373993635177612, '9'], [0.8458107709884644, '0']]\n",
      "[[0.8504088521003723, '0'], [0.7759007811546326, 'H'], [0.6075469851493835, 'Y'], [0.9482776522636414, '1'], [0.9917469024658203, '6'], [0.9179872870445251, '3']]\n",
      "[[0.9809879064559937, '9'], [0.9788859486579895, '9'], [0.9633409380912781, '5'], [0.9861895442008972, '4']]\n",
      "[[0.9891325831413269, '3'], [0.9320405125617981, '4'], [0.7268215417861938, '1'], [0.8558391332626343, '6']]\n",
      "[[0.7987774014472961, 'D'], [0.8254216313362122, 'J'], [0.6051343083381653, 'T'], [0.9579401612281799, '2'], [0.9011589288711548, '0'], [0.9298344254493713, '2'], [0.7756379842758179, '0']]\n",
      "[[0.9406677484512329, '3'], [0.9419525861740112, '8'], [0.5326340198516846, '5'], [0.8188191652297974, '6']]\n",
      "[[0.9513946175575256, '5'], [0.9788711071014404, '2'], [0.759266197681427, 'D'], [0.8140918016433716, 'V']]\n",
      "[[0.7501301169395447, 'F'], [0.9266023635864258, '7'], [0.9485907554626465, '4'], [0.9233747124671936, '3']]\n",
      "[[0.8903259038925171, '9'], [0.5632904171943665, '3'], [0.6134756207466125, 'D'], [0.9788990616798401, '5']]\n",
      "[[0.9755232334136963, '5'], [0.9594362378120422, '9'], [0.9783709049224854, '1'], [0.9689309597015381, '2'], [0.9835776090621948, '5']]\n",
      "[[0.9566349983215332, 'P'], [0.5994553565979004, 'L'], [0.8679301142692566, 'A'], [0.9665238261222839, '3'], [0.9573665261268616, '6'], [0.9333577752113342, '0']]\n",
      "[[0.9106140732765198, '8'], [0.892555296421051, 'C'], [0.9783853888511658, '5'], [0.9667520523071289, '4'], [0.7971965670585632, '1'], [0.9636536836624146, '3']]\n",
      "[[0.9330309629440308, '9'], [0.90022212266922, '5'], [0.7955171465873718, '7'], [0.9086368680000305, '4'], [0.9343682527542114, '4']]\n",
      "[[0.827081024646759, 'F'], [0.7878333330154419, 'M'], [0.8940629959106445, '3'], [0.9092428088188171, '9'], [0.9936380982398987, '2']]\n",
      "[[0.6606946587562561, '8'], [0.8442628979682922, '0'], [0.9545166492462158, '8'], [0.9368634819984436, 'A']]\n"
     ]
    }
   ],
   "source": [
    "print_answer_with_prob(results)"
   ]
  },
  {
   "cell_type": "code",
   "execution_count": 26,
   "metadata": {},
   "outputs": [],
   "source": [
    "# Visualize the results\n",
    "sorted_tensor = 0\n",
    "l=[]\n",
    "for i, r in enumerate(results):\n",
    "    # Plot results image\n",
    "    im_bgr = r.plot()  # BGR-order numpy array\n",
    "    im_rgb = Image.fromarray(im_bgr[..., ::-1])  # RGB-order PIL image\n",
    "\n",
    "    # Show results to screen (in supported environments)\n",
    "    # r.show()\n",
    "\n",
    "    # Save results to disk\n",
    "    r.save(filename=f\"test_result\\\\results{i}.jpg\", conf=False)\n",
    "    # View results\n",
    "    # print(r.masks)\n",
    "    # data = r.boxes.data\n",
    "    \n",
    "    # print(r.boxes.cls)\n",
    "    # print(r.boxes.data)\n",
    "    # sorted_tensor = r.boxes.data[r.boxes.data[:, 0].argsort()]\n",
    "    # print(\"sorted_tensor\")\n",
    "    # print(sorted_tensor)\n",
    "    # print(sorted_tensor[:, -2:])\n",
    "    # l.append(sorted_tensor[:, -2:].tolist())\n",
    "    # for box in r.boxes:\n",
    "    #     print(box.cls)"
   ]
  },
  {
   "cell_type": "code",
   "execution_count": 53,
   "metadata": {},
   "outputs": [
    {
     "name": "stdout",
     "output_type": "stream",
     "text": [
      "ultralytics.engine.results.Boxes object with attributes:\n",
      "\n",
      "cls: tensor([ 2.,  2.,  1.,  9.,  0., 17.,  3.])\n",
      "conf: tensor([0.9987, 0.9957, 0.9806, 0.9401, 0.7023, 0.6489, 0.5635])\n",
      "data: tensor([[180.7006,  41.4279, 210.9459,  97.5393,   0.9987,   2.0000],\n",
      "        [ 60.2111,  41.0165,  89.8332,  95.8061,   0.9957,   2.0000],\n",
      "        [125.7648,  41.9011, 143.1967,  97.0964,   0.9806,   1.0000],\n",
      "        [ 32.7849,  40.3772,  61.7193,  95.2570,   0.9401,   9.0000],\n",
      "        [ 89.3908,  40.7335, 117.9418,  96.3190,   0.7023,   0.0000],\n",
      "        [ 10.0150,  46.9966,  33.3328,  88.7473,   0.6489,  17.0000],\n",
      "        [149.0615,  40.6593, 179.9430,  96.8754,   0.5635,   3.0000]])\n",
      "id: None\n",
      "is_track: False\n",
      "orig_shape: (128, 224)\n",
      "shape: torch.Size([7, 6])\n",
      "xywh: tensor([[195.8233,  69.4836,  30.2453,  56.1114],\n",
      "        [ 75.0222,  68.4113,  29.6221,  54.7896],\n",
      "        [134.4807,  69.4988,  17.4318,  55.1952],\n",
      "        [ 47.2521,  67.8171,  28.9344,  54.8799],\n",
      "        [103.6663,  68.5263,  28.5510,  55.5855],\n",
      "        [ 21.6739,  67.8720,  23.3178,  41.7506],\n",
      "        [164.5023,  68.7673,  30.8815,  56.2162]])\n",
      "xywhn: tensor([[0.8742, 0.5428, 0.1350, 0.4384],\n",
      "        [0.3349, 0.5345, 0.1322, 0.4280],\n",
      "        [0.6004, 0.5430, 0.0778, 0.4312],\n",
      "        [0.2109, 0.5298, 0.1292, 0.4287],\n",
      "        [0.4628, 0.5354, 0.1275, 0.4343],\n",
      "        [0.0968, 0.5302, 0.1041, 0.3262],\n",
      "        [0.7344, 0.5372, 0.1379, 0.4392]])\n",
      "xyxy: tensor([[180.7006,  41.4279, 210.9459,  97.5393],\n",
      "        [ 60.2111,  41.0165,  89.8332,  95.8061],\n",
      "        [125.7648,  41.9011, 143.1967,  97.0964],\n",
      "        [ 32.7849,  40.3772,  61.7193,  95.2570],\n",
      "        [ 89.3908,  40.7335, 117.9418,  96.3190],\n",
      "        [ 10.0150,  46.9966,  33.3328,  88.7473],\n",
      "        [149.0615,  40.6593, 179.9430,  96.8754]])\n",
      "xyxyn: tensor([[0.8067, 0.3237, 0.9417, 0.7620],\n",
      "        [0.2688, 0.3204, 0.4010, 0.7485],\n",
      "        [0.5615, 0.3274, 0.6393, 0.7586],\n",
      "        [0.1464, 0.3154, 0.2755, 0.7442],\n",
      "        [0.3991, 0.3182, 0.5265, 0.7525],\n",
      "        [0.0447, 0.3672, 0.1488, 0.6933],\n",
      "        [0.6655, 0.3177, 0.8033, 0.7568]])\n"
     ]
    }
   ],
   "source": [
    "print(results[1].boxes)"
   ]
  },
  {
   "cell_type": "code",
   "execution_count": 29,
   "metadata": {},
   "outputs": [
    {
     "name": "stdout",
     "output_type": "stream",
     "text": [
      "\n",
      "image 1/16 C:\\Users\\Wang Yanchi\\Desktop\\coding\\textrecgnition\\test\\images\\107_jpg.rf.c0f45126cd6ee7fbb62272e5dbeeb20c.jpg: 128x224 1 0, 3 2s, 1 6, 1 8, 20.9ms\n",
      "image 2/16 C:\\Users\\Wang Yanchi\\Desktop\\coding\\textrecgnition\\test\\images\\117_jpg.rf.1a0f722201b3394f61d8be3367215963.jpg: 128x224 1 0, 1 1, 2 2s, 1 3, 1 9, 1 H, 18.9ms\n",
      "image 3/16 C:\\Users\\Wang Yanchi\\Desktop\\coding\\textrecgnition\\test\\images\\123_jpg.rf.909388f2b34d5a865a3b0c633a583f08.jpg: 128x224 5 0s, 18.9ms\n",
      "image 4/16 C:\\Users\\Wang Yanchi\\Desktop\\coding\\textrecgnition\\test\\images\\12_jpg.rf.9e56bafc6eabe80cf96d0d2ee7d54edc.jpg: 128x224 1 3, 1 4, 1 6, 1 7, 1 9, 19.9ms\n",
      "image 5/16 C:\\Users\\Wang Yanchi\\Desktop\\coding\\textrecgnition\\test\\images\\137_jpg.rf.3c62a9275d6e3c9a9e545d01b62a63e7.jpg: 128x224 1 0, 1 1, 1 2, 2 3s, 18.9ms\n",
      "image 6/16 C:\\Users\\Wang Yanchi\\Desktop\\coding\\textrecgnition\\test\\images\\148_jpg.rf.eb63bf548f9dc0683fa1412a4ec46d0f.jpg: 128x224 1 1, 1 3, 1 5, 1 8, 1 P, 19.9ms\n",
      "image 7/16 C:\\Users\\Wang Yanchi\\Desktop\\coding\\textrecgnition\\test\\images\\163_jpg.rf.49f1121413ebe13e9fc4adb2b17c00ce.jpg: 128x224 1 1, 1 7, 1 8, 1 D, 19.9ms\n",
      "image 8/16 C:\\Users\\Wang Yanchi\\Desktop\\coding\\textrecgnition\\test\\images\\168_jpg.rf.29c659bde8c2b75a381ea09699596d2a.jpg: 128x224 1 1, 1 2, 1 5, 18.0ms\n",
      "image 9/16 C:\\Users\\Wang Yanchi\\Desktop\\coding\\textrecgnition\\test\\images\\181_jpg.rf.8567639f4152d54a980ec051459bdb1d.jpg: 128x224 1 0, 1 5, 1 6, 1 7, 1 A, 20.9ms\n",
      "image 10/16 C:\\Users\\Wang Yanchi\\Desktop\\coding\\textrecgnition\\test\\images\\18_jpg.rf.88cb0edf92349ba5b0f94f13c5f7ccfd.jpg: 128x224 1 2, 1 4, 1 5, 2 7s, 20.9ms\n",
      "image 11/16 C:\\Users\\Wang Yanchi\\Desktop\\coding\\textrecgnition\\test\\images\\206_jpg.rf.ebd191c233e567b49d996870087838bd.jpg: 128x224 4 0s, 1 6, 1 9, 19.9ms\n",
      "image 12/16 C:\\Users\\Wang Yanchi\\Desktop\\coding\\textrecgnition\\test\\images\\207_jpg.rf.41b3c29c758ed868ea3efa0bf9e0fefa.jpg: 128x224 1 0, 1 1, 1 3, 1 6, 1 R, 20.9ms\n",
      "image 13/16 C:\\Users\\Wang Yanchi\\Desktop\\coding\\textrecgnition\\test\\images\\209_jpg.rf.49fb13a074badbcbb5c689f5d1a82697.jpg: 128x224 1 4, 1 5, 2 9s, 18.9ms\n",
      "image 14/16 C:\\Users\\Wang Yanchi\\Desktop\\coding\\textrecgnition\\test\\images\\212_jpg.rf.63d35d2592493a1f68b2e946b273df2f.jpg: 128x224 1 1, 1 3, 1 4, 1 6, 1 9, 20.9ms\n",
      "image 15/16 C:\\Users\\Wang Yanchi\\Desktop\\coding\\textrecgnition\\test\\images\\217_jpg.rf.68dc62d6d64a267df5d2a704ef23b2eb.jpg: 128x224 2 0s, 2 2s, 1 D, 19.9ms\n",
      "image 16/16 C:\\Users\\Wang Yanchi\\Desktop\\coding\\textrecgnition\\test\\images\\218_jpg.rf.466ab726ba43659b0ce855e0acecba21.jpg: 128x224 1 3, 1 5, 1 6, 1 8, 20.9ms\n",
      "Speed: 0.4ms preprocess, 19.9ms inference, 0.6ms postprocess per image at shape (1, 3, 128, 224)\n",
      "tensor([[180.7006,  41.4279, 210.9459,  97.5393,   0.9987,   2.0000],\n",
      "        [ 60.2111,  41.0165,  89.8332,  95.8061,   0.9957,   2.0000],\n",
      "        [125.7648,  41.9011, 143.1967,  97.0964,   0.9806,   1.0000],\n",
      "        [ 32.7849,  40.3772,  61.7193,  95.2570,   0.9401,   9.0000],\n",
      "        [ 89.3908,  40.7335, 117.9418,  96.3190,   0.7023,   0.0000],\n",
      "        [ 10.0150,  46.9966,  33.3328,  88.7473,   0.6489,  17.0000],\n",
      "        [149.0615,  40.6593, 179.9430,  96.8754,   0.5635,   3.0000]])\n"
     ]
    }
   ],
   "source": [
    "results = bestmodel.predict(source='C:\\\\Users\\\\Wang Yanchi\\\\Desktop\\\\coding\\\\textrecgnition\\\\test\\\\images', iou=0.3, conf=0.5)\n",
    "print(results[1].boxes.data)"
   ]
  }
 ],
 "metadata": {
  "kernelspec": {
   "display_name": "Python 3",
   "language": "python",
   "name": "python3"
  },
  "language_info": {
   "codemirror_mode": {
    "name": "ipython",
    "version": 3
   },
   "file_extension": ".py",
   "mimetype": "text/x-python",
   "name": "python",
   "nbconvert_exporter": "python",
   "pygments_lexer": "ipython3",
   "version": "3.11.8"
  }
 },
 "nbformat": 4,
 "nbformat_minor": 2
}
